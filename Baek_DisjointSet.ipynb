{
  "nbformat": 4,
  "nbformat_minor": 0,
  "metadata": {
    "colab": {
      "name": "Baek_DisjointSet.ipynb",
      "private_outputs": true,
      "provenance": [],
      "collapsed_sections": [],
      "authorship_tag": "ABX9TyMXwxWX2XlyBV862smOA8ca",
      "include_colab_link": true
    },
    "kernelspec": {
      "name": "python3",
      "display_name": "Python 3"
    }
  },
  "cells": [
    {
      "cell_type": "markdown",
      "metadata": {
        "id": "view-in-github",
        "colab_type": "text"
      },
      "source": [
        "<a href=\"https://colab.research.google.com/github/08hskim/myBaekjoon/blob/master/Baek_DisjointSet.ipynb\" target=\"_parent\"><img src=\"https://colab.research.google.com/assets/colab-badge.svg\" alt=\"Open In Colab\"/></a>"
      ]
    },
    {
      "cell_type": "markdown",
      "metadata": {
        "id": "wOfk7vDlfTkU"
      },
      "source": [
        "# 1920번 문제"
      ]
    },
    {
      "cell_type": "code",
      "metadata": {
        "id": "a9CjPf0HfEmd"
      },
      "source": [
        "from sys import stdin, stdout\n",
        "n = stdin.readline()\n",
        "N = sorted(map(int,stdin.readline().split()))\n",
        "m = stdin.readline()\n",
        "M = map(int, stdin.readline().split())\n",
        "\n",
        "def binary(l, N, start, end):\n",
        "    if start > end:\n",
        "        return 0\n",
        "    m = (start+end)//2\n",
        "    if l == N[m]:\n",
        "        return 1\n",
        "    elif l < N[m]:\n",
        "        return binary(l, N, start, m-1)\n",
        "    else:\n",
        "        return binary(l, N, m+1, end)\n",
        "\n",
        "for l in M:\n",
        "    start = 0\n",
        "    end = len(N)-1\n",
        "    print(binary(l,N,start,end))"
      ],
      "execution_count": null,
      "outputs": []
    },
    {
      "cell_type": "markdown",
      "metadata": {
        "id": "DxuZH6PefTl9"
      },
      "source": [
        "# 1717번 문제"
      ]
    },
    {
      "cell_type": "code",
      "metadata": {
        "id": "t2RiUzImKtmE"
      },
      "source": [
        "def get_parent(x):\n",
        "    if parent[x] == x:\n",
        "        return x\n",
        "    p = get_parent(parent[x])\n",
        "    parent[x] = p\n",
        "    return p\n",
        "\n",
        "def union(x, y):\n",
        "    x = get_parent(x)\n",
        "    y = get_parent(y)\n",
        "\n",
        "    if x != y:\n",
        "        parent[y] = x\n",
        "\n",
        "def find_parent(x):\n",
        "    if parent[x] == x:\n",
        "        return x\n",
        "    return find_parent(parent[x])\n",
        "\n",
        "n, m = map(int, input().split())\n",
        "parent = {}\n",
        "\n",
        "for i in range(n+1):\n",
        "    parent[i] = i\n",
        "\n",
        "for _ in range(m):\n",
        "    z, x, y = map(int, input().split())\n",
        "\n",
        "    if not z:\n",
        "        union(x, y)\n",
        "\n",
        "    if z:\n",
        "        if find_parent(x) == find_parent(y):\n",
        "            print('YES')\n",
        "        else:\n",
        "            print('NO')"
      ],
      "execution_count": null,
      "outputs": []
    },
    {
      "cell_type": "markdown",
      "metadata": {
        "id": "pBgioOhYfugU"
      },
      "source": [
        "# 4195번 문제"
      ]
    },
    {
      "cell_type": "code",
      "metadata": {
        "id": "jnts7ZP6fwuc"
      },
      "source": [
        "def find(x):\n",
        "    if parent[x] == x: return x\n",
        "    else:\n",
        "        p = find(parent[x])\n",
        "        parent[x] = p\n",
        "        return p\n",
        "\n",
        "def union(x, y):\n",
        "    x, y = find(x), find(y)\n",
        "\n",
        "    if x != y:\n",
        "        parent[y] = x\n",
        "        number[x] += number[y]\n",
        "    print(number[x])\n",
        "\n",
        "for _ in range(int(input())):\n",
        "    num = int(input())\n",
        "    parent, number = {}, {}\n",
        "    for i in range(num):\n",
        "        a, b = input().split()\n",
        "        if a not in parent:\n",
        "            parent[a] = a\n",
        "            number[a] = 1\n",
        "        if b not in parent:\n",
        "            parent[b] = b\n",
        "            number[b] = 1\n",
        "        union(a, b)"
      ],
      "execution_count": null,
      "outputs": []
    },
    {
      "cell_type": "markdown",
      "metadata": {
        "id": "5UIHtG9io9kY"
      },
      "source": [
        "# 10775번 문제"
      ]
    },
    {
      "cell_type": "code",
      "metadata": {
        "id": "wXJC9g_sLuIX"
      },
      "source": [
        "g = int(input())\n",
        "p = int(input())\n",
        "docking = 0\n",
        "temp = 0\n",
        "a=[int(input()) for i in range(p)]\n",
        "for n in a:\n",
        "    if temp+1 >= n:break\n",
        "    else:\n",
        "        num = [i for i in range(temp+1, n+1)]\n",
        "        temp = min(num)\n",
        "        docking+=1\n",
        "print(docking)"
      ],
      "execution_count": null,
      "outputs": []
    },
    {
      "cell_type": "code",
      "metadata": {
        "id": "xNmGyYU1556M"
      },
      "source": [
        "g = int(input())\n",
        "p = int(input())\n",
        "plane = []\n",
        "for _ in range(p):\n",
        "    plane.append(int(input()))\n",
        "\n",
        "def parent_find(x):\n",
        "    if x == parent[x]:\n",
        "        return x\n",
        "    p = parent_find(parent[x])\n",
        "    parent[x] = p\n",
        "    return parent[x]\n",
        "\n",
        "def union(x, y):\n",
        "    x = parent_find(x)\n",
        "    y = parent_find(y)\n",
        "    parent[x] = y\n",
        "\n",
        "# parent[0] = 0 까지 만들어준다. parent[x] = 0까지 만들어지는 게 핵심    \n",
        "parent = {i:i for i in range(g+1)}\n",
        "cnt = 0\n",
        "for i in plane:\n",
        "    x = parent_find(i)\n",
        "    if x == 0:\n",
        "        break\n",
        "    union(x, x-1)\n",
        "    cnt += 1\n",
        "print(cnt)\n",
        "    "
      ],
      "execution_count": null,
      "outputs": []
    },
    {
      "cell_type": "markdown",
      "metadata": {
        "id": "BfRPtz2oUBE_"
      },
      "source": [
        "# 1043번 문제"
      ]
    },
    {
      "cell_type": "code",
      "metadata": {
        "id": "oD-wEy5zUEKJ"
      },
      "source": [
        "n, m = map(int, input().split())\n",
        "know = list(map(int, input().split()))\n",
        "know.pop[0]\n",
        "\n",
        "def free(members, know=[], stacks=0):\n",
        "    know.sort()\n",
        "    temp = list(set(know+members))\n",
        "    for p in know:\n",
        "        if p in members:\n",
        "            return temp, stacks\n",
        "    stacks+=1\n",
        "    print(stacks)\n",
        "    return temp, stacks\n",
        "\n",
        "stacks=0\n",
        "for party in range(m):\n",
        "    member = list(map(int, input().split()))[1:]\n",
        "    print(member)\n",
        "    know ,stacks = free(member, know=know, stacks=stacks)\n",
        "    print(know)\n",
        "\n",
        "print(stacks)"
      ],
      "execution_count": null,
      "outputs": []
    },
    {
      "cell_type": "code",
      "metadata": {
        "id": "4k1qDCA8mUit"
      },
      "source": [
        "N, M = map(int,input().split())\n",
        "trueman = list(map(int,input().split()))\n",
        "trueman.pop(0)\n",
        "truemanlist = set(trueman)\n",
        "party=list()\n",
        "for i in range(M):\n",
        "    line = list(map(int,input().split()))[1:]\n",
        "    if not truemanlist.isdisjoint(set(line)):\n",
        "        truemanlist = truemanlist.union(set(line))\n",
        "    party.append(line)\n",
        "for i in range(M):\n",
        "    for j in range(M):\n",
        "        if not truemanlist.isdisjoint(set(party[j])):\n",
        "            truemanlist = truemanlist.union(set(party[j]))\n",
        "count = 0\n",
        "for i in party:\n",
        "    if truemanlist.isdisjoint(set(i)):\n",
        "        count+=1\n",
        "print(count)"
      ],
      "execution_count": null,
      "outputs": []
    },
    {
      "cell_type": "markdown",
      "metadata": {
        "id": "sTZxCC6Czf-f"
      },
      "source": [
        "# 1976번 문제"
      ]
    },
    {
      "cell_type": "code",
      "metadata": {
        "id": "4UkchxQuzilM"
      },
      "source": [
        "import sys\n",
        "\n",
        "INF = sys.maxsize\n",
        "1\n",
        "n = int(input())\n",
        "m = int(input())\n",
        "a = [list(map(int, input().split())) for _ in range(n)]\n",
        "\n",
        "for k in range(n):\n",
        "    for i in range(n):\n",
        "        for j in range(n):\n",
        "            if i == j:\n",
        "                a[i][j] = 1\n",
        "            if a[i][k] and a[k][j]:\n",
        "                a[i][j] = 1\n",
        "\n",
        "d = list(map(int, input().split()))\n",
        "for i in range(len(d)-1):\n",
        "    if a[d[i]-1][d[i+1]-1] != 1:\n",
        "        print(\"NO\")\n",
        "        sys.exit()\n",
        "print(\"YES\")"
      ],
      "execution_count": null,
      "outputs": []
    },
    {
      "cell_type": "code",
      "metadata": {
        "id": "Elp-fEnF-ScB"
      },
      "source": [
        "n = int(input())\n",
        "points = [list(map(int, input().split())) for _ in range(n)]\n",
        "\n",
        "for point in points:\n",
        "    if point[0] >point[2]:\n",
        "        temp=point[0:2]\n",
        "        point[0:2]=point[2:]\n",
        "        point[2:]=temp\n",
        "\n",
        "def line(x, point):\n",
        "    if point[0] == point[2]:\n",
        "        return point[0]\n",
        "    elif point[1] == point[3]:\n",
        "        return point[1]\n",
        "    else:\n",
        "        return (x-point[0])*(point[1]-point[3])/(point[0]-point[2]) + point[1]\n",
        "\n",
        "def check_cross(p1, p2):\n",
        "    if line(p2[0], p1)*line(p2[2], p1)<0:\n",
        "        return True\n",
        "    else: return False\n",
        "\n",
        "group={}\n",
        "for i in range(len(points)):\n",
        "    group[i+1]=0\n",
        "    for j in range(i+1,len(points)):\n",
        "        count = 1\n",
        "        if check_cross(points[i], points[j]):\n",
        "            count+=1\n",
        "        group[i+1]=count\n",
        "\n",
        "groups=list(group.values())\n",
        "print(groups.index(max(groups))+1)\n",
        "print(max(groups))"
      ],
      "execution_count": null,
      "outputs": []
    },
    {
      "cell_type": "markdown",
      "metadata": {
        "id": "WQwIx9zoZE8j"
      },
      "source": [
        "# 16562번 문제"
      ]
    },
    {
      "cell_type": "code",
      "metadata": {
        "id": "ha6RY5rdZHn9"
      },
      "source": [
        "n, m, k = map(int, input().split())\n",
        "\n",
        "relation = [[0]*n]*n\n",
        "pay = list(map(int, input().split()))\n",
        "\n",
        "for _ in range(m):\n",
        "    a , b = map(int, input().split())\n",
        "    relation[a-1][b-1] = 1\n",
        "    relation[b-1][a-1] = 1\n",
        "\n"
      ],
      "execution_count": null,
      "outputs": []
    },
    {
      "cell_type": "code",
      "metadata": {
        "id": "5I7tXIq5d18K"
      },
      "source": [
        "from collections import deque\n",
        "\n",
        "\n",
        "def init():\n",
        "    ipt = sys.stdin.readline\n",
        "    n, m, k = map(int, ipt().split())\n",
        "    cost_list = list(map(int, ipt().split()))\n",
        "    adj_list = [[] for _ in range(n)]\n",
        "    for _ in range(m):\n",
        "        a, b = map(int, ipt().split())\n",
        "        adj_list[a-1].append(b-1)\n",
        "        adj_list[b-1].append(a-1)\n",
        "    visited = [False] * n\n",
        "    return n, k, visited, 0, adj_list, cost_list\n",
        "\n",
        "\n",
        "def bfs(start):\n",
        "    min_cost = float('inf')\n",
        "    visited[start] = True\n",
        "    q = deque([start])\n",
        "    while q:\n",
        "        cn = q.popleft()\n",
        "        min_cost = min(min_cost, cost_list[cn])\n",
        "        for nn in adj_list[cn]:\n",
        "            if not visited[nn]:\n",
        "                visited[nn] = True\n",
        "                q.append(nn)\n",
        "    return min_cost\n",
        "    \n",
        "    \n",
        "n, k, visited, ans, adj_list, cost_list = init()\n",
        "for i in range(n):\n",
        "    if not visited[i]:\n",
        "        ans += bfs(i)\n",
        "if ans <= k:\n",
        "    print(ans)\n",
        "else:\n",
        "    print('Oh no')"
      ],
      "execution_count": null,
      "outputs": []
    }
  ]
}