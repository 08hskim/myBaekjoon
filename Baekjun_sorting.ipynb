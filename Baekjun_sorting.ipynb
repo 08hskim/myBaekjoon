{
  "nbformat": 4,
  "nbformat_minor": 0,
  "metadata": {
    "colab": {
      "name": "Baekjun_sorting.ipynb",
      "private_outputs": true,
      "provenance": [],
      "collapsed_sections": [],
      "authorship_tag": "ABX9TyNfg27MTOQJmQS30ycBa2gm",
      "include_colab_link": true
    },
    "kernelspec": {
      "name": "python3",
      "display_name": "Python 3"
    }
  },
  "cells": [
    {
      "cell_type": "markdown",
      "metadata": {
        "id": "view-in-github",
        "colab_type": "text"
      },
      "source": [
        "<a href=\"https://colab.research.google.com/github/08hskim/myBaekjoon/blob/master/Baekjun_sorting.ipynb\" target=\"_parent\"><img src=\"https://colab.research.google.com/assets/colab-badge.svg\" alt=\"Open In Colab\"/></a>"
      ]
    },
    {
      "cell_type": "markdown",
      "metadata": {
        "id": "P0wmp997aHpD"
      },
      "source": [
        "# 2805번 문제"
      ]
    },
    {
      "cell_type": "code",
      "metadata": {
        "id": "Uy5NtU0TaEl-"
      },
      "source": [
        "n, m = map(int, input().split())\n",
        "logs=list(map(int, input().split()))\n",
        "min_log = min(logs)\n",
        "\n",
        "logs=[i-min_log for i in logs]\n",
        "while sum(logs) > m:\n",
        "    logs=[0 if i<1 else i-1 for i in logs]\n",
        "    min_log+=1\n",
        "\n",
        "print(min_log)"
      ],
      "execution_count": null,
      "outputs": []
    },
    {
      "cell_type": "code",
      "metadata": {
        "id": "W84PWEu6auNN"
      },
      "source": [
        "N, M = map(int, input().split())\n",
        "tree = list(map(int, input().split()))\n",
        "start, end = 1, max(tree) #이분탐색 검색 범위 설정\n",
        "\n",
        "while start <= end: #적절한 벌목 높이를 찾는 알고리즘\n",
        "    mid = (start+end) // 2\n",
        "    \n",
        "    log = 0 #벌목된 나무 총합\n",
        "    for i in tree:\n",
        "        if i >= mid:\n",
        "            log += i - mid\n",
        "    \n",
        "    #벌목 높이를 이분탐색\n",
        "    if log >= M:\n",
        "        start = mid + 1\n",
        "    else:\n",
        "        end = mid - 1\n",
        "print(end)"
      ],
      "execution_count": null,
      "outputs": []
    },
    {
      "cell_type": "markdown",
      "metadata": {
        "id": "sqijl1NgoZO-"
      },
      "source": [
        "# 10815번 문제"
      ]
    },
    {
      "cell_type": "code",
      "metadata": {
        "id": "CcGYSEFyodnB"
      },
      "source": [
        "import sys\n",
        "# input = sys.stdin.readline\n",
        "n = int(input())\n",
        "s = list(map(int, input().split()))\n",
        "m = int(input())\n",
        "s_ = list(map(int, input().split()))\n",
        "s.sort()\n",
        "for i in s_:\n",
        "    low, high = 0, n\n",
        "    while low <= high:\n",
        "        mid = (low + high) // 2\n",
        "        if 0 <= mid < n:\n",
        "            if s[mid] < i: low = mid + 1\n",
        "            else: high = mid - 1\n",
        "        else: break\n",
        "    if 0 <= high + 1 < n:\n",
        "        if s[high + 1] == i: print(1, end=\" \")\n",
        "        else: print(0, end=\" \")\n",
        "    else: print(0, end=\" \")"
      ],
      "execution_count": null,
      "outputs": []
    },
    {
      "cell_type": "markdown",
      "metadata": {
        "id": "tU8SGPmN50Bm"
      },
      "source": [
        "# 11650번 문제"
      ]
    },
    {
      "cell_type": "code",
      "metadata": {
        "id": "rmFNWWCB52BA"
      },
      "source": [
        "n = int(input())\n",
        "point = []\n",
        "for i in range(n):\n",
        "    point.append(list(map(int, input().split())))\n",
        "point.sort(key=lambda x: (x[0], x[1]))\n",
        "for i in point:\n",
        "    print(i[0], i[1])"
      ],
      "execution_count": null,
      "outputs": []
    },
    {
      "cell_type": "markdown",
      "metadata": {
        "id": "s9XcDMG96fZw"
      },
      "source": [
        "# 10814번 문제"
      ]
    },
    {
      "cell_type": "code",
      "metadata": {
        "id": "beUr10py6h-T"
      },
      "source": [
        "n = int(input())\n",
        "point = []\n",
        "for i in range(n):\n",
        "    point.append(list(input().split()))\n",
        "point.sort(key=lambda x: (int(x[0])))\n",
        "for i in point:\n",
        "    print(i[0], i[1])"
      ],
      "execution_count": null,
      "outputs": []
    },
    {
      "cell_type": "markdown",
      "metadata": {
        "id": "gvxlHfak7yVb"
      },
      "source": [
        "# 11651번 문제"
      ]
    },
    {
      "cell_type": "code",
      "metadata": {
        "id": "VUE3gKPk70iP"
      },
      "source": [
        "n = int(input())\n",
        "point = []\n",
        "for i in range(n):\n",
        "    point.append(list(map(int, input().split())))\n",
        "point.sort(key=lambda x: (x[1], x[0]))\n",
        "for i in point:\n",
        "    print(i[0], i[1])"
      ],
      "execution_count": null,
      "outputs": []
    },
    {
      "cell_type": "markdown",
      "metadata": {
        "id": "-kh76_RU80UM"
      },
      "source": [
        "# 11004번 문제"
      ]
    },
    {
      "cell_type": "code",
      "metadata": {
        "id": "96RRl2OX82f_"
      },
      "source": [
        "n, k = map(int, input().split())\n",
        "a=list(map(int, input().split()))\n",
        "\n",
        "a.sort()\n",
        "print(a[k-1])"
      ],
      "execution_count": null,
      "outputs": []
    },
    {
      "cell_type": "markdown",
      "metadata": {
        "id": "LIEWOEzvGUEa"
      },
      "source": [
        "# 10825번 문제"
      ]
    },
    {
      "cell_type": "code",
      "metadata": {
        "id": "G7DWtmZIGWAJ"
      },
      "source": [
        "n = int(input())\n",
        "score = []\n",
        "for _ in range(n):\n",
        "    score.append(list(input().split()))\n",
        "\n",
        "score.sort(key=lambda x: (-int(x[1]), int(x[2]), -int(x[3]), x[0]))\n",
        "for i in score:\n",
        "    print(i[0])"
      ],
      "execution_count": null,
      "outputs": []
    },
    {
      "cell_type": "markdown",
      "metadata": {
        "id": "-nkCmvwLLsIo"
      },
      "source": [
        "# 11656번 문제"
      ]
    },
    {
      "cell_type": "code",
      "metadata": {
        "id": "VZAL_EpZLuyX"
      },
      "source": [
        "S = input()\n",
        "s = []\n",
        "for i in range(len(S)):\n",
        "    s.append(S[i:])\n",
        "\n",
        "s.sort(key = lambda x: x)\n",
        "\n",
        "for i in s:print(i)"
      ],
      "execution_count": null,
      "outputs": []
    },
    {
      "cell_type": "markdown",
      "metadata": {
        "id": "42xS315uM9FU"
      },
      "source": [
        "# 11728번 문제"
      ]
    },
    {
      "cell_type": "code",
      "metadata": {
        "id": "KOkFYXPoNAF8"
      },
      "source": [
        "n, m =map(int, input().split())\n",
        "\n",
        "a = list(map(int, input().split()))\n",
        "b = list(map(int, input().split()))\n",
        "c=a+b\n",
        "c.sort()\n",
        "print(' '.join(map(str,c)))"
      ],
      "execution_count": null,
      "outputs": []
    },
    {
      "cell_type": "markdown",
      "metadata": {
        "id": "6ZksYm2xQmlD"
      },
      "source": [
        "# 11652번 문제"
      ]
    },
    {
      "cell_type": "code",
      "metadata": {
        "id": "StVmQSRvNNVk"
      },
      "source": [
        "n = int(input())\n",
        "dic = {}\n",
        "\n",
        "for case in range(n):\n",
        "    tmp = int(input())\n",
        "    if tmp in dic:\n",
        "        dic[tmp] += 1\n",
        "    else:\n",
        "        dic[tmp] = 1\n",
        "\n",
        "dic = sorted(dic.items(), key=lambda x: (-x[1], x[0]))\n",
        "print(dic[0][0])"
      ],
      "execution_count": null,
      "outputs": []
    },
    {
      "cell_type": "markdown",
      "metadata": {
        "id": "5iaayRG_UKGw"
      },
      "source": [
        "# 5052번 문제"
      ]
    },
    {
      "cell_type": "code",
      "metadata": {
        "id": "izcguxOuUMYB"
      },
      "source": [
        "t = int(input())\n",
        "\n",
        "def check():\n",
        "    for i in range(len(a)-1):\n",
        "        if a[i] == a[i+1][0:len(a[i])]:\n",
        "            print('NO')\n",
        "            return\n",
        "    print('YES')\n",
        "\n",
        "for _ in range(t):\n",
        "    n = int(input())\n",
        "    a = []\n",
        "    for i in range(n):\n",
        "        a.append(input().strip())\n",
        "    a.sort()\n",
        "    check()\n"
      ],
      "execution_count": null,
      "outputs": []
    },
    {
      "cell_type": "markdown",
      "metadata": {
        "id": "DGKDryiSeURd"
      },
      "source": [
        "# 8979번 문제"
      ]
    },
    {
      "cell_type": "code",
      "metadata": {
        "id": "Kfv4prwZeWsR"
      },
      "source": [
        "n, k = map(int, input().split())\n",
        "\n",
        "score = []\n",
        "for _ in range(n):\n",
        "    score.append(list(map(int, input().split())))\n",
        "\n",
        "score.sort(key = lambda x: (-x[1],-x[2],-x[3]))\n",
        "\n",
        "for i in range(n):\n",
        "    if score[i][0] == k:\n",
        "        id = i\n",
        "for i in range(n):\n",
        "    if score[id][1:] == score[i][1:]:\n",
        "        print(i + 1)\n",
        "        break"
      ],
      "execution_count": null,
      "outputs": []
    },
    {
      "cell_type": "markdown",
      "metadata": {
        "id": "atyJqRuYj1EN"
      },
      "source": [
        "# 2437번 문제"
      ]
    },
    {
      "cell_type": "code",
      "metadata": {
        "id": "wC_SLInBj4PB"
      },
      "source": [
        "n = int(input())\n",
        "s = list(map(int, input().split()))\n",
        "s.sort()\n",
        "num = 1\n",
        "for i in range(n):\n",
        "    if num < s[i]:\n",
        "        break\n",
        "    num += s[i]\n",
        "print(num)"
      ],
      "execution_count": null,
      "outputs": []
    },
    {
      "cell_type": "markdown",
      "metadata": {
        "id": "Ax5Qm4CQHVNU"
      },
      "source": [
        "# 1026번 문제"
      ]
    },
    {
      "cell_type": "code",
      "metadata": {
        "id": "Bk2TSevKHZJZ"
      },
      "source": [
        "n = int(input())\n",
        "a = list(map(int, input().split()))\n",
        "b = list(map(int, input().split()))\n",
        "a.sort()\n",
        "c=b\n",
        "result = 0\n",
        "for i in a:\n",
        "    result += i*max(c)\n",
        "    c.remove(max(c))    \n",
        "print(result)"
      ],
      "execution_count": null,
      "outputs": []
    },
    {
      "cell_type": "markdown",
      "metadata": {
        "id": "ck9RoR95Kxox"
      },
      "source": [
        "# 10867번 문제"
      ]
    },
    {
      "cell_type": "code",
      "metadata": {
        "id": "NvhKHiWCK0aL"
      },
      "source": [
        "n = int(input())\n",
        "a = list(map(int, input().split()))\n",
        "\n",
        "for i in sorted(list(set(a))):\n",
        "    print(i, end = ' ')"
      ],
      "execution_count": null,
      "outputs": []
    },
    {
      "cell_type": "markdown",
      "metadata": {
        "id": "UGUGcUPRMUC6"
      },
      "source": [
        "# 1302번 문제"
      ]
    },
    {
      "cell_type": "code",
      "metadata": {
        "id": "YlST7b2aMV2K"
      },
      "source": [
        "n = int(input())\n",
        "\n",
        "words = []\n",
        "length = []\n",
        "for _ in range(n):\n",
        "    a = input()\n",
        "    if words:\n",
        "        for i in range(len(words)):\n",
        "            if len(a) <= len(words[i]):\n",
        "                words.insert(i,a)\n",
        "                length.insert(i, len(a))\n",
        "    else:\n",
        "        words.append(a)\n",
        "        length.append(len(a))\n",
        "\n",
        "result = []\n",
        "for i in range(len(words)-1):\n",
        "    count = 0\n",
        "    word = words[i]\n",
        "    for j in range(i+1, len(words)):\n",
        "        if word in words[j]: count = 0\n",
        "    result.append(count)\n",
        "\n",
        "print(words[result.index(max(result))])"
      ],
      "execution_count": null,
      "outputs": []
    },
    {
      "cell_type": "code",
      "metadata": {
        "id": "xFuO9vDZM4Aw"
      },
      "source": [
        "n = int(input())\n",
        "words = {}\n",
        "\n",
        "for _ in range(n):\n",
        "    a = input()\n",
        "    if a not in words:\n",
        "        words[a] = 1\n",
        "    else:\n",
        "        words[a] +=1\n",
        "\n",
        "max_freq = max(words.values())\n",
        "\n",
        "best_seller=[]\n",
        "\n",
        "for book, number in words.items():\n",
        "    if number ==max_freq:\n",
        "        best_seller.append(book)\n",
        "\n",
        "print(sorted(best_seller)[0])"
      ],
      "execution_count": null,
      "outputs": []
    },
    {
      "cell_type": "markdown",
      "metadata": {
        "id": "My3UGGaGYcyO"
      },
      "source": [
        "# 7453번 문제"
      ]
    },
    {
      "cell_type": "code",
      "metadata": {
        "id": "4sLrrqkDYexZ"
      },
      "source": [
        "n = int(input())\n",
        "a,b,c,d = [],[],[],[]\n",
        "\n",
        "for _ in range(n):\n",
        "    x,y,z,w = map(int, input().split())\n",
        "    a.append(x);b.append(y);c.append(z);d.append(w);\n",
        "\n",
        "ab, cd = {}, {}\n",
        "\n",
        "for i in a:\n",
        "    for j in b:\n",
        "        if not ab.get(i+j):\n",
        "            ab[i+j] = 1\n",
        "        else: ab[i+j] += 1\n",
        "\n",
        "\n",
        "for i in c:\n",
        "    for j in d:\n",
        "        if not cd.get(i+j):\n",
        "            cd[i+j] = 1\n",
        "        else: cd[i+j] += 1\n",
        "\n",
        "count = 0\n",
        "for _, key in enumerate(ab):\n",
        "    if cd.get(-key):\n",
        "        count += (ab[key]*cd[-key])\n",
        "\n",
        "print(count)"
      ],
      "execution_count": null,
      "outputs": []
    },
    {
      "cell_type": "code",
      "metadata": {
        "id": "JaOgj8rTaos6"
      },
      "source": [
        "n = int(input())\n",
        "A,B,C,D = [],[],[],[]\n",
        "\n",
        "for _ in range(n):\n",
        "    x,y,z,w = map(int, input().split())\n",
        "    A.append(x);B.append(y);C.append(z);D.append(w);\n",
        "\n",
        "\n",
        "left = []\n",
        "right = {}\n",
        "for i in range(n):\n",
        "    for j in range(n):\n",
        "        left.append(A[i]+B[j])\n",
        "        right[C[i]+D[j]] = right.get(C[i]+D[j], 0) + 1\n",
        "        \n",
        "count = 0\n",
        "for i in left:\n",
        "    count += right.get(-i, 0)\n",
        "    \n",
        "print(count)"
      ],
      "execution_count": null,
      "outputs": []
    },
    {
      "cell_type": "markdown",
      "metadata": {
        "id": "zBmPCZFOSpKc"
      },
      "source": [
        "# 2075번 문제"
      ]
    },
    {
      "cell_type": "code",
      "metadata": {
        "id": "xGJFWd4BSrFS"
      },
      "source": [
        "import heapq\n",
        "n = int(input())\n",
        "h = []\n",
        "\n",
        "for i in map(int, input().split()):\n",
        "    heapq.heappush(h,i)\n",
        "\n",
        "for _ in range(1, n):\n",
        "    for i in map(int, input().split()):\n",
        "        heapq.heappush(h, i)\n",
        "        heapq.heappop(h)\n",
        "\n",
        "print(heapq.heappop(h))"
      ],
      "execution_count": null,
      "outputs": []
    },
    {
      "cell_type": "code",
      "metadata": {
        "id": "WhV5ofK9b0tm"
      },
      "source": [
        "import heapq\n",
        "import sys\n",
        "\n",
        "N = int(input())\n",
        "\n",
        "heap = []\n",
        "\n",
        "for _ in range(N):\n",
        "    nums = list(map(int,sys.stdin.readline().split()))\n",
        "\n",
        "    if not heap: \n",
        "        for num in nums:\n",
        "            heapq.heappush(heap,num)\n",
        "    else:\n",
        "        for num in nums:\n",
        "            if heap[0] < num:\n",
        "                heapq.heappush(heap,num)\n",
        "                heapq.heappop(heap)\n",
        "    \n",
        "print(heap[0])"
      ],
      "execution_count": null,
      "outputs": []
    },
    {
      "cell_type": "markdown",
      "metadata": {
        "id": "oSIlBMsnhEJ6"
      },
      "source": [
        "# 1517번 문제"
      ]
    },
    {
      "cell_type": "code",
      "metadata": {
        "id": "lkyk4SEkhGDE"
      },
      "source": [
        "count = 0\n",
        "\n",
        "n = int(input())\n",
        "s = list(map(int, input().split()))\n",
        "\n",
        "\n",
        "for i in range(n-1):\n",
        "        for j in range(n-i-1):\n",
        "            if s[j] > s[j+1]: \n",
        "                s[j], s[j+1] = s[j+1], s[j]\n",
        "                count += 1\n",
        "\n",
        "print(count)"
      ],
      "execution_count": null,
      "outputs": []
    },
    {
      "cell_type": "code",
      "metadata": {
        "id": "IWGeoyKqmiJw"
      },
      "source": [
        "import sys\n",
        "# input = sys.stdin.readline\n",
        "sys.setrecursionlimit(10 ** 9)\n",
        " \n",
        "def merge_sort(start, end):\n",
        "    global swap, arr\n",
        "    size = end - start\n",
        "    mid = (start + end) // 2\n",
        "    if size <= 1:\n",
        "        return\n",
        " \n",
        "    # divide\n",
        "    merge_sort(start, mid)\n",
        "    merge_sort(mid, end)\n",
        " \n",
        "    # merge\n",
        "    new_arr = []\n",
        "    idx1, idx2 = start, mid\n",
        "    cnt = 0\n",
        "    while idx1 < mid and idx2 < end:\n",
        "        if arr[idx1] > arr[idx2]:\n",
        "            new_arr.append(arr[idx2])\n",
        "            idx2 += 1\n",
        "            cnt += 1\n",
        "        else: # arr[idx1] < arr[idx2]\n",
        "            new_arr.append(arr[idx1])\n",
        "            idx1 += 1\n",
        "            swap += cnt\n",
        "    \n",
        "    while idx1 < mid:\n",
        "        new_arr.append(arr[idx1])\n",
        "        idx1 += 1\n",
        "        swap += cnt\n",
        "    while idx2 < mid:\n",
        "        new_arr.append(arr[idx2])\n",
        "        idx2 += 1\n",
        "    \n",
        "    # reflect\n",
        "    for t in range(len(new_arr)):\n",
        "        arr[start + t] = new_arr[t]\n",
        " \n",
        "n = int(input())\n",
        "arr = list(map(int, input().split()))\n",
        "swap = 0\n",
        "merge_sort(0, n)\n",
        "print(swap)\n"
      ],
      "execution_count": null,
      "outputs": []
    },
    {
      "cell_type": "markdown",
      "metadata": {
        "id": "JM1UYlWNn2ap"
      },
      "source": [
        "# 3273번 문제"
      ]
    },
    {
      "cell_type": "code",
      "metadata": {
        "id": "_XandPy9n4Yq"
      },
      "source": [
        "n = int(input())\n",
        "s = list(map(int, input().split()))\n",
        "x = int(input())\n",
        "\n",
        "count = 0\n",
        "for i in range(n):\n",
        "    if (x-s[i]) in s: count += 1\n",
        "\n",
        "print(count//2)"
      ],
      "execution_count": null,
      "outputs": []
    },
    {
      "cell_type": "markdown",
      "metadata": {
        "id": "6yKSp5AFq-gq"
      },
      "source": [
        "# 1377번 문제"
      ]
    },
    {
      "cell_type": "code",
      "metadata": {
        "id": "8I4EL3ynrAfF"
      },
      "source": [
        "import sys \n",
        "n = int(input()) \n",
        "\n",
        "nums = [] \n",
        "\n",
        "for i in range(n): \n",
        "    num = int(input()) \n",
        "    nums.append((num, i)) \n",
        "    \n",
        "sorted_nums = sorted(nums) \n",
        "answer = 0 \n",
        "\n",
        "for i in range(N): \n",
        "    answer = max(sorted_nums[i][1] - i + 1, answer) \n",
        "    \n",
        "print(answer)\n",
        "\n"
      ],
      "execution_count": null,
      "outputs": []
    },
    {
      "cell_type": "markdown",
      "metadata": {
        "id": "HrmRZTXn2rvj"
      },
      "source": [
        "# 2456번 문제"
      ]
    },
    {
      "cell_type": "code",
      "metadata": {
        "id": "qUx7pIYn2uKc"
      },
      "source": [
        "n = int(input())\n",
        "one = [0,0,0,0]\n",
        "two = [0,0,0,0]\n",
        "three = [0,0,0,0]\n",
        "result = [0,0,0,0]\n",
        "for _ in range(n):\n",
        "    a, b, c = map(int, input().split())\n",
        "    one[a] += 1\n",
        "    two[b] += 1\n",
        "    three[c] += 1\n",
        "    "
      ],
      "execution_count": null,
      "outputs": []
    },
    {
      "cell_type": "code",
      "metadata": {
        "id": "nkOrnN5H46QA"
      },
      "source": [
        "if __name__ == '__main__':\n",
        "    N = int(input())\n",
        "    arr1 = [0]*3 # 후보마다 점수 합산 배열\n",
        "    arr2 = [0]*3 # 점수 같을 경우를 쉽게 파악하기 위해 선호도 점수를 제곱해서 합산한 배열\n",
        "    \n",
        "    for _ in range(N):\n",
        "        x,y,z = map(int,input().split())\n",
        "        #후보마다 점수 더해주기\n",
        "        arr1[0] += x\n",
        "        arr1[1] += y\n",
        "        arr1[2] += z\n",
        "        #제곱해서 더해주기\n",
        "        arr2[0] += (x * x)\n",
        "        arr2[1] += (y * y)\n",
        "        arr2[2] += (z * z)\n",
        "\n",
        "    max_value = max(arr1)\n",
        "    if arr1.count(max_value) == 1:\n",
        "        for i in range(len(arr1)):\n",
        "            if arr1[i] == max_value:\n",
        "                print(i+1, max_value)\n",
        "                break;\n",
        "    else:\n",
        "        pow_max_value = max(arr2)\n",
        "        idx = 0\n",
        "        for i in range(len(arr2)):\n",
        "            if arr2[i] == pow_max_value:\n",
        "                idx = i\n",
        "                break;\n",
        "         \n",
        "        # 회장 선출 불가능한 경우\n",
        "        if arr2.count(pow_max_value) > 1:\n",
        "            print(0, arr1[idx])\n",
        "            \n",
        "        #가능한 경우\n",
        "        else:\n",
        "            print(idx+1, arr1[idx])"
      ],
      "execution_count": null,
      "outputs": []
    },
    {
      "cell_type": "markdown",
      "metadata": {
        "id": "coZ28pqYEGlg"
      },
      "source": [
        "# 8980번 문제"
      ]
    },
    {
      "cell_type": "code",
      "metadata": {
        "id": "D-RluFsyEIqI"
      },
      "source": [
        "import sys\n",
        "\n",
        "if __name__ == \"__main__\":\n",
        "    n, c = map(int, input().split())\n",
        "    m = int(input())\n",
        "    box = [list(map(int, input().split())) for _ in range(m)]\n",
        "\n",
        "\n",
        "    box.sort(key=lambda x:x[1])  # 도착 시간이 빠른 순서로 정렬\n",
        "\n",
        "    answer = 0  # 최대 박스 수\n",
        "    remain = [c] * (n + 1)  # 각 위치에 남은 공간\n",
        "\n",
        "    for i in range(m):\n",
        "        temp = c  # c개를 옮길 수 있다고 가정\n",
        "        for j in range(box[i][0], box[i][1]):\n",
        "            temp = min(temp, remain[j])\n",
        "        temp = min(temp, box[i][2])\n",
        "        for j in range(box[i][0], box[i][1]):\n",
        "            remain[j] -= temp\n",
        "        answer += temp\n",
        "\n",
        "    print(answer)"
      ],
      "execution_count": null,
      "outputs": []
    }
  ]
}