{
  "nbformat": 4,
  "nbformat_minor": 0,
  "metadata": {
    "colab": {
      "name": "Baekjun_Geometry.ipynb",
      "private_outputs": true,
      "provenance": [],
      "collapsed_sections": [
        "EtfbSFdDogMN",
        "rtSalPgSql7K",
        "KlBG7ZfPt2p1"
      ],
      "authorship_tag": "ABX9TyNykIJ2nyAPI0T9jRpP+Wbx",
      "include_colab_link": true
    },
    "kernelspec": {
      "name": "python3",
      "display_name": "Python 3"
    }
  },
  "cells": [
    {
      "cell_type": "markdown",
      "metadata": {
        "id": "view-in-github",
        "colab_type": "text"
      },
      "source": [
        "<a href=\"https://colab.research.google.com/github/08hskim/myBaekjoon/blob/master/Baekjun_Geometry.ipynb\" target=\"_parent\"><img src=\"https://colab.research.google.com/assets/colab-badge.svg\" alt=\"Open In Colab\"/></a>"
      ]
    },
    {
      "cell_type": "markdown",
      "metadata": {
        "id": "EtfbSFdDogMN"
      },
      "source": [
        "# 14681번 문제"
      ]
    },
    {
      "cell_type": "code",
      "metadata": {
        "id": "pPtFskG0oOaJ"
      },
      "source": [
        "x=int(input())\n",
        "y=int(input())\n",
        "\n",
        "if x*y>0 and x>0:\n",
        "    print(1)\n",
        "elif x*y>0 and x<0:\n",
        "    print(3)\n",
        "elif x*y<0 and x>0:\n",
        "    print(4)\n",
        "elif x*y<0 and x<0:\n",
        "    print(2)\n"
      ],
      "execution_count": null,
      "outputs": []
    },
    {
      "cell_type": "markdown",
      "metadata": {
        "id": "rtSalPgSql7K"
      },
      "source": [
        "# 1085번 문제"
      ]
    },
    {
      "cell_type": "code",
      "metadata": {
        "id": "Vd9z7DiXqn9z"
      },
      "source": [
        "x, y, w, h = map(int, input().split())\n",
        "print(min([x,y,w-x,h-y]))\n"
      ],
      "execution_count": null,
      "outputs": []
    },
    {
      "cell_type": "markdown",
      "metadata": {
        "id": "KlBG7ZfPt2p1"
      },
      "source": [
        "# 1002번 문제"
      ]
    },
    {
      "cell_type": "code",
      "metadata": {
        "id": "elNN-2Z-t4pY"
      },
      "source": [
        "t = int(input())\n",
        "for i in range(t):\n",
        "    x1, y1, r1, x2, y2, r2 = map(int, input().split())\n",
        "    d = ((x2 - x1) ** 2 + (y2 - y1) ** 2) ** 0.5\n",
        "    rs = r1 + r2\n",
        "    rm = abs(r1 - r2)\n",
        "    if d == 0:\n",
        "        if r1 == r2:\n",
        "            print(-1)\n",
        "        else:\n",
        "            print(0)\n",
        "    else:\n",
        "        if d == rs or d == rm:\n",
        "            print(1)\n",
        "        elif d < rs and d > rm:\n",
        "            print(2)\n",
        "        else:\n",
        "            print(0)"
      ],
      "execution_count": null,
      "outputs": []
    },
    {
      "cell_type": "markdown",
      "metadata": {
        "id": "5f8d9CpKj9uR"
      },
      "source": [
        "# 3009번 문제"
      ]
    },
    {
      "cell_type": "code",
      "metadata": {
        "id": "8J0nybKokAxu"
      },
      "source": [
        "x=[]\n",
        "y=[]\n",
        "for _ in range(3):\n",
        "    a, b = map(int, input().split())\n",
        "    x.append(a)\n",
        "    y.append(b)\n",
        "for i in range(3):\n",
        "    if x.count(x[i])==1:\n",
        "        xa=x[i]\n",
        "    if y.count(y[i])==1:\n",
        "        ya=y[i]\n",
        "\n",
        "print(xa,ya)"
      ],
      "execution_count": null,
      "outputs": []
    },
    {
      "cell_type": "markdown",
      "metadata": {
        "id": "q3BBIbaDmllp"
      },
      "source": [
        "# 3053번 문제"
      ]
    },
    {
      "cell_type": "code",
      "metadata": {
        "id": "S2Rjha7bm6n8"
      },
      "source": [
        "import math\n",
        "n=int(input())\n",
        "\n",
        "euclid=math.pi*n**2\n",
        "taxi=4*n**2*0.5\n",
        "print('%.6f'%euclid)\n",
        "print('%.6f'%taxi)"
      ],
      "execution_count": null,
      "outputs": []
    },
    {
      "cell_type": "markdown",
      "metadata": {
        "id": "4EfCptCfpXo3"
      },
      "source": [
        "# 1004번 문제"
      ]
    },
    {
      "cell_type": "code",
      "metadata": {
        "id": "NxbQ8UegpabX"
      },
      "source": [
        "t = int(input())\n",
        "for i in range(t):\n",
        "    cnt = 0\n",
        "    x1, y1, x2, y2 = map(int, input().split())\n",
        "    n = int(input())\n",
        "    for i in range(n):\n",
        "        px, py, pr = map(int, input().split())\n",
        "        d1 = (((x1 - px) ** 2) + ((y1 - py) ** 2)) ** 0.5\n",
        "        d2 = (((x2 - px) ** 2) + ((y2 - py) ** 2)) ** 0.5\n",
        "        if (d1 < pr and d2 > pr) or (d1 > pr and d2 < pr):\n",
        "            cnt += 1\n",
        "    print(cnt)"
      ],
      "execution_count": null,
      "outputs": []
    },
    {
      "cell_type": "markdown",
      "metadata": {
        "id": "G9jF3ISCqyZD"
      },
      "source": [
        "# 2166번 문제"
      ]
    },
    {
      "cell_type": "code",
      "metadata": {
        "id": "ipzRPPLGq0KM"
      },
      "source": [
        "n  = int(input())\n",
        "a = [[]]*n\n",
        "for i in range(n):\n",
        "    a[i] = list(map(int, input().split()))\n",
        "    \n",
        "a.append(a[0])\n",
        "left=0\n",
        "right =0\n",
        "import math\n",
        "for i in range(n):\n",
        "    left+=a[i][0]*a[i+1][1]\n",
        "    right +=a[i][1]*a[i+1][0]\n",
        "\n",
        "print(((round(abs(left-right)/2*100)//10)/10))"
      ],
      "execution_count": null,
      "outputs": []
    },
    {
      "cell_type": "markdown",
      "metadata": {
        "id": "8i1O3DAOr9c4"
      },
      "source": [
        "# 10216번 문제"
      ]
    },
    {
      "cell_type": "code",
      "metadata": {
        "id": "bvT3ZRDysBji"
      },
      "source": [
        "import math\n",
        "\n",
        "def check_meet(cir1, cir2):\n",
        "    # cir1, cir2는 길이 3인 리스트로\n",
        "    # 각각 [x좌표, y좌표, r]이다.\n",
        "    r_max = max(cir1[2],cir2[2])\n",
        "    r_min = min(cir1[2],cir2[2])\n",
        "    dist = math.pow((cir1[0]-cir2[0])**2 + (cir1[1]-cir2[1])**2,1/2)\n",
        "\n",
        "    # 두 원이 같은 그룹이 아니다.\n",
        "    if dist > cir1[2]+cir2[2]: return False\n",
        "    else: return True\n",
        "\n",
        "# 테스트케이스 개수\n",
        "t = int(input())\n",
        "\n",
        "for _ in range(t):\n",
        "    # 레이더 개수\n",
        "    n = int(input())\n",
        "    # 레이더 정보 입력\n",
        "    rad = [list(map(int,input().split())) for _ in range(n)]\n",
        "\n",
        "    groups = []\n",
        "\n",
        "    for i in range(len(rad)):\n",
        "        group = [i]\n",
        "\n",
        "        for k in groups:\n",
        "            if i in k:\n",
        "                group = k\n",
        "                groups.remove(k)\n",
        "                break\n",
        "\n",
        "        for j in range(i+1, len(rad)):\n",
        "            if check_meet(rad[i], rad[j]):\n",
        "                group.append(j)\n",
        "        groups.append(group)\n",
        "\n",
        "    print(len(groups))"
      ],
      "execution_count": null,
      "outputs": []
    },
    {
      "cell_type": "code",
      "metadata": {
        "id": "Abyfi1kefwac"
      },
      "source": [
        "math.pow(4,1/2)"
      ],
      "execution_count": null,
      "outputs": []
    },
    {
      "cell_type": "markdown",
      "metadata": {
        "id": "eW-ht9TeF6Wt"
      },
      "source": [
        "# 1485번 문제"
      ]
    },
    {
      "cell_type": "code",
      "metadata": {
        "id": "cNWkNd4bF935"
      },
      "source": [
        "t=int(input())\n",
        "\n",
        "\n",
        "for _ in range(t):\n",
        "    points=[]\n",
        "    for _ in range(4):\n",
        "        points.append(list(map(int,input().split())))\n",
        "    for i in range(4):\n",
        "        point = points[i]\n",
        "        pointing=[x for x in  points if x != point]\n",
        "        for j in range(len(pointing):\n",
        "            pointing[j]=math.sqrt(pow((point[0]-pointing[j][0]),2)+pow((point[1]-pointing[j][1]),2))"
      ],
      "execution_count": null,
      "outputs": []
    },
    {
      "cell_type": "markdown",
      "metadata": {
        "id": "hnQEVRPjblSn"
      },
      "source": [
        "# 1708번 문제"
      ]
    },
    {
      "cell_type": "code",
      "metadata": {
        "id": "gMtfBFRPbnlT"
      },
      "source": [
        "def inclination(p1, p2):\n",
        "    return p2[0] - p1[0], p2[1] - p1[1]\n",
        " \n",
        "def ccw(p1, p2, p3):\n",
        "    v, u = inclination(p1, p2), inclination(p2, p3)\n",
        "    if v[0] * u[1] > v[1] * u[0]:\n",
        "        return True\n",
        "    return False\n",
        "     \n",
        "def convex_hull(positions):\n",
        "    convex = list()\n",
        "    for p3 in positions:\n",
        "        while len(convex) >= 2:\n",
        "            p1, p2 = convex[-2], convex[-1]\n",
        "            if ccw(p1, p2, p3):\n",
        "                break\n",
        "            convex.pop()\n",
        "        convex.append(p3)\n",
        "     \n",
        "    return len(convex)\n",
        " \n",
        "n, answer = int(input()), -2\n",
        "positions = list()\n",
        "for i in range(n):\n",
        "    positions.append(list(map(int, input().split())))\n",
        "     \n",
        "positions = sorted(positions, key=lambda pos:(pos[0], pos[1]))\n",
        "answer += convex_hull(positions)\n",
        " \n",
        "positions.reverse()\n",
        "answer += convex_hull(positions)\n",
        "print(answer)"
      ],
      "execution_count": null,
      "outputs": []
    },
    {
      "cell_type": "markdown",
      "metadata": {
        "id": "geLJB_KqvwIO"
      },
      "source": [
        "# 2162번 문제"
      ]
    },
    {
      "cell_type": "code",
      "metadata": {
        "id": "G7J-vjMu1j92"
      },
      "source": [
        "import sys\n",
        "# input = sys.stdin.readline\n",
        "n = int(input())\n",
        "s = []\n",
        "parent = []\n",
        "parent_ = []\n",
        "def getParent(a):\n",
        "    if parent[a] == a:\n",
        "        return a\n",
        "    else:\n",
        "        parent[a] = getParent(parent[a])\n",
        "        return parent[a]\n",
        "def union(x, y):\n",
        "    parentX = getParent(x)\n",
        "    parentY = getParent(y)\n",
        "    if parentX > parentY:\n",
        "        parent[parentX] = parentY\n",
        "    elif parentY > parentX:\n",
        "        parent[parentY] = parentX\n",
        "def ccw(p1, p2, p3):\n",
        "    temp = (p1[0] * p2[1]) + (p2[0] * p3[1]) + (p3[0] * p1[1])\n",
        "    temp = temp - (p1[1] * p2[0]) - (p2[1] * p3[0]) - (p3[1] * p1[0])\n",
        "    if temp > 0:\n",
        "        return 1\n",
        "    elif temp < 0:\n",
        "        return -1\n",
        "    else:\n",
        "        return 0\n",
        "def checkCross(li1, li2):\n",
        "    li1p1 = [li1[0], li1[1]]\n",
        "    li1p2 = [li1[2], li1[3]]\n",
        "    li2p1 = [li2[0], li2[1]]\n",
        "    li2p2 = [li2[2], li2[3]]\n",
        "    result1 = ccw(li1p1, li1p2, li2p1) * ccw(li1p1, li1p2, li2p2)\n",
        "    result2 = ccw(li2p1, li2p2, li1p1) * ccw(li2p1, li2p2, li1p2)\n",
        "    if result1 <= 0 and result2 <= 0:\n",
        "        if ((li1p1[0] > li2p1[0] and li1p1[0] > li2p2[0] and li1p2[0] > li2p1[0] and li1p2[0] > li2p2[0]) \n",
        "        or (li1p1[0] < li2p1[0] and li1p1[0] < li2p2[0] and li1p2[0] < li2p1[0] and li1p2[0] < li2p2[0])):\n",
        "            return False\n",
        "        elif ((li1p1[1] > li2p1[1] and li1p1[1] > li2p2[1] and li1p2[1] > li2p1[1] and li1p2[1] > li2p2[1]) \n",
        "        or (li1p1[1] < li2p1[1] and li1p1[1] < li2p2[1] and li1p2[1] < li2p1[1] and li1p2[1] < li2p2[1])):\n",
        "            return False\n",
        "        else:\n",
        "            return True\n",
        "    return False\n",
        "for i in range(n):\n",
        "    s.append(list(map(int, input().split())))\n",
        "    parent.append(i)\n",
        "    parent_.append(0)\n",
        "for i in range(n - 1):\n",
        "    for j in range(i + 1, n):\n",
        "        if checkCross(s[i], s[j]):\n",
        "            union(i, j)\n",
        "cnt = 0\n",
        "max_num = 0\n",
        "for i in range(n):\n",
        "    if parent[i] == i:\n",
        "        cnt += 1\n",
        "    parent_[getParent(i)] += 1\n",
        "    if parent_[getParent(i)] > max_num:\n",
        "        max_num = parent_[getParent(i)]\n",
        "print(cnt)\n",
        "print(max_num)"
      ],
      "execution_count": null,
      "outputs": []
    },
    {
      "cell_type": "markdown",
      "metadata": {
        "id": "Zwetb7yBDQ2m"
      },
      "source": [
        "# 2477번 문제"
      ]
    },
    {
      "cell_type": "code",
      "metadata": {
        "id": "OoeeshcaF1wF"
      },
      "source": [
        "# 1: east, 2: west, 3: south, 4: north\n",
        "k = int(input())\n",
        "\n",
        "dir = [[],[],[],[]]\n",
        "\n",
        "while True:\n",
        "    info = list(map(int, input().split()))\n",
        "\n",
        "    if info == []: break\n",
        "    else:\n",
        "        if info[0] == 1:\n",
        "            dir[0].append(info[1])\n",
        "\n",
        "        elif info[0] == 2:\n",
        "            dir[1].append(info[1])\n",
        "        \n",
        "        elif info[0] == 3:\n",
        "            dir[2].append(info[1])\n",
        "\n",
        "        elif info[0] == 4:\n",
        "            dir[3].append(info[1])\n",
        "\n",
        "if max(dir[0]) > max(dir[1]): width = dir[1]\n",
        "else: width = dir[0]\n",
        "\n",
        "if max(dir[2]) > max(dir[3]): height = dir[3]\n",
        "else: height = dir[2]\n",
        "\n",
        "square = width[0]*height[0]+width[1]*height[1]\n",
        "\n",
        "print(square)\n",
        "print(square*k)"
      ],
      "execution_count": null,
      "outputs": []
    },
    {
      "cell_type": "code",
      "metadata": {
        "id": "gAKfc_SfOXaH"
      },
      "source": [
        "melon = int(input()) # 참외 개수 K\n",
        "values = [input().split() for _ in range(6)] # 나머지 2~7 line의 6 줄을 입력 받는다.\n",
        "directions = [int(v[0]) for v in values] # 방향을 뽑아내서 저장한다.\n",
        "lengths = [int(v[1]) for v in values] # 길이를 뽑아내서 저장한다.\n",
        "max_lengths, box_lengths = [], [] # 큰 박스의 길이, 작은 박스의 길이를 담을 배열\n",
        "\n",
        "for i in range(1, 5):\n",
        "    if directions.count(i) == 1: # direction이 한번만 존재한다 == 큰 박스의 변\n",
        "        max_lengths.append(lengths[directions.index(i)]) # 큰박스의 변 길이 저장\n",
        "        temp = directions.index(i) + 3 # 큰 박스 + 3 == 작은 박스의 변\n",
        "        if temp >= 6:\n",
        "            temp -= 6 # cycle을 위해 6 이상일 경우 -6\n",
        "        box_lengths.append(lengths[temp]) \n",
        "\n",
        "area = max_lengths[0] * max_lengths[1] - box_lengths[0] * box_lengths[1]\n",
        "print(melon * area)"
      ],
      "execution_count": null,
      "outputs": []
    },
    {
      "cell_type": "markdown",
      "metadata": {
        "id": "P3TtDJMIz5Ib"
      },
      "source": [
        "# 1027번 문제"
      ]
    },
    {
      "cell_type": "code",
      "metadata": {
        "id": "_nq2bypdD0nR"
      },
      "source": [
        "def solution():\n",
        "    N = int(input())\n",
        "    A = list(map(int, input().split(' ')))\n",
        "    B = [0] * N\n",
        "\n",
        "    for i in range(N):\n",
        "        e = -99999999999\n",
        "        for j in range(i+1, N):\n",
        "            d = (A[j] - A[i]) / (j - i)\n",
        "            if d > e:\n",
        "                e = d\n",
        "                B[i] += 1\n",
        "                B[j] += 1\n",
        "    res = 0\n",
        "    for i in B:\n",
        "        res = max(res, i)\n",
        "    print(res)\n",
        "\n",
        "solution()"
      ],
      "execution_count": null,
      "outputs": []
    },
    {
      "cell_type": "markdown",
      "metadata": {
        "id": "UiPt83vYsqco"
      },
      "source": [
        "# 1485번 문제"
      ]
    },
    {
      "cell_type": "code",
      "metadata": {
        "id": "Tv3bvkXQsucI"
      },
      "source": [
        "import sys\n",
        "# line=sys.stdin.readline\n",
        "\n",
        "N=int(input())\n",
        "\n",
        "for i in range(N):\n",
        "    dot=[list(map(int,input().split())) for _ in range(4)]\n",
        "    L=list()\n",
        "    for i in range(3):\n",
        "        for j in range(i+1,4):\n",
        "            L.append((dot[i][0]-dot[j][0])*(dot[i][0]-dot[j][0])+(dot[i][1]-dot[j][1])*(dot[i][1]-dot[j][1]))\n",
        "    L.sort()\n",
        "    if L[0]==L[1] and L[0]==L[2] and L[0]==L[3] and L[4]==L[5]:\n",
        "        print(1)\n",
        "    else:\n",
        "        print(0)\n"
      ],
      "execution_count": null,
      "outputs": []
    },
    {
      "cell_type": "markdown",
      "metadata": {
        "id": "OKEdLiFlxOnu"
      },
      "source": [
        "# 9240번 문제"
      ]
    },
    {
      "cell_type": "code",
      "metadata": {
        "id": "Zk5wQJpcxQgS"
      },
      "source": [
        "import sys\n",
        "import math\n",
        "\n",
        "def getDegree(p1, p2):\n",
        "    return p2[0] - p1[0], p2[1] - p1[1]\n",
        "\n",
        "def ccw(p1, p2, p3):\n",
        "    v, u = getDegree(p1, p2), getDegree(p2, p3)\n",
        "    if v[0] * u[1] > v[1] * u[0]: return True\n",
        "    else: return False\n",
        "\n",
        "def convex_hull(position):\n",
        "    convex = []\n",
        "    for p3 in position:\n",
        "        while len(convex) >= 2:\n",
        "            p1, p2 = convex[-2], convex[-1]\n",
        "            if ccw(p1, p2, p3):\n",
        "                break\n",
        "            convex.pop()\n",
        "        convex.append(p3)\n",
        "    return convex\n",
        "\n",
        "def getPointLength(p1, p2):\n",
        "    return math.sqrt(math.pow(p2[0] - p1[0], 2) + math.pow(p2[1] - p1[1], 2))\n",
        "\n",
        "def rotating_calipers(position):\n",
        "    ret = 0\n",
        "    length = len(position)-1\n",
        "    j = 1\n",
        "    for i in range(length):\n",
        "        iNext = (i + 1) % length\n",
        "        while True:\n",
        "            jNext = (j + 1) % length\n",
        "            vx = position[iNext][0] - position[i][0]\n",
        "            vy = position[iNext][1] - position[i][1]\n",
        "\n",
        "            ux = position[jNext][0] - position[j][0]\n",
        "            uy = position[jNext][1] - position[j][1]\n",
        "\n",
        "            temp = (0, 0)\n",
        "\n",
        "            if ccw(temp, (vx, vy), (ux, uy)):\n",
        "                j = jNext\n",
        "            else:\n",
        "                break\n",
        "        dist = getPointLength(position[i], position[j])\n",
        "\n",
        "        if dist >= ret:\n",
        "            ret = dist\n",
        "            ans1 = position[i]\n",
        "            ans2 = position[j]\n",
        "    return getPointLength(ans1, ans2)\n",
        "\n",
        "def solution():\n",
        "\n",
        "    N = int(sys.stdin.readline())\n",
        "\n",
        "    position = []\n",
        "    for _ in range(N):\n",
        "        x, y = map(str, sys.stdin.readline().split())\n",
        "        position.append((int(x), int(y)))\n",
        "\n",
        "    position = sorted(position, key=lambda x:(x[0], x[1]))\n",
        "    ccwtemp = convex_hull(position)\n",
        "\n",
        "    position.reverse()\n",
        "    temp = convex_hull(position)\n",
        "\n",
        "    for i in range(1, len(temp)):\n",
        "        ccwtemp.append(temp[i])\n",
        "\n",
        "    print(rotating_calipers(ccwtemp))\n",
        "\n",
        "solution()"
      ],
      "execution_count": null,
      "outputs": []
    }
  ]
}