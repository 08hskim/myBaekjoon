{
  "nbformat": 4,
  "nbformat_minor": 0,
  "metadata": {
    "colab": {
      "name": "Baekjun_BruteForcing.ipynb",
      "private_outputs": true,
      "provenance": [],
      "collapsed_sections": [],
      "authorship_tag": "ABX9TyOtp/AkKQ0D1KAkb4QSJgLj",
      "include_colab_link": true
    },
    "kernelspec": {
      "name": "python3",
      "display_name": "Python 3"
    }
  },
  "cells": [
    {
      "cell_type": "markdown",
      "metadata": {
        "id": "view-in-github",
        "colab_type": "text"
      },
      "source": [
        "<a href=\"https://colab.research.google.com/github/08hskim/myBaekjoon/blob/master/Baekjun_BruteForcing.ipynb\" target=\"_parent\"><img src=\"https://colab.research.google.com/assets/colab-badge.svg\" alt=\"Open In Colab\"/></a>"
      ]
    },
    {
      "cell_type": "markdown",
      "metadata": {
        "id": "2eCwwIxoDzKP"
      },
      "source": [
        "# 1065번 문제"
      ]
    },
    {
      "cell_type": "code",
      "metadata": {
        "id": "QYZvF4BmDojs"
      },
      "source": [
        "n = int(input())\n",
        "count = 0\n",
        "for i in range(1, n + 1):\n",
        "    if i < 100:\n",
        "        count += 1\n",
        "    else:\n",
        "        num = list(map(int, str(i)))\n",
        "        if num[0] - num[1] == num[1] - num[2]:\n",
        "            count += 1\n",
        "print(count)"
      ],
      "execution_count": null,
      "outputs": []
    },
    {
      "cell_type": "markdown",
      "metadata": {
        "id": "dQRXNNUeH_n6"
      },
      "source": [
        "# 2798번 문제"
      ]
    },
    {
      "cell_type": "code",
      "metadata": {
        "id": "Au78eMOYFwHA"
      },
      "source": [
        "n, m = map(int, input().split())\n",
        "\n",
        "card = list(map(int, input().split()))\n",
        "\n",
        "Sum = 0\n",
        "for i in range(0, n - 2):\n",
        "        for j in range(i + 1, n - 1):\n",
        "                for k in range(j + 1, n):\n",
        "                        if card[i] + card[j] + card[k] > m:\n",
        "                                continue\n",
        "                        else:\n",
        "                                Sum = max(Sum, card[i] + card[j] + card[k])\n",
        "print(Sum)"
      ],
      "execution_count": null,
      "outputs": []
    },
    {
      "cell_type": "markdown",
      "metadata": {
        "id": "TlNOf4ZHMCX-"
      },
      "source": [
        "# 2309번 문제"
      ]
    },
    {
      "cell_type": "code",
      "metadata": {
        "id": "jlGGSGCCMEpW"
      },
      "source": [
        "height = [int(input()) for _ in range(9)]\n",
        "height.sort()\n",
        "rest = sum(height)-100\n",
        "\n",
        "for i in range(len(height)):\n",
        "    for j in range(i+1,len(height)):\n",
        "        if height[i]+height[j]==rest:\n",
        "            a=height[i]\n",
        "            b=height[j]\n",
        "            height.remove(a)\n",
        "            height.remove(b)\n",
        "            break\n",
        "\n",
        "for i in range(len(height)):\n",
        "    print(height[i])"
      ],
      "execution_count": null,
      "outputs": []
    },
    {
      "cell_type": "markdown",
      "metadata": {
        "id": "eyOu1KmvbVg4"
      },
      "source": [
        "# 1018번 문제"
      ]
    },
    {
      "cell_type": "code",
      "metadata": {
        "id": "vZ4MQ8c2bXoS"
      },
      "source": [
        "N, M = [int(x) for x in input().split()]\n",
        "B = []\n",
        "for n in range(N):\n",
        "    B.append(input().strip())\n",
        "T = [[False] * M for _ in range(N)]\n",
        "for n in range(N):\n",
        "    for m in range(M):\n",
        "        if (n + m) % 2 == 0:\n",
        "            ans = 'W'\n",
        "        else:\n",
        "            ans = 'B'\n",
        "        T[n][m] = (B[n][m] != ans)\n",
        "R = []\n",
        "for n in range(N-8+1):\n",
        "    for m in range(M-8+1):\n",
        "        s = 0\n",
        "        for i in range(8):\n",
        "            s += sum(T[n+i][m:m+8])\n",
        "        s = min(s, 64-s)\n",
        "        R.append(s)\n",
        "print(min(R))"
      ],
      "execution_count": null,
      "outputs": []
    },
    {
      "cell_type": "markdown",
      "metadata": {
        "id": "i8Q3-gbpcO-B"
      },
      "source": [
        "# 9663번 문제"
      ]
    },
    {
      "cell_type": "code",
      "metadata": {
        "id": "6DcF337xcRiD"
      },
      "source": [
        "n = int(input())\n",
        "s = [0 for i in range(16)]\n",
        "result = 0\n",
        "\n",
        "def check_queen(x):\n",
        "    for i in range(1, x):\n",
        "        if s[x] == s[i] or abs(s[x] - s[i]) == x - i:\n",
        "            return False\n",
        "    return True\n",
        "\n",
        "def dfs(cnt):\n",
        "    global result\n",
        "    if cnt > n:\n",
        "        result += 1\n",
        "    else:\n",
        "        for i in range(1, n + 1):\n",
        "            s[cnt] = i\n",
        "            if check_queen(cnt):\n",
        "                dfs(cnt + 1)\n",
        "dfs(1)\n",
        "print(result)"
      ],
      "execution_count": null,
      "outputs": []
    },
    {
      "cell_type": "markdown",
      "metadata": {
        "id": "DMXDTtZvorbi"
      },
      "source": [
        "# 14888번 문제"
      ]
    },
    {
      "cell_type": "code",
      "metadata": {
        "id": "I0KdVEICouOo"
      },
      "source": [
        "def dfs(cnt, result, p, m, mul, div):\n",
        "    global max_result\n",
        "    global min_result\n",
        "    if cnt == n:\n",
        "        max_result = max(max_result, result)\n",
        "        min_result = min(min_result, result)\n",
        "        return\n",
        "    if p:\n",
        "        dfs(cnt + 1, result + s[cnt], p - 1, m, mul, div)\n",
        "    if m:\n",
        "        dfs(cnt + 1, result - s[cnt], p, m - 1, mul, div)\n",
        "    if mul:\n",
        "        dfs(cnt + 1, result * s[cnt], p, m, mul - 1, div)\n",
        "    if div:\n",
        "        dfs(cnt + 1, -(-result // s[cnt]) if result < 0 else result // s[cnt], p, m, mul, div - 1)\n",
        "n = int(input())\n",
        "s = list(map(int, input().split()))\n",
        "op = list(map(int, input().split()))\n",
        "max_result = -1000000001\n",
        "min_result = 1000000001\n",
        "dfs(1, s[0], op[0], op[1], op[2], op[3])\n",
        "print(max_result)\n",
        "print(min_result)"
      ],
      "execution_count": null,
      "outputs": []
    },
    {
      "cell_type": "markdown",
      "metadata": {
        "id": "xeN6jz6HyxHD"
      },
      "source": [
        "# 14889번 문제"
      ]
    },
    {
      "cell_type": "code",
      "metadata": {
        "id": "LITbj1nvy1i5"
      },
      "source": [
        "from itertools import combinations #조합 함수\n",
        "\n",
        "N = int(input())\n",
        "S = [list(map(int, input().split())) for _ in range(N)]\n",
        "members = [i for i in range(N)]\n",
        "possible_team = []\n",
        "\n",
        "#조합으로 가능한 팀 생성해주기\n",
        "for team in list(combinations(members, N//2)):\n",
        "    possible_team.append(team)\n",
        "\n",
        "min_stat_gap = 10000 #갭이 가장 작은 값을 찾기 위하여\n",
        "for i in range(len(possible_team)//2):\n",
        "    #A 팀\n",
        "    team = possible_team[i]\n",
        "    stat_A = 0 #A팀 능력치\n",
        "    for j in range(N//2):\n",
        "        member = team[j] #멤버\n",
        "        for k in team:\n",
        "            stat_A += S[member][k] #멤버와 함께할 경우의 능력치들\n",
        "            \n",
        "    #A를 제외한 나머지 팀\n",
        "    team = possible_team[-i-1]\n",
        "    stat_B = 0\n",
        "    for j in range(N//2):\n",
        "        member = team[j]\n",
        "        for k in team:\n",
        "            stat_B += S[member][k]\n",
        "            \n",
        "    min_stat_gap = min(min_stat_gap, abs(stat_A - stat_B))\n",
        "    \n",
        "print(min_stat_gap)"
      ],
      "execution_count": null,
      "outputs": []
    },
    {
      "cell_type": "markdown",
      "metadata": {
        "id": "ktdRWHQm8EHA"
      },
      "source": [
        "# 1436번 문제"
      ]
    },
    {
      "cell_type": "code",
      "metadata": {
        "id": "8F-McKSu8F9e"
      },
      "source": [
        "n = int(input())\n",
        "cnt = 0\n",
        "six = 666\n",
        "while True:\n",
        "    if '666' in str(six):\n",
        "        cnt += 1\n",
        "    if cnt == n:\n",
        "        print(six)\n",
        "        break\n",
        "    six += 1"
      ],
      "execution_count": null,
      "outputs": []
    },
    {
      "cell_type": "markdown",
      "metadata": {
        "id": "Lbi0Pani98l-"
      },
      "source": [
        "# 1182번 문제"
      ]
    },
    {
      "cell_type": "code",
      "metadata": {
        "id": "0o0o1iHE9-uv"
      },
      "source": [
        "def dfs(idx, sum):\n",
        "    global cnt\n",
        "    if idx >= n:\n",
        "        return\n",
        "    sum += num[idx]\n",
        "    if sum == s:\n",
        "        cnt += 1\n",
        "    dfs(idx + 1, sum - num[idx])\n",
        "    dfs(idx + 1, sum)\n",
        "    \n",
        "n, s = map(int, input().split())\n",
        "num = list(map(int, input().split()))\n",
        "cnt = 0\n",
        "dfs(0, 0)\n",
        "print(cnt)"
      ],
      "execution_count": null,
      "outputs": []
    },
    {
      "cell_type": "markdown",
      "metadata": {
        "id": "I-ffJtT8iJu4"
      },
      "source": [
        "# 14500번 문제"
      ]
    },
    {
      "cell_type": "code",
      "metadata": {
        "id": "Qp4ZGjFKEzIU"
      },
      "source": [
        "dx = [1, -1, 0, 0]\n",
        "dy = [0, 0, -1, 1]\n",
        "mfinger = [[[0, 1], [0, 2], [-1, 1]], [[0, 1], [0, 2], [1, 1]], \n",
        "[[1, 0], [2, 0], [1, 1]], [[1, 0], [1, -1], [2, 0]]]\n",
        "n, m = map(int, input().split())\n",
        "s = []\n",
        "visit = [[0] * m for i in range(n)]\n",
        "result = 0\n",
        "def dfs(x, y, cnt, num):\n",
        "    global result\n",
        "    if cnt == 4:\n",
        "        result = max(result, num)\n",
        "        return\n",
        "    for i in range(4):\n",
        "        nx = x + dx[i]\n",
        "        ny = y + dy[i]\n",
        "        if 0 <= nx < n and 0 <= ny < m and visit[nx][ny] == 0:\n",
        "            visit[nx][ny] = 1\n",
        "            dfs(nx, ny, cnt + 1, num + s[nx][ny])\n",
        "            visit[nx][ny] = 0\n",
        "def middlefinger(x, y):\n",
        "    global result\n",
        "    for i in mfinger:\n",
        "        try:\n",
        "            num = s[x][y] + s[x + i[0][0]][y + i[0][1]] + s[x + i[1][0]][y + i[1][1]] + s[x + i[2][0]][y + i[2][1]]\n",
        "        except:\n",
        "            num = 0\n",
        "        result = max(result, num)\n",
        "for i in range(n):\n",
        "    s.append(list(map(int, input().split())))\n",
        "result = 0\n",
        "for i in range(n):\n",
        "    for j in range(m):\n",
        "        visit[i][j] = 1\n",
        "        dfs(i, j, 1, s[i][j])\n",
        "        visit[i][j] = 0\n",
        "        middlefinger(i, j)\n",
        "print(result)"
      ],
      "execution_count": null,
      "outputs": []
    },
    {
      "cell_type": "markdown",
      "metadata": {
        "id": "oohIFCM5mLaA"
      },
      "source": [
        "# 10819번 문제"
      ]
    },
    {
      "cell_type": "code",
      "metadata": {
        "id": "f0ccYJHcmNiN"
      },
      "source": [
        "from itertools import permutations\n",
        "\n",
        "n=int(input())\n",
        "num=list(map(int, input().split()))\n",
        "\n",
        "def summ(exp):\n",
        "  cnt=0\n",
        "  for i in range(len(exp)-1):\n",
        "    cnt+=abs(exp[i]-exp[(i+1)])\n",
        "  \n",
        "  return cnt\n",
        "\n",
        "num1=list(permutations(num, n))\n",
        "\n",
        "result=[]\n",
        "for i in num1:\n",
        "  result.append(summ(i))\n",
        "\n",
        "print(max(result))"
      ],
      "execution_count": null,
      "outputs": []
    },
    {
      "cell_type": "markdown",
      "metadata": {
        "id": "3qMSq0nxw7XP"
      },
      "source": [
        "# 15686번 문제"
      ]
    },
    {
      "cell_type": "code",
      "metadata": {
        "id": "nvyAnoRXw-NI"
      },
      "source": [
        "from itertools import combinations\n",
        "\n",
        "n, m = map(int, input().split())\n",
        "\n",
        "board = [list(map(int, input().split())) for _ in range(n)]\n",
        "\n",
        "chicken = []\n",
        "homes = []\n",
        "\n",
        "for i in range(n):\n",
        "    for j in range(n):\n",
        "        if board[i][j] == 2: chicken.append([i,j])\n",
        "        if board[i][j] == 1: homes.append([i,j])\n",
        "\n",
        "min_val = float('inf')\n",
        "\n",
        "for ch in combinations(chicken, m):\n",
        "    sum_val = 0\n",
        "    for home in homes:\n",
        "\n",
        "        sum_val += min([abs(home[0]-i[0])+abs(home[1]-i[1]) for i in ch])\n",
        "        if min_val <= sum_val: break\n",
        "        \n",
        "    if sum_val < min_val: min_val = sum_val\n",
        "\n",
        "print(min_val)"
      ],
      "execution_count": null,
      "outputs": []
    },
    {
      "cell_type": "markdown",
      "metadata": {
        "id": "Mt-VttKkIgtc"
      },
      "source": [
        "# 2589번 문제"
      ]
    },
    {
      "cell_type": "code",
      "metadata": {
        "id": "N5UfUTbnIirs"
      },
      "source": [
        "from collections import deque\n",
        "\n",
        "dx = [1, -1, 0, 0]\n",
        "dy = [0, 0, -1, 1]\n",
        "def bfs(i, j):\n",
        "    q = deque()\n",
        "    q.append([i, j])\n",
        "    max_n = 0\n",
        "    while q:\n",
        "        a, b = q.popleft()\n",
        "        for k in range(4):\n",
        "            x = a + dx[k]\n",
        "            y = b + dy[k]\n",
        "            if 0 <= x < n and 0 <= y < m and visit[x][y] == 0 and s[x][y] != \"W\":\n",
        "                visit[x][y] = 1\n",
        "                s[x][y] = s[a][b] + 1\n",
        "                max_n = max(max_n, s[x][y])\n",
        "                q.append([x, y])\n",
        "    return max_n\n",
        "n, m = map(int, input().split())\n",
        "s = []\n",
        "result = 0\n",
        "for i in range(n):\n",
        "    s.append(list(input().strip()))\n",
        "for i in range(n):\n",
        "    for j in range(m):\n",
        "        if s[i][j] != \"W\":\n",
        "            visit = [[0] * m for _ in range(n)]\n",
        "            s[i][j] = 0\n",
        "            visit[i][j] = 1\n",
        "            result = max(result, bfs(i, j))\n",
        "print(result)"
      ],
      "execution_count": null,
      "outputs": []
    },
    {
      "cell_type": "code",
      "metadata": {
        "id": "YZh0XQ7tlGml"
      },
      "source": [
        ""
      ],
      "execution_count": null,
      "outputs": []
    },
    {
      "cell_type": "markdown",
      "metadata": {
        "id": "zbLPcqLWS2mH"
      },
      "source": [
        "# 1120번 문제"
      ]
    },
    {
      "cell_type": "code",
      "metadata": {
        "id": "9HDxSHqSS4v-"
      },
      "source": [
        "def check(str1, str2):\n",
        "    # str1이 더 짧다\n",
        "    count = 0\n",
        "    for i in range(len(str1)):\n",
        "        if str1[i] != str2[i]: count +=1\n",
        "    return count\n",
        "\n",
        "\n",
        "a, b = map(str, input().split())\n",
        "diff = len(b) - len(a)\n",
        "val = check(a,b)\n",
        "a_pre = [val]\n",
        "if diff != 0:\n",
        "    for i in range(diff,-1,-1):\n",
        "        a_pre.append(check(b[:i]+a+b[len(a)+i:],b))\n",
        "\n",
        "print(min(a_pre))\n"
      ],
      "execution_count": null,
      "outputs": []
    },
    {
      "cell_type": "markdown",
      "metadata": {
        "id": "tcjkg19vX0gV"
      },
      "source": [
        "# 2529번 문제"
      ]
    },
    {
      "cell_type": "code",
      "metadata": {
        "id": "gVs5PT9LVzLH"
      },
      "source": [
        "#출처 : https://hjp845.tistory.com/128\n",
        "\n",
        "n = int(input())\n",
        "op = input().split()\n",
        "c = [False] * 10\n",
        "mx, mn = \"\", \"\"\n",
        "\n",
        "def check(i, j, k):\n",
        "    if k == '<':\n",
        "        return i < j\n",
        "    if k == '>':\n",
        "        return i > j\n",
        "    return True\n",
        "\n",
        "def solve(cnt, s):\n",
        "    global mx, mn\n",
        "    if cnt == n + 1:\n",
        "        if not len(mn):\n",
        "            mn = s\n",
        "        else:\n",
        "            mx = s\n",
        "        return\n",
        "    for i in range(10):\n",
        "        if not c[i]:\n",
        "            if cnt == 0 or check(s[-1], str(i), op[cnt - 1]):\n",
        "                c[i] = True\n",
        "                solve(cnt + 1, s + str(i))\n",
        "                c[i] = False\n",
        "solve(0, \"\")\n",
        "print(mx)\n",
        "print(mn)"
      ],
      "execution_count": null,
      "outputs": []
    },
    {
      "cell_type": "markdown",
      "metadata": {
        "id": "3j_jrGqcDIgS"
      },
      "source": [
        "# 1107번 문제"
      ]
    },
    {
      "cell_type": "code",
      "metadata": {
        "id": "iI6yo5A4DK3O"
      },
      "source": [
        "def check_100(num):\n",
        "    return abs(num-100)\n",
        "\n",
        "def check_ban(num,ban):\n",
        "    if num<0: return False\n",
        "    temp = list(map(int, str(num)))\n",
        "    for i in temp:\n",
        "        if i in ban: return False\n",
        "    return True\n",
        "\n",
        "t = int(input())\n",
        "n = int(input())\n",
        "ban = list(map(int, input().split()))\n",
        "\n",
        "if n == 10:\n",
        "    print(check_100(t))\n",
        "else:\n",
        "    temp1 = t\n",
        "    temp2 = t\n",
        "    while True:\n",
        "        if check_ban(temp1, ban):\n",
        "            result = temp1\n",
        "            print(result)\n",
        "            break\n",
        "        elif check_ban(temp2, ban):\n",
        "            result = temp2\n",
        "            print(result)\n",
        "            break\n",
        "        else:\n",
        "            temp1 += 1\n",
        "            temp2 -= 1\n",
        "\n",
        "    count = abs(t-result)+len(list(str(t)))\n",
        "    count2 = check_100(t)\n",
        "    if count < count2: print(count)\n",
        "    else: print(count2)"
      ],
      "execution_count": null,
      "outputs": []
    },
    {
      "cell_type": "code",
      "metadata": {
        "id": "-9HMwfJ3FZd9"
      },
      "source": [
        "def check(num):\n",
        "    num = list(str(num))\n",
        "    for i in num:\n",
        "        if i in s: return False\n",
        "    return True\n",
        "n = int(input())\n",
        "m = int(input())\n",
        "s = list(input().strip())\n",
        "result = abs(n - 100)\n",
        "for i in range(1000001):\n",
        "    if check(i): result = min(result, len(str(i)) + abs(i - n))\n",
        "print(result)"
      ],
      "execution_count": null,
      "outputs": []
    },
    {
      "cell_type": "markdown",
      "metadata": {
        "id": "2ectxZkxsAK4"
      },
      "source": [
        "# 10448번 문제"
      ]
    },
    {
      "cell_type": "code",
      "metadata": {
        "id": "FDRzW1WjDkxL"
      },
      "source": [
        "triple = []\n",
        "eureka = [0] * 1001\n",
        "\n",
        "i = 1\n",
        "count = i*(i+1)//2\n",
        "while count < 1000:\n",
        "    triple.append(count)\n",
        "    i+=1\n",
        "    count = i*(i+1)//2\n",
        "\n",
        "\n",
        "for i in triple:\n",
        "    for j in triple:\n",
        "        for k in triple:\n",
        "            if i+j+k <= 1000:\n",
        "                eureka[i+j+k] = 1\n",
        "\n",
        "\n",
        "t = int(input())\n",
        "for _ in range(t):\n",
        "    print(eureka[int(input())])"
      ],
      "execution_count": null,
      "outputs": []
    }
  ]
}