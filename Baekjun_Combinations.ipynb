{
  "nbformat": 4,
  "nbformat_minor": 0,
  "metadata": {
    "colab": {
      "name": "Baekjun_Combinations.ipynb",
      "private_outputs": true,
      "provenance": [],
      "collapsed_sections": [],
      "authorship_tag": "ABX9TyPtHSO+Xq2N/n8ci084q7ex",
      "include_colab_link": true
    },
    "kernelspec": {
      "name": "python3",
      "display_name": "Python 3"
    }
  },
  "cells": [
    {
      "cell_type": "markdown",
      "metadata": {
        "id": "view-in-github",
        "colab_type": "text"
      },
      "source": [
        "<a href=\"https://colab.research.google.com/github/08hskim/myBaekjoon/blob/master/Baekjun_Combinations.ipynb\" target=\"_parent\"><img src=\"https://colab.research.google.com/assets/colab-badge.svg\" alt=\"Open In Colab\"/></a>"
      ]
    },
    {
      "cell_type": "markdown",
      "metadata": {
        "id": "OR7lT21olAlq"
      },
      "source": [
        "# 2775번 문제"
      ]
    },
    {
      "cell_type": "code",
      "metadata": {
        "id": "7t74agszk3hc"
      },
      "source": [
        "t = int(input())\n",
        "\n",
        "for _ in range(t):  \n",
        "    floor = int(input())  # 층\n",
        "    num = int(input())  # 호\n",
        "    f0 = [x for x in range(1, num+1)]  # 0층 리스트\n",
        "    for k in range(floor):  # 층 수 만큼 반복\n",
        "        for i in range(1, num):  # 1 ~ n-1까지 (인덱스로 사용)\n",
        "            f0[i] += f0[i-1]  # 층별 각 호실의 사람 수를 변경\n",
        "    print(f0[-1])  # 가장 마지막 수 출력"
      ],
      "execution_count": null,
      "outputs": []
    },
    {
      "cell_type": "markdown",
      "metadata": {
        "id": "KlWE138Bnz2x"
      },
      "source": [
        "# 1010번 문제"
      ]
    },
    {
      "cell_type": "code",
      "metadata": {
        "id": "yvUxQpRKn2Yg"
      },
      "source": [
        "import math\n",
        "\n",
        "T = int(input())\n",
        "\n",
        "for _ in range(T):\n",
        "    n, m = map(int, input().split())\n",
        "    bridge = math.factorial(m) // (math.factorial(n) * math.factorial(m - n))\n",
        "    print(bridge)"
      ],
      "execution_count": null,
      "outputs": []
    },
    {
      "cell_type": "markdown",
      "metadata": {
        "id": "KlzKnsKfoYx5"
      },
      "source": [
        "# 11050번 문제"
      ]
    },
    {
      "cell_type": "code",
      "metadata": {
        "id": "vGKJyv9robXt"
      },
      "source": [
        "import math\n",
        "n, k = map(int, input().split())\n",
        "\n",
        "print(math.factorial(n)//(math.factorial(k)*math.factorial(n-k)))"
      ],
      "execution_count": null,
      "outputs": []
    },
    {
      "cell_type": "markdown",
      "metadata": {
        "id": "TyJNPnFBuEob"
      },
      "source": [
        "# 1759번 문제"
      ]
    },
    {
      "cell_type": "code",
      "metadata": {
        "id": "daBEefdbuHEl"
      },
      "source": [
        "# BOJ 1759 - 암호 만들기\n",
        "from itertools import combinations\n",
        "\n",
        "vowels = ['a', 'e', 'i', 'o', 'u']\n",
        "L, C = map(int, input().split())\n",
        "pwd = sorted(list(map(str, input().split())))\n",
        "\n",
        "comb = combinations(pwd, L)\n",
        "\n",
        "for c in comb:\n",
        "    count = 0\n",
        "    for letter in c:\n",
        "        if letter in vowels:\n",
        "            count += 1\n",
        "\n",
        "    if (count >= 1) and (count <= L-2):\n",
        "        print(''.join(c))"
      ],
      "execution_count": null,
      "outputs": []
    },
    {
      "cell_type": "markdown",
      "metadata": {
        "id": "96MrGpD12Z75"
      },
      "source": [
        "# 11051번 문제"
      ]
    },
    {
      "cell_type": "code",
      "metadata": {
        "id": "n_F8x2Zf2c43"
      },
      "source": [
        "import math\n",
        "\n",
        "n, m = map(int, input().split())\n",
        "bridge = math.factorial(n) // (math.factorial(m) * math.factorial(n-m))\n",
        "print(bridge%10007)"
      ],
      "execution_count": null,
      "outputs": []
    },
    {
      "cell_type": "markdown",
      "metadata": {
        "id": "AhmBnpsw3ggJ"
      },
      "source": [
        "# 2407번 문제"
      ]
    },
    {
      "cell_type": "code",
      "metadata": {
        "id": "E8JCfyPi3ilF"
      },
      "source": [
        "import math\n",
        "n, m = map(int, input().split())\n",
        "bridge = math.factorial(n) // (math.factorial(m) * math.factorial(n-m))\n",
        "print(bridge)"
      ],
      "execution_count": null,
      "outputs": []
    },
    {
      "cell_type": "markdown",
      "metadata": {
        "id": "7gWCrYb7dxGu"
      },
      "source": [
        "# 16234번 문제"
      ]
    },
    {
      "cell_type": "code",
      "metadata": {
        "id": "PG7gFl_gdzIM"
      },
      "source": [
        "from collections import deque\n",
        "import sys\n",
        "input = sys.stdin.readline\n",
        "def bfs(i, j):\n",
        "    q = deque()\n",
        "    q.append([i, j])\n",
        "    temp = []\n",
        "    temp.append([i, j])\n",
        "    while q:\n",
        "        x, y = q.popleft()\n",
        "        for i in range(4):\n",
        "            nx = x + dx[i]\n",
        "            ny = y + dy[i]\n",
        "            if 0 <= nx < n and 0 <= ny < n and visit[nx][ny] == 0:\n",
        "                if l <= abs(s[nx][ny] - s[x][y]) <= r:\n",
        "                    visit[nx][ny] = 1\n",
        "                    q.append([nx, ny])\n",
        "                    temp.append([nx, ny])\n",
        "    return temp\n",
        "dx = [1, -1, 0, 0]\n",
        "dy = [0, 0, -1, 1]\n",
        "n, l, r = map(int, input().split())\n",
        "s = []\n",
        "for i in range(n):\n",
        "    s.append(list(map(int, input().split())))\n",
        "cnt = 0\n",
        "while True:\n",
        "    visit = [[0] * n for i in range(n)]\n",
        "    isTrue = False\n",
        "    for i in range(n):\n",
        "        for j in range(n):\n",
        "            if visit[i][j] == 0:\n",
        "                visit[i][j] = 1\n",
        "                temp = bfs(i, j)\n",
        "                if len(temp) > 1:\n",
        "                    isTrue = True\n",
        "                    num = sum([s[x][y] for x, y in temp]) // len(temp)\n",
        "                    for x, y in temp:\n",
        "                        s[x][y] = num\n",
        "    if not isTrue:\n",
        "        break\n",
        "    cnt += 1\n",
        "print(cnt)"
      ],
      "execution_count": null,
      "outputs": []
    },
    {
      "cell_type": "markdown",
      "metadata": {
        "id": "tlCXToP19m8p"
      },
      "source": [
        "# 2636번 문제"
      ]
    },
    {
      "cell_type": "code",
      "metadata": {
        "id": "8Ui05fdG9ox2"
      },
      "source": [
        "import sys\n",
        "from collections import deque\n",
        "\n",
        "# 위 - 오 - 아래 - 왼 순서\n",
        "dr = [1, 0, -1, 0]\n",
        "dc = [0, 1, 0, -1]\n",
        "\n",
        "H, W = map(int, sys.stdin.readline().split(\" \"))\n",
        "field = []\n",
        "\n",
        "for _ in range(H):\n",
        "    field.append(list(map(int, sys.stdin.readline().split(\" \"))))\n",
        "\n",
        "left = 0\n",
        "for i in range(H):\n",
        "    for j in range(W):\n",
        "        if field[i][j] == 1:\n",
        "            left += 1\n",
        "\n",
        "def bfs(left):\n",
        "    while queue:\n",
        "        now = queue.popleft()\n",
        "\n",
        "        for i in range(4):\n",
        "            ndr = now[0] + dr[i]\n",
        "            ndc = now[1] + dc[i]\n",
        "\n",
        "            if 0 <= ndr < H and 0 <= ndc < W and visited[ndr][ndc] == 0:\n",
        "                visited[ndr][ndc] = 1\n",
        "\n",
        "                # 치즈 가장자리를 만나면\n",
        "                if field[ndr][ndc] == 1:\n",
        "                    field[ndr][ndc] = 2\n",
        "                    left -= 1\n",
        "                else:\n",
        "                    queue.append([ndr, ndc])\n",
        "\n",
        "    return left\n",
        "\n",
        "\n",
        "def delete():\n",
        "    for i in range(H):\n",
        "        for j in range(W):\n",
        "            if field[i][j] == 2:\n",
        "                field[i][j] = 0\n",
        "\n",
        "queue = deque()\n",
        "\n",
        "count = 0\n",
        "temp = left\n",
        "while left != 0:\n",
        "    visited = [[0]*W for _ in range(H)]\n",
        "    queue.append([0, 0])\n",
        "    visited[0][0] = 1\n",
        "    left = bfs(left)\n",
        "\n",
        "    if left != 0:\n",
        "        temp = left\n",
        "\n",
        "    count += 1\n",
        "    delete()\n",
        "\n",
        "print(count)\n",
        "print(temp)"
      ],
      "execution_count": null,
      "outputs": []
    },
    {
      "cell_type": "markdown",
      "metadata": {
        "id": "Vn0LlLMXYd-U"
      },
      "source": [
        "# 1328번 문제"
      ]
    },
    {
      "cell_type": "code",
      "metadata": {
        "id": "5sCVrzCeYf1X"
      },
      "source": [
        "N, L, R = map(int, input().split())\n",
        "dp = [[[0 for _ in range(R + 1)]for __ in range(L + 1)]\n",
        "      for ___ in range(N + 1)]\n",
        "dp[1][1][1] = 1\n",
        "for i in range(2, N + 1):\n",
        "    for j in range(1, L + 1):\n",
        "        for k in range(1, R + 1):\n",
        "            dp[i][j][k] = (dp[i-1][j][k]*(i-2) % 1000000007\n",
        "                           + dp[i-1][j][k-1] % 1000000007\n",
        "                           + dp[i-1][j-1][k] % 1000000007)\n",
        "print(dp[N][L][R] % 1000000007)\n",
        " "
      ],
      "execution_count": null,
      "outputs": []
    },
    {
      "cell_type": "markdown",
      "metadata": {
        "id": "mtxSCLxkcz1t"
      },
      "source": [
        "# 10422번 문제"
      ]
    },
    {
      "cell_type": "code",
      "metadata": {
        "id": "WLbkod2-cyyd"
      },
      "source": [
        "t = int(input())\n",
        "lst = []\n",
        "for _ in range(t):\n",
        "    lst.append(int(input()))\n",
        "\n",
        "dp = [0] * 5001\n",
        "dp[0] = 1\n",
        "for i in range(2, 5001, 2):\n",
        "    for j in range(2, i + 1, 2):\n",
        "        dp[i] += (dp[j - 2] * dp[i - j]) % 1000000007\n",
        "\n",
        "for i in lst:\n",
        "    print(dp[i] % 1000000007)"
      ],
      "execution_count": null,
      "outputs": []
    },
    {
      "cell_type": "markdown",
      "metadata": {
        "id": "z6ssfev-jDXA"
      },
      "source": [
        "# 1342번 문제"
      ]
    },
    {
      "cell_type": "code",
      "metadata": {
        "id": "G3gukYccjGGA"
      },
      "source": [
        "def factorial(n):\n",
        "    if n <= 1: return 1\n",
        "    result = 1\n",
        "    for i in range(2, n+1): result *= i\n",
        "    return result\n",
        "\n",
        "s = input()\n",
        "alp = {}\n",
        "\n",
        "for i in s:\n",
        "    if i in alp: alp[i] += 1\n",
        "    else: alp[i] = 1\n",
        "\n",
        "alp_num = list(alp.values())\n",
        "\n",
        "if len(s)-max(alp_num) < max(alp_num)-1: print(0)\n",
        "else:\n",
        "    alp_num.remove(max(alp_num))\n",
        "    alp_sum = factorial(sum(alp_num))\n",
        "\n",
        "    result = 1\n",
        "    for j in alp_num: result *= factorial(j)\n",
        "    print(int(alp_sum/result))\n",
        "\n"
      ],
      "execution_count": null,
      "outputs": []
    },
    {
      "cell_type": "code",
      "metadata": {
        "id": "MT_C4tqWw2HP"
      },
      "source": [
        "S = list(input())\n",
        "alpha = [0 for _ in range(26)]\n",
        "for char in S:\n",
        "    alpha[ord(char)-ord('a')] += 1\n",
        "\n",
        "res = 0\n",
        "\n",
        "\n",
        "def dfs(pre, idx):\n",
        "    global res\n",
        "    if idx == length:\n",
        "        res += 1\n",
        "        return\n",
        "    for i in range(26):\n",
        "        if not alpha[i] or pre == i:\n",
        "            continue\n",
        "        alpha[i] -= 1\n",
        "        dfs(i, idx+1)\n",
        "        alpha[i] += 1\n",
        "\n",
        "\n",
        "many = len(set(S))\n",
        "length = len(S)\n",
        "if many == 10:\n",
        "    print(3628800)\n",
        "elif many == 9 and length == 10:\n",
        "    print(1451520)\n",
        "elif many == 9 and length == 9:\n",
        "    print(362880)\n",
        "else:\n",
        "    dfs(-1, 0)\n",
        "    print(res)"
      ],
      "execution_count": null,
      "outputs": []
    },
    {
      "cell_type": "markdown",
      "metadata": {
        "id": "ZLWaQzfR0ekX"
      },
      "source": [
        "# 1947번 문제"
      ]
    },
    {
      "cell_type": "code",
      "metadata": {
        "id": "6GgUM_8C0hPV"
      },
      "source": [
        "mod = 10**9\n",
        "dp = [0]*1000002\n",
        "dp[1] = 0\n",
        "dp[2] = 1\n",
        "\n",
        "n  = int(input())\n",
        "\n",
        "for i in range(3, n+1):\n",
        "    dp[i] = (i-1)*(dp[i-1] + dp[i-2])%mod\n",
        "\n",
        "print(dp[n])"
      ],
      "execution_count": null,
      "outputs": []
    },
    {
      "cell_type": "markdown",
      "metadata": {
        "id": "rYeYfyv1-Hdg"
      },
      "source": [
        "# 1670번 문제"
      ]
    },
    {
      "cell_type": "code",
      "metadata": {
        "id": "zBMp8tmm-Jg-"
      },
      "source": [
        "n = int(input(\"\"))\n",
        "\n",
        "dp = [0] * 10001\n",
        "dp[0] = 1\n",
        "dp[2] = 1\n",
        "dp[4] = 2\n",
        "i = 6\n",
        "while(i <= n):\n",
        "    total = 0\n",
        "    for j in range(i//4): # n이 4의 배수던 아니던 공통이다\n",
        "        j = j*2\n",
        "        total = total + dp[j]*dp[i-j-2]*2\n",
        "\n",
        "    if(i%4 == 2): # n이 4의 배수가 아닐때만 아래경우를 더해주어야한다\n",
        "        total = total + dp[(i-2)//2]*dp[(i-2)//2]\n",
        "    dp[i] = total%987654321\n",
        "    i = i+2\n",
        "\n",
        "print(dp[n])"
      ],
      "execution_count": null,
      "outputs": []
    },
    {
      "cell_type": "markdown",
      "metadata": {
        "id": "2N9S7xkTLddl"
      },
      "source": [
        "# 11402번 문제"
      ]
    },
    {
      "cell_type": "code",
      "metadata": {
        "id": "5ir5GwVRLf5O"
      },
      "source": [
        "n, k, m = map(int, input().split())\n",
        "\n",
        "result = 1\n",
        "while n or k:\n",
        "    temp_n = n % m\n",
        "    temp_k = k % m\n",
        "    if temp_n < temp_k:\n",
        "        print(0)\n",
        "        exit()\n",
        "        \n",
        "    if temp_n - temp_k < temp_k:\n",
        "        temp_k = temp_n - temp_k\n",
        "\n",
        "    for i in range(1, temp_k + 1):\n",
        "        result *= temp_n\n",
        "        temp_n -= 1\n",
        "        result //= i\n",
        "    n = int(n // m)\n",
        "    k = int(k // m)\n",
        "    result %= m\n",
        "print(result)"
      ],
      "execution_count": null,
      "outputs": []
    },
    {
      "cell_type": "code",
      "metadata": {
        "id": "nhXfVqDyQt8w"
      },
      "source": [
        "n, k, m = map(int, input().split())\n",
        "\n",
        "def pow(n, k, m):\n",
        "    if k == 1:\n",
        "        return n\n",
        "    pow_half = pow(n, k//2, m)\n",
        "    if k % 2 == 0:\n",
        "        return (pow_half ** 2) % m\n",
        "    else:\n",
        "        return (pow_half ** 2 * n) % m\n",
        "\n",
        "factorial = [1] * (m+1)\n",
        "for idx in range(2, m+1):\n",
        "    factorial[idx] = (factorial[idx-1] * idx) % m\n",
        "\n",
        "def inverse(n):\n",
        "    return pow(factorial[n], m-2, m)\n",
        "\n",
        "mult = 1\n",
        "while n != 0 or k != 0:\n",
        "    n_digit = n % m\n",
        "    n //= m\n",
        "    k_digit = k % m\n",
        "    k //= m\n",
        "\n",
        "    if n_digit < k_digit:\n",
        "        mult = 0\n",
        "        break\n",
        "    else:\n",
        "        mult *= factorial[n_digit] * inverse(n_digit - k_digit) * inverse(k_digit)\n",
        "        mult %= m\n",
        "\n",
        "print(mult)"
      ],
      "execution_count": null,
      "outputs": []
    },
    {
      "cell_type": "markdown",
      "metadata": {
        "id": "VzOIUEOzfDW-"
      },
      "source": [
        "# 3671번 문제"
      ]
    },
    {
      "cell_type": "code",
      "metadata": {
        "id": "iJRgwtgefGER"
      },
      "source": [
        "from itertools import permutations\n",
        "\n",
        "t = int(input())\n",
        "\n",
        "for _ in range(t):\n",
        "    a = list(input())\n",
        "    "
      ],
      "execution_count": null,
      "outputs": []
    },
    {
      "cell_type": "code",
      "metadata": {
        "id": "TfXE7dCMfa2k"
      },
      "source": [
        "from itertools import permutations\n",
        "from sympy import isprime\n",
        "\n",
        "def check_prime(n):\n",
        "    if n == 2 or n == 3: return True\n",
        "    elif n <= 1: return False\n",
        "\n",
        "    for i in range(2, int(n**0.5)+1):\n",
        "        if n%i == 0: return False\n",
        "    return True\n",
        "\n",
        "\n",
        "t = int(input())\n",
        "\n",
        "for _ in range(t):\n",
        "    a = list(input())\n",
        "    \n",
        "    count = 0\n",
        "    prime = []\n",
        "    for k in range(1, len(a)+1):\n",
        "        b = list(permutations(a,k))\n",
        "\n",
        "        for i in range(len(b)):\n",
        "            m = 0\n",
        "            for j in range(len(b[i])-1, -1,-1):\n",
        "                m += int(b[i][j])*(10**(j))\n",
        "            prime.append(m)\n",
        "        \n",
        "    prime = list(set(prime))\n",
        "    for i in prime:\n",
        "        if check_prime(i): count += 1\n",
        "    print(count)"
      ],
      "execution_count": null,
      "outputs": []
    },
    {
      "cell_type": "markdown",
      "metadata": {
        "id": "EGpA9jCdle43"
      },
      "source": [
        "# 16943번 문제"
      ]
    },
    {
      "cell_type": "code",
      "metadata": {
        "id": "apUSTj_Akhb9"
      },
      "source": [
        "import sys\n",
        "from itertools import permutations\n",
        "# input = sys.stdin.readline\n",
        "\n",
        "a, b = input().split()\n",
        "b = int(b)\n",
        "lst = list(map(''.join, list(permutations(a))))\n",
        "\n",
        "c = -1\n",
        "\n",
        "for num in lst:\n",
        "    first = num[0]\n",
        "    num = int(num)\n",
        "    if b >= num and first != '0':\n",
        "        c = max(c, num)\n",
        "print(c)"
      ],
      "execution_count": null,
      "outputs": []
    },
    {
      "cell_type": "markdown",
      "metadata": {
        "id": "S3k7gsmR4ovd"
      },
      "source": [
        "# 6443번 문제"
      ]
    },
    {
      "cell_type": "code",
      "metadata": {
        "id": "a5VALVyB4rIR"
      },
      "source": [
        "def permutation(l):\n",
        "    n = len(l)\n",
        "    k = -1\n",
        "    for i in range(n-1, 0, -1): \n",
        "        if l[i-1] < l[i]:\n",
        "            k = i-1\n",
        "            break\n",
        "    if k == -1:\n",
        "        return -1\n",
        "    else:\n",
        "        for j in range(n-1, k, -1):\n",
        "            if l[k] < l[j]:\n",
        "                l[k], l[j] = l[j], l[k]\n",
        "                break\n",
        "        res = l[:k+1] + sorted(l[k+1:])\n",
        "        return res\n",
        "\n",
        "for _ in range(int(input())):\n",
        "    w = sorted(input())\n",
        "    print(*w, sep='')\n",
        "    while True:\n",
        "        p = permutation(w)\n",
        "        if p == -1:\n",
        "            break\n",
        "        print(*p, sep='')\n",
        "        w = p"
      ],
      "execution_count": null,
      "outputs": []
    },
    {
      "cell_type": "code",
      "metadata": {
        "id": "7ArbejWxBhwi"
      },
      "source": [
        "def anagram(arr, start, end):\n",
        "  \n",
        "  if start == end-1:\n",
        "    print(''.join(arr))\n",
        "    return\n",
        "  for i in range(start,end):\n",
        "      if start != i and arr[i] == arr[start]:\n",
        "        continue\n",
        "      if arr[i] != arr[start]:\n",
        "        arr = arr.copy()\n",
        "        temp = arr[i]\n",
        "        arr[i] = arr[start]\n",
        "        arr[start] = temp\n",
        "      anagram(arr, start + 1 , end)\n",
        "      \n",
        "\n",
        "n = int(input())\n",
        "\n",
        "for _ in range(n):                                          \n",
        "  word = list(input())\n",
        "  word.sort()\n",
        "  anagram(word, 0,len(word))"
      ],
      "execution_count": null,
      "outputs": []
    }
  ]
}