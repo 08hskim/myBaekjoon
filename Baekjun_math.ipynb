{
  "nbformat": 4,
  "nbformat_minor": 0,
  "metadata": {
    "colab": {
      "name": "Baekjun_math.ipynb",
      "private_outputs": true,
      "provenance": [],
      "collapsed_sections": [
        "jkctHCOQruUO"
      ],
      "authorship_tag": "ABX9TyNjejZJLkr9SMlH/YXuH8iO",
      "include_colab_link": true
    },
    "kernelspec": {
      "name": "python3",
      "display_name": "Python 3"
    }
  },
  "cells": [
    {
      "cell_type": "markdown",
      "metadata": {
        "id": "view-in-github",
        "colab_type": "text"
      },
      "source": [
        "<a href=\"https://colab.research.google.com/github/08hskim/myBaekjoon/blob/master/Baekjun_math.ipynb\" target=\"_parent\"><img src=\"https://colab.research.google.com/assets/colab-badge.svg\" alt=\"Open In Colab\"/></a>"
      ]
    },
    {
      "cell_type": "code",
      "metadata": {
        "id": "icNSUPdql7kM"
      },
      "source": [
        "from google.colab import drive\n",
        "drive.mount('/content/drive')"
      ],
      "execution_count": null,
      "outputs": []
    },
    {
      "cell_type": "code",
      "metadata": {
        "id": "wLTiP8XAl89w"
      },
      "source": [
        "cd \"/content/drive/MyDrive/Colab Notebooks\""
      ],
      "execution_count": null,
      "outputs": []
    },
    {
      "cell_type": "code",
      "metadata": {
        "id": "1UDsdUSol81o"
      },
      "source": [
        "!git clone https://github.com/08hskim/myBaekjoon.git"
      ],
      "execution_count": null,
      "outputs": []
    },
    {
      "cell_type": "markdown",
      "metadata": {
        "id": "CyRIaHR-H0RG"
      },
      "source": [
        "# 2609번 문제"
      ]
    },
    {
      "cell_type": "code",
      "metadata": {
        "id": "88VU2w88Hv2f"
      },
      "source": [
        "# gcd와 lcm을 구하는 함수이다.\n",
        "def gcd(n1,n2):\n",
        "    # n1 > n2이다.\n",
        "    if n2 == 0:\n",
        "        return n1\n",
        "    else:\n",
        "        return gcd(n2, n1%n2)\n",
        "\n",
        "def lcm(n1, n2):\n",
        "    # n1이 크다.\n",
        "    GCD = gcd(n1,n2)\n",
        "    return int(n1*n2/GCD)\n",
        "\n",
        "n1, n2 = map(int, input().split())\n",
        "print(gcd(n1,n2))\n",
        "print(lcm(n1,n2))"
      ],
      "execution_count": null,
      "outputs": []
    },
    {
      "cell_type": "markdown",
      "metadata": {
        "id": "tboqNlkbKV_8"
      },
      "source": [
        "# 1712번 문제"
      ]
    },
    {
      "cell_type": "code",
      "metadata": {
        "id": "ewMb-dDaIU2-"
      },
      "source": [
        "A,B,C = map(int, input().split())\n",
        "\n",
        "if B>=C:\n",
        "    print(-1)\n",
        "else:\n",
        "    print(int(A/(C-B))+1)"
      ],
      "execution_count": null,
      "outputs": []
    },
    {
      "cell_type": "markdown",
      "metadata": {
        "id": "ZrHpMAPQPsa-"
      },
      "source": [
        "# 4344번 문제"
      ]
    },
    {
      "cell_type": "code",
      "metadata": {
        "id": "rsse4vYnPu-y"
      },
      "source": [
        "C = int(input())\n",
        "for _ in range(C):\n",
        "    score = list(map(int, input().split()))\n",
        "    mean = int(sum(score[1:])/score[0])\n",
        "    high = [1 if x> mean else 0 for x in score[1:] ]\n",
        "    ratio = 100*sum(high)/len(high)\n",
        "    print('%.3f' % ratio+'%')"
      ],
      "execution_count": null,
      "outputs": []
    },
    {
      "cell_type": "markdown",
      "metadata": {
        "id": "qSoF06VdR76H"
      },
      "source": [
        "# 10039번 문제"
      ]
    },
    {
      "cell_type": "code",
      "metadata": {
        "id": "AXJz70qpR-BQ"
      },
      "source": [
        "score = []\n",
        "for _ in range(5):\n",
        "    score.append(int(input()))\n",
        "\n",
        "score = [40 if x<40 else x for x in score]\n",
        "print(int(sum(score)/len(score)))"
      ],
      "execution_count": null,
      "outputs": []
    },
    {
      "cell_type": "markdown",
      "metadata": {
        "id": "rpbX-MUgbkCL"
      },
      "source": [
        "# 10250번 문제"
      ]
    },
    {
      "cell_type": "code",
      "metadata": {
        "id": "zfhVo5qUS54Q"
      },
      "source": [
        "for _ in range(int(input())):\n",
        "    h, w, n = map(int, input().split())\n",
        "    a=n%h\n",
        "    b=n//h+1\n",
        "    if a==0:\n",
        "        a=h\n",
        "        b-=1\n",
        "    print(a*100+b)"
      ],
      "execution_count": null,
      "outputs": []
    },
    {
      "cell_type": "markdown",
      "metadata": {
        "id": "rmYvJPlZh3ab"
      },
      "source": [
        "# 2869번 문제"
      ]
    },
    {
      "cell_type": "code",
      "metadata": {
        "id": "ArIuY2SfgoFW"
      },
      "source": [
        "A, B, V = map(int, input().split())\n",
        " \n",
        "high = V - A\n",
        "if high % (A-B) == 0:\n",
        "    first = int(high/(A-B))\n",
        "else:\n",
        "    first = int(high/(A-B) + 1)\n",
        "print(first + 1)"
      ],
      "execution_count": null,
      "outputs": []
    },
    {
      "cell_type": "markdown",
      "metadata": {
        "id": "1EqAKH6N-afd"
      },
      "source": [
        "# 6603번 문제"
      ]
    },
    {
      "cell_type": "code",
      "metadata": {
        "id": "lhfudvZ6-wst"
      },
      "source": [
        "from itertools import combinations\n",
        "\n",
        "while True:\n",
        "    s = list(map(int, input().split()))\n",
        "    if s[0] == 0:\n",
        "        break\n",
        "    del s[0]\n",
        "    s = list(combinations(s, 6))\n",
        "    for i in s:\n",
        "        for j in i:\n",
        "            print(j, end=' ')\n",
        "        print()\n",
        "    print()"
      ],
      "execution_count": null,
      "outputs": []
    },
    {
      "cell_type": "markdown",
      "metadata": {
        "id": "toA1LhOtAKyB"
      },
      "source": [
        "# 2455번 문제"
      ]
    },
    {
      "cell_type": "code",
      "metadata": {
        "id": "8jfz0aeKAN4K"
      },
      "source": [
        "train = 0\n",
        "passengers = []\n",
        "for _ in range(4):\n",
        "    off, on = map(int, input().split())\n",
        "    train -= off\n",
        "    train += on\n",
        "    passengers.append(train)\n",
        "\n",
        "print(max(passengers))"
      ],
      "execution_count": null,
      "outputs": []
    },
    {
      "cell_type": "markdown",
      "metadata": {
        "id": "ZJ2lPBNqFkA_"
      },
      "source": [
        "# 13458번 문제"
      ]
    },
    {
      "cell_type": "code",
      "metadata": {
        "id": "mOh6Ig4pFnCO"
      },
      "source": [
        "n = int(input())\n",
        "tests = list(map(int, input().split()))\n",
        "main, sub = map(int, input().split())\n",
        "\n",
        "\n",
        "visor=[]\n",
        "for num in tests:\n",
        "    temp = num-main\n",
        "    supervisor=1\n",
        "    if temp > 0:\n",
        "        if temp%sub != 0:\n",
        "            supervisor+=temp//sub +1\n",
        "        else:\n",
        "            supervisor+=temp//sub\n",
        "    visor.append(supervisor)\n",
        "print(sum(visor))"
      ],
      "execution_count": null,
      "outputs": []
    },
    {
      "cell_type": "markdown",
      "metadata": {
        "id": "seZ2Rg8HQi4a"
      },
      "source": [
        "# 1009번 문제"
      ]
    },
    {
      "cell_type": "code",
      "metadata": {
        "id": "0MHh0odyPmZv"
      },
      "source": [
        "back_num=[[0],[1],[2,4,8,6],[3,9,7,1],[4,6],[5],[6],[7,9,3,1],[8,4,2,6],[9,1]]\n",
        "\n",
        "n=int(input())\n",
        "for _ in range(n):\n",
        "    a, b = map(int, input().split())\n",
        "    a=a%10\n",
        "    if a%10 == 0:\n",
        "        print(10)\n",
        "    else:\n",
        "        c=b%len(back_num[a])-1\n",
        "        print(back_num[a][c])"
      ],
      "execution_count": null,
      "outputs": []
    },
    {
      "cell_type": "markdown",
      "metadata": {
        "id": "V8RwnzqvXKrP"
      },
      "source": [
        "# 1629번 문제"
      ]
    },
    {
      "cell_type": "code",
      "metadata": {
        "id": "Da8F4W1RT54S"
      },
      "source": [
        "def powers(a, b):\n",
        "    if b == 1: # b의 값이 1이면 a % C를 return한다.\n",
        "        return a % C\n",
        "    else:\n",
        "        temp = powers(a, b // 2) # a^(b // 2)를 미리 구한다.\n",
        "        if b % 2 == 0:\n",
        "            return temp * temp % C # b가 짝수인 경우\n",
        "        else:\n",
        "            return temp * temp * a % C # b가 홀수인 경우\n",
        "\n",
        "\n",
        "A, B, C = map(int, input().split())\n",
        "print(powers(A,B))"
      ],
      "execution_count": null,
      "outputs": []
    },
    {
      "cell_type": "markdown",
      "metadata": {
        "id": "FCytGc-EiaI_"
      },
      "source": [
        "# 1075번 문제"
      ]
    },
    {
      "cell_type": "code",
      "metadata": {
        "id": "X1pCCDX4ic1I"
      },
      "source": [
        "N = int(input())\n",
        "M = int(input())\n",
        "\n",
        "N-=N%100\n",
        "for i in range(100):\n",
        "    temp = N\n",
        "    temp+=i\n",
        "    if temp%M==0:\n",
        "        result=i\n",
        "        break\n",
        "\n",
        "if result < 10:\n",
        "    result ='0'+str(result)\n",
        "else:\n",
        "    result = str(result)\n",
        "print(result)"
      ],
      "execution_count": null,
      "outputs": []
    },
    {
      "cell_type": "markdown",
      "metadata": {
        "id": "xIMccXFzxwq6"
      },
      "source": [
        "# 1292번 문제"
      ]
    },
    {
      "cell_type": "code",
      "metadata": {
        "id": "9prydr6VsvsL"
      },
      "source": [
        "number_list = []\n",
        "for i in range(1, 46):\n",
        "    number_list += [i] * i\n",
        "    \n",
        "A, B = map(int, input().split())\n",
        "print(sum(number_list[A-1:B]))"
      ],
      "execution_count": null,
      "outputs": []
    },
    {
      "cell_type": "markdown",
      "metadata": {
        "id": "8pcdMYOGUQtx"
      },
      "source": [
        "# 6588번 문제"
      ]
    },
    {
      "cell_type": "code",
      "metadata": {
        "id": "nIBmwnqFUS8y"
      },
      "source": [
        "from sympy import isprime\n",
        "primes=[x for x in range(10**6+1) if isprime(x)]\n",
        "del primes[0]# 짝수 소수 제거"
      ],
      "execution_count": null,
      "outputs": []
    },
    {
      "cell_type": "code",
      "metadata": {
        "id": "dqk3FioPUrK9"
      },
      "source": [
        "n = int(input())\n",
        "while n != 0:\n",
        "    Prime = primes[:n]\n",
        "    for p1 in Prime:\n",
        "        temp = n-p1\n",
        "        if temp in Prime:\n",
        "            print('{} = {} + {}'.format(n, p1, temp))\n",
        "            break\n",
        "    if p1 == Prime[-1]:\n",
        "        print(\"Goldbach's conjecture is wrong.\")\n",
        "    n = int(input())"
      ],
      "execution_count": null,
      "outputs": []
    },
    {
      "cell_type": "code",
      "metadata": {
        "id": "9pOBKMpXYsFm"
      },
      "source": [
        "def getPrimaryNum_Eratos(N): \n",
        "    nums = [True] * (N + 1) \n",
        "    for i in range(2, len(nums) // 2 + 1): \n",
        "        if nums[i] == True: \n",
        "            for j in range(i+i, N, i): \n",
        "                nums[j] = False \n",
        "    return [[i for i in range(2, N) if nums[i] == True], nums] \n",
        "    \n",
        "primary_nums = getPrimaryNum_Eratos(1000000)[0] \n",
        "primary_bools = getPrimaryNum_Eratos(1000000)[1]\n",
        "\n",
        "while True:\n",
        "    n = int(input())\n",
        "    if n == 0:\n",
        "        break\n",
        "    for i in primary_nums[:n]:\n",
        "        if primary_bools[n-i]==True:\n",
        "            print('{} = {} + {}'.format(n, i, n-i))\n",
        "            break\n",
        "    if i == primary_nums[:n]:\n",
        "        print(\"Goldbach's conjecture is wrong.\")"
      ],
      "execution_count": null,
      "outputs": []
    },
    {
      "cell_type": "code",
      "metadata": {
        "id": "9RUNvLC2itft"
      },
      "source": [
        "def getPrimaryNum_Eratos(N): \n",
        "    nums = [True] * (N + 1) \n",
        "    for i in range(2, len(nums) // 2 + 1): \n",
        "        if nums[i] == True: \n",
        "            for j in range(i+i, N, i): \n",
        "                nums[j] = False \n",
        "    return [[i for i in range(2, N) if nums[i] == True], nums] \n",
        "    \n",
        "primary_nums = getPrimaryNum_Eratos(1000000)[0] \n",
        "primary_bools = getPrimaryNum_Eratos(1000000)[1] \n",
        "\n",
        "while(True): \n",
        "    N = int(input()) \n",
        "    if N == 0: \n",
        "        break \n",
        "    for i in range(N // 2): \n",
        "        if primary_bools[N-primary_nums[i]] == True: \n",
        "            print(\"{} = {} + {}\".format(N, primary_nums[i], N-primary_nums[i])) \n",
        "            break\n",
        "\n"
      ],
      "execution_count": null,
      "outputs": []
    },
    {
      "cell_type": "code",
      "metadata": {
        "id": "ittnaEkqjMQk"
      },
      "source": [
        "import sys\n",
        "input = sys.stdin.readline\n",
        "\n",
        "num_list = []\n",
        "\n",
        "while True:\n",
        "    n = int(input().strip())\n",
        "    if n == 0:\n",
        "        break\n",
        "    num_list.append(n)\n",
        "\n",
        "\n",
        "max_num = max(num_list)\n",
        "\n",
        "sosu = [1 for i in range(max_num + 1)]\n",
        "sosu[1] = 0\n",
        "only_sosu = []\n",
        "\n",
        "i = 2\n",
        "while i <= max_num:\n",
        "    if sosu[i] == 1:\n",
        "        only_sosu.append(i)\n",
        "        for j in range(i + i, max_num + 1, i):\n",
        "            sosu[j] = 0\n",
        "    i += 1\n",
        "\n",
        "for x in num_list:\n",
        "    for n1 in only_sosu:\n",
        "        if sosu[x - n1] == 1:\n",
        "            print(\"%d = %d + %d\" %(x, n1, x - n1))\n",
        "            break"
      ],
      "execution_count": null,
      "outputs": []
    },
    {
      "cell_type": "markdown",
      "metadata": {
        "id": "xrU1O_lSuaUQ"
      },
      "source": [
        "# 1016번 문제"
      ]
    },
    {
      "cell_type": "code",
      "metadata": {
        "id": "VvXvsdFhucuI"
      },
      "source": [
        "mini, maxi = map(int, input().split())\n",
        "\n",
        "powers=[False]*(maxi+1)\n",
        "for i in range(2, int(maxi**0.5)+1):\n",
        "    n=1\n",
        "    while n*(i**2)<maxi:\n",
        "        powers[n*(i**2)]=True\n",
        "        n+=1\n",
        "\n",
        "powers.count(False)-1"
      ],
      "execution_count": null,
      "outputs": []
    },
    {
      "cell_type": "code",
      "metadata": {
        "id": "khXQ6uguxYV8"
      },
      "source": [
        "def getPrimaryNum_Eratos(N): \n",
        "    nums = [True] * (N + 1) \n",
        "    for i in range(2, len(nums) // 2 + 1): \n",
        "        if nums[i] == True: \n",
        "            for j in range(i+i, N, i): \n",
        "                nums[j] = False \n",
        "    return [i for i in range(2, N) if nums[i] == True]\n",
        "\n",
        "mini, maxi = map(int, input().split())\n",
        "\n",
        "powers = getPrimaryNum_Eratos(int(maxi**0.5)+1)\n",
        "powers=[x**2 for x in powers]\n",
        "a=[False]*(maxi)\n",
        "for i in range(mini, maxi+1):\n",
        "    for j in powers:\n",
        "        if i%j==0:\n",
        "            a[i]=True\n",
        "print(a.count(False))\n",
        "    "
      ],
      "execution_count": null,
      "outputs": []
    },
    {
      "cell_type": "markdown",
      "metadata": {
        "id": "XO-C7UvrJLl3"
      },
      "source": [
        "# 1748번 문제"
      ]
    },
    {
      "cell_type": "code",
      "metadata": {
        "id": "Za2MZmkbzAVf"
      },
      "source": [
        "n = input()\n",
        "n_len = len(n) - 1\n",
        "c = 0\n",
        "i = 0\n",
        "while i < n_len:\n",
        "    c += 9 * (10 ** i) * (i + 1)\n",
        "    i += 1\n",
        "c += ((int(n) - (10 ** n_len)) + 1) * (n_len + 1)\n",
        "print(c)"
      ],
      "execution_count": null,
      "outputs": []
    },
    {
      "cell_type": "markdown",
      "metadata": {
        "id": "iHr-IxnXK22D"
      },
      "source": [
        "# 15953번 문제"
      ]
    },
    {
      "cell_type": "code",
      "metadata": {
        "id": "uv7OKqLUK5lo"
      },
      "source": [
        "def first(n) : \n",
        "    if n == 1 : return 5000000 \n",
        "    elif n > 1 and n <= 1+2 : return 3000000 \n",
        "    elif n > 1+2 and n <= 1+2+3 : return 2000000 \n",
        "    elif n > 1+2+3 and n <= 1+2+3+4 : return 500000 \n",
        "    elif n > 1+2+3+4 and n <= 1+2+3+4+5 : return 300000 \n",
        "    elif n > 1+2+3+4+5 and n <= 1+2+3+4+5+6 : return 100000 \n",
        "    else : return 0 \n",
        "    \n",
        "def second(n) : \n",
        "    if n == 1 : return 5120000 \n",
        "    elif n > 1 and n <= 1+2 : return 2560000 \n",
        "    elif n > 1+2 and n <= 1+2+4 : return 1280000 \n",
        "    elif n > 1+2+4 and n <= 1+2+4+8 : return 640000 \n",
        "    elif n > 1+2+4+8 and n <= 1+2+4+8+16 : return 320000 \n",
        "    else : return 0\n",
        "\n",
        "T = int(input())\n",
        "for _ in range(T):\n",
        "    a, b = map(int, input().split())\n",
        "    print(first(a)+second(b))\n",
        "0"
      ],
      "execution_count": null,
      "outputs": []
    },
    {
      "cell_type": "markdown",
      "metadata": {
        "id": "INUja4VfZhr3"
      },
      "source": [
        "# 1049번 문제"
      ]
    },
    {
      "cell_type": "code",
      "metadata": {
        "id": "_MhRpIrfZj4u"
      },
      "source": [
        "N, m = map(int, input().split())\n",
        "n=N%6\n",
        "six=[0]*m\n",
        "one=[0]*m\n",
        "\n",
        "for i in range(m):\n",
        "    a, b = map(int, input().split())\n",
        "    six[i]=a\n",
        "    one[i]=b\n",
        "\n",
        "print(min((N//6)*min(six)+n*min(one), (N//6)*min(six)+min(six)))"
      ],
      "execution_count": null,
      "outputs": []
    },
    {
      "cell_type": "markdown",
      "metadata": {
        "id": "6elIE2F4-udd"
      },
      "source": [
        "# 15894번 문제"
      ]
    },
    {
      "cell_type": "code",
      "metadata": {
        "id": "Ksjss1xMAEfF"
      },
      "source": [
        "n = int(input())\n",
        "\n",
        "print(4*n)"
      ],
      "execution_count": null,
      "outputs": []
    },
    {
      "cell_type": "markdown",
      "metadata": {
        "id": "FLBVX-PyBzhR"
      },
      "source": [
        "# 2476번 문제"
      ]
    },
    {
      "cell_type": "code",
      "metadata": {
        "id": "4LtqOWblB23A"
      },
      "source": [
        "case = int(input())\n",
        "answer = 0\n",
        "\n",
        "for _ in range(case):\n",
        "    a, b, c = map(int, input().split())\n",
        "    \n",
        "    if a == b == c:\n",
        "        answer = max(answer, 10000+a*1000)\n",
        "    elif a == b:\n",
        "        answer = max(answer, 1000+a*100)\n",
        "    elif a == c:\n",
        "        answer = max(answer, 1000+a*100)\n",
        "    elif b == c:\n",
        "        answer = max(answer, 1000+b*100)\n",
        "    else:\n",
        "        answer = max(answer, 100 * max(a,b,c))\n",
        "\n",
        "print(answer)"
      ],
      "execution_count": null,
      "outputs": []
    },
    {
      "cell_type": "markdown",
      "metadata": {
        "id": "wnl9iML8EqqK"
      },
      "source": [
        "# 5988번 문제"
      ]
    },
    {
      "cell_type": "code",
      "metadata": {
        "id": "FRMGk_9xEtYy"
      },
      "source": [
        "n = int(input())\n",
        "\n",
        "for _ in range(n):\n",
        "    num = int(input())\n",
        "    if num%2 == 1:\n",
        "        print(\"odd\")\n",
        "    else: \n",
        "        print(\"even\")"
      ],
      "execution_count": null,
      "outputs": []
    },
    {
      "cell_type": "markdown",
      "metadata": {
        "id": "jE7teMwRq4QB"
      },
      "source": [
        "# 2953번 문제"
      ]
    },
    {
      "cell_type": "code",
      "metadata": {
        "id": "2W6gq2BJq6m8"
      },
      "source": [
        "score=[]\n",
        "for _ in range(5):\n",
        "    score.append(sum(list(map(int, input().split()))))\n",
        "\n",
        "print(score.index(max(score))+1, max(score))"
      ],
      "execution_count": null,
      "outputs": []
    },
    {
      "cell_type": "markdown",
      "metadata": {
        "id": "jkctHCOQruUO"
      },
      "source": [
        "# 1086번 문제"
      ]
    },
    {
      "cell_type": "code",
      "metadata": {
        "id": "Nj9H0Yd4rwSx"
      },
      "source": [
        "n = int(input())\n",
        "cute = []\n",
        "\n",
        "for _ in range(n):\n",
        "    cute.append(int(input()))\n",
        "\n",
        "if sum(cute) > n//2:\n",
        "    print('Junhee is cute!')\n",
        "else: print( \"Junhee is not cute!\")"
      ],
      "execution_count": null,
      "outputs": []
    },
    {
      "cell_type": "markdown",
      "metadata": {
        "id": "wjF21Z5Gu6Bq"
      },
      "source": [
        "# 2960번 문제"
      ]
    },
    {
      "cell_type": "code",
      "metadata": {
        "id": "oWBZ4ZP2u8RJ"
      },
      "source": [
        "n, k = map(int, input().split())\n",
        "\n",
        "num = [x for x in range(2, n+1)]\n",
        "\n",
        "count=[]\n",
        "while num != []:\n",
        "    min_num = min(num)\n",
        "    for i in range(len(num)):\n",
        "        if num[i]%min_num == 0:\n",
        "            count.append(num[i])\n",
        "    num = [x for x in num if x%min_num != 0]\n",
        "print(count[k-1])"
      ],
      "execution_count": null,
      "outputs": []
    },
    {
      "cell_type": "markdown",
      "metadata": {
        "id": "i3qD_xY7xCOF"
      },
      "source": [
        "# 1550번 문제"
      ]
    },
    {
      "cell_type": "code",
      "metadata": {
        "id": "AC2mfGFuvmjJ"
      },
      "source": [
        "num = list(input())\n",
        "num = num[::-1]\n",
        "\n",
        "numlist=[str(x) for x in range(10)]\n",
        "alp=['A','B','C','D','E','F']\n",
        "numlist+=alp\n",
        "\n",
        "result=0\n",
        "for i in range(len(num)):\n",
        "    result+=numlist.index(num[i])*(16**i)\n",
        "\n",
        "print(result)"
      ],
      "execution_count": null,
      "outputs": []
    },
    {
      "cell_type": "markdown",
      "metadata": {
        "id": "aruxvdRh5ZVx"
      },
      "source": [
        "# 2875번 문제"
      ]
    },
    {
      "cell_type": "code",
      "metadata": {
        "id": "SERStyeF5cMh"
      },
      "source": [
        "n, m, k = map(int, input().split())\n",
        "\n",
        "team=0\n",
        "\n",
        "while (n+m > k) and (n-2)*(m-1)>=0:\n",
        "    if (n-2)+(m-1) < k:\n",
        "        break\n",
        "    else:\n",
        "        n-=2\n",
        "        m-=1\n",
        "        team+=1\n",
        "\n",
        "print(team)"
      ],
      "execution_count": null,
      "outputs": []
    },
    {
      "cell_type": "markdown",
      "metadata": {
        "id": "jzaM5TM69EqM"
      },
      "source": [
        "# 9613번 문제"
      ]
    },
    {
      "cell_type": "code",
      "metadata": {
        "id": "7T1mQqna9HBy"
      },
      "source": [
        "def gcd(n1,n2):\n",
        "    # n1 > n2이다.\n",
        "    if n2 == 0:\n",
        "        return n1\n",
        "    else:\n",
        "        return gcd(n2, n1%n2)\n",
        "\n",
        "t=int(input())\n",
        "\n",
        "for _ in range(t):\n",
        "    num=list(map(int, input().split()))[1:]\n",
        "    num.sort()\n",
        "    GCD=0\n",
        "    for i in range(len(num)-1):\n",
        "        for j in range(i+1, len(num)):\n",
        "            GCD+=gcd(num[i],num[j])\n",
        "    print(GCD)"
      ],
      "execution_count": null,
      "outputs": []
    },
    {
      "cell_type": "markdown",
      "metadata": {
        "id": "3vxaPbuv-gUg"
      },
      "source": [
        "# 1212번 문제"
      ]
    },
    {
      "cell_type": "code",
      "metadata": {
        "id": "wKkZN-1c-izp"
      },
      "source": [
        "print(bin(int(input(), 8))[2:])"
      ],
      "execution_count": null,
      "outputs": []
    },
    {
      "cell_type": "markdown",
      "metadata": {
        "id": "rJ8r_9uCJfnU"
      },
      "source": [
        "# 2420번 문제"
      ]
    },
    {
      "cell_type": "code",
      "metadata": {
        "id": "5piwShl5Jir4"
      },
      "source": [
        "a, b = map(int, input().split())\n",
        "print(abs(a - b))"
      ],
      "execution_count": null,
      "outputs": []
    },
    {
      "cell_type": "markdown",
      "metadata": {
        "id": "0A3CsXTwK4I2"
      },
      "source": [
        "# 1373번 문제"
      ]
    },
    {
      "cell_type": "code",
      "metadata": {
        "id": "u5NfzNsOKoSP"
      },
      "source": [
        "print(oct(int(input(), 2))[2:])"
      ],
      "execution_count": null,
      "outputs": []
    },
    {
      "cell_type": "markdown",
      "metadata": {
        "id": "90tJOrgANrFO"
      },
      "source": [
        "# 10972번 문제"
      ]
    },
    {
      "cell_type": "code",
      "metadata": {
        "id": "edXWpS14Npst"
      },
      "source": [
        "n = int(input())\n",
        "a = list(map(int, input().split()))\n",
        "\n",
        "def next_permutation(a):\n",
        "    n=len(a)-1\n",
        "    i = n\n",
        "    while i>0 and a[i-1]>=a[i]:\n",
        "        i-=1\n",
        "       \n",
        "    #만약 i가 0이라면 리스트가 완벽한 내림차순이므로 False리턴\n",
        "    if i==0:\n",
        "        return False\n",
        "        \n",
        "    #값을 swap\n",
        "    j = n\n",
        "    while a[i-1]>=a[j]:\n",
        "        j-=1\n",
        "    a[i-1],a[j]=a[j],a[i-1]\n",
        "    \n",
        "    #i이후의 값들을 정렬(=끝에서부터 앞의 수와 차례로 swap)\n",
        "    j=n\n",
        "    while i<j:\n",
        "        a[i],a[j]=a[j],a[i]\n",
        "        i+=1\n",
        "        j-=1\n",
        "    return True\n",
        "\n",
        "if next_permutation(a) is True:\n",
        "    for i in a:\n",
        "        print(i, end=' ')\n",
        "    print()\n",
        "else:\n",
        "    print(-1)"
      ],
      "execution_count": null,
      "outputs": []
    },
    {
      "cell_type": "markdown",
      "metadata": {
        "id": "80bLK0o7gQE0"
      },
      "source": [
        "# 2530번 문제"
      ]
    },
    {
      "cell_type": "code",
      "metadata": {
        "id": "IZDVSN0VgSQp"
      },
      "source": [
        "H, M, S = map(int, input().split())\n",
        "D = int(input()) \n",
        "\n",
        "S += D % 60\n",
        "D = D // 60\n",
        "if S >= 60:\n",
        "    S -= 60\n",
        "    M += 1\n",
        "\n",
        "M += D % 60\n",
        "D = D // 60\n",
        "if M >= 60:\n",
        "    M -= 60\n",
        "    H += 1\n",
        "\n",
        "H += D % 24\n",
        "if H >= 24:\n",
        "    H -= 24\n",
        "\n",
        "print(H,M,S)"
      ],
      "execution_count": null,
      "outputs": []
    },
    {
      "cell_type": "markdown",
      "metadata": {
        "id": "Z-rQt5SVhxBS"
      },
      "source": [
        "# 1735번 문제"
      ]
    },
    {
      "cell_type": "code",
      "metadata": {
        "id": "ht6Aq-1KgqIs"
      },
      "source": [
        "def gcd(n1,n2):\n",
        "    # n1 > n2이다.\n",
        "    if n2 == 0:\n",
        "        return n1\n",
        "    else:\n",
        "        return gcd(n2, n1%n2)\n",
        "\n",
        "nomi=[]# 분자\n",
        "denomi=[]# 분모\n",
        "for _ in range(2):\n",
        "    a,b=map(int, input().split())\n",
        "    nomi.append(a)\n",
        "    denomi.append(b)\n",
        "\n",
        "n1=max(denomi)\n",
        "n2=min(denomi)\n",
        "GCD=gcd(n1,n2)\n",
        "\n",
        "lcm=int(n1*n2/GCD)\n",
        "nominator=nomi[0]*denomi[1]//GCD + nomi[1]*denomi[0]//GCD\n",
        "\n",
        "gcd2=gcd(lcm, nominator)\n",
        "print(nominator//gcd2,lcm//gcd2)"
      ],
      "execution_count": null,
      "outputs": []
    },
    {
      "cell_type": "markdown",
      "metadata": {
        "id": "gZiamSX0lUso"
      },
      "source": [
        "# 2749번 문제"
      ]
    },
    {
      "cell_type": "code",
      "metadata": {
        "id": "RyblP7TKlXK-"
      },
      "source": [
        "# n번째 피보나치 수 구하기\n",
        "# f0=0, f1=1이다.\n",
        "def fibonacci(n):\n",
        "    if n==0: return 0\n",
        "    if n==1: return 1\n",
        "    a1=0\n",
        "    a2=1\n",
        "    for i in range(n-1):\n",
        "        b=a1+a2\n",
        "        a1=a2\n",
        "        a2=b\n",
        "    return b\n",
        "\n",
        "n = int(input())\n",
        "\n",
        "print(fibonacci(n)%(10**6))"
      ],
      "execution_count": null,
      "outputs": []
    },
    {
      "cell_type": "code",
      "metadata": {
        "id": "XcnNl41gnCcV"
      },
      "source": [
        "n = int(input())\n",
        "\n",
        "def fibo3(n):\n",
        "    a, b = 0, 1\n",
        "    for _ in range(n):\n",
        "        a, b = b%1000000, (a+b)%1000000\n",
        "\n",
        "    return a \n",
        "\n",
        "print(fibo3(n%(15*(10**5))))"
      ],
      "execution_count": null,
      "outputs": []
    },
    {
      "cell_type": "markdown",
      "metadata": {
        "id": "Mb6w_E66qvec"
      },
      "source": [
        "# 1644번 문제"
      ]
    },
    {
      "cell_type": "code",
      "metadata": {
        "id": "E5gs5ZTzqxpJ"
      },
      "source": [
        "from sympy import isprime\n",
        "\n",
        "primes=[x for x in range(4000000) if isprime(x)]\n"
      ],
      "execution_count": null,
      "outputs": []
    },
    {
      "cell_type": "code",
      "metadata": {
        "id": "Z7XlUoKMtNoF"
      },
      "source": [
        "n = int(input())\n",
        " \n",
        "num = [True] * (n+1)\n",
        "num[0] = num[1] = False\n",
        "for i in range(2, n + 1):\n",
        "    if num[i]:\n",
        "        t = 2\n",
        "        while i * t <= n:\n",
        "            num[i * t] = 0\n",
        "            t += 1\n",
        " \n",
        "prime = sorted([i for i in range(2, n+1) if num[i]], reverse=True)\n",
        "len_prime = len(prime)\n",
        "ans = 0\n",
        " \n",
        "if len_prime >= 1:\n",
        "    lo, hi, tmp = 0, 1, prime[0]\n",
        "    while lo < len_prime:\n",
        "        if tmp >= n:\n",
        "            if tmp == n:\n",
        "                ans += 1\n",
        "            tmp -= prime[lo]\n",
        "            lo += 1\n",
        "        # tmp < n\n",
        "        elif hi == len_prime:\n",
        "            break\n",
        "        else:\n",
        "            tmp += prime[hi]\n",
        "            hi += 1\n",
        " \n",
        "print(ans)\n"
      ],
      "execution_count": null,
      "outputs": []
    },
    {
      "cell_type": "markdown",
      "metadata": {
        "id": "vSXg5my8NHnq"
      },
      "source": [
        "# 2501번 문제"
      ]
    },
    {
      "cell_type": "code",
      "metadata": {
        "id": "IUHYI3YuN7Gv"
      },
      "source": [
        "n, k = map(int, input().split())\n",
        "if n == 1:\n",
        "    if k > 1: print(0)\n",
        "    else: print(n)\n",
        "else: \n",
        "    num=[]\n",
        "    for i in range(1, 1+n//2):\n",
        "        if n%i == 0:\n",
        "            num.append(i)\n",
        "            num.append(n//i)\n",
        "    num=sorted(list(set(num)))\n",
        "\n",
        "    if len(num) < k:print(0)\n",
        "    else: print(num[k-1])"
      ],
      "execution_count": null,
      "outputs": []
    },
    {
      "cell_type": "markdown",
      "metadata": {
        "id": "aKgbvmS9ResC"
      },
      "source": [
        "# 1049번 문제"
      ]
    },
    {
      "cell_type": "code",
      "metadata": {
        "id": "AXat7vlJRhA8"
      },
      "source": [
        "n, m = map(int, input().split())\n",
        "\n",
        "six, one = [], []\n",
        "\n",
        "for _ in range(m):\n",
        "    a,b=map(int, input().split())\n",
        "    six.append(a)\n",
        "    one.append(b)\n",
        "\n",
        "min_six=min(six)\n",
        "min_one=min(one)\n",
        "\n",
        "price=min((n//6)*min(six), (n//6)*6*min_one)+min(min_six, min_one*(n%6))\n",
        "print(price)"
      ],
      "execution_count": null,
      "outputs": []
    },
    {
      "cell_type": "markdown",
      "metadata": {
        "id": "77Nfo7-TUSQd"
      },
      "source": [
        "# 1016번 문제"
      ]
    },
    {
      "cell_type": "code",
      "metadata": {
        "id": "k-2iU4MPTH9Z"
      },
      "source": [
        "import math\n",
        "Min, Max = map(int, input().split())\n",
        "\n",
        "count=0\n",
        "for i in range(Min, Max+1):\n",
        "    if i - math.sqrt(i)**2 == 0:\n",
        "        pass\n",
        "    else: count+=1\n",
        "print(count)"
      ],
      "execution_count": null,
      "outputs": []
    },
    {
      "cell_type": "code",
      "metadata": {
        "id": "E5yAQyuFU_Np"
      },
      "source": [
        "import math\n",
        "\n",
        "def solution():\n",
        "    MIN, MAX = map(int, input().split(' '))\n",
        "\n",
        "    num = [True] * (MAX - MIN + 1)\n",
        "    count = 0\n",
        "    n = 1\n",
        "\n",
        "    while n * n  <= MAX:\n",
        "        n += 1\n",
        "        square = n**2\n",
        "        i = MIN // square\n",
        "\n",
        "        while square * i <= MAX:\n",
        "            idx = square * i - MIN\n",
        "\n",
        "            if idx >= 0 and num[idx]:\n",
        "                count += 1\n",
        "                num[idx] = False\n",
        "            i += 1\n",
        "    print(len(num) - count)\n",
        "\n",
        "solution()"
      ],
      "execution_count": null,
      "outputs": []
    },
    {
      "cell_type": "markdown",
      "metadata": {
        "id": "kTUxxUYfbVsG"
      },
      "source": [
        "# 11401번 문제"
      ]
    },
    {
      "cell_type": "code",
      "metadata": {
        "id": "-F79WkS8bY-d"
      },
      "source": [
        "from math import factorial\n",
        "\n",
        "n, k = map(int, input().split())\n",
        "\n",
        "num = factorial(n)//(factorial(k)*factorial(n-k))\n",
        "\n",
        "print(num%(10**9+7))"
      ],
      "execution_count": null,
      "outputs": []
    },
    {
      "cell_type": "code",
      "metadata": {
        "id": "9sVcalJQcIfq"
      },
      "source": [
        "MOD = 1_000_000_007\n",
        "\n",
        "def get_factorial(n):\n",
        "    if n == 0 or n == 1: return 1\n",
        "    for i in range(n-1, 1, -1):\n",
        "        n = (n*i)%MOD\n",
        "    return n\n",
        "\n",
        "def fast_pow(x, n):\n",
        "    if n == 0:\n",
        "        return 1\n",
        "    elif n % 2 == 0:\n",
        "        return (fast_pow(x, n//2) ** 2) % MOD\n",
        "    else:\n",
        "        return (fast_pow(x, n//2) ** 2 * x) % MOD\n",
        "\n",
        "N, K = map(int, input().split())\n",
        "A = get_factorial(N)\n",
        "B = fast_pow(get_factorial(K), MOD-2)%MOD\n",
        "C = fast_pow(get_factorial(N-K), MOD-2)%MOD\n",
        "print(A*B*C%MOD)"
      ],
      "execution_count": null,
      "outputs": []
    },
    {
      "cell_type": "code",
      "metadata": {
        "id": "T087QHX5jlST"
      },
      "source": [
        "MOD = 1000000007\n",
        "\n",
        "\n",
        "def power(x, y):\n",
        "    ans = 1\n",
        "    while y > 0:\n",
        "        if y % 2 == 1:\n",
        "            ans = (ans*x) % MOD\n",
        "        x = (x*x) % MOD\n",
        "        y //= 2\n",
        "    return ans\n",
        "\n",
        "\n",
        "def fac(n):\n",
        "    ans = 1\n",
        "    for i in range(2, n+1):\n",
        "        ans = (ans*i) % MOD\n",
        "    return ans\n",
        "\n",
        "\n",
        "n, k = map(int, input().split())\n",
        "if n == k or k == 0:\n",
        "    print(1)\n",
        "    exit(0)\n",
        "a, b, c = fac(n), fac(k), fac(n-k)\n",
        "print((a*power(b*c, MOD-2)) % MOD)"
      ],
      "execution_count": null,
      "outputs": []
    },
    {
      "cell_type": "markdown",
      "metadata": {
        "id": "-6s9JnX0NX8l"
      },
      "source": [
        "# 17406번 문제"
      ]
    },
    {
      "cell_type": "code",
      "metadata": {
        "id": "D9lU9WRANZv7"
      },
      "source": [
        "def swap_matrix(arr):\n",
        "    n = arr.shape[0]\n",
        "    for i in range(n):\n",
        "        \n",
        "import numpy as np\n",
        "\n",
        "n, m, k = map(int, input().split())\n",
        "\n",
        "a = [list(map(int, input().split())) for _ in range(n)]\n",
        "a = np.asarray(a)\n",
        "\n"
      ],
      "execution_count": null,
      "outputs": []
    },
    {
      "cell_type": "code",
      "metadata": {
        "id": "tVhDkt9pORvJ"
      },
      "source": [
        "import sys\n",
        "from collections import deque\n",
        "from itertools import permutations\n",
        "\n",
        "n, m, k = map(int, input().split())\n",
        "arr = [list(map(int,input().split())) for _ in range(n)]\n",
        "op_infos = [list(map(int, input().split())) for _ in range(k)]\n",
        "INF = int(1e9)\n",
        "answer = INF\n",
        "\n",
        "def rotate(y, x, height, width):\n",
        "    global copy_arr\n",
        "    q = deque()\n",
        "\n",
        "    for i in range(x, x+width):\n",
        "        q.append(copy_arr[y][i])\n",
        "    \n",
        "    for i in range(y+1, y+height):\n",
        "        q.append(copy_arr[i][x+width-1])\n",
        "    \n",
        "    for i in range(x+width-2, x, -1):\n",
        "        q.append(copy_arr[y+height-1][i])\n",
        "    \n",
        "    for i in range(y+height-1, y, -1):\n",
        "        q.append(copy_arr[i][x])\n",
        "\n",
        "    q.rotate(1)\n",
        "\n",
        "    for i in range(x, x+width):\n",
        "        copy_arr[y][i] = q.popleft()\n",
        "    \n",
        "    for i in range(y+1, y+height):\n",
        "        copy_arr[i][x+width-1] = q.popleft()\n",
        "    \n",
        "    for i in range(x+width-2, x, -1):\n",
        "        copy_arr[y+height-1][i] = q.popleft()\n",
        "    \n",
        "    for i in range(y+height-1, y, -1):\n",
        "        copy_arr[i][x] = q.popleft()\n",
        "\n",
        "op_orders = tuple(permutations(op_infos))\n",
        "\n",
        "for order in op_orders:\n",
        "    copy_arr = [[arr[i][j] for j in range(m)] for i in range(n)]\n",
        "    for r, c, s in order:\n",
        "        left_top_y = r - s - 1\n",
        "        left_top_x = c - s - 1\n",
        "\n",
        "        height = 2*s + 1\n",
        "        width = 2*s + 1\n",
        "\n",
        "        while True:\n",
        "            if height <= 0 or width <= 0: break\n",
        "            rotate(left_top_y, left_top_x, height, width)\n",
        "            height -= 2\n",
        "            width -= 2\n",
        "            left_top_y += 1\n",
        "            left_top_x += 1\n",
        "\n",
        "    arr_value = INF\n",
        "    for i in range(n):\n",
        "        arr_value = min(arr_value, sum(copy_arr[i]))\n",
        "    answer = min(answer, arr_value)\n",
        "\n",
        "print(answer)"
      ],
      "execution_count": null,
      "outputs": []
    },
    {
      "cell_type": "markdown",
      "metadata": {
        "id": "0kJfJ4kilwN6"
      },
      "source": [
        "# 17472번 문제"
      ]
    },
    {
      "cell_type": "code",
      "metadata": {
        "id": "URqpn-bRlyer"
      },
      "source": [
        "import sys\n",
        "from collections import deque\n",
        "# read = sys.stdin.readline\n",
        "minAns = sys.maxsize\n",
        "#상 하 좌 우\n",
        "drdc = [[-1, 0], [1, 0], [0, -1], [0, 1]]\n",
        "BUILD = True    \n",
        "UNBUILD = False\n",
        "\n",
        "def myprint(arr):\n",
        "    for a in arr:\n",
        "        print(a)\n",
        "    print()\n",
        "\n",
        "def findIsland():\n",
        "    countryNum = 1\n",
        "    for i in range(R*C):\n",
        "        r, c = i // C, i % C\n",
        "        if cell[r][c] == 1 and not visited[r][c]:\n",
        "            #bfs\n",
        "            if not visited[r][c]:\n",
        "                q = deque()\n",
        "                q.append([r, c])\n",
        "                visited[r][c] = countryNum\n",
        "                while q:\n",
        "                    nowR, nowC = q.popleft()\n",
        "                    for i in range(4):\n",
        "                        nextR, nextC = nowR + drdc[i][0], nowC + drdc[i][1]\n",
        "                        if 0 <= nextR < R and 0 <= nextC < C and not visited[nextR][nextC]:\n",
        "                            if cell[nextR][nextC] == 1:\n",
        "                                q.append([nextR, nextC])\n",
        "                                visited[nextR][nextC] = countryNum\n",
        "            countryNum += 1\n",
        "    return countryNum -1\n",
        "\n",
        "#country에서 다른 섬들까지 섬 건설가능 여부 및 다리 길이\n",
        "def buildBridge(country):\n",
        "    bridgeLens = [30 for _ in range(countryNum + 1)]\n",
        "    for i in range(R*C):\n",
        "        nowR, nowC = i // C, i % C\n",
        "        if visited[nowR][nowC] == country:\n",
        "            #좌 탐색\n",
        "            cnt0 = 0\n",
        "            dest = 0\n",
        "            for c in reversed(range(nowC)):\n",
        "                if visited[nowR][c] != country:\n",
        "                    if visited[nowR][c] == 0:\n",
        "                        cnt0 += 1\n",
        "                    else:\n",
        "                        if cnt0 > 1:\n",
        "                            dest = visited[nowR][c]\n",
        "                            bridgeLens[dest] = min(bridgeLens[dest], cnt0)\n",
        "                        break\n",
        "                else:\n",
        "                    cnt0 = 0\n",
        "    \n",
        "            cnt0 = 0\n",
        "            dest = 0\n",
        "            #우 탐색\n",
        "            for c in range(nowC+1, C):\n",
        "                if visited[nowR][c] != country:\n",
        "                    if visited[nowR][c] == 0:\n",
        "                        cnt0 += 1\n",
        "                    else:\n",
        "                        if cnt0 > 1:\n",
        "                            dest = visited[nowR][c]\n",
        "                            bridgeLens[dest] = min(bridgeLens[dest], cnt0)\n",
        "                        break\n",
        "                else:\n",
        "                    cnt0 = 0\n",
        "    \n",
        "            \n",
        "            #상 탐색\n",
        "            cnt0 = 0\n",
        "            dest = 0\n",
        "            for r in reversed(range(nowR)):\n",
        "                if visited[r][nowC] != country:\n",
        "                    if visited[r][nowC] == 0:\n",
        "                        cnt0 += 1\n",
        "                    else:\n",
        "                        if cnt0 > 1:\n",
        "                            dest = visited[r][nowC]\n",
        "                            bridgeLens[dest] = min(bridgeLens[dest], cnt0)\n",
        "                        break\n",
        "                else:\n",
        "                    cnt0 = 0\n",
        "    \n",
        "            cnt0 = 0\n",
        "            dest = 0\n",
        "            #하 탐색\n",
        "            for r in range(nowR+1, R):\n",
        "                if visited[r][nowC] != country:\n",
        "                    if visited[r][nowC] == 0:\n",
        "                        cnt0 += 1\n",
        "                    else:\n",
        "                        if cnt0 > 1:\n",
        "                            dest = visited[r][nowC]\n",
        "                            bridgeLens[dest] = min(bridgeLens[dest], cnt0)\n",
        "                        break\n",
        "                else:\n",
        "                    cnt0 = 0\n",
        "    \n",
        "    return bridgeLens\n",
        "\n",
        "def exitOption(country):\n",
        "    exitVisited = [0 for _ in range(countryNum+1)]\n",
        "    q = deque()\n",
        "    q.append(country)\n",
        "    exitVisited[country] = 1\n",
        "    while q:\n",
        "        nowCountry = q.popleft()\n",
        "        for nextCountry in edges[nowCountry]:\n",
        "            if exitVisited[nextCountry] == 0:\n",
        "                q.append(nextCountry)\n",
        "                exitVisited[nextCountry] = 1\n",
        "\n",
        "    #모두 연결되어 있으면\n",
        "    if sum(exitVisited[1:]) == countryNum:\n",
        "        return True, exitVisited\n",
        "    else:\n",
        "        return False, exitVisited\n",
        "\n",
        "def solve(country, ans):\n",
        "    global minAns\n",
        "    if country > countryNum:\n",
        "        return\n",
        "    flag, exitVisited = exitOption(country)\n",
        "    if flag:\n",
        "        minAns = min(minAns, ans)\n",
        "        #print(ans)\n",
        "        #myprint(edges)\n",
        "        return\n",
        "    \n",
        "    #현재 나라에서 연결 할 수 있는 모든 나라에 다리를 건설한다.\n",
        "    bridgeLens = buildBridge(country)\n",
        "    #print(country,bridgeLens)\n",
        "    for i in range(1, countryNum+1):\n",
        "        if exitVisited[i] == 0:\n",
        "            if bridgeLens[i] < 30:\n",
        "                graphUpdate(BUILD, country, i)\n",
        "                solve(i, ans + bridgeLens[i])\n",
        "                graphUpdate(UNBUILD, country, i)\n",
        "\n",
        "    #그 외에도 다리를 건설 안하는 옵션\n",
        "    solve(country+1, ans)\n",
        "\n",
        "def graphUpdate(buildTF, country1, country2):\n",
        "    if buildTF:\n",
        "        edges[country1].append(country2)\n",
        "        edges[country2].append(country1)\n",
        "    else:\n",
        "        edges[country1].remove(country2)\n",
        "        edges[country2].remove(country1)\n",
        "        \n",
        "R, C = map(int, input().split())\n",
        "cell = [list(map(int, input().split())) for _ in range(R)]\n",
        "visited = [[0 for _ in range(C) ] for _ in range(R)]\n",
        "\n",
        "countryNum = findIsland()\n",
        "check = [0 for _ in range(countryNum+1)]\n",
        "edges = [[] for _ in range(countryNum+1)]\n",
        "#myprint(visited)\n",
        "\n",
        "solve(1, 0)\n",
        "print(minAns if minAns != sys.maxsize else -1)"
      ],
      "execution_count": null,
      "outputs": []
    },
    {
      "cell_type": "markdown",
      "metadata": {
        "id": "ODqGZdPLxkzs"
      },
      "source": [
        "# 5032번 문제"
      ]
    },
    {
      "cell_type": "code",
      "metadata": {
        "id": "JiQjgD5qxnCJ"
      },
      "source": [
        "e, f, c = map(int, input().split())\n",
        "\n",
        "count = 0\n",
        "a = e+f\n",
        "\n",
        "while a >= c:\n",
        "    temp = a//c\n",
        "    count += a//c\n",
        "    a = a%c\n",
        "    a += temp\n",
        "print(count)"
      ],
      "execution_count": null,
      "outputs": []
    },
    {
      "cell_type": "markdown",
      "metadata": {
        "id": "jGa9XzO_2koy"
      },
      "source": [
        "# 10157번 문제"
      ]
    },
    {
      "cell_type": "code",
      "metadata": {
        "id": "O7K1tFY0x-oL"
      },
      "source": [
        "def is_wall(i, j):\n",
        "    global l_wall, r_wall, u_wall, d_wall\n",
        "    if i == u_wall:\n",
        "        l_wall += 1\n",
        "        return True\n",
        "\n",
        "    if i == d_wall:\n",
        "        r_wall -= 1\n",
        "        return True\n",
        "\n",
        "    if j == l_wall:\n",
        "        d_wall -= 1\n",
        "        return True\n",
        "    \n",
        "    if j == r_wall:\n",
        "        u_wall += 1\n",
        "        return True\n",
        "    return False\n",
        "\n",
        "di = [0, 1, 0, -1]\n",
        "dj = [1, 0, -1, 0]\n",
        "\n",
        "\n",
        "c, r = map(int, input().split())\n",
        "k = int(input())\n",
        "count = 1\n",
        "\n",
        "l_wall = 0\n",
        "r_wall = r+1\n",
        "u_wall = 0\n",
        "d_wall = c+1\n",
        "d = 0\n",
        "i = 1; j = 1\n",
        "\n",
        "if k > c*r:\n",
        "    print(0)\n",
        "else:\n",
        "    while True:\n",
        "        if count == k:\n",
        "            print(i, j)\n",
        "            break\n",
        "        if is_wall(i+di[d], j+dj[d]):\n",
        "            d += 1\n",
        "            d %= 4\n",
        "\n",
        "        i += di[d]\n",
        "        j += dj[d]\n",
        "        count += 1"
      ],
      "execution_count": null,
      "outputs": []
    },
    {
      "cell_type": "markdown",
      "metadata": {
        "id": "CXMuopCeVMHH"
      },
      "source": [
        "# 1371번 문제"
      ]
    },
    {
      "cell_type": "code",
      "metadata": {
        "id": "iv7SSH6JVOl0"
      },
      "source": [
        "import operator\n",
        "alphabet = {'a':0, 'b':0, 'c':0,'d':0,'e':0,'f':0,'g':0,'h':0,'i':0,'j':0,'k':0,'l':0,'m':0,'n':0,'o':0,'p':0,'q':0,\n",
        "            'r':0,'s':0,'t':0,'u':0,'v':0,'w':0,'x':0,'y':0,'z':0}\n",
        "\n",
        "s = input()\n",
        "while s:\n",
        "    for i in s:\n",
        "        if i != ' ':\n",
        "            alphabet[i] += 1\n",
        "    s = input()\n",
        "\n",
        "max_key = max(alphabet, key=lambda key: alphabet[key])\n",
        "print(max_key)"
      ],
      "execution_count": null,
      "outputs": []
    },
    {
      "cell_type": "code",
      "metadata": {
        "id": "QQFMqIRqZ1X5"
      },
      "source": [
        "import sys\n",
        "\n",
        "s = sys.stdin.read()\n",
        "li = [0]*26\n",
        "for c in s:\n",
        "    if c.islower():\n",
        "        li[ord(c)-97] += 1\n",
        "for i in range(26):\n",
        "    if li[i] == max(li):\n",
        "        print(chr(97+i), end='')"
      ],
      "execution_count": null,
      "outputs": []
    },
    {
      "cell_type": "markdown",
      "metadata": {
        "id": "aAHZ8Dp_lh5a"
      },
      "source": [
        "# 17825번 문제"
      ]
    },
    {
      "cell_type": "code",
      "metadata": {
        "id": "uvBhuE6plkTl"
      },
      "source": [
        "import sys\n",
        "\n",
        "#input = sys.stdin.readline\n",
        "\n",
        "a = [0 for _ in range(33)]\n",
        "for i in range(21):\n",
        "    a[i] = i+1\n",
        "a[21] = 21\n",
        "a[22], a[23], a[24] = 23, 24, 30\n",
        "a[25], a[26] = 26, 30\n",
        "a[27], a[28], a[29] = 28, 29, 30\n",
        "a[30], a[31], a[32] = 31, 32, 20\n",
        "\n",
        "move_in = [0 for _ in range(16)]\n",
        "move_in[5], move_in[10], move_in[15] = 22, 25, 27\n",
        "\n",
        "plus = [0 for _ in range(33)]\n",
        "for i in range(1, 21):\n",
        "    plus[i] = i * 2\n",
        "plus[22], plus[23], plus[24] = 13, 16, 19\n",
        "plus[25], plus[26] = 22, 24\n",
        "plus[27], plus[28], plus[29] = 28, 27, 26\n",
        "plus[30], plus[31], plus[32] = 25, 30, 35\n",
        "\n",
        "def dfs(dice_index, ans):\n",
        "    global max_ans\n",
        "    if dice_index == 10:\n",
        "        max_ans = max(max_ans, ans)\n",
        "        return\n",
        "\n",
        "    for i in range(4):\n",
        "        x, x0, move = chess[i], chess[i], dice[dice_index]\n",
        "\n",
        "        if x == 5 or x == 10 or x == 15:\n",
        "            x = move_in[x]\n",
        "            move -= 1\n",
        "\n",
        "        if x + move <= 21:\n",
        "            x += move\n",
        "        else:\n",
        "            for _ in range(move):\n",
        "                x = a[x]\n",
        "\n",
        "        if c[x] and x != 21:\n",
        "            continue\n",
        "\n",
        "        c[x0], c[x], chess[i] = 0, 1, x\n",
        "        dfs(dice_index + 1, ans + plus[x])\n",
        "        c[x0], c[x], chess[i] = 1, 0, x0\n",
        "\n",
        "dice = list(map(int, input().split()))\n",
        "chess = [0 for _ in range(4)]\n",
        "c = [0 for _ in range(33)]\n",
        "\n",
        "max_ans = 0\n",
        "dfs(0, 0)\n",
        "print(max_ans)"
      ],
      "execution_count": null,
      "outputs": []
    },
    {
      "cell_type": "markdown",
      "metadata": {
        "id": "NA7JfCXqxFgg"
      },
      "source": [
        "# 1236번 문제"
      ]
    },
    {
      "cell_type": "code",
      "metadata": {
        "id": "42jUzkTlxIfh"
      },
      "source": [
        "n, m = map(int,input().split())\n",
        "board = []\n",
        "\n",
        "for _ in range(n):\n",
        "    board.append(input())\n",
        "\n",
        "a, b = 0, 0\n",
        "\n",
        "for i in range(n):\n",
        "    if \"X\" not in board[i]:\n",
        "        a += 1\n",
        "\n",
        "for j in range(m):\n",
        "    if \"X\" not in [board[i][j] for i in range(n)]:\n",
        "        b += 1\n",
        "\n",
        "print(max(a ,b))"
      ],
      "execution_count": null,
      "outputs": []
    },
    {
      "cell_type": "markdown",
      "metadata": {
        "id": "yhTWbNo55h84"
      },
      "source": [
        "# 1063번 문제"
      ]
    },
    {
      "cell_type": "code",
      "metadata": {
        "id": "ECk1FAd85kb0"
      },
      "source": [
        "# R,L,B,T,RT,LT,RB,LB순으로 방향설정\n",
        "dx = [1,-1,0,0,1,-1,1,-1]\n",
        "dy = [0,0,-1,1,1,1,-1,-1]\n",
        "move = ['R','L','B','T','RT','LT','RB','LB']\n",
        "a = ['A','B','C','D','E','F','G','H']\n",
        "\n",
        "k, s, m = input().split()\n",
        "m = int(m)\n",
        "\n",
        "k_x, k_y = ord(k[0])-ord('A'), int(k[1])-1\n",
        "s_x, s_y = ord(s[0])-ord('A'), int(s[1])-1\n",
        "\n",
        "for _ in range(m):\n",
        "    d = move.index(input())\n",
        "    nx, ny = k_x + dx[d], k_y + dy[d]\n",
        "\n",
        "    if nx < 0 or ny < 0 or nx > 7 or ny > 7:\n",
        "        continue\n",
        "    if nx == s_x and ny == s_y:\n",
        "        s_nx, s_ny = s_x + dx[d], s_y + dy[d]\n",
        "        if s_nx < 0 or s_ny < 0 or s_nx > 7 or s_ny > 7:\n",
        "            continue\n",
        "        s_x, s_y = s_nx, s_ny\n",
        "    k_x, k_y = nx, ny\n",
        "\n",
        "print(f'{chr(k_x + ord(\"A\"))}{k_y + 1}')\n",
        "print(f'{chr(s_x + ord(\"A\"))}{s_y + 1}')"
      ],
      "execution_count": null,
      "outputs": []
    },
    {
      "cell_type": "markdown",
      "metadata": {
        "id": "KP1SCnawINLn"
      },
      "source": [
        "# 2621번 문제"
      ]
    },
    {
      "cell_type": "code",
      "metadata": {
        "id": "VX1MxpEYIP0W"
      },
      "source": [
        "color = []\n",
        "num = []\n",
        "\n",
        "for _ in range(5):\n",
        "    a, b = input().split()\n",
        "    color.append(a)\n",
        "    num.append(int(b))\n",
        "\n",
        "cnt_col = 0\n",
        "temp_col = []\n",
        "for s in color:\n",
        "    if \n",
        "count = 0\n",
        "temp = 0\n",
        "for i in num:\n",
        "    if num.count(i) == count:\n",
        "        if temp < i: \n",
        "            temp = i\n",
        "            continue\n",
        "\n",
        "    elif max(count, num.count(i)) == num.count(i):\n",
        "        temp = i\n",
        "        count = num.count(i)"
      ],
      "execution_count": null,
      "outputs": []
    },
    {
      "cell_type": "code",
      "metadata": {
        "id": "YFkGUUhSPEws"
      },
      "source": [
        "import sys\n",
        "#input = sys.stdin.readline\n",
        "\n",
        "def color_same():       # 같은색인지 판별\n",
        "    for card in cards:\n",
        "        if len(cards.get(card)) == 5:\n",
        "            return True\n",
        "        elif len(cards.get(card)) == 0:\n",
        "            continue\n",
        "        else:\n",
        "            return False\n",
        "\n",
        "def num_growup():       # 숫자가 연속인지 판별\n",
        "    tmp_list=[]\n",
        "    count=[0]*10\n",
        "    for card in cards:\n",
        "        tmp_list+=cards.get(card)\n",
        "        for c in cards.get(card):\n",
        "            if count[c] ==1:\n",
        "                return False,0\n",
        "            else:\n",
        "                count[c] += 1\n",
        "    tmp_list.sort()\n",
        "    if tmp_list[-1]-tmp_list[0]==4:\n",
        "        return True, tmp_list[-1]\n",
        "    else:\n",
        "        return False, 0\n",
        "\n",
        "def same_num(howmany,fromfront):         # 원하는 개수를 가진 인덱스번호 찾기 없으면 0\n",
        "    count=[0]*10\n",
        "    for card in cards:\n",
        "        for c in cards.get(card):\n",
        "            count[c] += 1\n",
        "    if fromfront:\n",
        "        for i in range(1,10):\n",
        "            if count[i] == howmany:\n",
        "                return i\n",
        "    else:\n",
        "        for i in range(9,0,-1):\n",
        "            if count[i] == howmany:\n",
        "                return i\n",
        "    return 0\n",
        "\n",
        "\n",
        "def find_score():\n",
        "    # 규칙1\n",
        "    if color_same():\n",
        "        is_grow, max_num=num_growup()\n",
        "        if is_grow:\n",
        "            print(max_num+900)\n",
        "            return\n",
        "\n",
        "    # 규칙2\n",
        "    num_idx= same_num(4,True)\n",
        "    if num_idx != 0:\n",
        "        print(num_idx+800)\n",
        "        return\n",
        "\n",
        "    # 규칙3\n",
        "    num_idx=same_num(3,True)\n",
        "    if num_idx != 0:\n",
        "        answer = num_idx*10\n",
        "        num_idx2=same_num(2,True)\n",
        "        if num_idx2 != 0:\n",
        "            answer += num_idx2+700\n",
        "            print(answer)\n",
        "            return\n",
        "        elif not color_same():  # 규칙 6\n",
        "            print(num_idx+400)\n",
        "            return\n",
        "\n",
        "    # 규칙4\n",
        "    if color_same():\n",
        "        tmp_list=[]\n",
        "        for card in cards:\n",
        "            tmp_list += cards.get(card)\n",
        "        tmp_list.sort()\n",
        "        print(tmp_list[-1]+600)\n",
        "        return\n",
        "\n",
        "    # 규칙5\n",
        "    is_true, max_num=num_growup()\n",
        "    if is_true:\n",
        "        print(500+max_num)\n",
        "        return\n",
        "\n",
        "    # 규칙7\n",
        "    num_idx=same_num(2,True)\n",
        "    if num_idx !=0:\n",
        "        answer = num_idx\n",
        "        num_idx2=same_num(2,False)\n",
        "        if num_idx2 != num_idx:\n",
        "            answer += num_idx2*10 + 300\n",
        "            print(answer)\n",
        "            return\n",
        "        else:           # 규칙8\n",
        "            print(answer+200)\n",
        "            return\n",
        "\n",
        "    # 규칙9\n",
        "    tmp_list = []\n",
        "    for card in cards:\n",
        "        tmp_list += cards.get(card)\n",
        "    tmp_list.sort()\n",
        "    print(tmp_list[-1]+100)\n",
        "    return\n",
        "\n",
        "# 입력부분\n",
        "cards={}\n",
        "\n",
        "for i in range(5):\n",
        "    color, number = input().split()\n",
        "    if cards.get(color) is None:\n",
        "        cards[color] = [int(number)]\n",
        "    else:\n",
        "        cards[color].append(int(number))\n",
        "\n",
        "find_score()"
      ],
      "execution_count": null,
      "outputs": []
    }
  ]
}