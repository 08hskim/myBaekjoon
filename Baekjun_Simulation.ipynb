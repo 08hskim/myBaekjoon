{
  "nbformat": 4,
  "nbformat_minor": 0,
  "metadata": {
    "colab": {
      "name": "Baekjun_Simulation.ipynb",
      "private_outputs": true,
      "provenance": [],
      "collapsed_sections": [],
      "authorship_tag": "ABX9TyN/HhsJIEW5oqNwKny8qqr6",
      "include_colab_link": true
    },
    "kernelspec": {
      "name": "python3",
      "display_name": "Python 3"
    }
  },
  "cells": [
    {
      "cell_type": "markdown",
      "metadata": {
        "id": "view-in-github",
        "colab_type": "text"
      },
      "source": [
        "<a href=\"https://colab.research.google.com/github/08hskim/myBaekjoon/blob/master/Baekjun_Simulation.ipynb\" target=\"_parent\"><img src=\"https://colab.research.google.com/assets/colab-badge.svg\" alt=\"Open In Colab\"/></a>"
      ]
    },
    {
      "cell_type": "markdown",
      "metadata": {
        "id": "excOqHx1N1AP"
      },
      "source": [
        "# 14503번 문제"
      ]
    },
    {
      "cell_type": "code",
      "metadata": {
        "id": "0aUMbRGZNv28"
      },
      "source": [
        "n, m = map(int, input().split())\n",
        "r, c, d = map(int, input().split())\n",
        "\n",
        "mapp=[]\n",
        "direction=[(0,1),(1,0),(0,-1),(-1,0)]\n",
        "for _ in range(n):\n",
        "    mapp.append(list(map(int, input().split())))\n",
        "\n",
        "clean=0\n",
        "state = d\n",
        "exitTrue=True\n",
        "while exit True:\n",
        "    if mapp[r][c] == 1:\n",
        "        clean+=1\n",
        "    if state == 0:\n",
        "        if mapp[r-1][c]==1:\n",
        "            state = 3\n",
        "            r-=1\n",
        "            clean+=1\n",
        "        elif r==1:\n",
        "            state = 3\n",
        "        elif r==1 or "
      ],
      "execution_count": null,
      "outputs": []
    },
    {
      "cell_type": "code",
      "metadata": {
        "id": "YQNoNorlRshO"
      },
      "source": [
        "direction = [[0, -1], [-1, 0], [0, 1], [1, 0]]\n",
        "n, m = map(int, input().split())\n",
        "x, y, d = map(int, input().split())\n",
        "s = []\n",
        "for i in range(n):\n",
        "    s.append(list(map(int, input().split())))\n",
        "exitTrue = True\n",
        "while exitTrue:\n",
        "    s[x][y] = 2\n",
        "    while True:\n",
        "        isTrue = True\n",
        "        for i in range(4):\n",
        "            nx = x + direction[d][0]\n",
        "            ny = y + direction[d][1]\n",
        "            d = d - 1 if d != 0 else 3\n",
        "            if s[nx][ny] == 0:\n",
        "                x, y = nx, ny\n",
        "                isTrue = False\n",
        "                break\n",
        "        if isTrue:\n",
        "            if d == 0: rx, ry = x + 1, y\n",
        "            elif d == 1: rx, ry = x, y - 1\n",
        "            elif d == 2: rx, ry = x - 1, y\n",
        "            elif d == 3: rx, ry = x, y + 1\n",
        "            if s[rx][ry] == 1:\n",
        "                exitTrue = False\n",
        "                break\n",
        "            else:\n",
        "                x, y = rx, ry\n",
        "        else:\n",
        "            break\n",
        "cnt = 0\n",
        "for i in s:\n",
        "    cnt += i.count(2)\n",
        "print(cnt)"
      ],
      "execution_count": null,
      "outputs": []
    },
    {
      "cell_type": "markdown",
      "metadata": {
        "id": "ZnTlN2QPVIJ9"
      },
      "source": [
        "# 14499번 문제"
      ]
    },
    {
      "cell_type": "code",
      "metadata": {
        "id": "sXD0LQGCVKx0"
      },
      "source": [
        "n, m, x, y, k = map(int, input().split())\n",
        "\n",
        "direction=[[0,0],[1,0],[-1,0],[0,1],[0,-1]]\n",
        "\n",
        "s=[]\n",
        "for _ in range(n):\n",
        "    s.append(list(map(int, input().split())))\n",
        "\n",
        "now=[x,y]\n",
        "dice=[0]*7\n",
        "\n",
        "command=list(map(int,input().split()))\n",
        "for i in command:\n",
        "\n",
        "    if 0 <= x + direction[i][0] < n and 0 <= y + direction[i][1] < m:\n",
        "        x += direction[i][0]\n",
        "        y += direction[i][1]\n",
        "\n",
        "        if i == 1:\n",
        "            dice[1], dice[3], dice[4], dice[6] = dice[3], dice[6], dice[1], dice[4]\n",
        "        elif i == 2:\n",
        "            dice[1], dice[3], dice[4], dice[6] = dice[4], dice[1], dice[6], dice[3]\n",
        "        elif i == 3:\n",
        "            dice[1], dice[2], dice[5], dice[6] = dice[2], dice[6], dice[1], dice[5]\n",
        "        elif i == 4:\n",
        "            dice[1], dice[2], dice[5], dice[6] = dice[5], dice[1], dice[6], dice[2]\n",
        "\n",
        "        if s[x][y] != 0:\n",
        "            dice[1] = s[x][y]\n",
        "            s[x][y] = 0\n",
        "        else:\n",
        "            s[x][y] = dice[1]\n",
        "            \n",
        "        print(dice[6])"
      ],
      "execution_count": null,
      "outputs": []
    },
    {
      "cell_type": "code",
      "metadata": {
        "id": "yZ-pRgikZgIR"
      },
      "source": [
        "\n",
        "def move(direction):\n",
        "    if direction == 1:\n",
        "        dice[1], dice[3], dice[4], dice[6] = dice[3], dice[6], dice[1], dice[4]\n",
        "    elif direction == 2:\n",
        "        dice[1], dice[3], dice[4], dice[6] = dice[4], dice[1], dice[6], dice[3]\n",
        "    elif direction == 3:\n",
        "        dice[1], dice[2], dice[5], dice[6] = dice[2], dice[6], dice[1], dice[5]\n",
        "    elif direction == 4:\n",
        "        dice[1], dice[2], dice[5], dice[6] = dice[5], dice[1], dice[6], dice[2]\n",
        "def dire(direction):\n",
        "    if direction == 1: return 0, 1\n",
        "    elif direction == 2: return 0, -1\n",
        "    elif direction == 3: return -1, 0\n",
        "    elif direction == 4: return 1, 0\n",
        "n, m, x, y, k = map(int, input().split())\n",
        "s = []\n",
        "for i in range(n):\n",
        "    s.append(list(map(int, input().split())))\n",
        "com = list(map(int, input().split()))\n",
        "dice = [0, 0, 0, 0, 0, 0, 0]\n",
        "for i in com:\n",
        "    a, b = dire(i)\n",
        "    if 0 <= x + a < n and 0 <= y + b < m:\n",
        "        x += a\n",
        "        y += b\n",
        "        move(i)\n",
        "        if s[x][y] != 0:\n",
        "            dice[1] = s[x][y]\n",
        "            s[x][y] = 0\n",
        "        else:\n",
        "            s[x][y] = dice[1]\n",
        "        print(dice[6])"
      ],
      "execution_count": null,
      "outputs": []
    },
    {
      "cell_type": "markdown",
      "metadata": {
        "id": "fWR_gJXHxKZw"
      },
      "source": [
        "# 16236번 문제"
      ]
    },
    {
      "cell_type": "code",
      "metadata": {
        "id": "F_6D10ywxMla"
      },
      "source": [
        "from collections import deque\n",
        "\n",
        "def bfs(i, j):\n",
        "    visit = [[0] * n for i in range(n)]\n",
        "    visit[i][j] = 1\n",
        "    eat = []\n",
        "    dist = [[0] * n for i in range(n)]\n",
        "    q = deque()\n",
        "    q.append([i, j])\n",
        "    while q:\n",
        "        x, y = q.popleft()\n",
        "        for k in range(4):\n",
        "            nx = x + dx[k]\n",
        "            ny = y + dy[k]\n",
        "            if 0 <= nx < n and 0 <= ny < n and visit[nx][ny] == 0:\n",
        "                if s[nx][ny] <= s[i][j] or s[nx][ny] == 0:\n",
        "                    q.append([nx, ny])\n",
        "                    visit[nx][ny] = 1\n",
        "                    dist[nx][ny] = dist[x][y] + 1\n",
        "                if s[nx][ny] < s[i][j] and s[nx][ny] != 0:\n",
        "                    eat.append([nx, ny, dist[nx][ny]])\n",
        "    if not eat:\n",
        "        return -1, -1, -1\n",
        "    eat.sort(key = lambda x : (x[2], x[0], x[1]))\n",
        "    return eat[0][0], eat[0][1], eat[0][2]\n",
        "dx = [1, -1, 0, 0]\n",
        "dy = [0, 0, -1, 1]\n",
        "\n",
        "n = int(input())\n",
        "s = []\n",
        "for i in range(n):\n",
        "    a = list(map(int, input().split()))\n",
        "    s.append(a)\n",
        "    for j in range(n):\n",
        "        if a[j] == 9:\n",
        "            s[i][j] = 2\n",
        "            start = [i, j]\n",
        "exp = 0\n",
        "cnt = 0\n",
        "while True:\n",
        "    i, j = start[0], start[1]\n",
        "    ex, ey, dist = bfs(i, j)\n",
        "    if ex == -1: break\n",
        "    s[ex][ey] = s[i][j]\n",
        "    s[i][j] = 0\n",
        "    start = [ex, ey]\n",
        "    exp += 1\n",
        "    if exp == s[ex][ey]:\n",
        "        exp = 0\n",
        "        s[ex][ey] += 1\n",
        "    cnt += dist\n",
        "print(cnt)"
      ],
      "execution_count": null,
      "outputs": []
    },
    {
      "cell_type": "markdown",
      "metadata": {
        "id": "8rutbIcK3NQ4"
      },
      "source": [
        "# 15683번 문제"
      ]
    },
    {
      "cell_type": "code",
      "metadata": {
        "id": "k-Ke49DR3PgV"
      },
      "source": [
        "# 리스트에서 target의 모든 index 반환하는 함수\n",
        "def find_index(data, target):\n",
        "  res = []\n",
        "  lis = data\n",
        "  while True:\n",
        "    try:\n",
        "      res.append(lis.index(target) + (res[-1]+1 if len(res)!=0 else 0)) #+1의 이유 : 0부터 시작이니까\n",
        "      lis = data[res[-1]+1:]\n",
        "    except:\n",
        "      break     \n",
        "  return res\n",
        "\n",
        "\n",
        "n, m = map(int, input().split())\n",
        "\n",
        "room = []\n",
        "for _ in range(n):\n",
        "    room.append(list(map(int, input().split())))\n",
        "\n",
        "six=[]\n",
        "for i in range(n):\n",
        "    six.append(find_index(room[i],6))\n",
        "\n",
        "for i in range(n):\n",
        "    for j in range(m):\n",
        "        if room[i][j] == 1:\n",
        "            "
      ],
      "execution_count": null,
      "outputs": []
    },
    {
      "cell_type": "code",
      "metadata": {
        "id": "VAQXIs9b8Itu"
      },
      "source": [
        "from copy import deepcopy\n",
        "import sys\n",
        "input = sys.stdin.readline\n",
        "def fill(x, y, arr, d):\n",
        "    for i in d:\n",
        "        nx, ny = x, y\n",
        "        while True:\n",
        "            nx += dx[i]\n",
        "            ny += dy[i]\n",
        "            if 0 <= nx < n and 0 <= ny < m:\n",
        "                if arr[nx][ny] == 6:\n",
        "                    break\n",
        "                elif arr[nx][ny] == 0:\n",
        "                    arr[nx][ny] = \"#\"\n",
        "            else:\n",
        "                break\n",
        "def dfs(arr, cnt):\n",
        "    global result\n",
        "    temp = deepcopy(arr)\n",
        "    if cnt == cctv_cnt:\n",
        "        num = 0\n",
        "        for i in range(n):\n",
        "            num += temp[i].count(0)\n",
        "        result = min(result, num)\n",
        "        return\n",
        "    x, y, cctv = q[cnt]\n",
        "    for i in direction[cctv]:\n",
        "        fill(x, y, temp, i)\n",
        "        dfs(temp, cnt + 1)\n",
        "        temp = deepcopy(arr)\n",
        "dx = [1, -1, 0, 0]\n",
        "dy = [0, 0, 1, -1]\n",
        "direction = [[], [[0], [1], [2], [3]], [[0, 1], [2, 3]], [[3, 0], [0, 2], [2, 1], [1, 3]], \n",
        "[[1, 3, 0], [3, 0, 2], [0, 2, 1], [2, 1, 3]], [[0, 1, 2, 3]]]\n",
        "n, m = map(int, input().split())\n",
        "s = []\n",
        "q = []\n",
        "cctv_cnt = 0\n",
        "result = 100000000\n",
        "for i in range(n):\n",
        "    a = list(map(int, input().split()))\n",
        "    s.append(a)\n",
        "    for j in range(len(a)):\n",
        "        if a[j] != 0 and a[j] != 6:\n",
        "            q.append([i, j, a[j]])\n",
        "            cctv_cnt += 1\n",
        "dfs(s, 0)\n",
        "print(result)"
      ],
      "execution_count": null,
      "outputs": []
    }
  ]
}