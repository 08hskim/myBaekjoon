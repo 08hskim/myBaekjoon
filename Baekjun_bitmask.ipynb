{
  "nbformat": 4,
  "nbformat_minor": 0,
  "metadata": {
    "colab": {
      "name": "Baekjun_bitmask.ipynb",
      "private_outputs": true,
      "provenance": [],
      "collapsed_sections": [],
      "authorship_tag": "ABX9TyNV3jGOv73RHlXvFx5AZi9K",
      "include_colab_link": true
    },
    "kernelspec": {
      "name": "python3",
      "display_name": "Python 3"
    }
  },
  "cells": [
    {
      "cell_type": "markdown",
      "metadata": {
        "id": "view-in-github",
        "colab_type": "text"
      },
      "source": [
        "<a href=\"https://colab.research.google.com/github/08hskim/myBaekjoon/blob/master/Baekjun_bitmask.ipynb\" target=\"_parent\"><img src=\"https://colab.research.google.com/assets/colab-badge.svg\" alt=\"Open In Colab\"/></a>"
      ]
    },
    {
      "cell_type": "markdown",
      "metadata": {
        "id": "2K_kD9P-pTn_"
      },
      "source": [
        "# 1094번 문제"
      ]
    },
    {
      "cell_type": "code",
      "metadata": {
        "id": "EyJArZ-jpOrH"
      },
      "source": [
        "a = int(input())\n",
        "cnt = 0\n",
        "while a != 0:\n",
        "    if a % 2 == 1:\n",
        "        cnt += 1\n",
        "    a = a // 2\n",
        "print(cnt)"
      ],
      "execution_count": null,
      "outputs": []
    },
    {
      "cell_type": "markdown",
      "metadata": {
        "id": "4m1oujggtCG0"
      },
      "source": [
        "# 11723번 문제"
      ]
    },
    {
      "cell_type": "code",
      "metadata": {
        "id": "4Z8cNB0CtEuL"
      },
      "source": [
        "n=int(input())\n",
        "S = set()\n",
        "for _ in range(n):\n",
        "    op = list(input().split())\n",
        "    if len(op) == 1:\n",
        "        if op[0] == 'all': S = set([x for x in range(1, 21)])\n",
        "        else: S = set()\n",
        "        continue\n",
        "    cmd, tar = op[0], int(op[1])\n",
        "    if cmd == 'add':\n",
        "        if tar in S: S.add(tar)\n",
        "    elif cmd[0] == 'remove':\n",
        "        if int(op[1]) not in S:S.discard(tar)\n",
        "    elif cmd[0] == 'check':\n",
        "        print(1 if tar in S else 0)\n",
        "    elif cmd[0] == 'toggle':\n",
        "        if tar in S: S.discard(tar)\n",
        "        else: S.add(tar)"
      ],
      "execution_count": null,
      "outputs": []
    },
    {
      "cell_type": "code",
      "metadata": {
        "id": "iL5UH_TeyqgN"
      },
      "source": [
        "# 11723번 집합\n",
        "import sys\n",
        "\n",
        "# main\n",
        "m = int(sys.stdin.readline())\n",
        "\n",
        "bit = 0\n",
        "for _ in range(m):\n",
        "    command = sys.stdin.readline().split()\n",
        "\n",
        "    if command[0] == \"all\":\n",
        "        bit = (1 << 20) - 1\n",
        "    elif command[0] == \"empty\":\n",
        "        bit = 0\n",
        "    else:\n",
        "        op = command[0]\n",
        "        num = int(command[1]) - 1\n",
        "\n",
        "        # add\n",
        "        if op == 'add':\n",
        "            bit |= (1 << num)\n",
        "        # remove\n",
        "        elif op == 'remove':\n",
        "            bit &= ~(1 << num)\n",
        "        # check\n",
        "        elif op == 'check':\n",
        "            if bit & (1 << num) == 0:\n",
        "                print(0)\n",
        "            else:\n",
        "                print(1)\n",
        "        # toggle\n",
        "        elif op == 'toggle':\n",
        "            bit = bit ^ (1 << num)"
      ],
      "execution_count": null,
      "outputs": []
    },
    {
      "cell_type": "markdown",
      "metadata": {
        "id": "jbuQITovFKsf"
      },
      "source": [
        "# 2098번 문제"
      ]
    },
    {
      "cell_type": "code",
      "metadata": {
        "id": "ezA9hgd4FMcj"
      },
      "source": [
        "import sys\n",
        "\n",
        "# main\n",
        "m = int(sys.stdin.readline())\n",
        "\n",
        "bit = 0\n",
        "for _ in range(m):\n",
        "    command = sys.stdin.readline().split()\n",
        "\n",
        "    if command[0] == \"all\":\n",
        "        bit = (1 << 20) - 1\n",
        "    elif command[0] == \"empty\":\n",
        "        bit = 0\n",
        "    else:\n",
        "        op = command[0]\n",
        "        num = int(command[1]) - 1\n",
        "\n",
        "        # add\n",
        "        if op == 'add':\n",
        "            bit |= (1 << num)\n",
        "        # remove\n",
        "        elif op == 'remove':\n",
        "            bit &= ~(1 << num)\n",
        "        # check\n",
        "        elif op == 'check':\n",
        "            if bit & (1 << num) == 0:\n",
        "                print(0)\n",
        "            else:\n",
        "                print(1)\n",
        "        # toggle\n",
        "        elif op == 'toggle':\n",
        "            bit = bit ^ (1 << num)"
      ],
      "execution_count": null,
      "outputs": []
    },
    {
      "cell_type": "markdown",
      "metadata": {
        "id": "jbKw1BtZ14tT"
      },
      "source": [
        "# 1194번 문제"
      ]
    },
    {
      "cell_type": "code",
      "metadata": {
        "id": "sYthhUBn1622"
      },
      "source": [
        "from collections import deque\n",
        "import sys\n",
        "# input = sys.stdin.readline\n",
        "dx = [1, -1, 0, 0]\n",
        "dy = [0, 0, -1, 1]\n",
        "def bfs():\n",
        "    while q:\n",
        "        if q: x, y, c, cnt = q.popleft()\n",
        "        for j in range(4):\n",
        "            nx = x + dx[j]\n",
        "            ny = y + dy[j]\n",
        "            if 0 <= nx < n and 0 <= ny < m and s[nx][ny] != \"#\" and visit[nx][ny][c] == 0:\n",
        "                if s[nx][ny] == \".\":\n",
        "                    visit[nx][ny][c] = 1\n",
        "                    q.append([nx, ny, c, cnt + 1])\n",
        "                elif s[nx][ny] == \"1\":\n",
        "                    return cnt + 1\n",
        "                else:\n",
        "                    if s[nx][ny].isupper():\n",
        "                        if c & 1 << (ord(s[nx][ny]) - 65):\n",
        "                            visit[nx][ny][c] = 1\n",
        "                            q.append([nx, ny, c, cnt + 1])\n",
        "                    elif s[nx][ny].islower():\n",
        "                        nc = c | (1 << ord(s[nx][ny]) - 97)\n",
        "                        if visit[nx][ny][nc] == 0:\n",
        "                            visit[nx][ny][nc] = 1\n",
        "                            q.append([nx, ny, nc, cnt + 1])\n",
        "    return -1\n",
        "n, m = map(int, input().split())\n",
        "s = []\n",
        "q = deque()\n",
        "visit = [[[0] * 64 for i in range(m)] for i in range(n)]\n",
        "for i in range(n):\n",
        "    a = list(input().strip())\n",
        "    s.append(a)\n",
        "    for j in range(m):\n",
        "        if a[j] == \"0\":\n",
        "            q.append([i, j, 0, 0])\n",
        "            s[i][j] = \".\"\n",
        "            visit[i][j][0] = 1\n",
        "print(bfs())"
      ],
      "execution_count": null,
      "outputs": []
    },
    {
      "cell_type": "markdown",
      "metadata": {
        "id": "R5XMuOSxCLwC"
      },
      "source": [
        "# 2234번 문제"
      ]
    },
    {
      "cell_type": "code",
      "metadata": {
        "id": "rvebC93jCOvF"
      },
      "source": [
        "from collections import deque\n",
        "import sys\n",
        "# input = sys.stdin.readline\n",
        "dx = [0, -1, 0, 1]\n",
        "dy = [-1, 0, 1, 0]\n",
        "def bfs(i, j):\n",
        "    q = deque()\n",
        "    q.append([i, j])\n",
        "    visit[i][j] = 1\n",
        "    cnt = 1\n",
        "    while q:\n",
        "        x, y = q.popleft()\n",
        "        for k in range(4):\n",
        "            nx = x + dx[k]\n",
        "            ny = y + dy[k]\n",
        "            if 0 <= nx < m and 0 <= ny < n and visit[nx][ny] == 0:\n",
        "                if k == 0:\n",
        "                    if 1 & s[x][y]: continue\n",
        "                elif k == 1:\n",
        "                    if 2 & s[x][y]: continue\n",
        "                elif k == 2:\n",
        "                    if 4 & s[x][y]: continue\n",
        "                elif k == 3:\n",
        "                    if 8 & s[x][y]: continue\n",
        "                visit[nx][ny] = 1\n",
        "                q.append([nx, ny])\n",
        "                cnt += 1\n",
        "    return cnt\n",
        "n, m = map(int, input().split())\n",
        "s = [list(map(int, input().split())) for i in range(m)]\n",
        "visit = [[0] * n for i in range(m)]\n",
        "result1, result2, result3 = 0, 0, 0\n",
        "for i in range(m):\n",
        "    for j in range(n):\n",
        "        if visit[i][j] == 0:\n",
        "            result1 += 1\n",
        "            result2 = max(result2, bfs(i, j))\n",
        "for i in range(m):\n",
        "    for j in range(n):\n",
        "        num = 1\n",
        "        while num < 9:\n",
        "            if num & s[i][j]:\n",
        "                visit = [[0] * n for k in range(m)]\n",
        "                s[i][j] -= num\n",
        "                result3 = max(result3, bfs(i, j))\n",
        "                s[i][j] += num\n",
        "            num *= 2\n",
        "print(result1)\n",
        "print(result2)\n",
        "print(result3)"
      ],
      "execution_count": null,
      "outputs": []
    },
    {
      "cell_type": "markdown",
      "metadata": {
        "id": "S26cfPLaYftV"
      },
      "source": [
        "# 1562번 문제"
      ]
    },
    {
      "cell_type": "code",
      "metadata": {
        "id": "hPWVXbL1Yh2a"
      },
      "source": [
        "n = int(input())\n",
        " \n",
        "re = 0\n",
        "dp = [[0 for _ in range(1024)] for _ in range(10)]\n",
        " \n",
        "for i in range(1, 10):\n",
        "    dp[i][1<<i] = 1\n",
        " \n",
        "for i in range(1, n):\n",
        "    dp_next = [[0 for _ in range(1024)] for _ in range(10)]\n",
        "    for e in range(10):\n",
        "        for bm in range(1024):\n",
        "            if e < 9:\n",
        "                dp_next[e][bm | (1<<e)] = (dp_next[e][bm | (1<<e)] + dp[e+1][bm]) % 1000000000\n",
        "            if e > 0:\n",
        "                dp_next[e][bm | (1<<e)] = (dp_next[e][bm | (1<<e)] + dp[e-1][bm]) % 1000000000\n",
        "    dp = dp_next\n",
        " \n",
        "print(sum([dp[i][1023] for i in range(10)]) % 1000000000)"
      ],
      "execution_count": null,
      "outputs": []
    },
    {
      "cell_type": "markdown",
      "metadata": {
        "id": "NKgvWzzJsw3Y"
      },
      "source": [
        "# 9328번 문제"
      ]
    },
    {
      "cell_type": "code",
      "metadata": {
        "id": "CFA37kYnszaK"
      },
      "source": [
        "from collections import deque\n",
        "import sys\n",
        "\n",
        "input = sys.stdin.readline\n",
        "dx = [1, -1, 0, 0]\n",
        "dy = [0, 0, 1, -1]\n",
        "\n",
        "def bfs(x, y):\n",
        "    q = deque()\n",
        "    c = [[0]*(w+2) for _ in range(h+2)]\n",
        "    q.append([x, y])\n",
        "    c[x][y] = 1\n",
        "    cnt = 0\n",
        "    while q:\n",
        "        x, y = q.popleft()\n",
        "        for i in range(4):\n",
        "            nx = x + dx[i]\n",
        "            ny = y + dy[i]\n",
        "            if 0 <= nx < h+2 and 0 <= ny < w+2:\n",
        "                if not c[nx][ny]:\n",
        "                    if a[nx][ny] == '.':\n",
        "                        c[nx][ny] = 1\n",
        "                        q.append([nx, ny])\n",
        "                    elif a[nx][ny].islower():\n",
        "                        door[ord(a[nx][ny]) - ord('a')] = 1\n",
        "                        q = deque()\n",
        "                        c = [[0]*(w+2) for _ in range(h+2)]\n",
        "                        a[nx][ny] = '.'\n",
        "                        q.append([nx, ny])\n",
        "                    elif a[nx][ny].isupper():\n",
        "                        if door[ord(a[nx][ny]) - ord('A')]:\n",
        "                            c[nx][ny] = 1\n",
        "                            a[nx][ny] = '.'\n",
        "                            q.append([nx, ny])\n",
        "                    elif a[nx][ny] == '$':\n",
        "                        c[nx][ny] = 1\n",
        "                        cnt += 1\n",
        "                        a[nx][ny] = '.'\n",
        "                        q.append([nx, ny])\n",
        "    print(cnt)\n",
        "\n",
        "def new_map():\n",
        "    for i in a:\n",
        "        i.insert(0, '.')\n",
        "        i.append('.')\n",
        "    a.insert(0, ['.']*(w+2))\n",
        "    a.append(['.']*(w+2))\n",
        "\n",
        "tc = int(input())\n",
        "while tc:\n",
        "    h, w = map(int, input().split())\n",
        "    a = [list(input().strip()) for _ in range(h)]\n",
        "    key = list(input().strip())\n",
        "    door = [0]*26\n",
        "\n",
        "    for k in key:\n",
        "        if k != '0':\n",
        "            door[ord(k)- ord('a')] = 1\n",
        "\n",
        "    for i in range(h):\n",
        "        for j in range(w):\n",
        "            if ord('A') <= ord(a[i][j]) <= ord('Z'):\n",
        "                if door[ord(a[i][j]) - ord('A')]:\n",
        "                    a[i][j] = '.'\n",
        "    new_map()\n",
        "    bfs(0, 0)\n",
        "    tc -= 1"
      ],
      "execution_count": null,
      "outputs": []
    }
  ]
}