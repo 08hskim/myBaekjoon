{
  "nbformat": 4,
  "nbformat_minor": 0,
  "metadata": {
    "colab": {
      "name": "Baekjun_Number_Theory.ipynb",
      "private_outputs": true,
      "provenance": [],
      "collapsed_sections": [],
      "authorship_tag": "ABX9TyPFvLM6th4/8KACS6XXPshr",
      "include_colab_link": true
    },
    "kernelspec": {
      "name": "python3",
      "display_name": "Python 3"
    }
  },
  "cells": [
    {
      "cell_type": "markdown",
      "metadata": {
        "id": "view-in-github",
        "colab_type": "text"
      },
      "source": [
        "<a href=\"https://colab.research.google.com/github/08hskim/myBaekjoon/blob/master/Baekjun_Number_Theory.ipynb\" target=\"_parent\"><img src=\"https://colab.research.google.com/assets/colab-badge.svg\" alt=\"Open In Colab\"/></a>"
      ]
    },
    {
      "cell_type": "markdown",
      "metadata": {
        "id": "U975w5OWoQvD"
      },
      "source": [
        "# 1978번 문제"
      ]
    },
    {
      "cell_type": "code",
      "metadata": {
        "id": "nTrXp0cOoPb1"
      },
      "source": [
        "def check_prime(num):\n",
        "    import math\n",
        "    if num==1:\n",
        "        return False\n",
        "    if num == 2 or num == 3:\n",
        "        return True\n",
        "    for i in range(2, int(math.sqrt(num))+1):\n",
        "        if num%i ==0:\n",
        "            return False\n",
        "    return True"
      ],
      "execution_count": null,
      "outputs": []
    },
    {
      "cell_type": "code",
      "metadata": {
        "id": "imhthqmsooym"
      },
      "source": [
        "n = int(input())\n",
        "num = list(map(int, input().split()))\n",
        "count = 0\n",
        "for i in num:\n",
        "    if check_prime(i):\n",
        "        count+=1\n",
        "print(count)"
      ],
      "execution_count": null,
      "outputs": []
    },
    {
      "cell_type": "markdown",
      "metadata": {
        "id": "RJqiVvpmpRT8"
      },
      "source": [
        "# 1929번 문제"
      ]
    },
    {
      "cell_type": "code",
      "metadata": {
        "id": "L9_XaVJ9pW2h"
      },
      "source": [
        "def check_prime(num):\n",
        "    import math\n",
        "    if num==1:\n",
        "        return False\n",
        "    if num == 2 or num == 3:\n",
        "        return True\n",
        "    for i in range(2, int(math.sqrt(num))+1):\n",
        "        if num%i ==0:\n",
        "            return False\n",
        "    return True"
      ],
      "execution_count": null,
      "outputs": []
    },
    {
      "cell_type": "code",
      "metadata": {
        "id": "y_h7N-VMpezZ"
      },
      "source": [
        "m, n =map(int, input().split())\n",
        "for num in range(m, n+1):\n",
        "    if check_prime(num):\n",
        "        print(num)"
      ],
      "execution_count": null,
      "outputs": []
    },
    {
      "cell_type": "markdown",
      "metadata": {
        "id": "mvNLZpxXqQbV"
      },
      "source": [
        "# 2681번 문제"
      ]
    },
    {
      "cell_type": "code",
      "metadata": {
        "id": "8f0n13k_qLZk"
      },
      "source": [
        "def check_prime(num):\n",
        "    import math\n",
        "    if num==1:\n",
        "        return False\n",
        "    if num == 2 or num == 3:\n",
        "        return True\n",
        "    for i in range(2, int(math.sqrt(num))+1):\n",
        "        if num%i ==0:\n",
        "            return False\n",
        "    return True"
      ],
      "execution_count": null,
      "outputs": []
    },
    {
      "cell_type": "code",
      "metadata": {
        "id": "KijR2RdoqV4y"
      },
      "source": [
        "m=int(input())\n",
        "n=int(input())\n",
        "prime=[]\n",
        "for num in range(m, n+1):\n",
        "    if check_prime(num):\n",
        "        prime.append(num)\n",
        "if prime == []:\n",
        "    print(-1)\n",
        "else:\n",
        "    print(sum(prime))\n",
        "    print(min(prime))"
      ],
      "execution_count": null,
      "outputs": []
    },
    {
      "cell_type": "markdown",
      "metadata": {
        "id": "4wb5F6LTw32I"
      },
      "source": [
        "# 4948번 문제"
      ]
    },
    {
      "cell_type": "code",
      "metadata": {
        "id": "-2jZ9rkXw6J-"
      },
      "source": [
        "def check_prime(num, primes=[-1]):\n",
        "    import math\n",
        "    if num==1:\n",
        "        return False\n",
        "    if num == 2 or num == 3:\n",
        "        return True\n",
        "    for i in range(2, int(math.sqrt(num))+1):\n",
        "        if num%i ==0:\n",
        "            return False\n",
        "    return True"
      ],
      "execution_count": null,
      "outputs": []
    },
    {
      "cell_type": "code",
      "metadata": {
        "id": "nmNHYmo0w8bj"
      },
      "source": [
        "n=int(input())\n",
        "N=2*123456+2\n",
        "nums=[0]*N\n",
        "for i in range(2, N):\n",
        "    if check_prime(i):\n",
        "        nums[i]=1\n",
        "        \n",
        "while n != 0:\n",
        "    count = sum(nums[n+1:2*n+1])\n",
        "    print(count)\n",
        "    n = int(input())"
      ],
      "execution_count": null,
      "outputs": []
    },
    {
      "cell_type": "markdown",
      "metadata": {
        "id": "yaGYPzGAHEWd"
      },
      "source": [
        "# 6064번 문제"
      ]
    },
    {
      "cell_type": "code",
      "metadata": {
        "id": "mZUu_B8THIlJ"
      },
      "source": [
        "def num(m, n, x, y):\n",
        "    while x <= m * n:\n",
        "        if (x - y) % n == 0:\n",
        "            return x\n",
        "        x += m\n",
        "    return -1\n",
        "\n",
        "t = int(input())\n",
        "for i in range(t):\n",
        "    m, n, x, y = map(int, input().split())\n",
        "    \n",
        "    print(num(m, n, x, y))"
      ],
      "execution_count": null,
      "outputs": []
    },
    {
      "cell_type": "markdown",
      "metadata": {
        "id": "PnI09ortOLBN"
      },
      "source": [
        "# 10610번 문제"
      ]
    },
    {
      "cell_type": "code",
      "metadata": {
        "id": "iIbUWyL1OOLN"
      },
      "source": [
        "num=list(input())\n",
        "num.sort(reverse=True)\n",
        "sum=0\n",
        "for i in num:\n",
        "    sum+=int(i)\n",
        "if sum%3 != 0 or \"0\" not in num:\n",
        "    print(-1)\n",
        "else:\n",
        "    print(\"\".join(num))"
      ],
      "execution_count": null,
      "outputs": []
    },
    {
      "cell_type": "markdown",
      "metadata": {
        "id": "K87h8uKcTbNP"
      },
      "source": [
        "# 2004번 문제"
      ]
    },
    {
      "cell_type": "code",
      "metadata": {
        "id": "qvBdXuFrTdsd"
      },
      "source": [
        "def countNum(N, num): \n",
        "    count = 0 \n",
        "    divNum = num \n",
        "    while( N >= divNum): \n",
        "        count = count + (N // divNum) \n",
        "        divNum = divNum * num \n",
        "    return count\n"
      ],
      "execution_count": null,
      "outputs": []
    },
    {
      "cell_type": "code",
      "metadata": {
        "id": "TUJPi7VpdmgD"
      },
      "source": [
        "m, n = map(int, input().split())\n",
        "print(min(countNum(m,5)-countNum(n,5)-countNum(m-n,5), countNum(m, 2) - countNum(n, 2) - countNum(m-n, 2)))"
      ],
      "execution_count": null,
      "outputs": []
    },
    {
      "cell_type": "markdown",
      "metadata": {
        "id": "X8W4weC1ib0s"
      },
      "source": [
        "# 2981번 문제"
      ]
    },
    {
      "cell_type": "code",
      "metadata": {
        "id": "d8p3TL-7yzoT"
      },
      "source": [
        "import math\n",
        "t = int(input())\n",
        "s = []\n",
        "a = []\n",
        "gcd = 0\n",
        "for i in range(t):\n",
        "    s.append(int(input()))\n",
        "    if i == 1:\n",
        "        gcd = abs(s[1] - s[0])\n",
        "    gcd = math.gcd(abs(s[i] - s[i - 1]), gcd)\n",
        "gcd_a = int(gcd ** 0.5)\n",
        "for i in range(2, gcd_a + 1):\n",
        "    if gcd % i == 0:\n",
        "        a.append(i)\n",
        "        a.append(gcd // i)\n",
        "a.append(gcd)\n",
        "a = list(set(a))\n",
        "a.sort()\n",
        "for i in a:\n",
        "    print(i, end = ' ')"
      ],
      "execution_count": null,
      "outputs": []
    },
    {
      "cell_type": "markdown",
      "metadata": {
        "id": "mNX8joDAg4mL"
      },
      "source": [
        "# 9020번 문제"
      ]
    },
    {
      "cell_type": "code",
      "metadata": {
        "id": "NdgOp2VRg6vU"
      },
      "source": [
        "def isPrime(num):\n",
        "    if num==1:\n",
        "        return False\n",
        "    else:\n",
        "        for i in range(2, int(num**0.5)+1):\n",
        "            if num%i == 0:\n",
        "                return False\n",
        "        return True\n",
        "\n",
        "n = int(input())\n",
        "\n",
        "for _ in range(n):\n",
        "    num = int(input())\n",
        "    for i in range(num//2, num):\n",
        "        if isprime(i) and isprime(num-i):\n",
        "            if i > num//2: print(num-i, i)\n",
        "            else: print(i, num-i)\n",
        "            break"
      ],
      "execution_count": null,
      "outputs": []
    },
    {
      "cell_type": "markdown",
      "metadata": {
        "id": "49kvLuzKv1Ua"
      },
      "source": [
        "# 1850번 문제"
      ]
    },
    {
      "cell_type": "code",
      "metadata": {
        "id": "MvPMs2YGrGF7"
      },
      "source": [
        "def gcd(x,y):\n",
        "    mod = x % y\n",
        "    while mod >0:\n",
        "        x = y\n",
        "        y = mod\n",
        "        mod = x % y\n",
        "    return y    \n",
        "\n",
        "A, B = map(int, input().split())\n",
        "print('1' * gcd(A, B))"
      ],
      "execution_count": null,
      "outputs": []
    },
    {
      "cell_type": "markdown",
      "metadata": {
        "id": "M2xEyoDwxipI"
      },
      "source": [
        "# 2089번 문제"
      ]
    },
    {
      "cell_type": "code",
      "metadata": {
        "id": "cFtFSXvVxkxO"
      },
      "source": [
        "def solve(n, k):\n",
        "    if n == 0:\n",
        "        return '0'\n",
        "    else:\n",
        "        if n % 2 == 0:\n",
        "            return solve(n//k, k) + '0'\n",
        "        else:\n",
        "            return solve(n//k+1, k) + '1'\n",
        "\n",
        "\n",
        "n = int(input())\n",
        "result = solve(n, -2)\n",
        "if result == '0':\n",
        "    print(result)\n",
        "else:\n",
        "    print(result[1:])"
      ],
      "execution_count": null,
      "outputs": []
    },
    {
      "cell_type": "markdown",
      "metadata": {
        "id": "6ynLRR_e86eC"
      },
      "source": [
        "# 1747번 문제"
      ]
    },
    {
      "cell_type": "code",
      "metadata": {
        "id": "cmBUNFJZ88uc"
      },
      "source": [
        "def isPrime(num):\n",
        "    if num==1:\n",
        "        return False\n",
        "    else:\n",
        "        for i in range(2, int(num**0.5)+1):\n",
        "            if num%i == 0:\n",
        "                return False\n",
        "        return True\n",
        "\n",
        "def palindrome(num):\n",
        "    nums = str(num)\n",
        "    if nums == nums[::-1]: return True\n",
        "    else: return False\n",
        "\n",
        "n = int(input())\n",
        "\n",
        "prime_palin = []\n",
        "for i in range(2, 10**7+1):\n",
        "    if palindrome(i) and isPrime(i): prime_palin.append(i)\n",
        "\n",
        "for i in prime_palin:\n",
        "    if n <= i:\n",
        "        print(i)\n",
        "        break"
      ],
      "execution_count": null,
      "outputs": []
    },
    {
      "cell_type": "markdown",
      "metadata": {
        "id": "2jzk3_v9DkoT"
      },
      "source": [
        "# 2153번 문제"
      ]
    },
    {
      "cell_type": "code",
      "metadata": {
        "id": "R9jGmnvuDmwG"
      },
      "source": [
        "def isPrime(num):\n",
        "    if num==1:\n",
        "        return True\n",
        "    else:\n",
        "        for i in range(2, int(num**0.5)+1):\n",
        "            if num%i == 0:\n",
        "                return False\n",
        "        return True\n",
        "\n",
        "state = input()\n",
        "result = 0\n",
        "\n",
        "for s in state:\n",
        "    if s.islower() == True: \n",
        "        result += ord(s)\n",
        "        result -= 96\n",
        "    else: \n",
        "        result += ord(s)\n",
        "        result -= 38\n",
        "\n",
        "if isPrime(result): print('It is a prime word.')\n",
        "else: print('It is not a prime word.')"
      ],
      "execution_count": null,
      "outputs": []
    },
    {
      "cell_type": "markdown",
      "metadata": {
        "id": "hnHj4rAvWM0j"
      },
      "source": [
        "# 11689번 문제"
      ]
    },
    {
      "cell_type": "code",
      "metadata": {
        "id": "RklJsx4aHtQE"
      },
      "source": [
        "n = int(input())\n",
        "result = n\n",
        "for i in range(2, round(n ** 0.5) + 1):\n",
        "    if n % i == 0:\n",
        "        while n % i == 0:\n",
        "            n //= i\n",
        "        result *= 1 - (1 / i)\n",
        "if n > 1:\n",
        "    result *= 1 - (1 / n)\n",
        "print(round(result))\n",
        "            \n",
        "   "
      ],
      "execution_count": null,
      "outputs": []
    },
    {
      "cell_type": "markdown",
      "metadata": {
        "id": "gGjPZ9xicgfQ"
      },
      "source": [
        "# 2014번 문제"
      ]
    },
    {
      "cell_type": "code",
      "metadata": {
        "id": "E3V6Sz5_WvhW"
      },
      "source": [
        "import heapq\n",
        "n, m = map(int, input().split())\n",
        "\n",
        "primes = list(map(int, input().split()))\n",
        "\n",
        "pq = []\n",
        "\n",
        "for n in primes:\n",
        "    heapq.heappush(pq,n)\n",
        "\n",
        "for i in range(m):\n",
        "    num = heapq.heappop(pq)\n",
        "    for j in range(n):\n",
        "        new_num = num*primes[j]\n",
        "        heapq.heappush(pq,new_num)\n",
        "\n",
        "        if num%primes[j] == 0: break\n",
        "\n",
        "print(num)"
      ],
      "execution_count": null,
      "outputs": []
    },
    {
      "cell_type": "markdown",
      "metadata": {
        "id": "xavtepbgpJSl"
      },
      "source": [
        "# 2436번 문제"
      ]
    },
    {
      "cell_type": "code",
      "metadata": {
        "id": "UJ97--H3pLGn"
      },
      "source": [
        "def gcd(a,b):\n",
        "    while b:\n",
        "        temp = b\n",
        "        b = a%b\n",
        "        a = temp\n",
        "    return a\n",
        "\n",
        "g, l = map(int, input().split())\n",
        "\n",
        "div = l//g\n",
        "\n",
        "a, b = 1, div\n",
        "\n",
        "for i in range(1, div//2 + 1):\n",
        "    if div%i == 0:\n",
        "        c = i\n",
        "        d = div//i\n",
        "        if gcd(c, d) != 1: continue\n",
        "        if a+b > c+d:\n",
        "            a = c\n",
        "            b = d\n",
        "\n",
        "print(a*g, b*g)\n"
      ],
      "execution_count": null,
      "outputs": []
    },
    {
      "cell_type": "markdown",
      "metadata": {
        "id": "0dg7CHzD9GGG"
      },
      "source": [
        "# 1256번 문제"
      ]
    },
    {
      "cell_type": "code",
      "metadata": {
        "id": "yBmJT-hV9KEa"
      },
      "source": [
        "from itertools import permutations\n",
        "n, m, k = map(int, input().split())\n",
        "b = ['a']*n + ['z']*m\n",
        "\n",
        "c = list(map(''.join, permutations(b, n+m)))\n",
        "c = list(set(c))\n",
        "c.sort()\n",
        "\n",
        "print(c[k-1])"
      ],
      "execution_count": null,
      "outputs": []
    },
    {
      "cell_type": "code",
      "metadata": {
        "id": "WPT_GcytBHRN"
      },
      "source": [
        "n, m, k = map(int, input().split())\n",
        "arr = [[1]*(m+1) for _ in range(n+1)]\n",
        "\n",
        "for i  in range(1,n+1):\n",
        "    for j in range(1,m+1):\n",
        "        arr[i][j] = arr[i-1][j]+arr[i][j-1]\n",
        "\n",
        "if arr[n][m] < k: print(-1)\n",
        "else:\n",
        "    result = \"\"\n",
        "    while True:\n",
        "        if n == 0 or m == 0:\n",
        "            result += \"z\"*m\n",
        "            result += \"a\"*n\n",
        "            break\n",
        "        \n",
        "        flag = arr[n-1][m]\n",
        "        if k <= flag:\n",
        "            result += 'a'\n",
        "            n -= 1\n",
        "        else:\n",
        "            result += 'z'\n",
        "            m -= 1\n",
        "            k -= flag\n",
        "    print(result)"
      ],
      "execution_count": null,
      "outputs": []
    },
    {
      "cell_type": "markdown",
      "metadata": {
        "id": "aat-GCWtGdn_"
      },
      "source": [
        "# 1722번 문제"
      ]
    },
    {
      "cell_type": "code",
      "metadata": {
        "id": "FBMmXy7hGgvX"
      },
      "source": [
        "from itertools import permutations\n",
        "n = int(input())\n",
        "num = [i for i in range(1,n+1)]\n",
        "\n",
        "a = list(map(list,permutations(num, n)))\n",
        "\n",
        "arr = list(map(int,input().split()))\n",
        "\n",
        "if arr[0] == 1: print(a[arr[1]-1])\n",
        "elif arr[0] == 2:\n",
        "    arr1 = a.index(arr[1:])\n",
        "    print(arr1+1)"
      ],
      "execution_count": null,
      "outputs": []
    },
    {
      "cell_type": "code",
      "metadata": {
        "id": "kzAGIGwXLBtN"
      },
      "source": [
        "n = int(input())\n",
        "s = list(map(int, input().split()))\n",
        "f = [0, 1]\n",
        "for i in range(2, 21):\n",
        "    f.append(f[i - 1] * i)\n",
        "if s[0] == 1:\n",
        "    k = s[1] - 1\n",
        "    num = n - 1\n",
        "    s = [i for i in range(1, n + 1)]\n",
        "    result = []\n",
        "    for _ in range(n - 1):\n",
        "        result.append(s[k // f[num]])\n",
        "        del s[k // f[num]]\n",
        "        k %= f[num]\n",
        "        num -= 1\n",
        "    result.append(s[0])\n",
        "    print(*result)\n",
        "else:\n",
        "    result = 0\n",
        "    s = s[1:]\n",
        "    num = n - 1\n",
        "    for i in range(n):\n",
        "        cnt = 0\n",
        "        for j in range(i, n):\n",
        "            if i == j: continue\n",
        "            if s[i] > s[j]: cnt += 1\n",
        "        for k in range(cnt):\n",
        "            result += f[num]\n",
        "        num -= 1\n",
        "    print(result + 1)"
      ],
      "execution_count": null,
      "outputs": []
    },
    {
      "cell_type": "markdown",
      "metadata": {
        "id": "BOpL2TViMpTi"
      },
      "source": [
        "# 6591번 문제"
      ]
    },
    {
      "cell_type": "code",
      "metadata": {
        "id": "ymfy4TQogvh7"
      },
      "source": [
        "n, m =map(int,input().split())\n",
        "while True:\n",
        "    if n==0 and m==0:\n",
        "        break\n",
        "    if m > n-m :\n",
        "        m = n-m\n",
        "    sum =1\n",
        "    for i in range(1,m+1):\n",
        "        sum = sum*n/i\n",
        "        n-=1\n",
        "    print(int(sum))\n",
        "    n, m =map(int,input().split())\n"
      ],
      "execution_count": null,
      "outputs": []
    },
    {
      "cell_type": "markdown",
      "metadata": {
        "id": "z9uWiO0kbbyd"
      },
      "source": [
        "# 2485번 문제"
      ]
    },
    {
      "cell_type": "code",
      "metadata": {
        "id": "nHsd1nMWbeOf"
      },
      "source": [
        "import sys\n",
        "from math import gcd\n",
        "\n",
        "# 이미 심어져 있는 가로수 수 \n",
        "N = int(input())\n",
        "\n",
        "# 첫 가로수 위치 \n",
        "a = int(input())\n",
        "\n",
        "# 가로수들 사이의 값을 저장할 배열\n",
        "arr = []\n",
        "\n",
        "# 가로수들 사이의 간격 저장 \n",
        "for i in range(N-1):\n",
        "    num = int(input())\n",
        "    arr.append(num - a)\n",
        "    a = num\n",
        "\n",
        "# arr에 들어있는 모든 수들의 최대공약수 찾기\n",
        "g = arr[0]\n",
        "for j in range(1, len(arr)):\n",
        "    g = gcd(g, arr[j])\n",
        "\n",
        "# 둘 사이에 심을 가로수 개수: 간격 // 최대공약수 - 1\n",
        "result = 0\n",
        "for each in arr:\n",
        "    result += each // g - 1\n",
        "print(result)"
      ],
      "execution_count": null,
      "outputs": []
    },
    {
      "cell_type": "markdown",
      "metadata": {
        "id": "H8LoPrESeoAg"
      },
      "source": [
        "# 10166번 문제"
      ]
    },
    {
      "cell_type": "code",
      "metadata": {
        "id": "ydprA9_zep-Y"
      },
      "source": [
        "from math import pi\n",
        "n, m = map(int, input().split())\n",
        "\n",
        "rad = []\n",
        "for i in range(n,m+1):\n",
        "    for j in range(1, i+1):\n",
        "        rad.append(j*2*pi/i)\n",
        "\n",
        "rad = list(set(rad))\n",
        "\n",
        "print(len(rad))"
      ],
      "execution_count": null,
      "outputs": []
    },
    {
      "cell_type": "markdown",
      "metadata": {
        "id": "JEBHXbaqn16t"
      },
      "source": [
        "# 1017번 문제"
      ]
    },
    {
      "cell_type": "code",
      "metadata": {
        "id": "iw-iMYkan4pO"
      },
      "source": [
        "import sys\n",
        "#input = sys.stdin.readline\n",
        "n = int(input())\n",
        "s = list(map(int, input().split()))\n",
        "sa = [0]\n",
        "sb = [0]\n",
        "e = [True for i in range(2000)]\n",
        "result = []\n",
        "\n",
        "def era():\n",
        "    e[1] = False\n",
        "    for i in range(2, 50):\n",
        "        if e[i] == True:\n",
        "            for j in range(i * 2, 2000, i):\n",
        "                e[j] = False\n",
        "era()\n",
        "\n",
        "def dfs(start):\n",
        "    if visit[start] == 1:\n",
        "        return 0\n",
        "    visit[start] = 1\n",
        "    for i in s_[start]:\n",
        "        if d[i] == 0 or dfs(d[i]):\n",
        "            d[i] = start\n",
        "            return 1\n",
        "    return 0\n",
        "\n",
        "for i in range(n):\n",
        "    if s[0] % 2 == s[i] % 2:\n",
        "        sa.append(s[i])\n",
        "    else:\n",
        "        sb.append(s[i])\n",
        "\n",
        "s_ = [[] for i in range(len(sa))]\n",
        "for i in range(1, len(sa)):\n",
        "    for j in range(1, len(sb)):\n",
        "        if e[sa[i] + sb[j]]:\n",
        "            s_[i].append(j)\n",
        "\n",
        "for i in s_[1]:\n",
        "    d = [0 for _ in range(len(sb))]\n",
        "    d[i] = 1\n",
        "    cnt = 1\n",
        "    for j in range(1, len(sa)):\n",
        "        visit = [0 for _ in range(len(sa))]\n",
        "        visit[1] = 1\n",
        "        cnt += dfs(j)\n",
        "    if cnt == n // 2:\n",
        "        result.append(sb[i])\n",
        "        \n",
        "if not result:\n",
        "    print(-1)\n",
        "else:\n",
        "    result.sort()\n",
        "    for i in result:\n",
        "        print(i, end=\" \")"
      ],
      "execution_count": null,
      "outputs": []
    },
    {
      "cell_type": "markdown",
      "metadata": {
        "id": "3iN811Cd-cLG"
      },
      "source": [
        "# 4375번 문제"
      ]
    },
    {
      "cell_type": "code",
      "metadata": {
        "id": "GsrePV8f-eAN"
      },
      "source": [
        "while True:\n",
        "    try:\n",
        "        x = int(input())\n",
        "    except EOFError:\n",
        "        break\n",
        "    if x == 1:\n",
        "        print('1')\n",
        "        continue\n",
        "    num = 1\n",
        "    cnt = 1\n",
        "    while True:\n",
        "        num = num * 10 + 1\n",
        "        cnt += 1\n",
        "        if (num % x) == 0:\n",
        "            print(cnt)\n",
        "            break\n"
      ],
      "execution_count": null,
      "outputs": []
    },
    {
      "cell_type": "markdown",
      "metadata": {
        "id": "zDWP0JBDCdnB"
      },
      "source": [
        "# 17103번 문제"
      ]
    },
    {
      "cell_type": "code",
      "metadata": {
        "id": "Sz_4ad6eCgGQ"
      },
      "source": [
        "from sympy import isprime\n",
        "\n",
        "t = int(input())\n",
        "nums = [int(input()) for _ in range(t)]\n",
        "m = max(nums)\n",
        "\n",
        "primes = [False, False]+[True]*(m-1)\n",
        "\n",
        "for i in range(2,int(m**0.5)+1):\n",
        "    if primes[i]:\n",
        "        for j in range(2*i, m+1, i):\n",
        "            if primes[j]: primes[j] = False\n",
        "\n",
        "for num in nums:\n",
        "    count = 0\n",
        "    for i in range((num//2)+1):\n",
        "        if primes[i] and primes[num-i]: count += 1\n",
        "    print(count)"
      ],
      "execution_count": null,
      "outputs": []
    },
    {
      "cell_type": "markdown",
      "metadata": {
        "id": "z1xt5eABRN8i"
      },
      "source": [
        "# 2824번 문제"
      ]
    },
    {
      "cell_type": "code",
      "metadata": {
        "id": "k8rdxaLxRQQs"
      },
      "source": [
        "import sys\n",
        "from math import gcd\n",
        "# input=sys.stdin.readline\n",
        "\n",
        "n=int(input())\n",
        "a=1\n",
        "mod=int(1e10)\n",
        "for i in map(int,input().split()):\n",
        "\ta*=i\n",
        "m=int(input())\n",
        "b=1\n",
        "for i in map(int,input().split()):\n",
        "\tb*=i\n",
        "\n",
        "print('%s'%str(gcd(a,b))[-9:])"
      ],
      "execution_count": null,
      "outputs": []
    },
    {
      "cell_type": "markdown",
      "metadata": {
        "id": "KSSPDsklW7nG"
      },
      "source": [
        "# 3474번 문제"
      ]
    },
    {
      "cell_type": "code",
      "metadata": {
        "id": "zAyPNp9aW-BZ"
      },
      "source": [
        "import sys\n",
        "t = int(input())\n",
        "for i in range(t):\n",
        "    n = int(input())\n",
        "    cnt = 0\n",
        "    i = 5\n",
        "    while i <= n:\n",
        "        cnt += n // i\n",
        "        i *= 5\n",
        "    print(cnt)"
      ],
      "execution_count": null,
      "outputs": []
    },
    {
      "cell_type": "markdown",
      "metadata": {
        "id": "RekwLiSrdQyl"
      },
      "source": [
        "# 2986번 문제"
      ]
    },
    {
      "cell_type": "code",
      "metadata": {
        "id": "4T2WZJ9IdSfo"
      },
      "source": [
        "import sys\n",
        "\n",
        "n = int(input())\n",
        "\n",
        "i = 2\n",
        "counter = 1\n",
        "while i*i <= n:\n",
        "    if n%i == 0:\n",
        "        counter = n//i\n",
        "        break\n",
        "    i += 1\n",
        "\n",
        "print(n - counter)"
      ],
      "execution_count": null,
      "outputs": []
    },
    {
      "cell_type": "markdown",
      "metadata": {
        "id": "lrKxbaZ2jk3S"
      },
      "source": [
        "# 1124번 문제"
      ]
    },
    {
      "cell_type": "code",
      "metadata": {
        "id": "OKWG_Fe4jobY"
      },
      "source": [
        "a, b = map(int, input().split())\n",
        "\n",
        "primes = [False, False]+[True]*(b-1)\n",
        "for i in range(2,int(b**0.5)+1):\n",
        "    if primes[i]:\n",
        "        for j in range(2*i, b+1, i):\n",
        "            if primes[j]: primes[j] = False\n",
        "\n",
        "primes = [i for i in range(len(primes)) if primes[i]]\n",
        "\n",
        "result = []\n",
        "count = 0\n",
        "for i in range(a, b+1):\n",
        "    if i in primes:\n",
        "        continue\n",
        "    else:\n",
        "        num = 2\n",
        "        count = 0\n",
        "        while i > 1:\n",
        "            if i%num == 0:\n",
        "                i = i//num\n",
        "                count += 1\n",
        "            else:\n",
        "                num += 1\n",
        "        result.append(count)\n",
        "\n",
        "count = 0\n",
        "for i in result:\n",
        "    if i in primes: count += 1\n",
        "\n",
        "print(count)"
      ],
      "execution_count": null,
      "outputs": []
    },
    {
      "cell_type": "markdown",
      "metadata": {
        "id": "WAZXBAa0wX0r"
      },
      "source": [
        "# 1456번 문제"
      ]
    },
    {
      "cell_type": "code",
      "metadata": {
        "id": "Hrc9eA6iwZy6"
      },
      "source": [
        "def prm(n):\n",
        "    sv=[1]*(n+1)\n",
        "    for i in range(3,int(n**0.5)+1,2):\n",
        "        if sv[i]: sv[i*i::2*i]=[0]*((n-i*i)//(2*i)+1)\n",
        "    return [2]*(n>=2)+[i for i in range(3,n+1,2) if sv[i]]\n",
        "\n",
        "\n",
        "a, b = map(int, input().split())\n",
        "prms = prm(int(b**0.5))\n",
        "\n",
        "cnt = 0\n",
        "for p in prms:\n",
        "    k = p\n",
        "    while k <= b:\n",
        "        k = k*p\n",
        "        if a <= k <= b:\n",
        "            cnt += 1\n",
        "\n",
        "print(cnt)"
      ],
      "execution_count": null,
      "outputs": []
    },
    {
      "cell_type": "markdown",
      "metadata": {
        "id": "i8dLkYKe8JPt"
      },
      "source": [
        "# 2904번 문제"
      ]
    },
    {
      "cell_type": "code",
      "metadata": {
        "id": "SkiUkfIv8K4L"
      },
      "source": [
        "def f(n): #소인수분해\n",
        "    t=2\n",
        "    d={}\n",
        "    while t*t<=n:\n",
        "        if n%t==0:\n",
        "            d[t]=d.get(t,0)+1\n",
        "            n=n//t\n",
        "        else:\n",
        "            t+=1\n",
        "    if n>1:\n",
        "        d[n]=d.get(n,0)+1\n",
        "    return d\n",
        "\n",
        "n=int(input())\n",
        "l=list(map(int,input().split()))\n",
        "avgd={} #평균 소인수\n",
        "\n",
        "for i in l:\n",
        "    tempd=f(i) #l안의 수 하나 소인수분해\n",
        "    for j in tempd:\n",
        "        avgd[j]=avgd.get(j,0)+tempd[j]\n",
        "\n",
        "for i in avgd: #최대공약수의 소인수들\n",
        "    avgd[i]=avgd[i]//n\n",
        "\n",
        "r1=1 #점수\n",
        "r2=0 #시행횟수\n",
        "for i in avgd:\n",
        "    r1*=i**avgd[i] #최대공약수\n",
        "\n",
        "for i in l:\n",
        "    temp=f(i)\n",
        "    for j in avgd:\n",
        "        if avgd[j]>temp.get(j,0):\n",
        "            r2+=avgd[j]-temp.get(j,0)\n",
        "\n",
        "print(\"%d %d\"%(r1,r2))"
      ],
      "execution_count": null,
      "outputs": []
    }
  ]
}