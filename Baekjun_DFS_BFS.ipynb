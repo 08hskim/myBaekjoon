{
  "nbformat": 4,
  "nbformat_minor": 0,
  "metadata": {
    "colab": {
      "name": "Baekjun_DFS_BFS.ipynb",
      "private_outputs": true,
      "provenance": [],
      "collapsed_sections": [
        "4xg7_9v7Y7R6",
        "Sn-PiaKudHJ3",
        "dIvKy7omh0xC",
        "jighqcKa9wof",
        "4rgFO-qSBBxZ",
        "L5sIK73Po7LD",
        "_rnshcFB64Hj"
      ],
      "authorship_tag": "ABX9TyMEFcPyO+tio78OXgY2aBvH",
      "include_colab_link": true
    },
    "kernelspec": {
      "name": "python3",
      "display_name": "Python 3"
    }
  },
  "cells": [
    {
      "cell_type": "markdown",
      "metadata": {
        "id": "view-in-github",
        "colab_type": "text"
      },
      "source": [
        "<a href=\"https://colab.research.google.com/github/08hskim/myBaekjoon/blob/master/Baekjun_DFS_BFS.ipynb\" target=\"_parent\"><img src=\"https://colab.research.google.com/assets/colab-badge.svg\" alt=\"Open In Colab\"/></a>"
      ]
    },
    {
      "cell_type": "markdown",
      "metadata": {
        "id": "EqGOE-MUKcpz"
      },
      "source": [
        "# 1260번 문제"
      ]
    },
    {
      "cell_type": "code",
      "metadata": {
        "id": "FNjS9M36JTCI"
      },
      "source": [
        "n, m, v = map(int, input().split())\n",
        "matrix = [[0] * (n + 1) for _ in range(n + 1)]\n",
        "for _ in range(m):\n",
        "    line = list(map(int, input().split()))\n",
        "    matrix[line[0]][line[1]] = 1\n",
        "    matrix[line[1]][line[0]] = 1\n",
        "\n",
        "def bfs(start):\n",
        "    visited = [start]\n",
        "    queue = [start]\n",
        "    while queue:\n",
        "        n = queue.pop(0)\n",
        "        for c in range(len(matrix[start])):\n",
        "            if matrix[n][c] == 1 and (c not in visited):\n",
        "                visited.append(c)\n",
        "                queue.append(c)\n",
        "    return visited\n",
        "\n",
        "def dfs(start, visited):\n",
        "    visited += [start]\n",
        "    for c in range(len(matrix[start])):\n",
        "        if matrix[start][c] == 1 and (c not in visited):\n",
        "            dfs(c, visited)\n",
        "    return visited\n",
        "\n",
        "print(*dfs(v,[]))\n",
        "print(*bfs(v))"
      ],
      "execution_count": null,
      "outputs": []
    },
    {
      "cell_type": "markdown",
      "metadata": {
        "id": "uYTv7OIzRhFf"
      },
      "source": [
        "# 2178번 문제"
      ]
    },
    {
      "cell_type": "code",
      "metadata": {
        "id": "J0lVczNuRjTS"
      },
      "source": [
        "n, m = map(int, input().split())\n",
        "s = []\n",
        "queue = []\n",
        "dx = [1, -1, 0, 0]\n",
        "dy = [0, 0, -1, 1]\n",
        "for i in range(n):\n",
        "    s.append(list(input()))\n",
        "queue = [[0, 0]]\n",
        "s[0][0] = 1\n",
        "while queue:\n",
        "    a, b = queue[0][0], queue[0][1]\n",
        "    del queue[0]\n",
        "    for i in range(4):\n",
        "        x = a + dx[i]\n",
        "        y = b + dy[i]\n",
        "        if 0 <= x < n and 0 <= y < m and s[x][y] == \"1\":\n",
        "            queue.append([x, y])\n",
        "            s[x][y] = s[a][b] + 1\n",
        "print(s[n - 1][m - 1])"
      ],
      "execution_count": null,
      "outputs": []
    },
    {
      "cell_type": "markdown",
      "metadata": {
        "id": "4xg7_9v7Y7R6"
      },
      "source": [
        "# 2667번 문제"
      ]
    },
    {
      "cell_type": "code",
      "metadata": {
        "id": "mGqtDrU6aFwV"
      },
      "source": [
        "n = int(input())\n",
        "s = []\n",
        "dx = [1, -1, 0, 0]\n",
        "dy = [0, 0, -1, 1]\n",
        "cnt = []\n",
        "for i in range(n):\n",
        "    s.append(list(input()))\n",
        "def bfs(i, j):\n",
        "    queue = [[i, j]]\n",
        "    s[i][j] = \"0\"\n",
        "    count = 1\n",
        "    while queue:\n",
        "        a, b = queue[0][0], queue[0][1]\n",
        "        del queue[0]\n",
        "        for k in range(4):\n",
        "            x = a + dx[k]\n",
        "            y = b + dy[k]\n",
        "            if 0 <= x < n and 0 <= y < n and s[x][y] == \"1\":\n",
        "                s[x][y] = \"0\"\n",
        "                queue.append([x, y])\n",
        "                count += 1\n",
        "    cnt.append(count)\n",
        "for i in range(n):\n",
        "    for j in range(n):\n",
        "        if s[i][j] == \"1\":\n",
        "            bfs(i, j)\n",
        "cnt.sort()\n",
        "print(len(cnt))\n",
        "for i in cnt:\n",
        "    print(i)"
      ],
      "execution_count": null,
      "outputs": []
    },
    {
      "cell_type": "markdown",
      "metadata": {
        "id": "Sn-PiaKudHJ3"
      },
      "source": [
        "# 2606번 문제"
      ]
    },
    {
      "cell_type": "code",
      "metadata": {
        "id": "F9YPQ7dpdJMn"
      },
      "source": [
        "n=int(input())\n",
        "m=int(input())\n",
        "\n",
        "matrix = [[0] * (n + 1) for _ in range(n + 1)]\n",
        "for _ in range(m):\n",
        "    line = list(map(int, input().split()))\n",
        "    matrix[line[0]][line[1]] = 1\n",
        "    matrix[line[1]][line[0]] = 1\n",
        "\n",
        "def dfs(start, visited):\n",
        "    visited += [start]\n",
        "    for c in range(len(matrix[start])):\n",
        "        if matrix[start][c] == 1 and (c not in visited):\n",
        "            dfs(c, visited)\n",
        "    return visited\n",
        "\n",
        "print(len(dfs(1,[]))-1)"
      ],
      "execution_count": null,
      "outputs": []
    },
    {
      "cell_type": "markdown",
      "metadata": {
        "id": "dIvKy7omh0xC"
      },
      "source": [
        "# 7576번 문제"
      ]
    },
    {
      "cell_type": "code",
      "metadata": {
        "id": "9ejbUJ2Eh3Mc"
      },
      "source": [
        "from collections import deque\n",
        "m, n = map(int, input().split())\n",
        "s = []\n",
        "queue = deque()\n",
        "dx = [1, -1, 0, 0]\n",
        "dy = [0, 0, -1, 1]\n",
        "for i in range(n):\n",
        "    s.append(list(map(int, input().split())))\n",
        "def bfs():\n",
        "    while queue:\n",
        "        a, b = queue.popleft()\n",
        "        for i in range(4):\n",
        "            x = a + dx[i]\n",
        "            y = b + dy[i]\n",
        "            if 0 <= x < n and 0 <= y < m and s[x][y] == 0:\n",
        "                s[x][y] = s[a][b] + 1\n",
        "                queue.append([x, y])\n",
        "for i in range(n):\n",
        "    for j in range(m):\n",
        "        if s[i][j] == 1:\n",
        "            queue.append([i, j])\n",
        "bfs()\n",
        "isTrue = False\n",
        "result = -2\n",
        "for i in s:\n",
        "    for j in i:\n",
        "        if j == 0:\n",
        "            isTrue = True\n",
        "        result = max(result, j)\n",
        "if isTrue == True:\n",
        "    print(-1)\n",
        "elif result == -1:\n",
        "    print(0)\n",
        "else:\n",
        "    print(result - 1)"
      ],
      "execution_count": null,
      "outputs": []
    },
    {
      "cell_type": "markdown",
      "metadata": {
        "id": "jighqcKa9wof"
      },
      "source": [
        "# 1012번 문제"
      ]
    },
    {
      "cell_type": "code",
      "metadata": {
        "id": "kdWdGJrp9vgp"
      },
      "source": [
        "t = int(input())\n",
        "dx = [1, -1, 0, 0]\n",
        "dy = [0, 0, -1, 1]\n",
        "def bfs(x, y):\n",
        "    queue = [[x, y]]\n",
        "    while queue:\n",
        "        a, b = queue[0][0], queue[0][1]\n",
        "        del queue[0]\n",
        "        for i in range(4):\n",
        "            q = a + dx[i]\n",
        "            w = b + dy[i]\n",
        "            if 0 <= q < n and 0 <= w < m and s[q][w] == 1:\n",
        "                s[q][w] = 0\n",
        "                queue.append([q, w])\n",
        "for i in range(t):\n",
        "    m, n, k = map(int, input().split())\n",
        "    s = [[0] * m for i in range(n)]\n",
        "    cnt = 0\n",
        "    for j in range(k):\n",
        "        a, b = map(int, input().split())\n",
        "        s[b][a] = 1\n",
        "    for q in range(n):\n",
        "        for w in range(m):\n",
        "            if s[q][w] == 1:\n",
        "                bfs(q, w)\n",
        "                s[q][w] = 0\n",
        "                cnt += 1\n",
        "    print(cnt)"
      ],
      "execution_count": null,
      "outputs": []
    },
    {
      "cell_type": "markdown",
      "metadata": {
        "id": "4rgFO-qSBBxZ"
      },
      "source": [
        "# 11724번 문제"
      ]
    },
    {
      "cell_type": "code",
      "metadata": {
        "id": "pBaEvVtYBEEU"
      },
      "source": [
        "import sys\n",
        "sys.setrecursionlimit(10000)\n",
        "n, m = map(int, sys.stdin.readline().split())\n",
        "s = [[0] * (n + 1) for i in range(n + 1)]\n",
        "visit = [0 for i in range(n + 1)]\n",
        "cnt = 0\n",
        "def dfs(i):\n",
        "    visit[i] = 1\n",
        "    for k in range(1, n + 1):\n",
        "        if s[i][k] == 1 and visit[k] == 0:\n",
        "            dfs(k)\n",
        "for i in range(m):\n",
        "    a, b = map(int, sys.stdin.readline().split())\n",
        "    s[a][b] = 1\n",
        "    s[b][a] = 1\n",
        "for i in range(1, n + 1):\n",
        "    if visit[i] == 0:\n",
        "        dfs(i)\n",
        "        cnt += 1\n",
        "print(cnt)"
      ],
      "execution_count": null,
      "outputs": []
    },
    {
      "cell_type": "markdown",
      "metadata": {
        "id": "crQniLqQTSHj"
      },
      "source": [
        "# 14502번 문제"
      ]
    },
    {
      "cell_type": "code",
      "metadata": {
        "id": "bkY0GtbJSoEV"
      },
      "source": [
        "s = []\n",
        "dx = [0, 0, -1, 1]\n",
        "dy = [-1, 1, 0, 0]\n",
        "max_result = 0\n",
        "def bfs():\n",
        "    global max_result\n",
        "    copy = [[0] * m for i in range(n)]\n",
        "    for i in range(n):\n",
        "        for j in range(m):\n",
        "            copy[i][j] = s[i][j]\n",
        "    result = 0\n",
        "    arr = []\n",
        "    for i in range(n):\n",
        "        for j in range(m):\n",
        "            if copy[i][j] == 2:\n",
        "                arr.append([i, j])\n",
        "    while arr:\n",
        "        a, b = arr[0][0], arr[0][1]\n",
        "        del arr[0]\n",
        "        for i in range(4):\n",
        "            ax = a + dx[i]\n",
        "            ay = b + dy[i]\n",
        "            if 0 <= ax and 0 <= ay and ax < n and ay < m:\n",
        "                if copy[ax][ay] == 0:\n",
        "                    copy[ax][ay] = 2\n",
        "                    arr.append([ax, ay])\n",
        "    for i in copy:\n",
        "        for j in i:\n",
        "            if j == 0:\n",
        "                result += 1\n",
        "    max_result = max(max_result, result)\n",
        "def wall(cnt):\n",
        "    if cnt == 3:\n",
        "        bfs()\n",
        "        return\n",
        "    for i in range(n):\n",
        "        for j in range(m):\n",
        "            if s[i][j] == 0:\n",
        "                s[i][j] = 1\n",
        "                wall(cnt + 1)\n",
        "                s[i][j] = 0\n",
        "n, m = map(int, input().split())\n",
        "for i in range(n):\n",
        "    s.append(list(map(int, input().split())))\n",
        "wall(0)\n",
        "print(max_result)"
      ],
      "execution_count": null,
      "outputs": []
    },
    {
      "cell_type": "markdown",
      "metadata": {
        "id": "L5sIK73Po7LD"
      },
      "source": [
        "# 2468번 문제"
      ]
    },
    {
      "cell_type": "code",
      "metadata": {
        "id": "IePU-zU2aBSV"
      },
      "source": [
        "n = int(input())\n",
        "wall = [list(map(int, input().split())) for _ in range(n)]\n",
        "max_wall = max([max(x) for x in wall])\n",
        "\n",
        "k = 4\n",
        "copy = [[0]*n for _ in range(n)]\n",
        "for i in range(n):\n",
        "    for j in range(n):\n",
        "        if wall[i][j] > k:\n",
        "            copy[i][j] = 1\n",
        "\n"
      ],
      "execution_count": null,
      "outputs": []
    },
    {
      "cell_type": "code",
      "metadata": {
        "id": "iQ0crNg-qzmI"
      },
      "source": [
        "n = int(input())\n",
        "s = []\n",
        "dx = [1, -1, 0, 0]\n",
        "dy = [0, 0, -1, 1]\n",
        "max_cnt = 0\n",
        "def bfs(j, k):\n",
        "    queue = [[j, k]]\n",
        "    while queue:\n",
        "        a, b = queue[0][0], queue[0][1]\n",
        "        del queue[0]\n",
        "        for k in range(4):\n",
        "            x = a + dx[k]\n",
        "            y = b + dy[k]\n",
        "            if 0 <= x < n and 0 <= y < n and copy[x][y] == 0:\n",
        "                copy[x][y] = 1\n",
        "                queue.append([x, y])\n",
        "for i in range(n):\n",
        "    a = list(map(int, input().split()))\n",
        "    s.append(a)\n",
        "for i in range(0, 101):\n",
        "    copy = [[0] * n for i in range(n)]\n",
        "    cnt = 0\n",
        "    for j in range(n):\n",
        "        for k in range(n):\n",
        "            if s[j][k] <= i:\n",
        "                copy[j][k] = 1\n",
        "    for j in range(n):\n",
        "        for k in range(n):\n",
        "            if copy[j][k] == 0:\n",
        "                copy[j][k] = 1\n",
        "                bfs(j, k)\n",
        "                cnt += 1\n",
        "    if cnt == 0:\n",
        "        break\n",
        "    max_cnt = max(max_cnt, cnt)\n",
        "print(max_cnt)"
      ],
      "execution_count": null,
      "outputs": []
    },
    {
      "cell_type": "markdown",
      "metadata": {
        "id": "_rnshcFB64Hj"
      },
      "source": [
        "# 2583번 문제"
      ]
    },
    {
      "cell_type": "code",
      "metadata": {
        "id": "Y62QZlpWaBlo"
      },
      "source": [
        "m, n, k = map(int, input().split())\n",
        "\n",
        "dx = [0, 0, -1, 1]\n",
        "dy = [-1, 1, 0, 0]\n",
        "cnt = []\n",
        "\n",
        "t = [[0]*n for _ in range(m)]\n",
        "\n",
        "for _ in range(k):\n",
        "    a,b,c,d = map(int, input().split())\n",
        "    for i in range(b, d):\n",
        "        for j in range(a, c):\n",
        "            t[i][j] = 1\n",
        "\n",
        "for i in range(m):\n",
        "    for j in range(n):\n",
        "        if t[i][j] == 0:\n",
        "            count = 1\n",
        "            t[i][j] = 1\n",
        "            queue = [[i, j]]\n",
        "            while queue:\n",
        "                x, y = queue[0][0], queue[0][1]\n",
        "                del queue[0]\n",
        "                for k in range(4):\n",
        "                    x1 = x + dx[k]\n",
        "                    y1 = y + dy[k]\n",
        "                    if 0 <= x1 < m and 0 <= y1 < n and t[x1][y1] == 0:\n",
        "                        t[x1][y1] = 1\n",
        "                        count += 1\n",
        "                        queue.append([x1, y1])\n",
        "            cnt.append(count)\n",
        "print(len(cnt))\n",
        "cnt.sort()\n",
        "for i in cnt:\n",
        "    print(i, end=' ')"
      ],
      "execution_count": null,
      "outputs": []
    },
    {
      "cell_type": "markdown",
      "metadata": {
        "id": "0AwCX6y7F87y"
      },
      "source": [
        "# 10026번 문제"
      ]
    },
    {
      "cell_type": "code",
      "metadata": {
        "id": "pTXY4zEwF_QC"
      },
      "source": [
        "dx = [0, 0, -1, 1]\n",
        "dy = [-1, 1, 0, 0]\n",
        "def bfs(i, j, v, arr):\n",
        "    queue = [[i, j]]\n",
        "    arr[i][j] = 0\n",
        "    while queue:\n",
        "        a, b = queue[0][0], queue[0][1]\n",
        "        del queue[0]\n",
        "        for k in range(4):\n",
        "            x = a + dx[k]\n",
        "            y = b + dy[k]\n",
        "            if 0 <= x < n and 0 <= y < n and arr[x][y] == v:\n",
        "                queue.append([x, y])\n",
        "                arr[x][y] = 0\n",
        "n = int(input())\n",
        "s = []\n",
        "copy = [[0] * n for i in range(n)]\n",
        "cnt = 0\n",
        "cntt = 0\n",
        "for i in range(n):\n",
        "    s.append(list(map(str, input())))\n",
        "for i in range(n):\n",
        "    for j in range(n):\n",
        "        if s[i][j] == \"R\" or s[i][j] == \"G\":\n",
        "            copy[i][j] = 1\n",
        "        else:\n",
        "            copy[i][j] = 2\n",
        "for i in range(n):\n",
        "    for j in range(n):\n",
        "        if s[i][j] != 0:\n",
        "            bfs(i, j, s[i][j], s)\n",
        "            cnt += 1\n",
        "        if copy[i][j] != 0:\n",
        "            bfs(i, j, copy[i][j], copy)\n",
        "            cntt += 1\n",
        "print(cnt, cntt)"
      ],
      "execution_count": null,
      "outputs": []
    },
    {
      "cell_type": "markdown",
      "metadata": {
        "id": "uQeD1VBILQhJ"
      },
      "source": [
        "# 7562번 문제"
      ]
    },
    {
      "cell_type": "code",
      "metadata": {
        "id": "X9eRyzInLTYQ"
      },
      "source": [
        "from collections import deque\n",
        "dx = [-1, -2, -2, -1, 1, 2, 2, 1]\n",
        "dy = [2, 1, -1, -2, -2, -1, 1, 2]\n",
        "def bfs(sx, sy, ax, ay):\n",
        "    q = deque()\n",
        "    q.append([sx, sy])\n",
        "    s[sx][sy] = 1\n",
        "    while q:\n",
        "        a, b = q.popleft()\n",
        "        if a == ax and b == ay:\n",
        "            print(s[ax][ay] -1)\n",
        "            return\n",
        "        for i in range(8):\n",
        "            x = a + dx[i]\n",
        "            y = b + dy[i]\n",
        "            if 0 <= x < n and 0 <= y < n and s[x][y] == 0:\n",
        "                q.append([x, y])\n",
        "                s[x][y] = s[a][b] + 1\n",
        "t = int(input())\n",
        "for i in range(t):\n",
        "    n = int(input())\n",
        "    sx, sy = map(int, input().split())\n",
        "    ax, ay = map(int, input().split())\n",
        "    s = [[0] * n for i in range(n)]\n",
        "    bfs(sx, sy, ax, ay)"
      ],
      "execution_count": null,
      "outputs": []
    },
    {
      "cell_type": "markdown",
      "metadata": {
        "id": "vCZBDDC7SH93"
      },
      "source": [
        "# 2644번 문제"
      ]
    },
    {
      "cell_type": "code",
      "metadata": {
        "id": "sw8dW__ZSJ5C"
      },
      "source": [
        "from collections import deque\n",
        "n = int(input())\n",
        "a, b = map(int, input().split())\n",
        "m = int(input())\n",
        "s = [[] for i in range(n + 1)]\n",
        "result = [0 for i in range(n + 1)]\n",
        "def bfs(start):\n",
        "    q = deque()\n",
        "    q.append(start)\n",
        "    visit = [0 for i in range(n + 1)]\n",
        "    visit[start] = 1\n",
        "    while q:\n",
        "        d = q.popleft()\n",
        "        for i in s[d]:\n",
        "            if visit[i] == 0:\n",
        "                visit[i] = 1\n",
        "                result[i] = result[d] + 1\n",
        "                q.append(i)\n",
        "for i in range(m):\n",
        "    x, y = map(int, input().split())\n",
        "    s[x].append(y)\n",
        "    s[y].append(x)\n",
        "bfs(a)\n",
        "print(result[b] if result[b] != 0 else -1)"
      ],
      "execution_count": null,
      "outputs": []
    },
    {
      "cell_type": "markdown",
      "metadata": {
        "id": "qtGFpLHChzzp"
      },
      "source": [
        "# 1707번 문제"
      ]
    },
    {
      "cell_type": "code",
      "metadata": {
        "id": "td2el6mOh2kH"
      },
      "source": [
        "n = int(input())\n",
        "\n",
        "for _ in range(n):\n",
        "    v, e = map(int, input().split())\n",
        "    vector = [[] for _ in range(v+1)]\n",
        "    for _ in range(e):\n",
        "        a, b = map(int, input().split())\n",
        "        vector[a].append(b)\n",
        "        vector[b].append(a)\n",
        "    \n"
      ],
      "execution_count": null,
      "outputs": []
    },
    {
      "cell_type": "code",
      "metadata": {
        "id": "pzjPZW3jnmdP"
      },
      "source": [
        "from collections import deque\n",
        "\n",
        "k = int(input())\n",
        "def bfs(start):\n",
        "    bi[start] = 1\n",
        "    q = deque()\n",
        "    q.append(start)\n",
        "    while q:\n",
        "        a = q.popleft()\n",
        "        for i in s[a]:\n",
        "            if bi[i] == 0:\n",
        "                bi[i] = -bi[a]\n",
        "                q.append(i)\n",
        "            else:\n",
        "                if bi[i] == bi[a]:\n",
        "                    return False\n",
        "    return True\n",
        "for i in range(k):\n",
        "    v, e = map(int, input().split())\n",
        "    isTrue = True\n",
        "    s = [[] for i in range(v + 1)]\n",
        "    bi = [0 for i in range(v + 1)]\n",
        "    for j in range(e):\n",
        "        a, b = map(int, input().split())\n",
        "        s[a].append(b)\n",
        "        s[b].append(a)\n",
        "    for k in range(1, v + 1):\n",
        "        if bi[k] == 0:\n",
        "            if not bfs(k):\n",
        "                isTrue = False\n",
        "                break\n",
        "    print(\"YES\"if isTrue else \"NO\")"
      ],
      "execution_count": null,
      "outputs": []
    },
    {
      "cell_type": "markdown",
      "metadata": {
        "id": "ALQ0_afSxb2A"
      },
      "source": [
        "# 2573번 문제"
      ]
    },
    {
      "cell_type": "code",
      "metadata": {
        "id": "j91Kr97TxehO"
      },
      "source": [
        "def melt(gla, x, y):\n",
        "    if gla[x][y] == 0: return 0\n",
        "    count = 0\n",
        "    if x-1>0:\n",
        "        if gla[x-1][y] != 0: count += 1\n",
        "    if x+1<=m:\n",
        "        if gla[x+1][y] != 0: count += 1\n",
        "    if y-1>0:\n",
        "        if gla[x][y-1] != 0: count += 1\n",
        "    if y+1 <= n:\n",
        "        if gla[x][y+1] != 0: count += 1\n",
        "    if count > gla[x][y]: return gla[x][y]\n",
        "    else:\n",
        "        return count\n",
        "\n",
        "def check_bipartite(gla):\n",
        "\n",
        "n, m = map(int, input().split())\n",
        "# n = 세로, m = 가로\n",
        "gla = [list(map(int,input().split())) for _ in range(n)]\n",
        "\n",
        "while not check_bipartite(gla):\n",
        "    temp = [[0]*m for _ in range(n)]\n",
        "    for i in range(m):\n",
        "        for j in range(n):\n",
        "            if gla[i][j] == 0: temp[i][j] = 0\n",
        "            else:\n",
        "                count = melt(gla, i, j)\n",
        "                temp[i][j] = gla[i][j]-count"
      ],
      "execution_count": null,
      "outputs": []
    },
    {
      "cell_type": "code",
      "metadata": {
        "id": "qXyd9yypOiSO"
      },
      "source": [
        "import sys\n",
        "from collections import deque\n",
        "def bfs(i,j,visit) :\n",
        "    que = deque([[i,j]])\n",
        "    melting_que = deque() # 빙하가 녹는 위치와 녹는 정도를 저장하는 큐\n",
        "    visit[i][j] = 1\n",
        "    while que :\n",
        "        i,j = que.popleft()\n",
        "        melt_cnt = 0\n",
        "        for d_x, d_y in direction :\n",
        "            next_x = i + d_x\n",
        "            next_y = j + d_y\n",
        "            if 0 <= next_x <= x-1 and 0 <= next_y <= y-1 and visit[next_x][next_y] == 0:\n",
        "            # 빙산의 높이가 있고 방문을 안했을 경우 que에 값 넣어주기\n",
        "                if glacier[next_x][next_y] != 0:\n",
        "                    visit[next_x][next_y] = 1  # 방문 체크\n",
        "                    que.append([next_x,next_y])\n",
        "            # 사방향 탐색 시 0일 경우 melt_cnt 증가\n",
        "                else :\n",
        "                    melt_cnt += 1\n",
        "        if melt_cnt :\n",
        "            melting_que.append([i,j,melt_cnt])\n",
        "    return melting_que\n",
        "\n",
        "#input=sys.stdin.readline\n",
        "year = 0 # 몇 년이 지났는지 판단하는 변수\n",
        "x, y = map(int,input().split())\n",
        "glacier = [[int(n) for n in input().split()] for _ in range(x)]\n",
        "direction = ((1,0),(-1,0),(0,-1),(0,1)) #동서남북\n",
        "#반복문 종료 조건 -> 빙산의 갯수가 0이거나 2일 경우\n",
        "while True :\n",
        "    cnt = 0 # 빙산의 갯수를 담는 cnt 변수\n",
        "    visit = [[0 for _ in range(y)] for _ in range(x)]  # bfs를 위한 탐색 확인 리스트\n",
        "    for i in range(x-1) :\n",
        "        for j in range(y-1) :\n",
        "            if glacier[i][j] != 0 and visit[i][j] == 0 : #빙하의 높이가 남아있고 방문하지 않을 경우\n",
        "                cnt += 1 # 빙산의 갯수 추가\n",
        "                melt = bfs(i,j,visit) # bfs 시작을 하고 각 좌표별로 녹는 정도 반환\n",
        "                while melt :\n",
        "                    m_x, m_y, m = melt.popleft()\n",
        "                    glacier[m_x][m_y] = max(glacier[m_x][m_y]-m, 0)\n",
        "    if cnt == 0 :\n",
        "        year = 0\n",
        "        break\n",
        "    if cnt >= 2 :\n",
        "        break\n",
        "    year += 1  # 일 년 증가\n",
        "    # 빙산의 갯수가 0이거나 2일 경우 반복문 종료\n",
        "print(year)"
      ],
      "execution_count": null,
      "outputs": []
    },
    {
      "cell_type": "markdown",
      "metadata": {
        "id": "4FWcNbqWmraO"
      },
      "source": [
        "# 1987번 문제"
      ]
    },
    {
      "cell_type": "code",
      "metadata": {
        "id": "Evoxsz2Jmt0f"
      },
      "source": [
        "import sys\n",
        "\n",
        "# 좌, 하, 우, 상\n",
        "dx = [-1, 0, 1, 0]\n",
        "dy = [0, -1, 0, 1]\n",
        "\n",
        "\n",
        "def BFS(x, y):\n",
        "    global answer\n",
        "    q = set([(x, y, board[x][y])])\n",
        "\n",
        "    while q:\n",
        "        x, y, ans = q.pop()\n",
        "\n",
        "        # 좌우상하 갈 수 있는지 살펴본다\n",
        "        for i in range(4):\n",
        "            nx = x + dx[i]\n",
        "            ny = y + dy[i]\n",
        "\n",
        "            # index 벗어나지 않는지 체크하고, 새로운 칸이 중복되는 알파벳인지 체크한다\n",
        "            if ((0 <= nx < R) and (0 <= ny < C)) and (board[nx][ny] not in ans):\n",
        "                q.add((nx,ny,ans + board[nx][ny]))\n",
        "                answer = max(answer, len(ans)+1)\n",
        "\n",
        "\n",
        "R, C = map(int, sys.stdin.readline().split())\n",
        "board = [list(sys.stdin.readline().strip()) for _ in range(R)]\n",
        "\n",
        "answer = 1\n",
        "BFS(0, 0)\n",
        "print(answer)"
      ],
      "execution_count": null,
      "outputs": []
    },
    {
      "cell_type": "markdown",
      "metadata": {
        "id": "Zu8Ie2Rz7EqX"
      },
      "source": [
        "# 7569번 문제"
      ]
    },
    {
      "cell_type": "code",
      "metadata": {
        "id": "QwnHNWiS7GrA"
      },
      "source": [
        "from collections import deque\n",
        "import sys\n",
        "# input = sys.stdin.readline\n",
        "dx = [1, -1, 0, 0, 0, 0]\n",
        "dy = [0, 0, -1, 1, 0, 0]\n",
        "dz = [0, 0, 0, 0, -1, 1]\n",
        "def bfs():\n",
        "    while q:\n",
        "        a, b, c = q.popleft()\n",
        "        visit[c][a][b] = 1\n",
        "        for i in range(6):\n",
        "            x = a + dx[i]\n",
        "            y = b + dy[i]\n",
        "            z = c + dz[i]\n",
        "            if 0 <= x < n and 0 <= y < m and 0 <= z < h and s[z][x][y] == 0 and visit[z][x][y] == 0:\n",
        "                q.append([x, y, z])\n",
        "                s[z][x][y] = s[c][a][b] + 1\n",
        "                visit[z][x][y] = 1\n",
        "m, n, h = map(int, input().split())\n",
        "s = [[] for i in range(h)]\n",
        "visit = [[[0 for i in range(m)] for i in range(n)] for i in range(h)]\n",
        "q = deque()\n",
        "isTrue = False\n",
        "st = False\n",
        "for i in range(h):\n",
        "    for j in range(n):\n",
        "        s[i].append(list(map(int, input().split())))\n",
        "for z in range(h):\n",
        "    for x in range(n):\n",
        "        for y in range(m):\n",
        "            if s[z][x][y] == 1:\n",
        "                q.append([x, y, z])\n",
        "bfs()\n",
        "max_num = 0\n",
        "for z in range(h):\n",
        "    for x in range(n):\n",
        "        for y in range(m):\n",
        "            if s[z][x][y] == 0:\n",
        "                isTrue = True\n",
        "            max_num = max(max_num, s[z][x][y])\n",
        "if isTrue == True:\n",
        "    print(-1)\n",
        "else:\n",
        "    print(max_num - 1)"
      ],
      "execution_count": null,
      "outputs": []
    }
  ]
}