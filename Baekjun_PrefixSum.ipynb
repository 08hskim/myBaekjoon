{
  "nbformat": 4,
  "nbformat_minor": 0,
  "metadata": {
    "colab": {
      "name": "Baekjun_PrefixSum.ipynb",
      "private_outputs": true,
      "provenance": [],
      "collapsed_sections": [],
      "authorship_tag": "ABX9TyOq4ROpQKYkPpUeLxtAV1Iu",
      "include_colab_link": true
    },
    "kernelspec": {
      "name": "python3",
      "display_name": "Python 3"
    },
    "language_info": {
      "name": "python"
    }
  },
  "cells": [
    {
      "cell_type": "markdown",
      "metadata": {
        "id": "view-in-github",
        "colab_type": "text"
      },
      "source": [
        "<a href=\"https://colab.research.google.com/github/08hskim/myBaekjoon/blob/master/Baekjun_PrefixSum.ipynb\" target=\"_parent\"><img src=\"https://colab.research.google.com/assets/colab-badge.svg\" alt=\"Open In Colab\"/></a>"
      ]
    },
    {
      "cell_type": "markdown",
      "metadata": {
        "id": "9RNrtqA5dYWb"
      },
      "source": [
        "# 2559번 문제"
      ]
    },
    {
      "cell_type": "code",
      "metadata": {
        "id": "jAl4fqhfdTVQ"
      },
      "source": [
        "n, k = map(int, input().split())\n",
        "c = list(map(int,input().split()))\n",
        "\n",
        "temp = sum(c[:k])\n",
        "result = temp\n",
        "\n",
        "for i in range(k,n):\n",
        "    temp += c[i]\n",
        "    temp -= c[i-k]\n",
        "    if temp > result: result = temp\n",
        "\n",
        "print(result)"
      ],
      "execution_count": null,
      "outputs": []
    },
    {
      "cell_type": "markdown",
      "metadata": {
        "id": "X7JOHeIL8h91"
      },
      "source": [
        "# 2143번 문제"
      ]
    },
    {
      "cell_type": "code",
      "metadata": {
        "id": "h5lPKxYB8joG"
      },
      "source": [
        "t = int(input())\n",
        "n = int(input())\n",
        "a = list(map(int,input().split()))\n",
        "m = int(input())\n",
        "b = list(map(int, input().split()))\n",
        "\n",
        "A, B = {}, {}\n",
        "\n",
        "for i in range(n):\n",
        "    k = 0\n",
        "    for j in range(i,n):\n",
        "        k += a[j]\n",
        "        if A.get(k):\n",
        "            A[k] += 1\n",
        "        else: A[k] = 1\n",
        "\n",
        "for i in range(m):\n",
        "    k = 0\n",
        "    for j in range(i,m):\n",
        "        k += b[j]\n",
        "        if B.get(k):\n",
        "            B[k] += 1\n",
        "        else: B[k] = 1\n",
        "\n",
        "result = 0\n",
        "for _, i in enumerate(A):\n",
        "    if B.get(t-i):\n",
        "        result += (A[i]*B[t-i])\n",
        "\n",
        "print(result)"
      ],
      "execution_count": null,
      "outputs": []
    },
    {
      "cell_type": "markdown",
      "metadata": {
        "id": "tFrpyLSw_XOP"
      },
      "source": [
        "# 10211번 문제"
      ]
    },
    {
      "cell_type": "code",
      "metadata": {
        "id": "7_VV2v5n_ZR4"
      },
      "source": [
        "t = int(input())\n",
        "\n",
        "for _ in range(t):\n",
        "    n = int(input())\n",
        "    arr = list(map(int, input().split()))\n",
        "    dp = [0]*n\n",
        "    dp[0] = arr[0]\n",
        "    for i in range(1,n):\n",
        "        dp[i] = max(dp[i-1]+arr[i], arr[i])\n",
        "    print(max(dp))"
      ],
      "execution_count": null,
      "outputs": []
    },
    {
      "cell_type": "markdown",
      "metadata": {
        "id": "iX4m1TCiPkZd"
      },
      "source": [
        "# 10800번 문제"
      ]
    },
    {
      "cell_type": "code",
      "metadata": {
        "id": "pfI0XUCNPnGD"
      },
      "source": [
        "from collections import defaultdict\n",
        "\n",
        "n = int(input())\n",
        "\n",
        "ball = []\n",
        "for i in range(n):\n",
        "    a, b = map(int, input().split())\n",
        "    ball.append([a,b,i])\n",
        "\n",
        "ball.sort(key = lambda x: x[1])\n",
        "\n",
        "answer = defaultdict(int)\n",
        "ball_size_sum = defaultdict(int)\n",
        "\n",
        "result = 0\n",
        "i, j = 0, 0\n",
        "\n",
        "for i in range(n):\n",
        "    while ball[j][1] < ball[i][1]:\n",
        "        result += ball[j][1]\n",
        "        ball_size_sum[ball[j][0]] += ball[j][1]\n",
        "        j += 1\n",
        "    answer[ball[i][2]] = result - ball_size_sum[ball[i][0]]\n",
        "\n",
        "for i in range(n): print(answer[i])"
      ],
      "execution_count": null,
      "outputs": []
    },
    {
      "cell_type": "markdown",
      "metadata": {
        "id": "lBsQQkS3aX80"
      },
      "source": [
        "# 2616번 문제"
      ]
    },
    {
      "cell_type": "code",
      "metadata": {
        "id": "wq-YmCC7aZrT"
      },
      "source": [
        "N = int(input())\n",
        "arr = list(map(int, input().split()))\n",
        "width = int(input())\n",
        "\n",
        "dp = [[0] * len(arr) for _ in range(3)]\n",
        "sumArr = [0] * len(arr)\n",
        "sumArr[width - 1] = sum(arr[0:width])\n",
        "\n",
        "for i in range(width, len(arr)):\n",
        "    sumArr[i] = sumArr[i - 1] - arr[i - width] + arr[i]\n",
        "\n",
        "for i in range(width - 1, len(arr)):\n",
        "    dp[0][i] = max(dp[0][i - 1], sumArr[i])\n",
        "\n",
        "for i in range(1, 3):\n",
        "    for j in range(width - 1 + i * width, len(arr)):\n",
        "        dp[i][j] = max(dp[i][j - 1], dp[i - 1][j - width] + sumArr[j])\n",
        "\n",
        "print(dp[2][-1])"
      ],
      "execution_count": null,
      "outputs": []
    },
    {
      "cell_type": "code",
      "metadata": {
        "id": "6FZyCiydiUOV"
      },
      "source": [
        "n = int(input())\n",
        "arr = tuple(map(int, input().split()))\n",
        "k = int(input())\n",
        "dp1, dp2, dp3 = [0]*(n+1), [0]*(n+1), [0]*(n+1)\n",
        "for i in range(k, n+1):\n",
        "    t = sum(arr[i-k:i])\n",
        "    dp1[i], dp2[i], dp3[i] = max(dp1[i-1], t), max(dp2[i-1], dp1[i-k]+t), max(dp3[i-1], dp2[i-k]+t)\n",
        "print(dp3[n])"
      ],
      "execution_count": null,
      "outputs": []
    },
    {
      "cell_type": "markdown",
      "metadata": {
        "id": "K3_8Z4YgqLSt"
      },
      "source": [
        "# 2632번 문제"
      ]
    },
    {
      "cell_type": "code",
      "metadata": {
        "id": "-xulDQv_qNhJ"
      },
      "source": [
        "t = int(input())\n",
        "n, m = map(int, input().split())\n",
        "a = [int(input()) for _ in range(n)]\n",
        "b = [int(input()) for _ in range(m)]\n",
        "\n",
        "A, B = {}, {}\n",
        "\n",
        "for i in range(n):\n",
        "    k = 0\n",
        "    for j in range(i,i+n):\n",
        "        k += a[j%n]\n",
        "        if k > t: break\n",
        "        else:\n",
        "            if A.get(k):\n",
        "                A[k] += 1\n",
        "            else: A[k] = 1\n",
        "\n",
        "for i in range(m):\n",
        "    k = 0\n",
        "    for j in range(i,i+m):\n",
        "        k += b[j%m]\n",
        "        if k > t: break\n",
        "        else:\n",
        "            if B.get(k):\n",
        "                B[k] += 1\n",
        "            else: B[k] = 1\n",
        "\n",
        "print(A)\n",
        "print(B)\n",
        "result = 0\n",
        "\n",
        "for _, i in enumerate(A):\n",
        "    if i == t: result += A[i]\n",
        "\n",
        "for _, i in enumerate(B):\n",
        "    if i == t: result += B[i]\n",
        "\n",
        "for _, i in enumerate(A):\n",
        "    if B.get(t-i):\n",
        "        result += (A[i]*B[t-i])\n",
        "\n",
        "print(result)"
      ],
      "execution_count": null,
      "outputs": []
    },
    {
      "cell_type": "code",
      "metadata": {
        "id": "a2lXTxQfsVpj"
      },
      "source": [
        "from collections import deque\n",
        "\n",
        "def get_count(a, m):\n",
        "    count_a = [0] * (sum(a) + 1)\n",
        "    count_a[0] = 1\n",
        "    count_a[-1] = 1\n",
        "    for i in range(m):\n",
        "        q = deque(a)\n",
        "        for _ in range(i):\n",
        "            q.rotate(-1)\n",
        "        q.pop()\n",
        "        summ = 0\n",
        "        while q:\n",
        "            summ += q.popleft()\n",
        "            count_a[summ] += 1\n",
        "    return count_a\n",
        "\n",
        "\n",
        "total = int(input())\n",
        "m, n = map(int, input().split())\n",
        "a = [int(input()) for _ in range(m)]\n",
        "b = [int(input()) for _ in range(n)]\n",
        "\n",
        "count_a = get_count(a, m)\n",
        "count_b = get_count(b, n)\n",
        "\n",
        "answer = 0\n",
        "for i in range(total + 1):\n",
        "    j = total - i\n",
        "    if 0 <= i < len(count_a) and 0 <= j < len(count_b):\n",
        "        answer += count_a[i] * count_b[j]\n",
        "print(answer)"
      ],
      "execution_count": null,
      "outputs": []
    },
    {
      "cell_type": "markdown",
      "metadata": {
        "id": "DvVKx3Hk9YqW"
      },
      "source": [
        "# 2725번 문제"
      ]
    },
    {
      "cell_type": "code",
      "metadata": {
        "id": "l7kduswJ9atO"
      },
      "source": [
        "def gcd(a,b):\n",
        "    if b == 0: return a\n",
        "    else: return gcd(b,a%b)\n",
        "\n",
        "dp = [0]*1002\n",
        "\n",
        "for i in range(1, len(dp)):\n",
        "    dp[i] = dp[i-1]\n",
        "    for j in range(i):\n",
        "        if gcd(i,j) == 1:dp[i] += 2\n",
        "\n",
        "for i in range(int(input())):\n",
        "    n = int(input())\n",
        "    print(dp[n]+1)"
      ],
      "execution_count": null,
      "outputs": []
    },
    {
      "cell_type": "markdown",
      "metadata": {
        "id": "GSP1P5onCOew"
      },
      "source": [
        "# 11658번 문제"
      ]
    },
    {
      "cell_type": "code",
      "metadata": {
        "id": "w-5YchbU-H66"
      },
      "source": [
        "n, m = map(int, input().split())\n",
        "\n",
        "num = [list(map(int, input().split())) for _ in range(n)]\n",
        "\n",
        "for _ in range(m):\n",
        "    op = list(map(int, input().split()))\n",
        "    if op[0] == 0:\n",
        "        num[op[1]][op[2]] = op[-1]\n",
        "    elif op[0] == 1:\n",
        "        result = 0\n",
        "        "
      ],
      "execution_count": null,
      "outputs": []
    },
    {
      "cell_type": "code",
      "metadata": {
        "id": "fgla9j8gSXkG"
      },
      "source": [
        "def getSum(i,j):\n",
        "  s=0\n",
        "  while i:\n",
        "    j1=j\n",
        "    while j1:\n",
        "      s+=bit[i][j1]\n",
        "      j1-=j1&-j1\n",
        "    i-=i&-i\n",
        "  return s\n",
        "  \n",
        "def update(i,j,x):\n",
        "  while i<=n:\n",
        "    j1=j\n",
        "    while j1<=n:\n",
        "      bit[i][j1]+=x\n",
        "      j1+=j1&-j1\n",
        "    i+=i&-i\n",
        "\n",
        "\n",
        "n,m=map(int,input().split())\n",
        "a=[[*map(int,input().split())] for _ in range(n)]\n",
        "bit=[[0]*(n+1) for _ in range(n+1)]\n",
        "\n",
        "for i in range(n):\n",
        "  for j in range(n):\n",
        "    bit[i+1][j+1]=a[i][j]\n",
        "\n",
        "\n",
        "for i in range(1,n+1):\n",
        "  for j in range(1,n+1):\n",
        "    j1=j+(j&-j)\n",
        "    if j1<=n:\n",
        "      bit[i][j1]+=bit[i][j]\n",
        "\n",
        "\n",
        "for i in range(1,n+1):\n",
        "  for j in range(1,n+1):\n",
        "    i1=i+(i&-i)\n",
        "    if i1<=n:\n",
        "      bit[i1][j]+=bit[i][j]\n",
        "\n",
        "for _ in range(m):\n",
        "  w,*q=map(int,input().split())\n",
        "  if w:\n",
        "    x1,y1,x2,y2=q\n",
        "    print(getSum(x2,y2)-getSum(x1-1,y2)-getSum(x2,y1-1)+getSum(x1-1,y1-1))\n",
        "  else:\n",
        "    x,y,c=q\n",
        "    t=c-a[x-1][y-1]\n",
        "    a[x-1][y-1]=c\n",
        "    update(x,y,t)"
      ],
      "execution_count": null,
      "outputs": []
    },
    {
      "cell_type": "markdown",
      "metadata": {
        "id": "Xjr_DKUfjsGf"
      },
      "source": [
        "# 17390번 문제"
      ]
    },
    {
      "cell_type": "code",
      "metadata": {
        "id": "t7W3LZJhVjo3"
      },
      "source": [
        "n, m = map(int, input().split())\n",
        "\n",
        "num = list(map(int, input().split()))\n",
        "num = sorted(num)\n",
        "\n",
        "for i in range(1, n):\n",
        "    num[i] = num[i] + num[i-1]\n",
        "for _ in range(m):\n",
        "    a, b = map(int, input().split())\n",
        "    if a == 1: print(num[b-1])\n",
        "    else: print(num[b-1]- num[a-2])"
      ],
      "execution_count": null,
      "outputs": []
    },
    {
      "cell_type": "markdown",
      "metadata": {
        "id": "DJSH71OamqXx"
      },
      "source": [
        "# 12847번 문제"
      ]
    },
    {
      "cell_type": "code",
      "metadata": {
        "id": "wnj0HYchmsuq"
      },
      "source": [
        "n, m = map(int, input().split())\n",
        "pay = [0] + list(map(int, input().split()))\n",
        "\n",
        "result = 0\n",
        "for i in range(1, m+1):\n",
        "    result += pay[i]\n",
        "\n",
        "answer = result\n",
        "for i in range(m+1, n+1):\n",
        "    result = result + pay[i] - pay[i-m]\n",
        "    answer = max(answer, result)\n",
        "\n",
        "print(answer)"
      ],
      "execution_count": null,
      "outputs": []
    },
    {
      "cell_type": "markdown",
      "metadata": {
        "id": "pZSQ5tHfxxFe"
      },
      "source": [
        "# 9527번 문제"
      ]
    },
    {
      "cell_type": "code",
      "metadata": {
        "id": "TayuWn_hxzrv"
      },
      "source": [
        "def f(x):\n",
        "    n = len(bin(x))-3\n",
        "    return n*2**(n-1)+x-2**n+f(x-2**n)\n",
        "n, m = map(int, input().split())\n",
        "\n",
        "count = 0\n",
        "for i in range(n, m+1):\n",
        "    a = bin(i)\n",
        "    count += a.count('1')\n",
        "\n",
        "print(count)"
      ],
      "execution_count": null,
      "outputs": []
    },
    {
      "cell_type": "code",
      "metadata": {
        "id": "acQ_sGzq64aV"
      },
      "source": [
        "A, B = map(int, input().split())\n",
        "\n",
        "def one_cnt(N):\n",
        "    if N == 0 : return 0\n",
        "    l = len(str(bin(N)))-3   \n",
        "    def fullbit(x): return x * 2**(x-1)\n",
        "    return int(fullbit(l) + N-2**(l)+1 + one_cnt(N-2**(l)))\n",
        "\n",
        "print(one_cnt(B)-one_cnt(A-1))\n"
      ],
      "execution_count": null,
      "outputs": []
    },
    {
      "cell_type": "markdown",
      "metadata": {
        "id": "2CnF0giZ_9Xy"
      },
      "source": [
        "# 1866번 문제"
      ]
    },
    {
      "cell_type": "code",
      "metadata": {
        "id": "7vFOg__R__Mm"
      },
      "source": [
        "n = int(input())\n",
        "price = list(map(int, input().split()))\n",
        "tr, heli = map(int, input().split())\n",
        "price.sort()\n",
        "state = 0\n",
        "\n",
        "price_set = list(set(price))\n",
        "pay = []\n",
        "for i in range(len(price_set)-1):\n",
        "    pay.append(abs(price_set[i]-price_set[i+1]))\n",
        "\n"
      ],
      "execution_count": null,
      "outputs": []
    },
    {
      "cell_type": "markdown",
      "metadata": {
        "id": "QYJRWoaEaDzv"
      },
      "source": [
        "# 3114번 문제"
      ]
    },
    {
      "cell_type": "code",
      "metadata": {
        "id": "h_SdNQIdaG7l"
      },
      "source": [
        "r, c = map(int, input().split())\n",
        "\n",
        "a = [[0]*c for _ in range(r)]\n",
        "b = [[0]*c for _ in range(r)]\n",
        "d = [[0]*c for _ in range(r)]\n",
        "\n",
        "Map = []\n",
        "for _ in range(r):\n",
        "    a = list(input().split())\n",
        "    print(a)\n",
        "    Map.append(a)\n",
        "\n",
        "\n",
        "\n",
        "for i in range(r):\n",
        "    for j in range(c):\n",
        "        k = Map[i][j]\n",
        "        if k[0] == 'A':a[i][j] += int(k[1:])\n",
        "        else: b[i][j] += int(k[1:])\n",
        "\n",
        "for i in range(r):\n",
        "    for j in range(c):\n",
        "        a[i][j] += a[i][j-1]\n",
        "        b[i][m-j+1] += b[i][m-j+2]\n",
        "\n",
        "for i in range(r):\n",
        "    for j in range(c):\n",
        "        if (i == 1) or (j == 1):\n",
        "            d[i][j] = d[i-1][j] + b[i][j+1]\n",
        "            continue\n",
        "        d[i][j] = max(d[i-1][j-1], d[i-1][j]) + a[i][j-1] + b[i][j+1]\n",
        "        d[i][j] = max(d[i][j], d[i][j-1] - b[i][j] + b[i][j+1])\n",
        "\n",
        "print(\"%d\\n\", d[n][m])"
      ],
      "execution_count": null,
      "outputs": []
    },
    {
      "cell_type": "code",
      "metadata": {
        "id": "CW-GyrmyhnZk"
      },
      "source": [
        "n,k = map(int,input().split())\n",
        "l = list(map(int,input().split()))\n",
        "ans = 0\n",
        "s = 0\n",
        "dic = {0:1}\n",
        "for i in range(n):\n",
        "    s+=l[i]\n",
        "    if s-k in dic: ans+=dic[s-k]\n",
        "    try: dic[s]+=1\n",
        "    except: dic[s]=1\n",
        "print(ans)\n"
      ],
      "execution_count": null,
      "outputs": []
    }
  ]
}