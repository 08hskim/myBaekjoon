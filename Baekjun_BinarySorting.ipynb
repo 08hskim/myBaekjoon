{
  "nbformat": 4,
  "nbformat_minor": 0,
  "metadata": {
    "colab": {
      "name": "Baekjun_BinarySorting.ipynb",
      "private_outputs": true,
      "provenance": [],
      "collapsed_sections": [],
      "authorship_tag": "ABX9TyPVgwCCT2dpNBfR89C9MByx",
      "include_colab_link": true
    },
    "kernelspec": {
      "name": "python3",
      "display_name": "Python 3"
    }
  },
  "cells": [
    {
      "cell_type": "markdown",
      "metadata": {
        "id": "view-in-github",
        "colab_type": "text"
      },
      "source": [
        "<a href=\"https://colab.research.google.com/github/08hskim/myBaekjoon/blob/master/Baekjun_BinarySorting.ipynb\" target=\"_parent\"><img src=\"https://colab.research.google.com/assets/colab-badge.svg\" alt=\"Open In Colab\"/></a>"
      ]
    },
    {
      "cell_type": "markdown",
      "metadata": {
        "id": "7FgPolDA7AdY"
      },
      "source": [
        "# 1920번 문제"
      ]
    },
    {
      "cell_type": "code",
      "metadata": {
        "id": "qGIAfys766MJ"
      },
      "source": [
        "n = int(input())\n",
        "N = sorted(list(map(int,input().split())))\n",
        "m = int(input())\n",
        "M = list(map(int,input().split()))\n",
        "\n",
        "\n",
        "def binary(l, N, start, end):\n",
        "    if start > end:\n",
        "        return 0\n",
        "    m = (start+end)//2\n",
        "    if l == N[m]:\n",
        "        return 1\n",
        "    elif l < N[m]:\n",
        "        return binary(l, N, start, m-1)\n",
        "    else:\n",
        "        return binary(l, N, m+1, end)\n",
        "\n",
        "for l in M:\n",
        "    start = 0\n",
        "    end = len(N)-1\n",
        "    print(binary(l,N,start,end))"
      ],
      "execution_count": null,
      "outputs": []
    },
    {
      "cell_type": "markdown",
      "metadata": {
        "id": "pbtAL502_xn8"
      },
      "source": [
        "# 2805번 문제"
      ]
    },
    {
      "cell_type": "code",
      "metadata": {
        "id": "ocfue71V_zii"
      },
      "source": [
        "N, M = map(int, input().split())\n",
        "tree = list(map(int, input().split()))\n",
        "start, end = 1, max(tree) #이분탐색 검색 범위 설정\n",
        "\n",
        "while start <= end: #적절한 벌목 높이를 찾는 알고리즘\n",
        "    mid = (start+end) // 2\n",
        "    \n",
        "    log = 0 #벌목된 나무 총합\n",
        "    for i in tree:\n",
        "        if i >= mid:\n",
        "            log += i - mid\n",
        "    \n",
        "    #벌목 높이를 이분탐색\n",
        "    if log >= M:\n",
        "        start = mid + 1\n",
        "    else:\n",
        "        end = mid - 1\n",
        "print(end)"
      ],
      "execution_count": null,
      "outputs": []
    },
    {
      "cell_type": "markdown",
      "metadata": {
        "id": "QH4dpBjLUZrL"
      },
      "source": [
        "# 1654번 문제"
      ]
    },
    {
      "cell_type": "code",
      "metadata": {
        "id": "Ua3zzgtnUb3g"
      },
      "source": [
        "k, n = map(int, input().split())\n",
        "\n",
        "lan = sorted([int(input()) for _ in range(k)])\n",
        "\n",
        "start = 1\n",
        "end = lan[-1]\n",
        "\n",
        "while start <= end:\n",
        "    mid = (start+end)//2\n",
        "    count = 0\n",
        "    for i in lan:\n",
        "        count += i//mid\n",
        "    if count >= n:start = mid+1\n",
        "    else: end = mid-1\n",
        "\n",
        "print(end)"
      ],
      "execution_count": null,
      "outputs": []
    },
    {
      "cell_type": "markdown",
      "metadata": {
        "id": "GXCei47UWIsR"
      },
      "source": [
        "# 2110번 문제"
      ]
    },
    {
      "cell_type": "code",
      "metadata": {
        "id": "hXsBN8QmW49Q"
      },
      "source": [
        "N, C = map(int, (input().split()))\n",
        "house = [int(input()) for _ in range(N)]\n",
        "\n",
        "def router_counter(distance):\n",
        "    count = 1\n",
        "    cur_house = house[0]\n",
        "    for i in range(1, N):\n",
        "        if cur_house + distance <= house[i]:\n",
        "            count += 1\n",
        "            cur_house = house[i]\n",
        "    return count\n",
        "\n",
        "house = sorted(house)\n",
        "start, end = 1, house[-1] - house[0]\n",
        "\n",
        "while start <= end:\n",
        "    mid = (start+end) // 2\n",
        "    \n",
        "    if router_counter(mid) >= C:\n",
        "        answer = mid\n",
        "        start = mid + 1\n",
        "    else:\n",
        "        end = mid - 1\n",
        "        \n",
        "print(answer)"
      ],
      "execution_count": null,
      "outputs": []
    },
    {
      "cell_type": "markdown",
      "metadata": {
        "id": "-mdM9oA1pD6E"
      },
      "source": [
        "# 2512번 문제"
      ]
    },
    {
      "cell_type": "code",
      "metadata": {
        "id": "tzsCYLOrstD1"
      },
      "source": [
        "n = int(input())\n",
        "s = list(map(int, input().split()))\n",
        "m = int(input())\n",
        "low, high = 0, max(s)\n",
        "while low <= high:\n",
        "    mid = (low + high) // 2\n",
        "    num = 0\n",
        "    for i in s:\n",
        "        if i >= mid: num += mid\n",
        "        else: num += i\n",
        "    if num <= m: low = mid + 1\n",
        "    else: high = mid - 1\n",
        "print(high)"
      ],
      "execution_count": null,
      "outputs": []
    },
    {
      "cell_type": "markdown",
      "metadata": {
        "id": "xv5KcjRpvfQn"
      },
      "source": [
        "# 1789번 문제"
      ]
    },
    {
      "cell_type": "code",
      "metadata": {
        "id": "pR78wYtZvhUE"
      },
      "source": [
        "S = int(input())\n",
        "Sum = 0\n",
        "n=1\n",
        "while Sum <= S:\n",
        "    Sum+=n\n",
        "    n+=1\n",
        "print(n-2)"
      ],
      "execution_count": null,
      "outputs": []
    },
    {
      "cell_type": "markdown",
      "metadata": {
        "id": "Cw-TagJJyTlF"
      },
      "source": [
        "# 12015번 문제"
      ]
    },
    {
      "cell_type": "code",
      "metadata": {
        "id": "rQxFcZb9yZdR"
      },
      "source": [
        "from bisect import bisect_left \n",
        "input()\n",
        "num = list(map(int, input().split()))\n",
        "dp = []\n",
        "\n",
        "for i in num:\n",
        "    k = bisect_left(dp, i)\n",
        "    if len(dp) <= k:\n",
        "        dp.append(i)\n",
        "    else:\n",
        "        dp[k] = i\n",
        "print(len(dp))"
      ],
      "execution_count": null,
      "outputs": []
    },
    {
      "cell_type": "markdown",
      "metadata": {
        "id": "PFcEjgRz8lVF"
      },
      "source": [
        "# 1072번 문제"
      ]
    },
    {
      "cell_type": "code",
      "metadata": {
        "id": "Y8ELGbTv8nSI"
      },
      "source": [
        "from math import floor\n",
        "x, y = map(int, input().split())\n",
        "e = floor(100 * y / x)\n",
        "low, high = 0, 1000000000\n",
        "if e >= 99: print(-1)\n",
        "else:\n",
        "    while low <= high:\n",
        "        mid = (low + high) // 2\n",
        "        tx, ty = x + mid, y + mid\n",
        "        if floor(100 * ty / tx) > e: high = mid - 1\n",
        "        else: low = mid + 1\n",
        "    print(high + 1)"
      ],
      "execution_count": null,
      "outputs": []
    },
    {
      "cell_type": "markdown",
      "metadata": {
        "id": "iz8SGChUFO3v"
      },
      "source": [
        "# 2352번 문제"
      ]
    },
    {
      "cell_type": "code",
      "metadata": {
        "id": "9-YIyeSdC2wp"
      },
      "source": [
        "from bisect import bisect_left\n",
        "n = input()\n",
        "dest = list(map(int, input().split()))\n",
        "link = []\n",
        "for d in dest:\n",
        "    if not link or link[-1] < d: \n",
        "        link.append(d)\n",
        "    else:\n",
        "        link[bisect_left(link, d)] = d\n",
        "\n",
        "print(len(link))"
      ],
      "execution_count": null,
      "outputs": []
    },
    {
      "cell_type": "markdown",
      "metadata": {
        "id": "E7djhMI6Tfpd"
      },
      "source": [
        "# 2143번 문제"
      ]
    },
    {
      "cell_type": "code",
      "metadata": {
        "id": "o6UZZG4pLRpY"
      },
      "source": [
        "from collections import Counter\n",
        "\n",
        "t=int(input())\n",
        "n=int(input())\n",
        "a=list(map(int, input().split()))\n",
        "m=int(input())\n",
        "b=list(map(int,input().split()))\n",
        "\n",
        "def toPointer(lst,l):\n",
        "  r=[]\n",
        "  for i in range(l):\n",
        "    temp=0\n",
        "    for j in range(i,l):\n",
        "      temp += lst[j]\n",
        "      r.append(temp)\n",
        "  return r\n",
        "\n",
        "al = toPointer(a,n)\n",
        "bl = toPointer(b,m)\n",
        "\n",
        "result = 0\n",
        "c=Counter(bl)\n",
        "for i in al:\n",
        "  result+=c[t-i]\n",
        "\n",
        "print(result) \n"
      ],
      "execution_count": null,
      "outputs": []
    },
    {
      "cell_type": "markdown",
      "metadata": {
        "id": "xxQb6boYHp8e"
      },
      "source": [
        "# 2470번 문제"
      ]
    },
    {
      "cell_type": "code",
      "metadata": {
        "id": "XK33zUCBHsEy"
      },
      "source": [
        "n = int(input())\n",
        "liquid = sorted(list(map(int, input().split())))\n",
        "start, end = 0, len(liquid)-1\n",
        "al, ar = start, end\n",
        "cha = liquid[start]+liquid[end]\n",
        "\n",
        "while start < end:\n",
        "    temp = liquid[start]+liquid[end]\n",
        "    if abs(temp) < abs(cha):\n",
        "        cha = temp\n",
        "        al = start\n",
        "        ar = end\n",
        "        if cha == 0: break\n",
        "    if temp < 0: start+=1\n",
        "    else: end-=1\n",
        "\n",
        "print(liquid[al], liquid[ar])"
      ],
      "execution_count": null,
      "outputs": []
    },
    {
      "cell_type": "markdown",
      "metadata": {
        "id": "BIe1Iz_Qgu5E"
      },
      "source": [
        "# 3020번 문제"
      ]
    },
    {
      "cell_type": "code",
      "metadata": {
        "id": "LwcyzoEbgxHk"
      },
      "source": [
        "n, m = map(int,input().split())\n",
        "def check_top(arr,num):\n",
        "    count=0\n",
        "    for i in arr:\n",
        "        if m-i < num:\n",
        "            count+=1\n",
        "    return count\n",
        "\n",
        "def check_bot(arr,num):\n",
        "    count=0\n",
        "    for i in arr:\n",
        "        if num <= i:\n",
        "            count+=1\n",
        "    return count\n",
        "top = []\n",
        "bot = []\n",
        "\n",
        "for _ in range(0,n,2):\n",
        "    top.append(int(input()))\n",
        "    bot.append(int(input()))\n",
        "check = []\n",
        "'''\n",
        "for i in range(1,m+1):\n",
        "    check.append(check_top(top,i) + check_bot(bot,i))\n",
        "'''\n",
        "for i in range(1, m+1):\n",
        "    count=0\n",
        "    for j in range(len(top)):\n",
        "        if m-top[j] < i: count+=1\n",
        "        if bot[j] >= i: count+=1\n",
        "    check.append(count)\n",
        "print(min(check), check.count(min(check)))"
      ],
      "execution_count": null,
      "outputs": []
    },
    {
      "cell_type": "code",
      "metadata": {
        "id": "r07dduHhy5VT"
      },
      "source": [
        "n, h = map(int, input().split()) \n",
        "\n",
        "down = [0] * (h+1);up = [0] * (h+1) \n",
        "for i in range(n): \n",
        "    if i%2: \n",
        "        up[int(input())] += 1 \n",
        "    else: down[h-int(input())+1] += 1\n",
        "\n",
        "for i in range(h-1, 0, -1): \n",
        "    up[i] += up[i+1] \n",
        "\n",
        "for i in range(2, h+1): \n",
        "    down[i] += down[i-1] \n",
        "\n",
        "total = [0] * (h+1) \n",
        "for i in range(1, h+1): \n",
        "    total[i] = up[i] + down[i] \n",
        "       \n",
        "res = total[1:] \n",
        "v = min(res)\n",
        "print(v, res.count(v))\n",
        "\n"
      ],
      "execution_count": null,
      "outputs": []
    },
    {
      "cell_type": "markdown",
      "metadata": {
        "id": "UFMhrtSf3cs_"
      },
      "source": [
        "# 14003번 문제"
      ]
    },
    {
      "cell_type": "code",
      "metadata": {
        "id": "llLZPVip3efv"
      },
      "source": [
        "from bisect import bisect_left\n",
        "\n",
        "N = int(input())\n",
        "arr = [0] + list(map(int,input().split())) # input\n",
        "d = [0] * (N+1) # for memoization\n",
        "cmp = [-1000000001] # 이진탐색을 위해 생성.\n",
        "maxVal = 0 #최대값을 저장할 변수\n",
        "\n",
        "for i in range(1, N+1): #arr 반복 실행.\n",
        "    if cmp[-1] < arr[i]: #이진탐색으로 저장된 값들은 정렬되므로 맨 뒤의 값 비교.\n",
        "        cmp.append(arr[i])\n",
        "        d[i] = len(cmp) - 1\n",
        "        maxVal = d[i]\n",
        "    else:\n",
        "        d[i] = bisect_left(cmp, arr[i]) #현재 값이 어느 위치의 값에 해당하는지 비교.\n",
        "        cmp[d[i]] = arr[i] #cmp 업데이트.\n",
        "print(maxVal) #최대 길이 출력\n",
        "\n",
        "res = []\n",
        "for i in range(N, 0, -1):\n",
        "    if d[i] == maxVal:\n",
        "        res.append(arr[i])\n",
        "        maxVal -= 1\n",
        "res.reverse()\n",
        "print(*res)"
      ],
      "execution_count": null,
      "outputs": []
    },
    {
      "cell_type": "markdown",
      "metadata": {
        "id": "naMJrNKy62HX"
      },
      "source": [
        "# 2343번 문제"
      ]
    },
    {
      "cell_type": "code",
      "metadata": {
        "id": "aULgPN6J639G"
      },
      "source": [
        "N, M = map(int, input().split())\n",
        "arr = list(map(int, input().split()))\n",
        "\n",
        "lesson_total = sum(arr)\n",
        "left, right = lesson_total // M, sum(arr)\n",
        "# print(left, right)\n",
        "answer = right\n",
        "while left <= right:\n",
        "    mid = (left + right) // 2\n",
        "\n",
        "    if mid < max(arr):\n",
        "        left = mid + 1\n",
        "        continue\n",
        "    # 조건 만족 확인\n",
        "    count, temp = 0, 0\n",
        "    for i in range(len(arr)):\n",
        "        if arr[i] > mid:\n",
        "            break\n",
        "        elif temp + arr[i] <= mid:\n",
        "            temp += arr[i]\n",
        "        else:\n",
        "            temp = arr[i]\n",
        "            count += 1\n",
        "\n",
        "    if count <= M - 1:  # 가능한 경우 (더 작은 값이 있는지 확인해야 한다)\n",
        "        right = mid - 1\n",
        "        answer = min(answer, mid)  # answer 값 업데이트\n",
        "    else:  # 값을 증가시켜야 한다.\n",
        "        left = mid + 1\n",
        "\n",
        "print(answer)"
      ],
      "execution_count": null,
      "outputs": []
    },
    {
      "cell_type": "markdown",
      "metadata": {
        "id": "TVMsa_rXCEa6"
      },
      "source": [
        "# 2473번 문제"
      ]
    },
    {
      "cell_type": "code",
      "metadata": {
        "id": "3pYKgULzCGZE"
      },
      "source": [
        "import sys\n",
        "n = int(input())\n",
        "liquid = [int(x) for x in input().split()]\n",
        "liquid.sort()\n",
        "\n",
        "tmp = float('inf')\n",
        "idx = [0]*3\n",
        "\n",
        "for i in range(n - 2):\n",
        "    if i > 0 and liquid[i] == liquid[i -1]:\n",
        "        continue\n",
        "    left, right = i + 1, n - 1\n",
        "\n",
        "    while left < right:\n",
        "        sum = liquid[i] + liquid[left] + liquid[right]\n",
        "\n",
        "        if abs(sum) < abs(tmp):\n",
        "            idx[0] = liquid[i]\n",
        "            idx[1] = liquid[left]\n",
        "            idx[2] = liquid[right]\n",
        "            tmp = sum\n",
        "\n",
        "        if sum < 0:\n",
        "            left += 1\n",
        "        elif sum > 0:\n",
        "            right -= 1\n",
        "        else:\n",
        "            print(liquid[i], liquid[left], liquid[right])\n",
        "            sys.exit(0)\n",
        "\n",
        "for k in range(3):\n",
        "    print(idx[k], end=' ')"
      ],
      "execution_count": null,
      "outputs": []
    },
    {
      "cell_type": "code",
      "metadata": {
        "id": "oaZfeH1bXXxB"
      },
      "source": [
        "N, M = map(int, input().split())\n",
        "\n",
        "money_sum=0\n",
        "money_max=0\n",
        "money_list = [int(input()) for _ in range(N)]\n",
        "money_sum = sum(money_list)\n",
        "money_max = max(money_list)\n",
        "\n",
        "left=money_max                          #시작점 (최소값)\n",
        "right=money_sum                        #끝점 (최대값)\n",
        "best=money_sum\n",
        "while left<=right:                      #이분 탐색 시작\n",
        "    mid=int((left+right)/2)             #mid: 현재 시도하는 K 값\n",
        "    count=0                             #현재 탐색에서의 인출 횟수 count\n",
        "    Sum=0                               #현재 탐색에서의 부분 합\n",
        "    for i in range(N):                  #리스트 돌면서 탐색\n",
        "        Sum+=money_list[i]\n",
        "        if Sum>mid:                     #mid 값 초과하면 횟수 +1\n",
        "            count+=1\n",
        "            Sum=money_list[i]\n",
        "    if Sum>0:\n",
        "        count+=1                         #마지막에 남으면 횟수 1 추가\n",
        "    if count>M:                          #인출 횟수가 M보다 크면 안 됨.\n",
        "        left=mid+1                       #탐색 범위를 뒤쪽으로 이동\n",
        "    else:                                #인출 횟수가 M보다 작거나 같은 경우 조건은 만족\n",
        "        if mid<best:\n",
        "            best=mid                    #cur_best 값보다 현재의 K 값이 더 작으면 업데이트\n",
        "        right=mid-1\n",
        "print(best)"
      ],
      "execution_count": null,
      "outputs": []
    },
    {
      "cell_type": "markdown",
      "metadata": {
        "id": "RsNO1SbZbN2V"
      },
      "source": [
        "# 7469번 문제"
      ]
    },
    {
      "cell_type": "code",
      "metadata": {
        "id": "eo_GMsjybQu6"
      },
      "source": [
        "n, m = map(int, input().split())\n",
        "num = list(map(int, input().split()))\n",
        "\n",
        "for _ in range(m):\n",
        "    s,e,i = map(int, input().split())\n",
        "    q = sorted(num[s-1:e])[i-1]\n",
        "    print(q)"
      ],
      "execution_count": null,
      "outputs": []
    },
    {
      "cell_type": "markdown",
      "metadata": {
        "id": "NJfaLVdAzDzb"
      },
      "source": [
        "# 1300번 문제"
      ]
    },
    {
      "cell_type": "code",
      "metadata": {
        "id": "Yqz-UFv9zF_r"
      },
      "source": [
        "N, K = int(input()), int(input())\n",
        "start, end = 1, K\n",
        "\n",
        "while start <= end:\n",
        "    mid = (start + end) // 2\n",
        "    \n",
        "    temp = 0\n",
        "    for i in range(1, N+1):\n",
        "        temp += min(mid//i, N) #mid 이하의 i의 배수 or 최대 N\n",
        "    \n",
        "    if temp >= K: #이분탐색 실행\n",
        "        answer = mid\n",
        "        end = mid - 1\n",
        "    else:\n",
        "        start = mid + 1\n",
        "print(answer)"
      ],
      "execution_count": null,
      "outputs": []
    },
    {
      "cell_type": "markdown",
      "metadata": {
        "id": "rkpWZRqf70UA"
      },
      "source": [
        "# 1939번 문제"
      ]
    },
    {
      "cell_type": "code",
      "metadata": {
        "id": "OaD7AIQ672po"
      },
      "source": [
        "from collections import deque\n",
        "\n",
        "def bfs(mid):\n",
        "    visit[i1] = 1\n",
        "    q = deque()\n",
        "    q.append(i1)\n",
        "    while q:\n",
        "        start = q.popleft()\n",
        "        if start == i2: return True\n",
        "        for nx, nc in s[start]:\n",
        "            if visit[nx] == 0 and mid <= nc:\n",
        "                q.append(nx)\n",
        "                visit[nx] = 1\n",
        "    return False\n",
        "n, m = map(int, input().split())\n",
        "s = [[] for i in range(n + 1)]\n",
        "for i in range(m):\n",
        "    a, b, c = map(int, input().split())\n",
        "    s[a].append([b, c])\n",
        "    s[b].append([a, c])\n",
        "i1, i2 = map(int, input().split())\n",
        "low, high = 1, 1000000000\n",
        "while low <= high:\n",
        "    visit = [0 for i in range(n + 1)]\n",
        "    mid = (low + high) // 2\n",
        "    if bfs(mid): low = mid + 1\n",
        "    else: high = mid - 1\n",
        "print(high)"
      ],
      "execution_count": null,
      "outputs": []
    },
    {
      "cell_type": "markdown",
      "metadata": {
        "id": "QIbfBYxBL9RA"
      },
      "source": [
        "# 2243번 문제"
      ]
    },
    {
      "cell_type": "code",
      "metadata": {
        "id": "XDhTx6A_L8SC"
      },
      "source": [
        "n = int(input())\n",
        "\n",
        "candy = []\n",
        "\n",
        "for _ in range(n):\n",
        "    candy.sort()\n",
        "    a = list(map(int, input().split()))\n",
        "\n",
        "    if a[0] == 1:\n",
        "        print(candy[a[1]-1])\n",
        "        del candy[a[1]-1]\n",
        "            \n",
        "    elif a[0] == 2:\n",
        "        if a[2]<0:\n",
        "            del candy[a[1]-1]\n",
        "        else:\n",
        "            for _ in range(a[2]):\n",
        "                candy.append(a[1])"
      ],
      "execution_count": null,
      "outputs": []
    },
    {
      "cell_type": "code",
      "metadata": {
        "id": "o4lrRvvMu5mK"
      },
      "source": [
        "def fixbox(lv, num):  # 상자에서 사탕을 넣거나 꺼냄\n",
        "    global tree, c\n",
        "    tree[c+lv] += num\n",
        "    cur = c+lv\n",
        "    while cur > 0:\n",
        "        parent = cur//2\n",
        "        tree[parent] += num\n",
        "        cur = parent\n",
        "\n",
        "\n",
        "def findcandy(order):  # order 번째 사탕을 찾고, 꺼냄\n",
        "    global tree, c\n",
        "    cur = 1\n",
        "    while cur <= c:\n",
        "        left = 2*cur\n",
        "        right = 2*cur + 1\n",
        "        if order <= tree[left]:\n",
        "            cur = left\n",
        "        else:\n",
        "            cur = right\n",
        "            order -= tree[left]\n",
        "    print(cur-c)\n",
        "    fixbox(cur-c, -1)\n",
        "\n",
        "\n",
        "tree = [0] * 2097152  # 2^21\n",
        "c = 1048575  # 2^20-1\n",
        "n = int(sys.stdin.readline())\n",
        "for i in range(n):\n",
        "    tmp = list(map(int, sys.stdin.readline().split()))\n",
        "\n",
        "    if tmp[0] == 1:\n",
        "        findcandy(tmp[1])\n",
        "    else:  # tmp[0] == 2\n",
        "        fixbox(tmp[1],tmp[2])"
      ],
      "execution_count": null,
      "outputs": []
    },
    {
      "cell_type": "markdown",
      "metadata": {
        "id": "W_KRuRG3n3Bt"
      },
      "source": [
        "# 1208번 문제"
      ]
    },
    {
      "cell_type": "code",
      "metadata": {
        "id": "Rgh5Rt44n5Z6"
      },
      "source": [
        "import sys\n",
        "from collections import defaultdict\n",
        "\n",
        "\n",
        "def dfs(idx, end_idx, subtotal, direction):\n",
        "    global answer\n",
        "\n",
        "    if idx == end_idx:\n",
        "        if direction == \"right\":\n",
        "            answer += left[s - subtotal]\n",
        "        else:\n",
        "            left[subtotal] += 1\n",
        "        return\n",
        "\n",
        "    dfs(idx + 1, end_idx, subtotal, direction)\n",
        "    dfs(idx + 1, end_idx, subtotal + nums[idx], direction)\n",
        "\n",
        "\n",
        "if __name__ == \"__main__\":\n",
        "    answer = 0\n",
        "    n, s = map(int, input().split())\n",
        "    nums = list(map(int, input().split()))\n",
        "    left = defaultdict(int)\n",
        "\n",
        "    dfs(0, n//2, 0, \"left\")\n",
        "    dfs(n//2, n, 0, \"right\")\n",
        "\n",
        "    print(answer if s != 0 else answer - 1)"
      ],
      "execution_count": null,
      "outputs": []
    },
    {
      "cell_type": "markdown",
      "metadata": {
        "id": "GMPph-9uqbeB"
      },
      "source": [
        "# 3079번 문제"
      ]
    },
    {
      "cell_type": "code",
      "metadata": {
        "id": "_khAa7wUqd6K"
      },
      "source": [
        "import sys\n",
        "#input = sys.stdin.readline\n",
        " \n",
        "n, m = map(int, input().split())\n",
        "time = [int(input()) for _ in range(n)]\n",
        "result = 0\n",
        "left = 0\n",
        "right = m * max(time)\n",
        " \n",
        "while left <= right:\n",
        "    mid = (left + right) // 2\n",
        " \n",
        "    judgedPeople = 0\n",
        "    for t in time:\n",
        "        judgedPeople += mid // t\n",
        "    \n",
        "    if judgedPeople < m:\n",
        "        left = mid + 1\n",
        "    else:\n",
        "        result = mid\n",
        "        right = mid - 1\n",
        " \n",
        "print(result)"
      ],
      "execution_count": null,
      "outputs": []
    },
    {
      "cell_type": "markdown",
      "metadata": {
        "id": "n45Xt4o4KeCX"
      },
      "source": [
        "# 2417번 문제"
      ]
    },
    {
      "cell_type": "code",
      "metadata": {
        "id": "nfUxJQYMKgEV"
      },
      "source": [
        "import time\n",
        "start = time.time()  # 시작 시간 저장\n",
        "\n",
        "import math\n",
        "\n",
        "n = int(input())\n",
        "\n",
        "q = math.ceil(n**0.5)\n",
        "q_prime = (n**0.5)//1\n",
        "\n",
        "if q >= q_prime: print(q)\n",
        "else: print(q_prime)\n",
        "\n",
        " \n",
        "print(\"time :\", time.time() - start)  # 현재시각 - 시작시간 = 실행 시간"
      ],
      "execution_count": null,
      "outputs": []
    },
    {
      "cell_type": "markdown",
      "metadata": {
        "id": "e-X6vs_qOiUG"
      },
      "source": [
        "# 1561번 문제"
      ]
    },
    {
      "cell_type": "code",
      "metadata": {
        "id": "A1LlYnVvOkki"
      },
      "source": [
        "N, M = map(int, input().split())\n",
        "t = list(map(int, input().split()))\n",
        "\n",
        "l = 1\n",
        "r = 10**20\n",
        "max_m = max_s = 0\n",
        "\n",
        "while l <= r:\n",
        "    mid = (l+r)//2\n",
        "    s = sum((mid-1)//x + 1 for x in t)\n",
        "    if s < N:\n",
        "        if max_m < mid:\n",
        "            max_m = mid\n",
        "            max_s = s\n",
        "        l = mid + 1\n",
        "    else:\n",
        "        r = mid - 1\n",
        "\n",
        "for i, k in enumerate(t):\n",
        "    if max_m % k == 0:\n",
        "        max_s += 1\n",
        "        if max_s == N:\n",
        "            print(i+1)\n",
        "            break"
      ],
      "execution_count": null,
      "outputs": []
    },
    {
      "cell_type": "markdown",
      "metadata": {
        "id": "eQ91EhKGYXy4"
      },
      "source": [
        "# 3649번 문제"
      ]
    },
    {
      "cell_type": "code",
      "metadata": {
        "id": "5fqZC9OPYZu_"
      },
      "source": [
        "import sys\n",
        "input = sys.stdin.readline\n",
        "\n",
        "while True:\n",
        "    try:\n",
        "        x = int(input())*10000000\n",
        "        n = int(input())\n",
        "        lego = [int(input()) for _ in range(n)]\n",
        "        lego.sort()\n",
        "        i, j = 0, n-1\n",
        "        flag = True\n",
        "        while i<j:\n",
        "            if lego[i] + lego[j] == x:\n",
        "                print('yes %d %d' %(lego[i], lego[j]))\n",
        "                flag = False\n",
        "                break\n",
        "            \n",
        "            elif lego[i] + lego[j] < x: i += 1\n",
        "            else: j -= 1\n",
        "        if flag:\n",
        "            print('danger')\n",
        "    except:\n",
        "        break"
      ],
      "execution_count": null,
      "outputs": []
    },
    {
      "cell_type": "markdown",
      "metadata": {
        "id": "Ql1vCBALddzi"
      },
      "source": [
        "# 2467번 문제"
      ]
    },
    {
      "cell_type": "code",
      "metadata": {
        "id": "siweUpMWdfT0"
      },
      "source": [
        "import sys\n",
        "# input = sys.stdin.readline\n",
        " \n",
        "N = int(input())\n",
        "arr = list(map(int, input().split()))\n",
        " \n",
        "left = 0\n",
        "right = N-1\n",
        "answerL = 0\n",
        "answerR = 0\n",
        "_min = sys.maxsize\n",
        "while left < right:\n",
        "    _sum = arr[left] + arr[right]\n",
        " \n",
        "    if abs(_sum) < _min:\n",
        "        answerL = left\n",
        "        answerR = right\n",
        "        _min = abs(_sum)\n",
        " \n",
        "    if _sum > 0:\n",
        "        right -= 1\n",
        "    elif _sum < 0:\n",
        "        left += 1\n",
        "    else:\n",
        "        break\n",
        " \n",
        "print(arr[answerL], arr[answerR])"
      ],
      "execution_count": null,
      "outputs": []
    }
  ]
}