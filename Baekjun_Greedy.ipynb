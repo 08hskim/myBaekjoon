{
  "nbformat": 4,
  "nbformat_minor": 0,
  "metadata": {
    "colab": {
      "name": "Baekjun_Greedy.ipynb",
      "private_outputs": true,
      "provenance": [],
      "collapsed_sections": [],
      "authorship_tag": "ABX9TyNZZM2E/Czovq5O/G4OQPi1",
      "include_colab_link": true
    },
    "kernelspec": {
      "name": "python3",
      "display_name": "Python 3"
    }
  },
  "cells": [
    {
      "cell_type": "markdown",
      "metadata": {
        "id": "view-in-github",
        "colab_type": "text"
      },
      "source": [
        "<a href=\"https://colab.research.google.com/github/08hskim/myBaekjoon/blob/master/Baekjun_Greedy.ipynb\" target=\"_parent\"><img src=\"https://colab.research.google.com/assets/colab-badge.svg\" alt=\"Open In Colab\"/></a>"
      ]
    },
    {
      "cell_type": "markdown",
      "metadata": {
        "id": "6l8EbBjooWjG"
      },
      "source": [
        "# 11399번 문제"
      ]
    },
    {
      "cell_type": "code",
      "metadata": {
        "id": "qahJnY6LoQZx"
      },
      "source": [
        "n=int(input())\n",
        "num=list(map(int, input().split()))\n",
        "\n",
        "num.sort()\n",
        "\n",
        "time=[]\n",
        "for i in range(1,n+1):\n",
        "    time.append(sum(num[:i]))\n",
        "\n",
        "print(sum(time))"
      ],
      "execution_count": null,
      "outputs": []
    },
    {
      "cell_type": "markdown",
      "metadata": {
        "id": "WwGCZHRqi69M"
      },
      "source": [
        "# 11047번 문제"
      ]
    },
    {
      "cell_type": "code",
      "metadata": {
        "id": "QnAajJopi9EF"
      },
      "source": [
        "n, k=map(int,input().split())\n",
        "a=[]\n",
        "\n",
        "for i in range(0,n):\n",
        "    a.append(int(input()))\n",
        "a.sort(reverse=True)\n",
        "count=0\n",
        "for i in a:\n",
        "    if k>=i:\n",
        "        count+=k//i\n",
        "        k -= i*(k//i)\n",
        "print(count,end='')"
      ],
      "execution_count": null,
      "outputs": []
    },
    {
      "cell_type": "markdown",
      "metadata": {
        "id": "XxIsfvKZouKd"
      },
      "source": [
        "# 5585번 문제"
      ]
    },
    {
      "cell_type": "code",
      "metadata": {
        "id": "dipT1IC6kUfv"
      },
      "source": [
        "n = int(input())\n",
        "money = [500,100,50,10,5,1]\n",
        "\n",
        "count=0\n",
        "n=1000-n\n",
        "\n",
        "for i in money:\n",
        "    if n >= i:\n",
        "        count += n//i\n",
        "        n -= i*(n//i)\n",
        "print(count, end = '')"
      ],
      "execution_count": null,
      "outputs": []
    },
    {
      "cell_type": "markdown",
      "metadata": {
        "id": "K6mI4vH1qf0u"
      },
      "source": [
        "# 1541번 문제"
      ]
    },
    {
      "cell_type": "code",
      "metadata": {
        "id": "rPbS1BPtpG2r"
      },
      "source": [
        "a = input().split('-')\n",
        "num = []\n",
        "for i in a:\n",
        "    cnt = 0\n",
        "    s = i.split('+')\n",
        "    for j in s:\n",
        "        cnt += int(j)\n",
        "    num.append(cnt)\n",
        "n = num[0]\n",
        "for i in range(1, len(num)):\n",
        "    n -= num[i]\n",
        "print(n)"
      ],
      "execution_count": null,
      "outputs": []
    },
    {
      "cell_type": "markdown",
      "metadata": {
        "id": "z2H49gXotIbo"
      },
      "source": [
        "# 2217번 문제"
      ]
    },
    {
      "cell_type": "code",
      "metadata": {
        "id": "otXGCDBGtK0W"
      },
      "source": [
        "n=int(input())\n",
        "num=[]\n",
        "for _ in range(n):\n",
        "    num.append(int(input()))\n",
        "\n",
        "num.sort(reverse=True)\n",
        "num=[(i+1)*num[i] for i in range(n)]\n",
        "print(max(num))"
      ],
      "execution_count": null,
      "outputs": []
    },
    {
      "cell_type": "markdown",
      "metadata": {
        "id": "Q6WhgSdIxfej"
      },
      "source": [
        "# 1946번 문제"
      ]
    },
    {
      "cell_type": "code",
      "metadata": {
        "id": "9JSBJYZyxibN"
      },
      "source": [
        "k=int(input())\n",
        "for _ in range(k):\n",
        "    n=int(input())\n",
        "    s=[0 for i in range(n+1)]\n",
        "    for _ in range(n):\n",
        "        a, b = map(int, input().split())\n",
        "        s[a]=b\n",
        "    min_n=s[1]\n",
        "    cnt=0\n",
        "    for t in range(2,n+1):\n",
        "        if s[t]>min_n:\n",
        "            cnt+=1\n",
        "        else:\n",
        "            min_n=s[t]\n",
        "    print(n-cnt)"
      ],
      "execution_count": null,
      "outputs": []
    },
    {
      "cell_type": "markdown",
      "metadata": {
        "id": "GzNFLF18tKuA"
      },
      "source": [
        "# 4796번 문제"
      ]
    },
    {
      "cell_type": "code",
      "metadata": {
        "id": "2w8qIcAdtMwV"
      },
      "source": [
        "i=1\n",
        "while True:\n",
        "    l, p, v = map(int, input().split())\n",
        "    if l+p+v == 0: break\n",
        "\n",
        "    rest = (v//p)*l\n",
        "    rest += min((v%p), l)\n",
        "    print('Case %d: %d'%(i, rest))\n",
        "    i+=1"
      ],
      "execution_count": null,
      "outputs": []
    },
    {
      "cell_type": "markdown",
      "metadata": {
        "id": "J0zA37BSvadm"
      },
      "source": [
        "# 1080번 문제"
      ]
    },
    {
      "cell_type": "code",
      "metadata": {
        "id": "ExdopujgvcR9"
      },
      "source": [
        "count = 0\n",
        "N,M = map(int,input().split())\n",
        "\n",
        "change_maps = [list(map(int,input())) for _ in range(N)]\n",
        "result_maps = [list(map(int,input())) for _ in range(N)]\n",
        "\n",
        "def convert3x3(x,y,arr):\n",
        "    for i in range(x,x+3):\n",
        "        for j in range(y,y+3):\n",
        "            change_maps[i][j] = 1 - change_maps[i][j]\n",
        "\n",
        "for i in range(0,N-2):\n",
        "    for j in range(0,M-2):\n",
        "        if change_maps[i][j] != result_maps[i][j]: # 배열의 값이 같지 않다\n",
        "            convert3x3(i,j,change_maps)\n",
        "            count += 1\n",
        "\n",
        "# 전체 배열 검사\n",
        "nonReulst = False\n",
        "for i in range(0,N):\n",
        "    for j in range(0,M):\n",
        "        if change_maps[i][j] != result_maps[i][j]:\n",
        "            nonReulst = True\n",
        "\n",
        "if(nonReulst):\n",
        "    print(-1)\n",
        "else:\n",
        "    print(count)"
      ],
      "execution_count": null,
      "outputs": []
    },
    {
      "cell_type": "markdown",
      "metadata": {
        "id": "qBktT9yN4dH5"
      },
      "source": [
        "# 1715번 문제"
      ]
    },
    {
      "cell_type": "code",
      "metadata": {
        "id": "q08O87bN4fif"
      },
      "source": [
        "import heapq\n",
        "\n",
        "N = int(input())\n",
        "card_deck = []\n",
        "for _ in range(N):\n",
        "    heapq.heappush(card_deck, int(input()))\n",
        "\n",
        "\n",
        "if len(card_deck) == 1: #1개일 경우 비교하지 않아도 된다\n",
        "    print(0)\n",
        "else:\n",
        "    answer = 0\n",
        "    while len(card_deck) > 1: #1개일 경우 비교하지 않아도 된다\n",
        "        temp_1 = heapq.heappop(card_deck) #제일 작은 덱\n",
        "        temp_2 = heapq.heappop(card_deck) #두번째로 작은 덱\n",
        "        answer += temp_1 + temp_2 #현재 비교 횟수를 더해줌\n",
        "        heapq.heappush(card_deck, temp_1 + temp_2) #더한 덱을 다시 넣어줌\n",
        "    \n",
        "    print(answer)"
      ],
      "execution_count": null,
      "outputs": []
    },
    {
      "cell_type": "markdown",
      "metadata": {
        "id": "lWt1z51bUa95"
      },
      "source": [
        "# 1449번 문제"
      ]
    },
    {
      "cell_type": "code",
      "metadata": {
        "id": "Vh5OlX6HUdDy"
      },
      "source": [
        "n, l = map(int, input().split())\n",
        "\n",
        "\n",
        "hole = list(map(int,input().split()))\n",
        "\n",
        "sorted(hole)\n",
        "\n",
        "count = 0\n",
        "while hole != []:\n",
        "    d=min(hole)-0.5+l\n",
        "    hole = [x for x in hole if x > d]\n",
        "    count+=1\n",
        "\n",
        "print(count)"
      ],
      "execution_count": null,
      "outputs": []
    },
    {
      "cell_type": "markdown",
      "metadata": {
        "id": "NarrhuMfXY-Z"
      },
      "source": [
        "# 1202번 문제"
      ]
    },
    {
      "cell_type": "code",
      "metadata": {
        "id": "byKk-rDQXbLD"
      },
      "source": [
        "n, k = map(int, input().split())\n",
        "\n",
        "weight = []\n",
        "price = []\n",
        "w_price = []\n",
        "bag = []\n",
        "\n",
        "for _ in range(n):\n",
        "    a, b = map(int, input().split())\n",
        "    weight.append(a)\n",
        "    price.append(b)\n",
        "    w_price(b/a)\n",
        "\n",
        "for _ in range(k):\n",
        "    bag.append(int(input()))"
      ],
      "execution_count": null,
      "outputs": []
    },
    {
      "cell_type": "code",
      "metadata": {
        "id": "AiCK3h7njkue"
      },
      "source": [
        "import sys\n",
        "from queue import PriorityQueue\n",
        "\n",
        "N, K = map(int, sys.stdin.readline().split())\n",
        "sum = 0\n",
        "boseok = []\n",
        "myQue = PriorityQueue()\n",
        "bag = []\n",
        "\n",
        "for i in range(N):\n",
        "    boseok.append(list(map(int, sys.stdin.readline().split())))\n",
        "\n",
        "for i in range(K):\n",
        "    bag.append(int(sys.stdin.readline()))\n",
        "\n",
        "bag.sort()\n",
        "boseok.sort(key = lambda x : x[0])\n",
        "\n",
        "bsIdx=0\n",
        "for i in range(K):\n",
        "    while bsIdx<N and bag[i] >= boseok[bsIdx][0]:\n",
        "        myQue.put(boseok[bsIdx][1]*(-1))\n",
        "        bsIdx += 1\n",
        "    if not myQue.empty():\n",
        "        sum += myQue.get()\n",
        "\n",
        "print(-sum)"
      ],
      "execution_count": null,
      "outputs": []
    },
    {
      "cell_type": "markdown",
      "metadata": {
        "id": "bTKLBKCTtkel"
      },
      "source": [
        "# 1439번 문제"
      ]
    },
    {
      "cell_type": "code",
      "metadata": {
        "id": "CaDU3BNXtmY7"
      },
      "source": [
        "s = input()\n",
        "change = []\n",
        "for i in range(1, len(s)):\n",
        "    if s[i-1] != s[i]:\n",
        "        change.append(i)\n",
        "isOdd = False\n",
        "if len(change)%2 == 1: \n",
        "    isOdd = True\n",
        "    \n",
        "result = len(change)//2\n",
        "if isOdd:\n",
        "    result += 1\n",
        "print(result)"
      ],
      "execution_count": null,
      "outputs": []
    },
    {
      "cell_type": "markdown",
      "metadata": {
        "id": "TmMOUyQP1mta"
      },
      "source": [
        "# 2847번 문제"
      ]
    },
    {
      "cell_type": "code",
      "metadata": {
        "id": "7ZMXQqJ71pao"
      },
      "source": [
        "N = int(input())\n",
        "level = [int(input()) for _ in range(N)]\n",
        "result = 0\n",
        "\n",
        "for i in range(N-1, 0, -1):\n",
        "    if level[i] <= level[i-1]:\n",
        "        result += (level[i-1]-level[i]+1)\n",
        "        level[i-1] = level[i]-1\n",
        "\n",
        "print(result)"
      ],
      "execution_count": null,
      "outputs": []
    },
    {
      "cell_type": "markdown",
      "metadata": {
        "id": "MDRJQtcG_x5q"
      },
      "source": [
        "# 2810번 문제"
      ]
    },
    {
      "cell_type": "code",
      "metadata": {
        "id": "YvriV01Q_z2k"
      },
      "source": [
        "n= int(input())\n",
        "seat = input()\n",
        "\n",
        "count = seat.count('LL')\n",
        "\n",
        "if count <= 1: print(len(seat))\n",
        "else:print(len(seat)-count+1)"
      ],
      "execution_count": null,
      "outputs": []
    },
    {
      "cell_type": "markdown",
      "metadata": {
        "id": "VB53hlTGT_ny"
      },
      "source": [
        "# 10162번 문제"
      ]
    },
    {
      "cell_type": "code",
      "metadata": {
        "id": "JSIskks4UC62"
      },
      "source": [
        "def sol():\n",
        "    t = int(input())\n",
        "    a, b, c = 300, 60, 10\n",
        "    count_a, count_b, count_c = 0, 0, 0\n",
        "    if t%a == 0 or t%b == 0 or t%c == 0:\n",
        "        if t >= a:\n",
        "            count_a = t//a\n",
        "            t = t%a\n",
        "\n",
        "        if t>=b:\n",
        "            count_b = t//b\n",
        "            t = t%b\n",
        "            \n",
        "        if t>=c:\n",
        "            count_c = t//c\n",
        "            t = t%c\n",
        "\n",
        "        print(count_a, count_b, count_c)\n",
        "        return 0\n",
        "    else: \n",
        "        print(-1)\n",
        "        return 0\n",
        "\n",
        "sol()"
      ],
      "execution_count": null,
      "outputs": []
    },
    {
      "cell_type": "markdown",
      "metadata": {
        "id": "mJP3Xuewpwq3"
      },
      "source": [
        "# 1339번 문제"
      ]
    },
    {
      "cell_type": "code",
      "metadata": {
        "id": "bs4umHrTmI5D"
      },
      "source": [
        "#n입력받기\n",
        "n=int(input())\n",
        "\n",
        "#단어 입력받을 리스트 만들기\n",
        "words=[]\n",
        "\n",
        "#단어 입력받기\n",
        "for i in range(n):\n",
        "  words.append(input())\n",
        "\n",
        "#딕셔너리 초기화하기\n",
        "dict={}\n",
        "#딕셔너리에 알파벳당 숫자 집어넣기\n",
        "for word in words:\n",
        "  k=len(word)-1\n",
        "  for s in word:\n",
        "    if s in dict:\n",
        "      dict[s]+=pow(10,k)\n",
        "    else:\n",
        "      dict[s]=pow(10,k)\n",
        "    k-=1\n",
        "\n",
        "#숫자 리스트 초기화하기\n",
        "nums=[]\n",
        "\n",
        "#사전의 값들만으로 이루어진 리스트 초기화하기\n",
        "for value in dict.values():\n",
        "  nums.append(value)\n",
        "\n",
        "#숫자 큰순으로 정렬하기\n",
        "nums.sort(reverse=True)\n",
        "\n",
        "#출력할 값과 곱해야하는 수 초기화하기\n",
        "result,t=0,9\n",
        "\n",
        "#값 구하기\n",
        "for i in range(len(nums)):\n",
        "  result+=nums[i]*t\n",
        "  t-=1\n",
        "\n",
        "print(result)"
      ],
      "execution_count": null,
      "outputs": []
    },
    {
      "cell_type": "code",
      "metadata": {
        "id": "ivFDwmibqHj9"
      },
      "source": [
        "n = int(input())\n",
        "\n",
        "word = [input() for _ in range(n)]\n",
        "\n",
        "word_dict = {}\n",
        "\n",
        "\n",
        "for i in word:\n",
        "    k = len(i)-1\n",
        "    for s in i:\n",
        "        if s in word_dict:word_dict[s] += pow(10,k)\n",
        "        \n",
        "        else: word_dict[s] =pow(10,k)\n",
        "        k-=1\n",
        "\n",
        "values = list(word_dict.values())\n",
        "\n",
        "values.sort(reverse = True)\n",
        "\n",
        "result,t=0,9\n",
        "\n",
        "for i in range(len(nums)):\n",
        "  result+=values[i]*t\n",
        "  t-=1\n",
        "\n",
        "print(result)"
      ],
      "execution_count": null,
      "outputs": []
    },
    {
      "cell_type": "markdown",
      "metadata": {
        "id": "DF2cDEQJxQ7I"
      },
      "source": [
        "# 13305번 문제"
      ]
    },
    {
      "cell_type": "code",
      "metadata": {
        "id": "XHvt9i7sxTL3"
      },
      "source": [
        "n = int(input())\n",
        "dist = list(map(int,input().split()))\n",
        "price = list(map(int,input().split()))\n",
        "\n",
        "cost = dist[0]*price[0]\n",
        "m = price[0]\n",
        "distance = 0\n",
        "for i in range(1,n-1):\n",
        "    if price[i] < m:\n",
        "        cost +=m*distance\n",
        "        distance = dist[i]\n",
        "        m = price[i]\n",
        "    else:\n",
        "        distance += dist[i]\n",
        "\n",
        "    if i == n-2:\n",
        "        cost += m*distance\n",
        "\n",
        "print(cost)"
      ],
      "execution_count": null,
      "outputs": []
    },
    {
      "cell_type": "markdown",
      "metadata": {
        "id": "TbOxdt1d2QdR"
      },
      "source": [
        "# 16953번 문제"
      ]
    },
    {
      "cell_type": "code",
      "metadata": {
        "id": "N0lTcZUX2Sg-"
      },
      "source": [
        "n, m = map(int,input().split())\n",
        "\n",
        "count = 1\n",
        "while True:\n",
        "    if m == n:\n",
        "        break\n",
        "    \n",
        "    elif (m%2 != 0 and m%10 != 1) or (m < n):\n",
        "        count = -1\n",
        "        break\n",
        "    else:\n",
        "        if m%10 == 1:\n",
        "            m = m//10\n",
        "            count+=1\n",
        "        else:\n",
        "            m = m//2\n",
        "            count+=1\n",
        "\n",
        "print(count)"
      ],
      "execution_count": null,
      "outputs": []
    },
    {
      "cell_type": "markdown",
      "metadata": {
        "id": "lgydBvix-aeR"
      },
      "source": [
        "# 3109번 문제"
      ]
    },
    {
      "cell_type": "code",
      "metadata": {
        "id": "I-jS201g-cjL"
      },
      "source": [
        "def dfs(i,j):\n",
        "    global state, ans\n",
        "    if i == -1 or i == r:\n",
        "        return\n",
        "    if underground[i][j] == 'x':\n",
        "        return \n",
        "    underground[i][j] = 'x'\n",
        "    if j == c-1:\n",
        "        state = True\n",
        "        ans += 1\n",
        "        return\n",
        "    for a in range(3):\n",
        "        dfs(i+di[a], j+dj[a])\n",
        "        if state: return \n",
        "\n",
        "r, c = map(int, input().split())\n",
        "\n",
        "underground = [list(input()) for _ in range(r)]\n",
        "di = [-1,0,1]\n",
        "dj = [1,1,1]\n",
        "ans = 0\n",
        "for i in range(r):\n",
        "    state = False\n",
        "    dfs(i,0)\n",
        "print(ans)"
      ],
      "execution_count": null,
      "outputs": []
    },
    {
      "cell_type": "markdown",
      "metadata": {
        "id": "C62seOiHApQA"
      },
      "source": [
        "# 15903번 문제"
      ]
    },
    {
      "cell_type": "code",
      "metadata": {
        "id": "5gSFoaTIAtKw"
      },
      "source": [
        "n, m = map(int, input().split())\n",
        "\n",
        "cards = list(map(int, input().split()))\n",
        "\n",
        "cards.sort()\n",
        "\n",
        "for _ in range(m):\n",
        "    temp = cards[0]+cards[1]\n",
        "    cards[0], cards[1] = temp, temp\n",
        "    cards.sort()\n",
        "\n",
        "print(sum(cards))"
      ],
      "execution_count": null,
      "outputs": []
    },
    {
      "cell_type": "markdown",
      "metadata": {
        "id": "IMQ1OqVLHFFT"
      },
      "source": [
        "# 11497번 문제"
      ]
    },
    {
      "cell_type": "code",
      "metadata": {
        "id": "4FeXP-U8HELI"
      },
      "source": [
        "t = int(input())\n",
        "\n",
        "for _ in range(t):\n",
        "    n = int(input())\n",
        "    logs = [int(x) for x in input().split()]\n",
        "    logs.sort()\n",
        "\n",
        "    diff = 0\n",
        "    for i in range(2, n):\n",
        "        diff = max(diff, abs(logs[i] - logs[i - 2]))\n",
        "\n",
        "    print(diff)"
      ],
      "execution_count": null,
      "outputs": []
    },
    {
      "cell_type": "markdown",
      "metadata": {
        "id": "ODeQsdX6cVKL"
      },
      "source": [
        "# 15904번 문제"
      ]
    },
    {
      "cell_type": "code",
      "metadata": {
        "id": "QMXNCNxfcXlp"
      },
      "source": [
        "s = input()\n",
        "ucpc = 'UCPC'\n",
        "count = 0\n",
        "id = 0\n",
        "for i in ucpc:\n",
        "    for j in range(id, len(s)):\n",
        "        if i == s[j]:\n",
        "            count+=1\n",
        "            id = j\n",
        "            break\n",
        "\n",
        "if count == 4: print('I love UCPC')\n",
        "else: print('I hate UCPC')\n"
      ],
      "execution_count": null,
      "outputs": []
    },
    {
      "cell_type": "markdown",
      "metadata": {
        "id": "2EffZ6K2Hy3J"
      },
      "source": [
        "# 2812번 문제"
      ]
    },
    {
      "cell_type": "code",
      "metadata": {
        "id": "WS1v4GRuMN3_"
      },
      "source": [
        "n, k = map(int, input().split())\n",
        "s = list(input().strip())\n",
        "\n",
        "result = []\n",
        "count = k\n",
        "\n",
        "for i in range(n):\n",
        "    while count >0 and result and result[-1] < s[i]:\n",
        "        del result[-1]\n",
        "        count -=1\n",
        "    result.append(s[i])\n",
        "\n",
        "print(''.join(result[:n-k]))"
      ],
      "execution_count": null,
      "outputs": []
    },
    {
      "cell_type": "markdown",
      "metadata": {
        "id": "DMdATEgbNgPM"
      },
      "source": [
        "# 11000번 문제"
      ]
    },
    {
      "cell_type": "code",
      "metadata": {
        "id": "pDn9TADyNiYO"
      },
      "source": [
        "n = int(input())\n",
        "s=[]\n",
        "t=[]\n",
        "\n",
        "for _ in range(n):\n",
        "    a, b = map(int,input().split())\n",
        "    s.append(a)\n",
        "    t.append(b)\n",
        "\n",
        "\n",
        "min_t = t.index(min(t))\n"
      ],
      "execution_count": null,
      "outputs": []
    },
    {
      "cell_type": "code",
      "metadata": {
        "id": "IPOInZD8RjCT"
      },
      "source": [
        "from queue import PriorityQueue\n",
        " \n",
        "def solution():\n",
        "    pque = PriorityQueue()\n",
        "    pque.put((-arr[0][1], arr[0][1]))\n",
        "    for i in range(1, N):\n",
        "        if pque.queue[-1][1] <= arr[i][0]:\n",
        "            pque.get()\n",
        "            pque.put((-arr[i][1], arr[i][1]))\n",
        "        else:\n",
        "            pque.put((-arr[i][1], arr[i][1]))\n",
        " \n",
        "    print(pque.qsize())\n",
        "    return\n",
        " \n",
        " \n",
        "N = int(input())\n",
        "arr = []\n",
        "for _ in range(N):\n",
        "    A, B = list(map(int, input().split()))\n",
        "    arr.append([A, B])\n",
        " \n",
        "arr.sort(key=lambda x: x[0])\n",
        "solution()"
      ],
      "execution_count": null,
      "outputs": []
    }
  ]
}