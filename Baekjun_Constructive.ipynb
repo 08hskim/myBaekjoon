{
  "nbformat": 4,
  "nbformat_minor": 0,
  "metadata": {
    "colab": {
      "name": "Baekjun_Constructive.ipynb",
      "private_outputs": true,
      "provenance": [],
      "collapsed_sections": [],
      "authorship_tag": "ABX9TyMvYiZw2VS3vEdD2TuKOtS0",
      "include_colab_link": true
    },
    "kernelspec": {
      "name": "python3",
      "display_name": "Python 3"
    },
    "language_info": {
      "name": "python"
    }
  },
  "cells": [
    {
      "cell_type": "markdown",
      "metadata": {
        "id": "view-in-github",
        "colab_type": "text"
      },
      "source": [
        "<a href=\"https://colab.research.google.com/github/08hskim/myBaekjoon/blob/master/Baekjun_Constructive.ipynb\" target=\"_parent\"><img src=\"https://colab.research.google.com/assets/colab-badge.svg\" alt=\"Open In Colab\"/></a>"
      ]
    },
    {
      "cell_type": "markdown",
      "metadata": {
        "id": "Q3GoE6A-73t1"
      },
      "source": [
        "# 2873번 문제"
      ]
    },
    {
      "cell_type": "code",
      "metadata": {
        "id": "CIDVtQEa7yrd"
      },
      "source": [
        "import sys\n",
        "\n",
        "def printCodd():\n",
        "    for i in range(c//2):\n",
        "        print(\"D\"*(r-1),end=\"\")\n",
        "        print(\"R\",end=\"\")\n",
        "        print(\"U\"*(r-1),end=\"\")\n",
        "        print(\"R\",end=\"\")\n",
        "    print(\"D\"*(r-1))\n",
        "\n",
        "def printRoddCeven():\n",
        "    for i in range(r//2):\n",
        "        print(\"R\"*(c-1),end=\"\")\n",
        "        print(\"D\",end=\"\")\n",
        "        print(\"L\"*(c-1),end=\"\")\n",
        "        print(\"D\",end=\"\")\n",
        "    print(\"R\"*(c-1))\n",
        "\n",
        "def printRevenCeven(temps):\n",
        "    min = 1000\n",
        "    indexi=-1\n",
        "    indexj=-1\n",
        "    for i in range(r):\n",
        "        for j in range(c):\n",
        "            if((i+j)%2!=0 and min>temps[i][j]):\n",
        "                min=temps[i][j]\n",
        "                indexi=i\n",
        "                indexj=j\n",
        "    res = ('D'*(r-1)+'R'+'U'*(r-1)+'R')*(indexj//2)\n",
        "    currentX=2*(indexj//2)\n",
        "    currentY=0\n",
        "    xbound=2*(indexj//2)+1\n",
        "    while currentX!=xbound or currentY!=r-1:\n",
        "        if(currentX<xbound and [currentY,xbound]!=[indexi,indexj]):\n",
        "            currentX+=1\n",
        "            res+='R'\n",
        "        elif currentX == xbound and [currentY, xbound - 1] != [indexi,indexj]:\n",
        "            currentX -= 1\n",
        "            res += 'L'\n",
        "        if currentY != r - 1:\n",
        "            currentY += 1\n",
        "            res += 'D'\n",
        "    res += ('R' + 'U' * (r - 1) + 'R' + 'D' * (r - 1)) * ((c - indexj - 1) // 2)\n",
        "    print(res)\n",
        "\n",
        "r, c = map(int, input().split())\n",
        "nums = []\n",
        "for i in range(r):\n",
        "    nums.append(list(map(int, input().split())))\n",
        "\n",
        "start=nums[0][0]\n",
        "end=nums[r-1][c-1]\n",
        "\n",
        "temps=nums[:]\n",
        "\n",
        "if(c%2!=0):\n",
        "    printCodd()\n",
        "elif(r%2!=0):\n",
        "    printRoddCeven()\n",
        "elif(c%2==0 and r%2==0):\n",
        "    printRevenCeven(temps)\n"
      ],
      "execution_count": null,
      "outputs": []
    },
    {
      "cell_type": "markdown",
      "metadata": {
        "id": "p2DYPmIdHDz6"
      },
      "source": [
        "# 16956번 문제"
      ]
    },
    {
      "cell_type": "code",
      "metadata": {
        "id": "CkSn67CAHGqG"
      },
      "source": [
        "from collections import deque\n",
        "\n",
        "def bfs(y, x):\n",
        "    for dy, dx in d:\n",
        "        Y, X = y+dy, x+dx\n",
        "        if (0 <= Y < R) and (0 <= X < C):\n",
        "            if graph[Y][X] == 'S':\n",
        "                return False\n",
        "            if graph[Y][X] == '.':\n",
        "                graph[Y][X] = 'D'\n",
        "    return True\n",
        "\n",
        "R, C = map(int, input().split())\n",
        "graph = [list(input()) for _ in range(R)]\n",
        "d = [(-1, 0), (1, 0), (0, -1), (0, 1)]\n",
        "for i in range(R):\n",
        "    for j in range(C):\n",
        "        t = True\n",
        "        if graph[i][j] == 'W':\n",
        "            t = bfs(i, j)\n",
        "            if t == False:\n",
        "                print(0)\n",
        "                break\n",
        "if t:\n",
        "    print(1)\n",
        "    for line in graph:\n",
        "        print(''.join(line))"
      ],
      "execution_count": null,
      "outputs": []
    },
    {
      "cell_type": "markdown",
      "metadata": {
        "id": "ya7LRaRYd8U1"
      },
      "source": [
        "# 2816번 문제"
      ]
    },
    {
      "cell_type": "code",
      "metadata": {
        "id": "eMAXAkwnd-N2"
      },
      "source": [
        "n = int(input())\n",
        "channel = []\n",
        "\n",
        "for i in range(n):\n",
        "    a = input()\n",
        "    if a == 'KBS1': id1 = i\n",
        "    elif a == 'KBS2': id2 = i\n",
        "    channel.append(a)\n",
        "\n",
        "res = ''\n",
        "res += '1'*id1\n",
        "res += '4'*id1\n",
        "if id1 > id2: id2 += 1\n",
        "res += '1'*id2\n",
        "res += '4'*(id2-1)\n",
        "\n",
        "print(res)"
      ],
      "execution_count": null,
      "outputs": []
    }
  ]
}