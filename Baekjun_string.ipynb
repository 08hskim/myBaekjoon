{
  "nbformat": 4,
  "nbformat_minor": 0,
  "metadata": {
    "colab": {
      "name": "Baekjun_string.ipynb",
      "private_outputs": true,
      "provenance": [],
      "collapsed_sections": [],
      "authorship_tag": "ABX9TyOcXkBi7bOwbieOUYFcDp0X",
      "include_colab_link": true
    },
    "kernelspec": {
      "name": "python3",
      "display_name": "Python 3"
    }
  },
  "cells": [
    {
      "cell_type": "markdown",
      "metadata": {
        "id": "view-in-github",
        "colab_type": "text"
      },
      "source": [
        "<a href=\"https://colab.research.google.com/github/08hskim/myBaekjoon/blob/master/Baekjun_string.ipynb\" target=\"_parent\"><img src=\"https://colab.research.google.com/assets/colab-badge.svg\" alt=\"Open In Colab\"/></a>"
      ]
    },
    {
      "cell_type": "markdown",
      "metadata": {
        "id": "N2kqFHOO-Mz_"
      },
      "source": [
        "# 8958번 문제"
      ]
    },
    {
      "cell_type": "code",
      "metadata": {
        "id": "zHq8fogL-I0G"
      },
      "source": [
        "n=int(input())\n",
        "\n",
        "for _ in range(n):\n",
        "    result=list(input().replace('X', ' ').split())\n",
        "    score=0\n",
        "    for i in result:\n",
        "        score+=int((len(i)*(len(i)+1))/2)\n",
        "    print(score)"
      ],
      "execution_count": null,
      "outputs": []
    },
    {
      "cell_type": "markdown",
      "metadata": {
        "id": "ikwdwqxmAfcw"
      },
      "source": [
        "# 1152번 문제"
      ]
    },
    {
      "cell_type": "code",
      "metadata": {
        "id": "UQv1UgwfAhdt"
      },
      "source": [
        "string = list(input().split())\n",
        "print(len(string))"
      ],
      "execution_count": null,
      "outputs": []
    },
    {
      "cell_type": "markdown",
      "metadata": {
        "id": "-mJj75MGA6X4"
      },
      "source": [
        "# 10809번 문제"
      ]
    },
    {
      "cell_type": "code",
      "metadata": {
        "id": "kpmz9stZA9gk"
      },
      "source": [
        "S=input()\n",
        "alphabet=['a','b','c','d','e','f','g','h','i','j','k','l','m','n','o','p','q','r','s','t','u','v','w','x','y','z']\n",
        "seat=[]\n",
        "for i in alphabet:\n",
        "    if i in S:\n",
        "        seat.append(str(S.index(i)))\n",
        "    else: seat.append('-1')\n",
        "print(\" \".join(seat))"
      ],
      "execution_count": null,
      "outputs": []
    },
    {
      "cell_type": "markdown",
      "metadata": {
        "id": "BvTYBrhBDXcv"
      },
      "source": [
        "# 1157번 문제"
      ]
    },
    {
      "cell_type": "code",
      "metadata": {
        "id": "7AcfpGXTDaCF"
      },
      "source": [
        "S=input().upper()\n",
        "S_al=list(set(S))\n",
        "fre=[]\n",
        "for i in S_al:\n",
        "    fre.append(S.count(i))\n",
        "\n",
        "if fre.count(max(fre)) > 1: print('?')\n",
        "else: print(S_al[fre.index(max(fre))])"
      ],
      "execution_count": null,
      "outputs": []
    },
    {
      "cell_type": "markdown",
      "metadata": {
        "id": "l2JfLnBMFdRY"
      },
      "source": [
        "# 2941번 문제"
      ]
    },
    {
      "cell_type": "code",
      "metadata": {
        "id": "PyM2l9zxHEjr"
      },
      "source": [
        "S=input()\n",
        "croatia=['c=','c-','dz=','d-','lj', 'nj','s=','z=']\n",
        "point=0\n",
        "alphabet=0\n",
        "while point <= len(S)-2:\n",
        "    if S[point:point+2] in croatia:\n",
        "        alphabet+=1\n",
        "        S=S[:point]+S[point+2:]\n",
        "    else: point+=1\n",
        "alphabet+=len(S)\n",
        "print(alphabet)"
      ],
      "execution_count": null,
      "outputs": []
    },
    {
      "cell_type": "code",
      "metadata": {
        "id": "KnOO49eCJ-pI"
      },
      "source": [
        "a = ['c=', 'c-', 'dz=', 'd-', 'lj', 'nj', 's=', 'z='] \n",
        "alpha = input() \n",
        "for t in a: \n",
        "    alpha = alpha.replace(t, '*') \n",
        "    \n",
        "print(len(alpha))\n"
      ],
      "execution_count": null,
      "outputs": []
    },
    {
      "cell_type": "markdown",
      "metadata": {
        "id": "JCMVdKovegKc"
      },
      "source": [
        "# 1181번 문제"
      ]
    },
    {
      "cell_type": "code",
      "metadata": {
        "id": "macybRiieimy"
      },
      "source": [
        "voca_list = []\n",
        "for i in range(int(input())):               # 테스트케이스 수 입력\n",
        "    voca_list.append(input())               # 입력하는 단어를 리스트로 저장\n",
        " \n",
        "set_voca_list = list(set(voca_list))        # 리스트의 중복 제거\n",
        " \n",
        "sort_voca_list = []\n",
        " \n",
        "for j in set_voca_list:\n",
        "    sort_voca_list.append((len(j), j))      # 단어의 길이와 단어를 같이 리스트화 시켜 저장\n",
        " \n",
        "sort_voca_list.sort()                       # sort()는 len(j), j 에서 앞을 먼저 정렬후에 앞의 조건이 일치하면 뒤를 정렬한다.\n",
        " \n",
        "for len_voca, voca in sort_voca_list:       # 리스트를 순환시켜 순서대로 출력\n",
        "    print(voca)"
      ],
      "execution_count": null,
      "outputs": []
    },
    {
      "cell_type": "markdown",
      "metadata": {
        "id": "TnBEhAOxfpJY"
      },
      "source": [
        "# 1764번 문제"
      ]
    },
    {
      "cell_type": "code",
      "metadata": {
        "id": "B21U9p-Cfrc3"
      },
      "source": [
        "n, m = map(int,input().split())\n",
        "h=[]\n",
        "w=[]\n",
        "h_and_w=[]\n",
        "count=0\n",
        "for _ in range(n):\n",
        "    h.append(input())\n",
        "\n",
        "for _ in range(m):\n",
        "    p=input()\n",
        "    if p in h:\n",
        "        h_and_w.append(p)\n",
        "        count+=1\n",
        "h_and_w=sorted(h_and_w)\n",
        "print(count)\n",
        "if h_and_w != []:\n",
        "    for i in range(len(h_and_w)):\n",
        "        print(h_and_w[i])"
      ],
      "execution_count": null,
      "outputs": []
    },
    {
      "cell_type": "code",
      "metadata": {
        "id": "92nFdoBHuxir"
      },
      "source": [
        "N , M = map(int,input().split())\n",
        "arr_1 = set()\n",
        "arr_2 = set()\n",
        "\n",
        "for _ in range(N):\n",
        "    arr_1.add(input())\n",
        "for _ in range(M):\n",
        "    arr_2.add(input())\n",
        "\n",
        "arr = sorted(list(arr_1 & arr_2))\n",
        "print(len(arr))\n",
        "\n",
        "for i in arr:\n",
        "    print(i)"
      ],
      "execution_count": null,
      "outputs": []
    },
    {
      "cell_type": "markdown",
      "metadata": {
        "id": "GGhbRDqywQ3x"
      },
      "source": [
        "# 4949번 문제"
      ]
    },
    {
      "cell_type": "code",
      "metadata": {
        "id": "PWn-OIIO69dv"
      },
      "source": [
        "import re\n",
        "while True:\n",
        "    a=[]# 소괄호, 중괄호, 대괄호가 들어가는 곳\n",
        "    s=input()\n",
        "    if s=='.': \n",
        "        break\n",
        "    s_only= re.sub('[a-zA-Z.]', ' ', s)\n",
        "    s_only=list(s_only.replace(\" \",\"\"))\n",
        "    temp = True\n",
        "    for i in s:\n",
        "        if i == '(' or i == '[':\n",
        "            a.append(i)\n",
        "        elif i == ')':\n",
        "            if not a or a[-1] == '[':\n",
        "                temp = False\n",
        "                break\n",
        "            elif a[-1] == '(':\n",
        "                a.pop()\n",
        "        elif i == ']':\n",
        "            if not a or a[-1] == '(':\n",
        "                temp = False\n",
        "                break\n",
        "            elif a[-1] == '[':\n",
        "                a.pop()\n",
        "    if temp == True and not a:\n",
        "        print('yes')\n",
        "    else:\n",
        "        print('no')"
      ],
      "execution_count": null,
      "outputs": []
    },
    {
      "cell_type": "markdown",
      "metadata": {
        "id": "_9v5eVot8jRw"
      },
      "source": [
        "# 10942번 문제"
      ]
    },
    {
      "cell_type": "code",
      "metadata": {
        "id": "0SvLtWHNyqud"
      },
      "source": [
        "n = int(input())\n",
        "num = list(map(int, input().split()))\n",
        "\n",
        "for _ in range(int(input())):\n",
        "    s, e = map(int, input().split())\n",
        "\n",
        "    a = num[s-1:e]\n",
        "    if a == a[::-1]: print(1)\n",
        "    else: print(0)"
      ],
      "execution_count": null,
      "outputs": []
    },
    {
      "cell_type": "markdown",
      "metadata": {
        "id": "75a602vGG4BG"
      },
      "source": [
        "# 1620번 문제"
      ]
    },
    {
      "cell_type": "code",
      "metadata": {
        "id": "FMNzqngfG7BO"
      },
      "source": [
        "n, m = map(int, input().split())\n",
        " \n",
        "pkmn = [] # 포켓몬 이름을 저장할 list\n",
        "pkmn_dic = {} # 포켓몬 이름에 따른 번호를 저장할 dictionary\n",
        " \n",
        "for i in range(n) :    \n",
        "    pk = input().rstrip()\n",
        "    pkmn.append(pk)\n",
        "    pkmn_dic[pk] = i + 1\n",
        " \n",
        "for _ in range(m):\n",
        " \n",
        "    query = input().rstrip()\n",
        " \n",
        "    # query가 숫자이면 list에서 조회 후 출력\n",
        "    if query.isdigit() :\n",
        "        print(pkmn[int(query)-1])\n",
        "    # query가 문자열이면 dictionary에서 조회 후 출력\n",
        "    else :\n",
        "        print(pkmn_dic[query])"
      ],
      "execution_count": null,
      "outputs": []
    },
    {
      "cell_type": "markdown",
      "metadata": {
        "id": "6nb2KUBWLdrR"
      },
      "source": [
        "# 9935번 문제"
      ]
    },
    {
      "cell_type": "code",
      "metadata": {
        "id": "Mfztu9M_LDfp"
      },
      "source": [
        "import re\n",
        "S=input()\n",
        "word=str(input())\n",
        "\n",
        "while S!=re.sub(word,'',S):\n",
        "    S=re.sub(word,'',S)\n",
        "\n",
        "if S ==\"\":\n",
        "    print('FRULA')\n",
        "else: print(S)"
      ],
      "execution_count": null,
      "outputs": []
    },
    {
      "cell_type": "markdown",
      "metadata": {
        "id": "Wv1W030qcwkE"
      },
      "source": [
        "# 1543번 문제"
      ]
    },
    {
      "cell_type": "code",
      "metadata": {
        "id": "U4w5BzxmMx0A"
      },
      "source": [
        "a = input()\n",
        "b = input()\n",
        "count = 0\n",
        "n = 0\n",
        "while n <= len(a) - len(b):\n",
        "    if a[n:n + len(b)] == b:\n",
        "        count += 1\n",
        "        n += len(b)\n",
        "    else:\n",
        "        n += 1\n",
        "print(count)"
      ],
      "execution_count": null,
      "outputs": []
    },
    {
      "cell_type": "markdown",
      "metadata": {
        "id": "V7ArnkU_eTOT"
      },
      "source": [
        "# 4458번 문제"
      ]
    },
    {
      "cell_type": "code",
      "metadata": {
        "id": "8RW0SpcNeVYl"
      },
      "source": [
        "n=int(input())\n",
        "for _ in range(n):\n",
        "    s=str(input())\n",
        "    s=s[0].upper()+s[1:]\n",
        "    print(s)"
      ],
      "execution_count": null,
      "outputs": []
    },
    {
      "cell_type": "markdown",
      "metadata": {
        "id": "nkdt5hLsfJe_"
      },
      "source": [
        "# 1225번 문제"
      ]
    },
    {
      "cell_type": "code",
      "metadata": {
        "id": "mSE1SAKXfMT9"
      },
      "source": [
        "n, m = input().split()\n",
        "n=list(map(int, list(n)))\n",
        "m=list(map(int, list(m)))\n",
        "\n",
        "\n",
        "print(sum(n)*sum(m))"
      ],
      "execution_count": null,
      "outputs": []
    },
    {
      "cell_type": "markdown",
      "metadata": {
        "id": "24tJAPF1CAMq"
      },
      "source": [
        "# 11718번 문제"
      ]
    },
    {
      "cell_type": "code",
      "metadata": {
        "id": "RrfwuWAhCOQH"
      },
      "source": [
        "import sys\n",
        "while True:\n",
        "    line=sys.stdin.readline()\n",
        "    if not line: \n",
        "        break\n",
        "    print(line, end='')"
      ],
      "execution_count": null,
      "outputs": []
    },
    {
      "cell_type": "markdown",
      "metadata": {
        "id": "YQKqWpCnE1DP"
      },
      "source": [
        "# 11721번 문제"
      ]
    },
    {
      "cell_type": "code",
      "metadata": {
        "id": "zwBZ4-WbE3-x"
      },
      "source": [
        "s = input()\n",
        "\n",
        "for i in range(0,len(s),10):\n",
        "    print(s[i:i+10])\n"
      ],
      "execution_count": null,
      "outputs": []
    },
    {
      "cell_type": "markdown",
      "metadata": {
        "id": "oTIytBpvKBHp"
      },
      "source": [
        "# 1316번 문제"
      ]
    },
    {
      "cell_type": "code",
      "metadata": {
        "id": "fN8fF9qEE8gp"
      },
      "source": [
        "def check_group(string):\n",
        "    strr = list(string)\n",
        "    groups = []\n",
        "    for i in range(len(strr)):\n",
        "        if strr[i] not in groups:\n",
        "            groups.append(strr[i])\n",
        "        else:\n",
        "            if strr[i-1] != strr[i]: return False\n",
        "            else: groups.append(strr[i])\n",
        "    return True\n",
        "\n",
        "count = 0\n",
        "\n",
        "for _ in range(int(input())):\n",
        "    if check_group(input()): count +=1\n",
        "\n",
        "\n",
        "print(count)"
      ],
      "execution_count": null,
      "outputs": []
    },
    {
      "cell_type": "markdown",
      "metadata": {
        "id": "AB82vWOjUkGm"
      },
      "source": [
        "# 5430번 문제"
      ]
    },
    {
      "cell_type": "code",
      "metadata": {
        "id": "N9MctPY0UmLY"
      },
      "source": [
        "t = int(input())\n",
        "\n",
        "for _ in range(t):\n",
        "    op = list(input())\n",
        "    length = int(input())\n",
        "    a = input().rstrip()[1:-1].split(',')\n",
        "    if length != 0:\n",
        "        a = list(map(int, a))\n",
        "        for o in op:\n",
        "            if o == 'R':\n",
        "                a = a[::-1]\n",
        "            elif o == 'D':\n",
        "                if a == []: \n",
        "                    print('error')\n",
        "                    continue\n",
        "                else: del a[0]\n",
        "        print(a)\n",
        "    else:\n",
        "        for o in op:\n",
        "            if o == \"D\":\n",
        "                print('error\\n')\n",
        "                break\n",
        "\n",
        "    "
      ],
      "execution_count": null,
      "outputs": []
    },
    {
      "cell_type": "code",
      "metadata": {
        "id": "9ns-SHS_cflq"
      },
      "source": [
        "\n",
        "from collections import deque\n",
        "import sys\n",
        "\n",
        "\n",
        "if __name__ == \"__main__\":\n",
        "    T = int(sys.stdin.readline())\n",
        "\n",
        "    for _ in range(T):\n",
        "        operation = input()\n",
        "        n = int(sys.stdin.readline())\n",
        "        temp = input()\n",
        "        temp = temp[1:-1]  # [ ] 제거\n",
        "\n",
        "        if \",\" not in temp and temp != \"\":\n",
        "            num_deque = deque([int(temp)])\n",
        "        elif temp != \"\":\n",
        "            num_deque = deque(map(int, temp.split(\",\")))\n",
        "        else:\n",
        "            num_deque = deque()\n",
        "\n",
        "        # 명령 수행\n",
        "        flag = 1\n",
        "        cnt = 0  # Reverse의 개수\n",
        "\n",
        "        for i in range(len(operation)):\n",
        "            if operation[i] == \"R\":\n",
        "                cnt += 1\n",
        "            else:\n",
        "                if len(num_deque) == 0:\n",
        "                    flag = 0\n",
        "                    break\n",
        "\n",
        "                if cnt % 2 == 0:\n",
        "                    num_deque.popleft()\n",
        "                else:\n",
        "                    num_deque.pop()\n",
        "        if cnt % 2 == 1:\n",
        "            num_deque.reverse()\n",
        "\n",
        "        if flag:\n",
        "            print(\"[\", end=\"\")\n",
        "            for i in range(len(num_deque)):\n",
        "                if i == len(num_deque) - 1:\n",
        "                    print(num_deque[i], end=\"\")\n",
        "                else:\n",
        "                    print(str(num_deque[i]) + \",\", end=\"\")\n",
        "            print(\"]\")\n",
        "        else:\n",
        "            print(\"error\")"
      ],
      "execution_count": null,
      "outputs": []
    },
    {
      "cell_type": "markdown",
      "metadata": {
        "id": "r7JQcMBsdhZF"
      },
      "source": [
        "# 10820번 문제"
      ]
    },
    {
      "cell_type": "code",
      "metadata": {
        "id": "-pjbJe8HZy3r"
      },
      "source": [
        "import sys\n",
        "while True:\n",
        "    small, capital, num, space = 0, 0, 0, 0\n",
        "    line = sys.stdin.readline().rstrip('\\n')\n",
        "\n",
        "    if not line: \n",
        "        break\n",
        "    for i in line:\n",
        "        if i.isspace(): space += 1\n",
        "        elif i.islower(): small += 1\n",
        "        elif i.isupper(): capital += 1\n",
        "        elif i.isdigit(): num += 1\n",
        "    \n",
        "    sys.stdout.write(\"{} {} {} {}\\n\".format(small, capital, num, space))"
      ],
      "execution_count": null,
      "outputs": []
    },
    {
      "cell_type": "markdown",
      "metadata": {
        "id": "de9SNIL2j_PB"
      },
      "source": [
        "# 1357번 문제"
      ]
    },
    {
      "cell_type": "code",
      "metadata": {
        "id": "2401PqAthJ47"
      },
      "source": [
        "def Rev(num):\n",
        "    length = list(str(num))\n",
        "    length = list(map(int, length))\n",
        "    result = 0\n",
        "    for i in range(len(length)):\n",
        "        result += length[i]*10**i\n",
        "    return result\n",
        "\n",
        "x, y = map(int, input().split())\n",
        "\n",
        "print(Rev(Rev(x)+Rev(y)))"
      ],
      "execution_count": null,
      "outputs": []
    },
    {
      "cell_type": "markdown",
      "metadata": {
        "id": "MhQdzTj6EvQR"
      },
      "source": [
        "# 9093번 문제"
      ]
    },
    {
      "cell_type": "code",
      "metadata": {
        "id": "tSfPu0lAE2h9"
      },
      "source": [
        "n = int(input())\n",
        "\n",
        "for _ in range(n):\n",
        "    s = list(input().split())\n",
        "    for word in s:\n",
        "        print(word[::-1], end =' ')"
      ],
      "execution_count": null,
      "outputs": []
    },
    {
      "cell_type": "markdown",
      "metadata": {
        "id": "8P4EhPxVT7C4"
      },
      "source": [
        "# 1786번 문제"
      ]
    },
    {
      "cell_type": "code",
      "metadata": {
        "id": "OTZhH9r4T9a0"
      },
      "source": [
        "def find_same(string, target):\n",
        "    length = 0\n",
        "    result = []\n",
        "    result_len = 0\n",
        "    for i in range(1, len(target)):\n",
        "        id = []\n",
        "        a = target[:i]\n",
        "        for j in range(len(string)):\n",
        "            if a == string[j:j+i]:\n",
        "                id.append(j)\n",
        "            if length < len(id): \n",
        "                result = id\n",
        "                result_len = i\n",
        "    return result, result_len\n",
        "\n",
        "t = input()\n",
        "target = input()\n",
        "\n",
        "s, length = find_same(t, target)\n",
        "count = 0\n",
        "result = []\n",
        "for i in s:\n",
        "    if t[i:i+len(target)] == target:\n",
        "        count+=1\n",
        "        result.append(str(i+1))\n",
        "\n",
        "print(''.join(result))\n",
        "print(count)"
      ],
      "execution_count": null,
      "outputs": []
    },
    {
      "cell_type": "code",
      "metadata": {
        "id": "HFxzTc8QVfhq"
      },
      "source": [
        "text = input()\n",
        "pattern = input()\n",
        "pi = [0 for i in range(0, len(pattern))]\n",
        "result = list()\n",
        "count = 0\n",
        "\n",
        "j=0\n",
        "for i in range(1,len(pattern)):\n",
        "    while(j > 0 and pattern[i] != pattern[j]):\n",
        "        j = pi[j - 1]\n",
        "    if(pattern[i] == pattern[j]):\n",
        "        j+=1\n",
        "        pi[i] = j\n",
        "\n",
        "j = 0;\n",
        "patternLength = len(pattern)\n",
        "textLength = len(text)\n",
        "for i in range(0, textLength):\n",
        "    while(j > 0 and text[i] != pattern[j]):\n",
        "        j = pi[j - 1]\n",
        "    if(text[i] == pattern[j]):\n",
        "        if(j == patternLength - 1):\n",
        "            ##같은 패턴을 찾았음\n",
        "            result.append(i - patternLength + 2)\n",
        "            count+=1\n",
        "            j = pi[j]\n",
        "        else:\n",
        "            j+=1\n",
        "\n",
        "print(count)\n",
        "for c in result:\n",
        "    print(c)\n",
        "\n"
      ],
      "execution_count": null,
      "outputs": []
    },
    {
      "cell_type": "markdown",
      "metadata": {
        "id": "u9K-scp8po4w"
      },
      "source": [
        "# 1159번 문제"
      ]
    },
    {
      "cell_type": "code",
      "metadata": {
        "id": "HzfAP4_Cpq4N"
      },
      "source": [
        "n = int(input())\n",
        "\n",
        "first = {}\n",
        "\n",
        "for _ in range(n):\n",
        "    name = input()\n",
        "    if name[0] not in first:\n",
        "        first[name[0]] = 1\n",
        "    else: first[name[0]] += 1\n",
        "\n",
        "five = []\n",
        "if max(first.values()) < 5:\n",
        "    print('PREDAJA')\n",
        "else:\n",
        "    for name, value in first.items():\n",
        "        if value >= 5:\n",
        "            five.append(name)\n",
        "\n",
        "five = sorted(five)\n",
        "\n",
        "for i in five:\n",
        "    print(i, end = '')"
      ],
      "execution_count": null,
      "outputs": []
    },
    {
      "cell_type": "markdown",
      "metadata": {
        "id": "rcK14kTHue_R"
      },
      "source": [
        "# 7785번 문제"
      ]
    },
    {
      "cell_type": "code",
      "metadata": {
        "id": "PJbB00Wrug_L"
      },
      "source": [
        "n = int(input())\n",
        "\n",
        "labor = {}\n",
        "for _ in range(n):\n",
        "    name, stance = input().split()\n",
        "    if name not in labor: labor[name] = 0\n",
        "\n",
        "    if stance == 'enter': labor[name] += 1\n",
        "    elif stance == 'leave': labor[name] -= 1\n",
        "    \n",
        "remain = []\n",
        "for name, state in labor.items():\n",
        "    if state > 0: remain.append(name)\n",
        "\n",
        "remain.sort(reverse= True)\n",
        "for i in remain: print(i)"
      ],
      "execution_count": null,
      "outputs": []
    },
    {
      "cell_type": "markdown",
      "metadata": {
        "id": "N-DN9nBn4Ds1"
      },
      "source": [
        "# 1213번 문제"
      ]
    },
    {
      "cell_type": "code",
      "metadata": {
        "id": "Q8YbwQQB4Fgo"
      },
      "source": [
        "string = input()\n",
        "\n",
        "count = [0 for _ in range(26)]\n",
        "\n",
        "for i in string:\n",
        "    count[ord(i)-65] += 1\n",
        "\n",
        "odd_count = [1 if i%2 == 1 else 0 for i in count]\n",
        "\n",
        "odd_alpha = ''\n",
        "alpha = ''\n",
        "for i in range(26):\n",
        "    if odd_count[i]==1:\n",
        "        odd_alpha += chr(i+65)\n",
        "    alpha+=chr(i+65)*(count[i]//2)\n",
        "\n",
        "if sum(odd_count)>1: print(\"I'm Sorry Hansoo\")\n",
        "else:\n",
        "    print(alpha+odd_alpha+alpha[::-1])\n"
      ],
      "execution_count": null,
      "outputs": []
    },
    {
      "cell_type": "markdown",
      "metadata": {
        "id": "j1QCwJVYyaXM"
      },
      "source": [
        "# 1076번 문제"
      ]
    },
    {
      "cell_type": "code",
      "metadata": {
        "id": "rdvIBJ3Aymdb"
      },
      "source": [
        "color = ['black', 'brown', 'red', 'orange', 'yellow', 'green', 'blue', 'violet', 'grey', 'white']\n",
        "\n",
        "result = 0\n",
        "\n",
        "result += 10*color.index(input())\n",
        "result += color.index(input())\n",
        "result *= 10**color.index(input())\n",
        "\n",
        "print(result)"
      ],
      "execution_count": null,
      "outputs": []
    },
    {
      "cell_type": "markdown",
      "metadata": {
        "id": "snSjm5jPFnhi"
      },
      "source": [
        "# 1652번 문제"
      ]
    },
    {
      "cell_type": "code",
      "metadata": {
        "id": "CGT23Uw-Fpqo"
      },
      "source": [
        "n = int(input())\n",
        "s = []\n",
        "cnt_w = 0\n",
        "cnt_h = 0\n",
        "position_w = 0\n",
        "position_h = 0\n",
        "for i in range(n):\n",
        "    s.append(input())\n",
        "for i in s:\n",
        "    for j in i:\n",
        "        if j == '.':\n",
        "            cnt_w += 1\n",
        "        else:\n",
        "            if cnt_w > 1:\n",
        "                position_w += 1\n",
        "            cnt_w = 0\n",
        "    if cnt_w > 1:\n",
        "        position_w += 1\n",
        "    cnt_w = 0\n",
        "for i in range(n):\n",
        "    for j in range(n):\n",
        "        if s[j][i] == '.':\n",
        "            cnt_h += 1\n",
        "        else:\n",
        "            if cnt_h > 1:\n",
        "                position_h += 1\n",
        "            cnt_h = 0\n",
        "    if cnt_h > 1:\n",
        "        position_h += 1\n",
        "    cnt_h = 0\n",
        "print(position_w, position_h)"
      ],
      "execution_count": null,
      "outputs": []
    },
    {
      "cell_type": "markdown",
      "metadata": {
        "id": "NGEB3-zdNSb7"
      },
      "source": [
        "# 1062번 문제"
      ]
    },
    {
      "cell_type": "code",
      "metadata": {
        "id": "XpAcb-ePNUcU"
      },
      "source": [
        "from sys import stdin\n",
        "from itertools import combinations\n",
        "\n",
        "\n",
        "# a/c/i/t/n을 제외한 알파벳 각각에 고유 번호 부여\n",
        "bin_dict = {'b': 20, 'd': 19, 'e': 18, 'f': 17, 'g': 16, 'h': 15, 'j': 14,\n",
        "            'k': 13, 'l': 12, 'm': 11, 'o': 10, 'p': 9, 'q': 8, 'r': 7,\n",
        "            's': 6, 'u': 5, 'v': 4, 'w': 3, 'x': 2, 'y': 1, 'z': 0}\n",
        "\n",
        "\n",
        "# 알파벳 배열을 2진수로 바꾸어주는 함수\n",
        "def word_to_bin(word):\n",
        "    answer = 0b0\n",
        "    for x in word:\n",
        "        answer = answer | (1 << bin_dict[x])\n",
        "\n",
        "    return answer\n",
        "\n",
        "\n",
        "n, k = map(int, stdin.readline().split())\n",
        "words = []\n",
        "# 각 입력 단어에 대하여\n",
        "# 1. 앞의 anta와 뒤의 tica를 슬라이스한 뒤 set로 만들고\n",
        "# 2. 그중 a/c/i/t/n을 제외한 뒤 words 리스트에 저장\n",
        "for _ in range(n):\n",
        "    words.append(set(stdin.readline().rstrip()[4:-4]).difference('a', 'c', 'i', 't', 'n'))\n",
        "\n",
        "# k가 5 미만이라면 어떤 단어도 만들 수 없다.\n",
        "if k < 5:\n",
        "    print(0)\n",
        "else:\n",
        "    bin_list = [word_to_bin(x) for x in words]\n",
        "    max_count = 0\n",
        "\n",
        "    # 2의 0제곱부터 2의 20제곱까지 저장\n",
        "    power_of_2 = []\n",
        "    for i in range(21):\n",
        "        power_of_2.append(2 ** i)\n",
        "\n",
        "    for comb in combinations(power_of_2, k - 5):\n",
        "        current = sum(comb)\n",
        "        count = 0\n",
        "        for bin_number in bin_list:\n",
        "            # 바깥쪽 for문 - 현재 순회 중인 k - 5개의 알파벳 조합(comb)으로\n",
        "            # 안쪽 for문 - 현재 순회 중인 단어를 만들 수 있다면\n",
        "            if bin_number & current == bin_number:\n",
        "                count += 1\n",
        "\n",
        "        max_count = max(max_count, count)\n",
        "\n",
        "    print(max_count)"
      ],
      "execution_count": null,
      "outputs": []
    },
    {
      "cell_type": "markdown",
      "metadata": {
        "id": "ox0LO7zfaWfv"
      },
      "source": [
        "# 5582번 문제"
      ]
    },
    {
      "cell_type": "code",
      "metadata": {
        "id": "rhswZpdEaY6X"
      },
      "source": [
        "answer = 0\n",
        "str1, str2 = input(), input()\n",
        "\n",
        "#dp=[[0 for _ in range(len(str2) + 1)] for _ in range(len(str1) + 1)]\n",
        "dp=[[0] * (len(str2) + 1) for _ in range(len(str1) + 1)]\n",
        "\n",
        "for i in range(1, len(str1)+1):\n",
        "    for j in range(1, len(str2)+1):\n",
        "        if (str1[i-1] == str2[j-1]):\n",
        "            dp[i][j] = dp[i-1][j-1] + 1\n",
        "            answer = max(dp[i][j], answer)\n",
        "\n",
        "print(answer)"
      ],
      "execution_count": null,
      "outputs": []
    },
    {
      "cell_type": "markdown",
      "metadata": {
        "id": "WRkiMfmIs5CW"
      },
      "source": [
        "# 5525번 문제"
      ]
    },
    {
      "cell_type": "code",
      "metadata": {
        "id": "Ff7j-n-2s7Vt"
      },
      "source": [
        "import re\n",
        "n = int(input())\n",
        "p = 'I'+'OI'*n\n",
        "s = int(input())\n",
        "m = input()\n",
        "P = 1+2*n\n",
        "\n",
        "count = 0\n",
        "for i in range(s-P):\n",
        "    if m[i:i+P] == p: count += 1\n",
        "print(count)"
      ],
      "execution_count": null,
      "outputs": []
    }
  ]
}