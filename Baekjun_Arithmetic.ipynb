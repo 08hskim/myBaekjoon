{
  "nbformat": 4,
  "nbformat_minor": 0,
  "metadata": {
    "colab": {
      "name": "Baekjun_Arithmetic.ipynb",
      "private_outputs": true,
      "provenance": [],
      "collapsed_sections": [],
      "authorship_tag": "ABX9TyN7ohA86il/dNnVsmrhmKuO",
      "include_colab_link": true
    },
    "kernelspec": {
      "name": "python3",
      "display_name": "Python 3"
    }
  },
  "cells": [
    {
      "cell_type": "markdown",
      "metadata": {
        "id": "view-in-github",
        "colab_type": "text"
      },
      "source": [
        "<a href=\"https://colab.research.google.com/github/08hskim/myBaekjoon/blob/master/Baekjun_Arithmetic.ipynb\" target=\"_parent\"><img src=\"https://colab.research.google.com/assets/colab-badge.svg\" alt=\"Open In Colab\"/></a>"
      ]
    },
    {
      "cell_type": "markdown",
      "metadata": {
        "id": "ckvL0AiEIhZF"
      },
      "source": [
        "# 2884번 문제"
      ]
    },
    {
      "cell_type": "code",
      "metadata": {
        "id": "MZhWHQcmIQ7u"
      },
      "source": [
        "h, m = map(int, input().split())\n",
        "\n",
        "if (m-45) < 0:\n",
        "    if h==0: h=23\n",
        "    else: h-=1\n",
        "    m+=15\n",
        "else: m-=45\n",
        "\n",
        "print(h,m)"
      ],
      "execution_count": null,
      "outputs": []
    },
    {
      "cell_type": "markdown",
      "metadata": {
        "id": "rTA7wkBzKTSG"
      },
      "source": [
        "# 2525번 문제"
      ]
    },
    {
      "cell_type": "code",
      "metadata": {
        "id": "E6A9ryDVKVZu"
      },
      "source": [
        "a, b = map(int, input().split())\n",
        "c = int(input())\n",
        "\n",
        "a += c//60\n",
        "c-=(c//60)*60\n",
        "b+=c\n",
        "\n",
        "if b >= 60:\n",
        "    b -= 60\n",
        "    a+=1\n",
        "\n",
        "print(a%24, b%60)"
      ],
      "execution_count": null,
      "outputs": []
    },
    {
      "cell_type": "markdown",
      "metadata": {
        "id": "YSmjsqJraPra"
      },
      "source": [
        "# 1964번 문제"
      ]
    },
    {
      "cell_type": "code",
      "metadata": {
        "id": "Q60LKbJiKbon"
      },
      "source": [
        "n = int(input())\n",
        "dot = 5\n",
        "plus = 7\n",
        "for i in range(1, n):\n",
        "    dot += plus\n",
        "    plus += 3\n",
        "print(dot % 45678)"
      ],
      "execution_count": null,
      "outputs": []
    },
    {
      "cell_type": "markdown",
      "metadata": {
        "id": "VE5wVo-wvc8L"
      },
      "source": [
        "# 1267번 문제"
      ]
    },
    {
      "cell_type": "code",
      "metadata": {
        "id": "0Yzse2Zjcz5G"
      },
      "source": [
        "n = int(input())\n",
        "s = list(map(int, input().split()))\n",
        "y = 0\n",
        "m = 0\n",
        "for i in s:\n",
        "    y += i // 30 * 10 + 10\n",
        "    m += i // 60 * 15 + 15\n",
        "if y < m:\n",
        "    print('Y %d' % y)\n",
        "elif y > m:\n",
        "    print('M %d' % m)\n",
        "else:\n",
        "    print('Y M %d' % y)"
      ],
      "execution_count": null,
      "outputs": []
    },
    {
      "cell_type": "markdown",
      "metadata": {
        "id": "Tdmentxz3jwJ"
      },
      "source": [
        "# 10158번 문제"
      ]
    },
    {
      "cell_type": "code",
      "metadata": {
        "id": "Hi59T5vZwx4X"
      },
      "source": [
        "w, h= map(int,input().split())\n",
        "p, q= map(int,input().split())\n",
        "t= int(input())\n",
        " \n",
        "arr= []\n",
        "setA= set()\n",
        "dx, dy= 1,1\n",
        "c_x, c_y= w- p, h- q\n",
        "circle= False\n",
        "while t:\n",
        "    c= min(c_x, c_y, t)\n",
        "    p+= c* dx\n",
        "    q+= c* dy\n",
        "    t-= c\n",
        "    if not circle:\n",
        "        if (p, q, dx, dy, c)in setA:\n",
        "            cnt= 0\n",
        "            for iin range(arr.index((p, q, dx, dy, c)),len(arr)):\n",
        "                cnt+= arr[i][4]\n",
        "            t%= cnt\n",
        "            circle= True\n",
        "        else:\n",
        "            setA.add((p, q, dx, dy, c))\n",
        "            arr.append((p, q, dx, dy, c))\n",
        " \n",
        "    if p== w:\n",
        "        dx= -1\n",
        "        c_x= p\n",
        "    elif p== 0:\n",
        "        dx= 1\n",
        " \n",
        "    if q== h:\n",
        "        dy= -1\n",
        "        c_y= q\n",
        "    elif q== 0:\n",
        "        dy= 1\n",
        " \n",
        "    if dx== 1:\n",
        "        c_x= w- p\n",
        "    elif dx== -1:\n",
        "        c_x= p\n",
        " \n",
        "    if dy== 1:\n",
        "        c_y= h- q\n",
        "    elif dy== -1:\n",
        "        c_y= q\n",
        " \n",
        "print(p, q)\n"
      ],
      "execution_count": null,
      "outputs": []
    }
  ]
}