{
  "nbformat": 4,
  "nbformat_minor": 0,
  "metadata": {
    "colab": {
      "name": "Baekjun_Tree.ipynb",
      "private_outputs": true,
      "provenance": [],
      "collapsed_sections": [],
      "authorship_tag": "ABX9TyNQ+yOOVcnbXKP3YJIsIZ4P",
      "include_colab_link": true
    },
    "kernelspec": {
      "name": "python3",
      "display_name": "Python 3"
    },
    "language_info": {
      "name": "python"
    }
  },
  "cells": [
    {
      "cell_type": "markdown",
      "metadata": {
        "id": "view-in-github",
        "colab_type": "text"
      },
      "source": [
        "<a href=\"https://colab.research.google.com/github/08hskim/myBaekjoon/blob/master/Baekjun_Tree.ipynb\" target=\"_parent\"><img src=\"https://colab.research.google.com/assets/colab-badge.svg\" alt=\"Open In Colab\"/></a>"
      ]
    },
    {
      "cell_type": "markdown",
      "metadata": {
        "id": "62bNsV5LICS0"
      },
      "source": [
        "# 1991번 문제"
      ]
    },
    {
      "cell_type": "code",
      "metadata": {
        "id": "k6CkpYCGH-1j"
      },
      "source": [
        "class Node:\n",
        "    def __init__(self, item, left, right):\n",
        "        self.item = item\n",
        "        self.left = left\n",
        "        self.right = right\n",
        "\n",
        "def preorder(node):  # 전위 순회\n",
        "    print(node.item, end='')\n",
        "    if node.left != '.':\n",
        "        preorder(tree[node.left])\n",
        "    if node.right != '.':\n",
        "        preorder(tree[node.right])\n",
        "\n",
        "\n",
        "def inorder(node):  # 중위 순회\n",
        "    if node.left != '.':\n",
        "        inorder(tree[node.left])\n",
        "    print(node.item, end='')\n",
        "    if node.right != '.':\n",
        "        inorder(tree[node.right])\n",
        "\n",
        "\n",
        "def postorder(node):  # 후위 순회\n",
        "    if node.left != '.':\n",
        "        postorder(tree[node.left])\n",
        "    if node.right != '.':\n",
        "        postorder(tree[node.right])\n",
        "    print(node.item, end='')\n",
        "\n",
        "N = int(input())\n",
        "tree = {}\n",
        "\n",
        "for _ in range(N):\n",
        "    node, left, right = map(str, input().split())\n",
        "    tree[node] = Node(item=node, left=left, right=right)\n",
        "\n",
        "preorder(tree['A'])\n",
        "print()\n",
        "inorder(tree['A'])\n",
        "print()\n",
        "postorder(tree['A'])"
      ],
      "execution_count": null,
      "outputs": []
    },
    {
      "cell_type": "markdown",
      "metadata": {
        "id": "jnA7AQTojGXS"
      },
      "source": [
        "# 11725번 문제"
      ]
    },
    {
      "cell_type": "code",
      "metadata": {
        "id": "ww9bWeD3jIwe"
      },
      "source": [
        "n = int(input())\n",
        "\n",
        "tree = [[] for _ in range(n+1)]\n",
        "\n",
        "for _ in range(n-1):\n",
        "    a, b = map(int, input().split())\n",
        "    tree[a].append(b)\n",
        "    tree[b].append(a)\n",
        "\n",
        "parents = [0]*(n+1)\n",
        "\n",
        "def dfs(start, tree, parents):\n",
        "    for i in tree[start]:\n",
        "        if parents[i] == 0:\n",
        "            parents[i] = start\n",
        "            dfs(i, tree, parents)\n",
        "\n",
        "dfs(1,tree, parents)\n",
        "\n",
        "for i in range(2, n+1): print(parents[i])"
      ],
      "execution_count": null,
      "outputs": []
    },
    {
      "cell_type": "markdown",
      "metadata": {
        "id": "FgM6LWIxpl1T"
      },
      "source": [
        "# 1967번 문제"
      ]
    },
    {
      "cell_type": "code",
      "metadata": {
        "id": "0DJ22bt0poBq"
      },
      "source": [
        "from heapq import heappush, heappop\n",
        "import sys\n",
        "\n",
        "n = int(input())\n",
        "s = [[] for i in range(n + 1)]\n",
        "\n",
        "def dijkstra(start):\n",
        "    d = [100000000 for i in range(n + 1)]\n",
        "    d[start] = 0\n",
        "    heap = []\n",
        "    heappush(heap, [0, start])\n",
        "    while heap:\n",
        "        we, ne = heappop(heap)\n",
        "        for n_n, n_w in s[ne]:\n",
        "            wei = n_w + we\n",
        "            if wei < d[n_n]:\n",
        "                d[n_n] = wei\n",
        "                heappush(heap, [wei, n_n])\n",
        "    return d\n",
        "\n",
        "\n",
        "for i in range(1, n):\n",
        "    p, c, w = map(int, input().split())\n",
        "    s[p].append([c, w])\n",
        "    s[c].append([p, w])\n",
        "d_ = dijkstra(1)\n",
        "print(max(dijkstra(d_.index(max(d_[1:])))[1:]))"
      ],
      "execution_count": null,
      "outputs": []
    },
    {
      "cell_type": "markdown",
      "metadata": {
        "id": "r3-Mj2YHj2kR"
      },
      "source": [
        "# 1967번 문제"
      ]
    },
    {
      "cell_type": "code",
      "metadata": {
        "id": "Kf_R6mfNj5Fq"
      },
      "source": [
        "from heapq import heappush, heappop\n",
        "\n",
        "def dijkstra(start):\n",
        "    d = [100000000 for i in range(n + 1)]\n",
        "    d[start] = 0\n",
        "    heap = []\n",
        "    heappush(heap, [0, start])\n",
        "    while heap:\n",
        "        we, ne = heappop(heap)\n",
        "        for n_n, n_w in s[ne]:\n",
        "            wei = n_w + we\n",
        "            if wei < d[n_n]:\n",
        "                d[n_n] = wei\n",
        "                heappush(heap, [wei, n_n])\n",
        "    return d\n",
        "\n",
        "\n",
        "n = int(input())\n",
        "\n",
        "s = [[] for _ in range(n+1)]\n",
        "\n",
        "for i in range(1,n+1):\n",
        "    a = list(map(int, input().split()))\n",
        "    for j in range(1,len(a),2):\n",
        "        if a[j] != -1:\n",
        "            x, y = a[j], a[j+1]\n",
        "            s[a[0]].append([x,y])\n",
        "\n",
        "d_ = dijkstra(1)\n",
        "print(max(dijkstra(d_.index(max(d_[1:])))[1:]))"
      ],
      "execution_count": null,
      "outputs": []
    },
    {
      "cell_type": "markdown",
      "metadata": {
        "id": "VmvGl_cmpeP5"
      },
      "source": [
        "# 1068번 문제"
      ]
    },
    {
      "cell_type": "code",
      "metadata": {
        "id": "HhfCSNpJpgkW"
      },
      "source": [
        "n = int(input())\n",
        "parents = list(map(int, input().split()))\n",
        "m = int(input())\n",
        "tree = {}\n",
        "\n",
        "for i in range(n):\n",
        "    if i == m or parents[i] == m:continue\n",
        "\n",
        "    if parents[i] in tree: tree[parents[i]].append(i)\n",
        "    else: tree[parents[i]] = [i]\n",
        "\n",
        "count = 0\n",
        "if -1 in tree: a = [-1]\n",
        "else: a = []\n",
        "\n",
        "while a:\n",
        "    node = a.pop()\n",
        "    if node not in tree:\n",
        "        count += 1\n",
        "    else: a += tree[node]\n",
        "\n",
        "print(count)"
      ],
      "execution_count": null,
      "outputs": []
    },
    {
      "cell_type": "markdown",
      "metadata": {
        "id": "AlG0L6P5xi2-"
      },
      "source": [
        "# 9372번 문제"
      ]
    },
    {
      "cell_type": "code",
      "metadata": {
        "id": "qSguNTMlxlmn"
      },
      "source": [
        "t = int(input())\n",
        "\n",
        "for _ in range(t):\n",
        "    n, m = map(int, input().split())\n",
        "    for j in range(m):\n",
        "        a, b = map(int, input().split())\n",
        "    print(n - 1)"
      ],
      "execution_count": null,
      "outputs": []
    },
    {
      "cell_type": "markdown",
      "metadata": {
        "id": "2zJ3RLJoEDbd"
      },
      "source": [
        "# 5639번 문제"
      ]
    },
    {
      "cell_type": "code",
      "metadata": {
        "id": "j9F_XuEjEFin"
      },
      "source": [
        "import sys\n",
        "\n",
        "# default 값이 1000이다\n",
        "sys.setrecursionlimit(10 ** 6)\n",
        "\n",
        "\n",
        "def post_order(start, end):\n",
        "    # 역전시 리턴\n",
        "    if start > end:\n",
        "        return\n",
        "\n",
        "    # 루트 노드\n",
        "    root = pre_order[start]\n",
        "    idx = start + 1\n",
        "\n",
        "    # root보다 커지는 지점을 찾는 과정  \n",
        "    # for문으로 찾으면 안된다. 아래서 설명  \n",
        "    while idx <= end:\n",
        "        if pre_order[idx] > root:\n",
        "            break\n",
        "        idx += 1\n",
        "\n",
        "    # 왼쪽 서브트리\n",
        "    post_order(start + 1, idx - 1)\n",
        "\n",
        "    # 오른쪽 서브트리\n",
        "    post_order(idx, end)\n",
        "\n",
        "    # 후위순회이므로 제일 마지막에 찍으면 된다\n",
        "    print(root)\n",
        "\n",
        "\n",
        "pre_order = []\n",
        "while 1:\n",
        "    try:\n",
        "        pre_order.append(int(input()))\n",
        "    # try에서 예외 발생시 break 실행\n",
        "    except:\n",
        "        break\n",
        "\n",
        "post_order(0, len(pre_order) - 1)\n"
      ],
      "execution_count": null,
      "outputs": []
    },
    {
      "cell_type": "markdown",
      "metadata": {
        "id": "phV-KrJ-cqwR"
      },
      "source": [
        "# 2263번 문제"
      ]
    },
    {
      "cell_type": "code",
      "metadata": {
        "id": "-Y5AUrGZcsj_"
      },
      "source": [
        "import sys \n",
        "sys.setrecursionlimit(10**6) \n",
        "n = int(input()) \n",
        "in_order = list(map(int, input().split())) \n",
        "post_order = list(map(int, input().split())) \n",
        "pos = [0]*(n+1) \n",
        "\n",
        "for i in range(n):\n",
        "     pos[in_order[i]] = i # 전위 순회 \n",
        "     \n",
        "def divide(in_start, in_end, p_start, p_end): \n",
        "    if(in_start > in_end) or (p_start > p_end): return \n",
        "    \n",
        "    parents = post_order[p_end] # 후위순회에서 부모노드 찾기 \n",
        "    print(parents, end=\" \") \n",
        "\n",
        "    left = pos[parents] - in_start # 왼쪽인자 갯수 \n",
        "    right = in_end - pos[parents] # 오른쪽인자 갯수 \n",
        "    \n",
        "    divide(in_start, in_start+left-1, p_start, p_start+left-1) # 왼쪽 노드 \n",
        "    divide(in_end-right+1, in_end, p_end-right, p_end-1) # 오른쪽 노드 \n",
        "    \n",
        "divide(0, n-1, 0, n-1)\n"
      ],
      "execution_count": null,
      "outputs": []
    },
    {
      "cell_type": "markdown",
      "metadata": {
        "id": "rec-1JJBf1c3"
      },
      "source": [
        "# 11437번 문제"
      ]
    },
    {
      "cell_type": "code",
      "metadata": {
        "id": "Nlcb3mUCoQUg"
      },
      "source": [
        "class Node:\n",
        "    def __init__(self, item, head = None):\n",
        "        # item: 노드의 main값\n",
        "        # leaf : 노드의 자식들\n",
        "        # head : 노드의 부모(type : int)\n",
        "        self.item = item\n",
        "        self.leaf = []\n",
        "        self.head = head\n",
        "\n",
        "    # 해당노드의 부모 구하기\n",
        "    def check_head(self):\n",
        "        if self.head == None: return -1\n",
        "        else: return self.head\n",
        "    \n",
        "    # 리프추가 & 리프의 부모 할당\n",
        "    def append_leaf(self, child):\n",
        "        # child가 node의 leaf가 된다.\n",
        "\n",
        "        # 모든 노드의 head는 정수이다.\n",
        "        child.head = self.item\n",
        "        self.leaf.append(child)\n",
        "        \n",
        "    # 해당 노드의 모든 자식들 출력(직계만)\n",
        "    def check_leaf(self):\n",
        "        a = [i.item for i in self.leaf]\n",
        "        return a\n",
        "\n",
        "    # check_head를 활용해서 한 node에 대해 모든 root 구하기\n",
        "    def roots(self):\n",
        "        root = [self.item]\n",
        "        a = self.check_head()\n",
        "        root.append(a)\n",
        "        while True:\n",
        "            a = nodes[a].check_head()\n",
        "            if a > 0: root.append(a)\n",
        "            else: break\n",
        "        return root\n",
        "\n",
        "\n",
        "# 일단 숫자별로 노드를 생성하고 이 리스트를 이용해서 \n",
        "\n",
        "n = int(input())\n",
        "nodes = [Node(i) for i in range(n+1)]\n",
        "\n",
        "root = []# 부모노드인 인덱스를 넣는 리스트\n",
        "for _ in range(n-1):\n",
        "    a, b = map(int, input().split())\n",
        "    small, big = min(a,b), max(a,b)\n",
        "    nodes[small].append_leaf(nodes[big])\n",
        "\n",
        "m = int(input())\n",
        "\n",
        "for _ in range(m):\n",
        "    a, b = map(int, input().split())\n",
        "    small, big = min(a,b), max(a,b)\n",
        "\n",
        "    root1 = nodes[small].roots()\n",
        "    root2 = nodes[big].roots()\n",
        "    intersect = list(set(root1) & set(root2))\n",
        "    print(max(intersect))\n",
        "\n"
      ],
      "execution_count": null,
      "outputs": []
    },
    {
      "cell_type": "markdown",
      "metadata": {
        "id": "g33071SSoOBF"
      },
      "source": [
        "# 2250번 문제"
      ]
    },
    {
      "cell_type": "code",
      "metadata": {
        "id": "nnAGbsmt_ZV6"
      },
      "source": [
        "import sys\n",
        "# input = sys.stdin.readline\n",
        "\n",
        "def inorder(root, level):\n",
        "    global num\n",
        "    if s[root][0] != -1:\n",
        "        inorder(s[root][0], level + 1)\n",
        "    row[level].append(num)\n",
        "    num += 1\n",
        "    if s[root][1] != -1:\n",
        "        inorder(s[root][1], level + 1)\n",
        "\n",
        "\n",
        "n = int(input())\n",
        "s = [[0] * 2 for i in range(n + 1)]\n",
        "node = [0 for i in range(n + 1)]\n",
        "row = [[] for i in range(n + 1)]\n",
        "num = 1\n",
        "\n",
        "for i in range(n):\n",
        "    ro, le, ri = map(int, input().split())\n",
        "    s[ro][0] = le\n",
        "    s[ro][1] = ri\n",
        "    node[ro] += 1\n",
        "    if le != -1:\n",
        "        node[le] += 1\n",
        "    if ri != -1:\n",
        "        node[ri] += 1\n",
        "\n",
        "for i in range(1, n + 1):\n",
        "    if node[i] == 1:\n",
        "        root = i\n",
        "\n",
        "inorder(root, 1)\n",
        "result = max(row[1]) - min(row[1]) + 1\n",
        "level = 1\n",
        "\n",
        "for i in range(2, n + 1):\n",
        "    if row[i]:\n",
        "        if result < max(row[i]) - min(row[i]) + 1:\n",
        "            result = max(row[i]) - min(row[i]) + 1\n",
        "            level = i\n",
        "            \n",
        "print(level, result)"
      ],
      "execution_count": null,
      "outputs": []
    },
    {
      "cell_type": "markdown",
      "metadata": {
        "id": "TFiL7bnp5RgA"
      },
      "source": [
        "# 2533번 문제"
      ]
    },
    {
      "cell_type": "code",
      "metadata": {
        "id": "2MDOuW-D5Tpv"
      },
      "source": [
        "import sys\n",
        "sys.setrecursionlimit(10**9)\n",
        " \n",
        "N=int(sys.stdin.readline())\n",
        "Tree=[[] for _ in range(N+1)]\n",
        "check=[0 for _ in range(N+1)]\n",
        "for _ in range(N-1):\n",
        "    u,v=map(int,sys.stdin.readline().split())\n",
        "    Tree[u].append(v)\n",
        "    Tree[v].append(u)\n",
        "DP=[[0,0] for _ in range(N+1)]\n",
        " \n",
        "check=[True for _ in range(N+1)]\n",
        "def DFS(cur):\n",
        "    check[cur]=False#방문체크\n",
        "    DP[cur][0]=1#현재 노드 포함할때\n",
        "    DP[cur][1]=0#현재 노드 포함하지 않을때\n",
        "    for i in Tree[cur]:#연결된 노드 탐색\n",
        "        if check[i]:#자식노드라면 \n",
        "            DFS(i)\n",
        "            DP[cur][0]+=DP[i][1]#현재노드 포함했을때\n",
        "            DP[cur][1]+=max(DP[i][0],DP[i][1])#현재노드를 포함 안했을때\n",
        " \n",
        "DFS(1)\n",
        "print(N-max(DP[1][0],DP[1][1]))"
      ],
      "execution_count": null,
      "outputs": []
    },
    {
      "cell_type": "markdown",
      "metadata": {
        "id": "UNuOGgliCmoz"
      },
      "source": [
        "# 1761번 문제"
      ]
    },
    {
      "cell_type": "code",
      "metadata": {
        "id": "1ipy9lJ2CpAU"
      },
      "source": [
        "from heapq import heappush, heappop\n",
        "import sys\n",
        "\n",
        "n = int(input())\n",
        "s = [[] for i in range(n + 1)]\n",
        "\n",
        "def dijkstra(start):\n",
        "    d = [100000000 for i in range(n + 1)]\n",
        "    d[start] = 0\n",
        "    heap = []\n",
        "    heappush(heap, [0, start])\n",
        "    while heap:\n",
        "        we, ne = heappop(heap)\n",
        "        for n_n, n_w in s[ne]:\n",
        "            wei = n_w + we\n",
        "            if wei < d[n_n]:\n",
        "                d[n_n] = wei\n",
        "                heappush(heap, [wei, n_n])\n",
        "    return d\n",
        "\n",
        "\n",
        "for i in range(1, n):\n",
        "    p, c, w = map(int, input().split())\n",
        "    s[p].append([c, w])\n",
        "    s[c].append([p, w])\n",
        "d_ = dijkstra(1)\n",
        "print(max(dijkstra(d_.index(max(d_[1:])))[1:]))"
      ],
      "execution_count": null,
      "outputs": []
    },
    {
      "cell_type": "code",
      "metadata": {
        "id": "zigvPF5vbqcU"
      },
      "source": [
        "import sys\n",
        "from collections import deque\n",
        "from math import log2\n",
        "INF=sys.maxsize\n",
        " \n",
        " \n",
        "N=int(input())\n",
        "tree=[[] for _ in range(N+1)]\n",
        "depth=[0 for _ in range(N+1)]\n",
        "logN=int(log2(N)+1)\n",
        "for _ in range(N-1):\n",
        "    A,B,C=map(int,input().split())\n",
        "    tree[A].append([B,C])\n",
        "    tree[B].append([A,C])\n",
        " \n",
        " \n",
        "#DFS\n",
        "p_list=[[0,0] for _ in range(N+1)]\n",
        "p_check=[True for _ in range(N+1)]\n",
        "q=deque()\n",
        "q.append(1)\n",
        "p_check[1]=False\n",
        "while q:\n",
        "    a=q.popleft()\n",
        "    for b,c in tree[a]:\n",
        "        if p_check[b]:\n",
        "            q.append(b)\n",
        "            depth[b]=depth[a]+1\n",
        "            p_check[b]=False\n",
        "            p_list[b][0]=a\n",
        "            p_list[b][1]=c\n",
        "#아무 노드나 루트로 잡고 부모노드 저장\n",
        " \n",
        "# print(p_list)\n",
        " \n",
        "#2^k번째 부모 노드와 가장 짧은 도로 가장 긴도로 구하기\n",
        "DP=[[[0,0,0] for _ in range(logN)] for _ in range(N+1)]\n",
        "#초기화\n",
        "for i in range(N+1):\n",
        "    DP[i][0][0]=p_list[i][0]\n",
        "    DP[i][0][1]=p_list[i][1]\n",
        "    DP[i][0][2]=p_list[i][1]\n",
        " \n",
        "#희소테이블 완성하기\n",
        "for j in range(1,logN):\n",
        "    for i in range(1,N+1):\n",
        "        DP[i][j][0]=DP[DP[i][j-1][0]][j-1][0]\n",
        "        DP[i][j][1]=min(DP[i][j-1][1],DP[DP[i][j-1][0]][j-1][1])\n",
        "        DP[i][j][2]=max(DP[i][j-1][2],DP[DP[i][j-1][0]][j-1][2])\n",
        " \n",
        " \n",
        "K=int(input())\n",
        "for _ in range(K):\n",
        "    D,E=map(int,input().split())\n",
        "    if depth[D]<depth[E]:\n",
        "        D,E=E,D\n",
        "    # print(depth[D])\n",
        "    # print(depth[E])\n",
        "    dif=depth[D]-depth[E]\n",
        "    shortest=INF\n",
        "    longest=0\n",
        "    #레벨 맞추기\n",
        "    for i in range(logN):\n",
        "        if dif & 1<<i:\n",
        "            shortest=min(shortest,DP[D][i][1])\n",
        "            longest=max(longest,DP[D][i][2])\n",
        "            D=DP[D][i][0]\n",
        " \n",
        "    if D==E:\n",
        "        print(shortest,longest)\n",
        "        continue\n",
        " \n",
        "    #최소공통조상 찾기\n",
        "    for i in range(logN-1,-1,-1):\n",
        "        if DP[D][i][0]!=DP[E][i][0]:\n",
        "            shortest=min(shortest,DP[D][i][1],DP[E][i][1])\n",
        "            longest=max(longest,DP[D][i][2],DP[E][i][2])\n",
        "            D=DP[D][i][0]\n",
        "            E=DP[E][i][0]\n",
        "    shortest = min(shortest, DP[D][i][1], DP[E][i][1])\n",
        "    longest = max(longest, DP[D][i][2], DP[E][i][2])\n",
        "    print(shortest,longest)"
      ],
      "execution_count": null,
      "outputs": []
    },
    {
      "cell_type": "markdown",
      "metadata": {
        "id": "EmUteEGfwo_q"
      },
      "source": [
        "# 1949번 문제"
      ]
    },
    {
      "cell_type": "code",
      "metadata": {
        "id": "ZRYUjWoWwzKR"
      },
      "source": [
        "import sys\n",
        "\n",
        "sys.setrecursionlimit(20000)\n",
        "n = int(input())\n",
        "w = [0] + list(map(int, input().split()))\n",
        "s = [[] for i in range(n + 1)]\n",
        "visit = [False for i in range(n + 1)]\n",
        "dp = [[0] * 2 for i in range(n + 1)]\n",
        "\n",
        "def dfs(start):\n",
        "    visit[start] = True\n",
        "    dp[start][0] = w[start]\n",
        "    for i in s[start]:\n",
        "        if not visit[i]:\n",
        "            dfs(i)\n",
        "            dp[start][0] += dp[i][1]\n",
        "            dp[start][1] += max(dp[i][0], dp[i][1])\n",
        "for i in range(n - 1):\n",
        "    a, b = map(int, input().split())\n",
        "    s[a].append(b)\n",
        "    s[b].append(a)\n",
        "dfs(1)\n",
        "print(max(dp[1][0], dp[1][1]))"
      ],
      "execution_count": null,
      "outputs": []
    },
    {
      "cell_type": "markdown",
      "metadata": {
        "id": "vpsHHw0RL-t4"
      },
      "source": [
        "# 5670번 문제"
      ]
    },
    {
      "cell_type": "code",
      "metadata": {
        "id": "yUCeMdX6SlzC"
      },
      "source": [
        "class Node:\n",
        "    def __init__(self, chr):\n",
        "        self.chr = chr\n",
        "        self.leaf = {}\n",
        "        self.check = False\n",
        "\n",
        "class Trie:\n",
        "    def __init__(self):\n",
        "        self.root = Node('')\n",
        "\n",
        "    def insert_word(self,word):\n",
        "        node = self.root\n",
        "        for w in word:\n",
        "            if w not in node.leaf:\n",
        "                new = Node(w)\n",
        "                node.leaf[w] = new\n",
        "                node = new\n",
        "            else: node = node.leaf[w]\n",
        "        node,check = True\n",
        "\n",
        "    def search(self, word):\n",
        "        count = 0\n",
        "        now = self.root\n",
        "        for w in word:\n",
        "            now = now.leaf[w]\n",
        "            if len(now.leaf) > 1 or now.check: count += 1\n",
        "        return count\n",
        "\n",
        "while 1:\n",
        "    t = Trie()\n",
        "    words = []\n",
        "    try: n = int(input())\n",
        "    except: break\n",
        "\n",
        "    for _ in range(n):\n",
        "        s = input().rstrip()\n",
        "        t.insert_word(s)\n",
        "        words.append(s)\n",
        "    result = 0\n",
        "\n",
        "    for word in words: result += t.search(word)\n",
        "\n",
        "    print(\"%.2f\" %(result/n))\n"
      ],
      "execution_count": null,
      "outputs": []
    },
    {
      "cell_type": "markdown",
      "metadata": {
        "id": "J3PUdlg0ilG5"
      },
      "source": [
        "# 4803번 문제"
      ]
    },
    {
      "cell_type": "code",
      "metadata": {
        "id": "zQu0rru8innn"
      },
      "source": [
        "import sys\n",
        " \n",
        "class Node:\n",
        "    def __init__(self,chr):\n",
        "        self.chr=chr#해당 노드의 문자\n",
        "        self.child={}#해당 노드의 자식들\n",
        "        # self.len=0#해당 노드의 자식수\n",
        "        self.check=False#문자열의 끝인지.\n",
        "\n",
        "class Trie:\n",
        "    def __init__(self):\n",
        "        self.root=Node('')\n",
        " \n",
        "    #트라이 구조 만들기\n",
        "    def insert_Word(self,word):\n",
        "        node = self.root\n",
        "        for w in word:\n",
        "            if w not in node.child:#해당노드의 자식들에 해당 문자가없다면\n",
        "                #노드만들기\n",
        "                new=Node(w)\n",
        "                node.child[w]=new\n",
        "                node=new\n",
        "            else:#있다면 노드만 교체\n",
        "                node=node.child[w]\n",
        "        node.check=True\n",
        " \n",
        "    #최소입력\n",
        "    def search(self,word):\n",
        "        cnt=0\n",
        "        current=self.root\n",
        "        for w in word:\n",
        "            current=current.child[w]\n",
        "            if len(current.child)>1 or current.check:#해당노드의 자식이 둘 이상이거나 다른단어의 끝이라면\n",
        "                cnt+=1\n",
        "        return cnt\n",
        "\n",
        "while 1:\n",
        "    t = Trie()\n",
        "    words=[]\n",
        "    #입력처리\n",
        "    try:n=int(input())\n",
        "    except:break\n",
        " \n",
        "    for _ in range(n):\n",
        "        s=input().strip()\n",
        "        t.insert_Word(s)\n",
        "        words.append(s)\n",
        "    result = 0\n",
        "    for word in words:\n",
        "        result+=t.search(word)\n",
        " \n",
        "    print(\"%.2f\" % (result/n))\n"
      ],
      "execution_count": null,
      "outputs": []
    },
    {
      "cell_type": "code",
      "metadata": {
        "id": "i1V5kdAQs8MV"
      },
      "source": [
        "import sys\n",
        "\n",
        "\n",
        "def bfs(x):\n",
        "    isTree = True\n",
        "    q = [x]\n",
        "    while q:\n",
        "        now = q.pop(0)\n",
        "        if visited[now] == 1:  # 현재 정점을 이미 다른 요소를 통해 방문했다면(싸이클을 이룬다면)\n",
        "            isTree = False  # 트리가 아님을 표시해준다.\n",
        "        visited[now] = 1\n",
        "        for j in graph[now]:\n",
        "            if visited[j] == 0:\n",
        "                q.append(j)\n",
        "    return isTree\n",
        "\n",
        "\n",
        "case = 0\n",
        "while True:\n",
        "    case += 1\n",
        "    n, m = map(int, input().split())\n",
        "    if [n, m] == [0, 0]:  # 탈출 조건\n",
        "        break\n",
        "    graph = [[] for _ in range(n + 1)]  # 서로 연결된 요소 저장\n",
        "    for _ in range(m):\n",
        "        a, b = map(int, input().split())\n",
        "        graph[a].append(b)\n",
        "        graph[b].append(a)\n",
        "    treeCnt = 0  # 케이스 별 트리의 개수\n",
        "    visited = [0] * (n + 1)\n",
        "    for i in range(1, n + 1):\n",
        "        if visited[i] == 1:  # 방문한적 있다면 패스\n",
        "            continue\n",
        "        if bfs(i) is True:  # 현재의 연결 요소가 tree 라면 카운트\n",
        "            treeCnt += 1\n",
        "    if treeCnt == 0:\n",
        "        print('Case {}: No trees.'.format(case))\n",
        "    elif treeCnt == 1:\n",
        "        print('Case {}: There is one tree.'.format(case))\n",
        "    else:\n",
        "        print('Case {}: A forest of {} trees.'.format(case, treeCnt))"
      ],
      "execution_count": null,
      "outputs": []
    },
    {
      "cell_type": "markdown",
      "metadata": {
        "id": "-xGpBzK4js3v"
      },
      "source": [
        "# 3584번 문제"
      ]
    },
    {
      "cell_type": "code",
      "metadata": {
        "id": "saTzp2tHjuyn"
      },
      "source": [
        "class Node:\n",
        "    def __init__(self, item, head = None):\n",
        "        # item: 노드의 main값\n",
        "        # leaf : 노드의 자식들\n",
        "        # head : 노드의 부모(type : int)\n",
        "        self.item = item\n",
        "        self.leaf = []\n",
        "        self.head = head\n",
        "\n",
        "    # 해당노드의 부모 구하기\n",
        "    def check_head(self):\n",
        "        if self.head == None: return -1\n",
        "        else: return self.head\n",
        "    \n",
        "    # 리프추가 & 리프의 부모 할당\n",
        "    def append_leaf(self, child):\n",
        "        # child가 node의 leaf가 된다.\n",
        "\n",
        "        # 모든 노드의 head는 정수이다.\n",
        "        child.head = self.item\n",
        "        self.leaf.append(child)\n",
        "        \n",
        "    # 해당 노드의 모든 자식들 출력(직계만)\n",
        "    def check_leaf(self):\n",
        "        a = [i.item for i in self.leaf]\n",
        "        return a\n",
        "\n",
        "    # check_head를 활용해서 한 node에 대해 모든 root 구하기\n",
        "    def roots(self):\n",
        "        root = [self.item]\n",
        "        a = self.check_head()\n",
        "        root.append(a)\n",
        "        while True:\n",
        "            a = node[a].check_head()\n",
        "            if a > 0: root.append(a)\n",
        "            else: break\n",
        "        return root\n",
        "\n",
        "\n",
        "# 일단 숫자별로 노드를 생성하고 이 리스트를 이용해서 \n",
        "\n",
        "t = int(input())\n",
        "for _ in range(t):\n",
        "    n = int(input())\n",
        "    node = [Node(i) for i in range(n+1)]\n",
        "    for _ in range(n-1):\n",
        "        par, child = map(int,input().split())\n",
        "        node[par].append_leaf(node[child])\n",
        "\n",
        "    a, b = map(int, input().split())\n",
        "    par1 = node[a].roots()\n",
        "    par2 = node[b].roots()\n",
        "    for i in par1:\n",
        "        if i in par2: \n",
        "            print(i)\n",
        "            break\n"
      ],
      "execution_count": null,
      "outputs": []
    },
    {
      "cell_type": "markdown",
      "metadata": {
        "id": "j0rGH9iXJ5hu"
      },
      "source": [
        "# 15681번 문제"
      ]
    },
    {
      "cell_type": "code",
      "metadata": {
        "id": "47o9A4pGJ70n"
      },
      "source": [
        "import sys\n",
        "sys.setrecursionlimit(10**9)\n",
        " \n",
        " \n",
        "N,R,Q=map(int,input().split())\n",
        "Tree=[[] for _ in range(N+1)]#트리 구성\n",
        "node_count=[0] * (N+1)#노드 개수\n",
        "check=[True for _ in range(N+1)]#방문여부\n",
        " \n",
        " \n",
        "for _ in range(N-1):\n",
        "    U,V=map(int,input().split())\n",
        "    Tree[U].append(V)\n",
        "    Tree[V].append(U)\n",
        " \n",
        " \n",
        "def count_node(r):\n",
        "    node_count[r]=1\n",
        "    for node in Tree[r]:#연결된 노드 탐색\n",
        "        if not node_count[node]:#방문가능하면\n",
        "            count_node(node)\n",
        "            node_count[r]+=node_count[node]\n",
        "    return\n",
        " \n",
        "count_node(R)\n",
        " \n",
        " \n",
        "for _ in range(Q):\n",
        "    q=int(input())\n",
        "    print(node_count[q])\n"
      ],
      "execution_count": null,
      "outputs": []
    },
    {
      "cell_type": "markdown",
      "metadata": {
        "id": "3sgrS104STuX"
      },
      "source": [
        "# 14725번 문제"
      ]
    },
    {
      "cell_type": "code",
      "metadata": {
        "id": "i4BLV9mvSSVD"
      },
      "source": [
        "N=int(input())\n",
        "ant=[]\n",
        " \n",
        "for i in range(N):\n",
        "    arr=list(input().split())\n",
        "    ant.append(arr[1:])\n",
        " \n",
        "ant.sort()\n",
        "for i in range(N):\n",
        "    if i==0:#첫배열\n",
        "        for j in range(len(ant[i])):\n",
        "            print(\"--\"*j+ant[i][j])\n",
        "    else:\n",
        "        count=-1\n",
        "        for j in range(len(ant[i])):#dfs\n",
        "            if len(ant[i-1])<=j or ant[i-1][j]!=ant[i][j]: #이전배열과 같은지 비교\n",
        "                break\n",
        "            else:#같다면 출력하지 않고 넘어간다.\n",
        "                count=j#어디까지 같은지 저장\n",
        "        for j in range(count+1,len(ant[i])):#같은것을 제외한 나머지 인자 출력\n",
        "            print(\"--\" * j + ant[i][j])\n",
        " \n",
        " "
      ],
      "execution_count": null,
      "outputs": []
    },
    {
      "cell_type": "markdown",
      "metadata": {
        "id": "Ca_Qd3huStR0"
      },
      "source": [
        "# 15900번 문제"
      ]
    },
    {
      "cell_type": "code",
      "metadata": {
        "id": "BIGEGNdjSvKp"
      },
      "source": [
        "import sys\n",
        "sys.setrecursionlimit(10**6)\n",
        "input=sys.stdin.readline\n",
        "\n",
        "n=int(input())\n",
        "graph=[[] for _ in range(n+1)]\n",
        "\n",
        "for _ in range (n-1):\n",
        "    a,b=map(int,input().split())\n",
        "    graph[a].append(b)\n",
        "    graph[b].append(a)\n",
        "\n",
        "count=0\n",
        "def dfs(v, depth):\n",
        "    global count\n",
        "    visited[v]=True\n",
        "    if len(graph[v])==1 and v!=1:\n",
        "        count+=depth\n",
        "    else:\n",
        "        for i in graph[v]:\n",
        "            if not visited[i]:\n",
        "                dfs(i, depth+1)\n",
        "                \n",
        "visited=[False]*(n+1)\n",
        "\n",
        "dfs(1,0)\n",
        "if count%2==0:\n",
        "    print('No')\n",
        "else:\n",
        "    print('Yes')"
      ],
      "execution_count": null,
      "outputs": []
    },
    {
      "cell_type": "markdown",
      "metadata": {
        "id": "Y11JTXFji14D"
      },
      "source": [
        "# 11812번 문제"
      ]
    },
    {
      "cell_type": "code",
      "metadata": {
        "id": "uhm6ccQryi1J"
      },
      "source": [
        "import sys\n",
        "\n",
        "\n",
        "def findDistance(node1, node2):\n",
        "    if k == 1:\n",
        "        return abs(node1 - node2)\n",
        "\n",
        "    dis = 0\n",
        "    while node1 != node2:\n",
        "        # P = (N - 2) / K + 1\n",
        "        if node1 > node2:\n",
        "            node1 = (node1 - 2) // k + 1\n",
        "        else:\n",
        "            node2 = (node2 - 2) // k + 1\n",
        "        dis += 1\n",
        "    return dis\n",
        "\n",
        "\n",
        "n, k, q = map(int, input().split())\n",
        "for _ in range(q):\n",
        "    x, y = map(int, input().split())\n",
        "    sys.stdout.write(str(findDistance(x, y)) + '\\n')"
      ],
      "execution_count": null,
      "outputs": []
    },
    {
      "cell_type": "markdown",
      "metadata": {
        "id": "ozC4XcZH3301"
      },
      "source": [
        "# 1693번 문제"
      ]
    },
    {
      "cell_type": "code",
      "metadata": {
        "id": "WkdFlqBU36Zr"
      },
      "source": [
        "import sys\n",
        "input = sys.stdin.readline\n",
        "sys.setrecursionlimit(10**6)\n",
        "n = int(input())\n",
        "s = [[] for i in range(n + 1)]\n",
        "dp = [[0] * 17 for i in range(n + 1)]\n",
        "visit = [False for i in range(n + 1)]\n",
        "\n",
        "def dfs(idx):\n",
        "    for i in s[idx]:\n",
        "        if visit[i]:\n",
        "            continue\n",
        "        visit[i] = True\n",
        "        dfs(i)\n",
        "        for j in range(1, 17):\n",
        "            m_num = 100000000\n",
        "            for k in range(1, 17):\n",
        "                if j != k:\n",
        "                    if m_num > dp[i][k]:\n",
        "                        m_num = dp[i][k]\n",
        "            dp[idx][j] += m_num\n",
        "    for i in range(1, 17):\n",
        "        dp[idx][i] += i\n",
        "    return\n",
        "\n",
        "for i in range(n - 1):\n",
        "    a, b = map(int, input().split())\n",
        "    s[a].append(b)\n",
        "    s[b].append(a)\n",
        "visit[1] = True\n",
        "dfs(1)\n",
        "print(min(dp[1][1:]))"
      ],
      "execution_count": null,
      "outputs": []
    },
    {
      "cell_type": "markdown",
      "metadata": {
        "id": "qH7dvYACBEPY"
      },
      "source": [
        "# 1135번 문제"
      ]
    },
    {
      "cell_type": "code",
      "metadata": {
        "id": "9MAXiTMTBGhs"
      },
      "source": [
        "n = int(input())\n",
        "t = list(map(int, input().split()))\n",
        "tree = [[] for _ in range(n)]\n",
        "\n",
        "for idx in range(1, n):\n",
        "    tree[t[idx]].append(idx) #트리 생성\n",
        "\n",
        "#time[v] = v를 root로 하는 subtree에 정보를 모두 전달하는데 걸리는 시간\n",
        "time = [False]*n\n",
        "\n",
        "def dp(v):\n",
        "    child_t = []\n",
        "    for nei in tree[v]:\n",
        "        #Leaf까지 내려감\n",
        "        dp(nei)\n",
        "        #각 child를 root로 하는 subtree에 정보 전달하는데 걸리는 시간 모음\n",
        "        child_t.append(time[nei])\n",
        "    if not tree[v]:\n",
        "        #Child가 없으면 0\n",
        "        child_t.append(0)\n",
        "\n",
        "    child_t.sort(reverse=True)\n",
        "    #시간이 오래 걸리는 쪽부터 먼저 전화를 돌리기\n",
        "    need_time = [child_t[i]+i+1 for i in range(len(child_t))]\n",
        "    time[v] = max(need_time) #그 중에 가장 오래 걸리는 시간을 assign\n",
        "    \n",
        "dp(0)\n",
        "print(time[0]-1) #Root node에 정보 전달하는 시간은 없으니 1빼기"
      ],
      "execution_count": null,
      "outputs": []
    },
    {
      "cell_type": "markdown",
      "metadata": {
        "id": "_pm0WeyhgvDT"
      },
      "source": [
        "# 1289번 문제"
      ]
    },
    {
      "cell_type": "code",
      "metadata": {
        "id": "oJBALlHMgxqP"
      },
      "source": [
        "import sys\n",
        "sys.setrecursionlimit(100000)\n",
        "n = int(input())\n",
        "mod = 1000000007\n",
        "adj = [[] for _ in range(n + 1)]\n",
        "for i in range(n - 1):\n",
        "    a, b, c = map(int, input().split())\n",
        "    adj[a].append((b, c))\n",
        "    adj[b].append((a, c))\n",
        "ans = 0\n",
        "def go(now, past):\n",
        "    global ans\n",
        "    pow = 1\n",
        "    for i in adj[now]:\n",
        "        next = i[0]\n",
        "        next_cost = i[1]\n",
        "        if next != past:\n",
        "            extra_cost = (go(next, now) * next_cost) % mod\n",
        "            ans = (ans + extra_cost * pow) % mod\n",
        "            pow = (pow + extra_cost) % mod\n",
        "    return pow\n",
        "\n",
        "go(1,-1)\n",
        "print(ans)"
      ],
      "execution_count": null,
      "outputs": []
    },
    {
      "cell_type": "markdown",
      "metadata": {
        "id": "zic1cUxPklSt"
      },
      "source": [
        "# 14267번 문제"
      ]
    },
    {
      "cell_type": "code",
      "metadata": {
        "id": "qFL48R8Ukn9c"
      },
      "source": [
        "n, m = map(int, input().split())\n",
        "\n",
        "nodes = [[0]*(n+1) for _ in range(n+1)]\n",
        "heads = list(map(int, input().split()))\n",
        "heads.insert(0,0)\n",
        "\n",
        "for _ in range(m):\n",
        "    a, b = map(int, input().split())\n",
        "    nodes[a][heads[a]] = b\n",
        "    nodes[heads[a]][a] = b\n",
        "\n",
        "dp = [0]*(n+1)\n",
        "\n",
        "for i in range(1, n+1):\n",
        "    dp[i] = dp[i-1]+nodes[i][heads[i]]\n",
        "\n",
        "\n",
        "for i in range(1,len(dp)):\n",
        "    print(dp[i], end = ' ')"
      ],
      "execution_count": null,
      "outputs": []
    },
    {
      "cell_type": "markdown",
      "metadata": {
        "id": "jz19r52Vt7mW"
      },
      "source": [
        "# 4256번 문제"
      ]
    },
    {
      "cell_type": "code",
      "metadata": {
        "id": "wuSyBxjqt-e8"
      },
      "source": [
        "import sys\n",
        "\n",
        "\n",
        "def solve(root, start, end):\n",
        "    for i in range(start, end):\n",
        "        if inorder[i] == preorder[root]:\n",
        "            solve(root + 1, start, i)  # left subtree\n",
        "            solve(root + i + 1 - start, i + 1, end)  # right subtree\n",
        "            print(preorder[root], end=\" \")\n",
        "\n",
        "\n",
        "if __name__ == \"__main__\":\n",
        "    t = int(input())\n",
        "    for _ in range(t):\n",
        "        n = int(input())\n",
        "        preorder = list(map(int, input().split()))\n",
        "        inorder = list(map(int, input().split()))\n",
        "        solve(0, 0, n)\n",
        "        print(\"\")"
      ],
      "execution_count": null,
      "outputs": []
    },
    {
      "cell_type": "markdown",
      "metadata": {
        "id": "DGpAscVPyL4-"
      },
      "source": [
        "# 13511번 문제"
      ]
    },
    {
      "cell_type": "code",
      "metadata": {
        "id": "ee6eOq4byN62"
      },
      "source": [
        "import sys\n",
        "from math import log2\n",
        "from collections import deque\n",
        "input = sys.stdin.readline\n",
        "\n",
        "N=int(input())\n",
        "logN=int(log2(N)+1)\n",
        "tree=[[] for _ in range(N+1)]\n",
        "for _ in range(N-1):\n",
        "    u,v,w=map(int, input().split())\n",
        "    tree[u].append([v,w])\n",
        "    tree[v].append([u,w])\n",
        " \n",
        " \n",
        "p_list=[[0,0] for _ in range(N+1)]\n",
        "depth=[0 for _ in range(N+1)]\n",
        "p_check=[True for _ in range(N+1)]\n",
        "#부모노드 저장\n",
        "q=deque()\n",
        "q.append(1)\n",
        "while q:\n",
        "    a=q.popleft()\n",
        "    p_check[a]=False\n",
        "    for b,c in tree[a]:\n",
        "        if p_check[b]:\n",
        "            p_list[b][0]=a#부모노드 저장\n",
        "            p_list[b][1]=c#부모노드까지의 거리 저장\n",
        "            q.append(b)\n",
        "            depth[b]=depth[a]+1\n",
        " \n",
        " \n",
        "#2^k번째 부모 노드와 2^k번째 부모 노드까지의 거리\n",
        "DP=[[[0,0] for _ in range(logN)] for _ in range(N+1)]\n",
        "#초기화\n",
        "for i in range(N+1):\n",
        "    DP[i][0][0]=p_list[i][0]\n",
        "    DP[i][0][1]=p_list[i][1]\n",
        " \n",
        " \n",
        "#희소테이블 완성하기\n",
        "for j in range(1,logN):\n",
        "    for i in range(1,N+1):\n",
        "        DP[i][j][0]=DP[DP[i][j-1][0]][j-1][0]\n",
        "        if DP[i][j][0]!=0:\n",
        "            DP[i][j][1] = DP[i][j - 1][1] + DP[DP[i][j - 1][0]][j - 1][1]\n",
        " \n",
        " \n",
        "M=int(input())\n",
        "for _ in range(M):\n",
        "    Q=list(map(int,input().split()))\n",
        "    # 깊이차이\n",
        "    a=Q[1]\n",
        "    b=Q[2]\n",
        "    if depth[a] < depth[b]:\n",
        "        a, b = b, a\n",
        " \n",
        "    dif = depth[a] - depth[b]\n",
        "    # 레벨맞추기\n",
        "    for i in range(logN):\n",
        "        if dif & 1 << i:\n",
        "            a = DP[a][i][0]\n",
        "    if a==b:\n",
        "        LCA=a\n",
        "    else:\n",
        "    #최소공통조상 찾기\n",
        "        for i in range(logN-1,-1,-1):\n",
        "            if DP[a][i][0]!=DP[b][i][0]:\n",
        "                a=DP[a][i][0]\n",
        "                b=DP[b][i][0]\n",
        "        #최소공통조상\n",
        "        LCA = DP[a][0][0]\n",
        "    #최소공통조상의 레벨\n",
        "    lca_depth=depth[LCA]\n",
        " \n",
        "    if Q[0]==1:\n",
        "        sum = 0\n",
        "        #각 노드에서 최소공통조상까지 거리 구해서 더하기\n",
        "        dif_a=depth[Q[1]]-lca_depth\n",
        "        dif_b=depth[Q[2]]-lca_depth\n",
        "        # print(dif_a)\n",
        "        # print(dif_b)\n",
        "        for i in range(logN):\n",
        "            if dif_a & 1<<i:\n",
        "                sum +=DP[Q[1]][i][1]\n",
        "                Q[1]=DP[Q[1]][i][0]\n",
        " \n",
        "            if dif_b & 1<<i:\n",
        "                sum +=DP[Q[2]][i][1]\n",
        "                Q[2]=DP[Q[2]][i][0]\n",
        "        print(sum)\n",
        " \n",
        " \n",
        " \n",
        "    elif Q[0]==2:\n",
        "        #Q[3]이 Q[1]과 CA 사이의 노드수보다 높을거나 같을때는 Q[3]에서 Q[1]~LCA를 뺀 나머지를 통해 구함\n",
        "        #낮을때는 그냥 구함\n",
        "        #한 직선상에 잇고 Q[1]이 레벨이 더 낮을때\n",
        "        # if LCA==Q[1]:\n",
        "        #     if Q[3]==1:\n",
        "        #         print(Q[1])\n",
        "        #     else:\n",
        "        #         gep=depth[Q[2]]-Q[3]\n",
        "        #         for i in range(logN):\n",
        "        #             if gep & 1<<i:\n",
        "        #                 Q[2]=DP[Q[2]][i][0]\n",
        "        #         print(Q[2])\n",
        "        #     continue\n",
        "        # else:\n",
        "        gep=depth[Q[1]]-lca_depth+1\n",
        "        if Q[3]<=gep:\n",
        "            for i in range(logN):\n",
        "                if Q[3]-1 & 1<<i:\n",
        "                    Q[1]=DP[Q[1]][i][0]\n",
        "            print(Q[1])\n",
        " \n",
        "        else:\n",
        "            # Q[3]=(depth[Q[2]]-lca_depth)-(Q[3]-(depth[Q[1]-lca_depth]))\n",
        "            Q[3]=depth[Q[2]]-Q[3]+depth[Q[1]]-2*lca_depth+1\n",
        "            for i in range(logN):\n",
        "                if Q[3] & 1<<i:\n",
        "                    Q[2]=DP[Q[2]][i][0]\n",
        "            print(Q[2])"
      ],
      "execution_count": null,
      "outputs": []
    },
    {
      "cell_type": "markdown",
      "metadata": {
        "id": "mbmMP00i98PO"
      },
      "source": [
        "# 9250번 문제"
      ]
    },
    {
      "cell_type": "code",
      "metadata": {
        "id": "WriEJ7np9-a6"
      },
      "source": [
        "n = int(input())\n",
        "s = [input() for _ in range(n)]\n",
        "# s의 원소들의 최대길이는 n이다.\n",
        "q = int(input())\n",
        "\n",
        "for _ in range(q):\n",
        "    a = input()\n",
        "    for i in s:\n",
        "        count = 0\n",
        "        if i in a:\n",
        "            print('YES')\n",
        "            break\n",
        "        else: count += 1\n",
        "        if count == n: print('NO')"
      ],
      "execution_count": null,
      "outputs": []
    },
    {
      "cell_type": "code",
      "metadata": {
        "id": "5CDys0TMPF4s"
      },
      "source": [
        "from collections import deque\n",
        "\n",
        "\n",
        "class Node:\n",
        "    def __init__(self, char = None):\n",
        "        self.char = char\n",
        "        self.children = dict()\n",
        "        self.fail = None\n",
        "        self.output = False\n",
        "    \n",
        "class Trie:\n",
        "    def __init__(self):\n",
        "        self.root = Node()\n",
        "    \n",
        "    def insert(self, word, n):\n",
        "        curr = self.root\n",
        "        for c in word:\n",
        "            if c not in curr.children:\n",
        "                curr.children[c] = Node(c)\n",
        "            curr = curr.children[c]\n",
        "        curr.output = True\n",
        "    \n",
        "N = int(input())\n",
        "t = Trie()\n",
        "for _ in range(N):\n",
        "    word = input()\n",
        "    t.insert(word, len(word))\n",
        "\n",
        "root = t.root\n",
        "root.fail = root\n",
        "q = deque([root])\n",
        "while q:\n",
        "    curr = q.popleft()\n",
        "    \n",
        "    for nxt in curr.children.values():\n",
        "        i = nxt.char\n",
        "            \n",
        "        if curr == root: nxt.fail = root\n",
        "        else:\n",
        "            dest = curr.fail\n",
        "            while dest != root and i not in dest.children:\n",
        "                dest = dest.fail\n",
        "            if i in dest.children: dest = dest.children[i]\n",
        "            nxt.fail = dest\n",
        "            \n",
        "        if nxt.fail.output: nxt.output = True\n",
        "        \n",
        "        q.append(nxt)\n",
        "        \n",
        "M = int(input())\n",
        "for _ in range(M):\n",
        "    s = input()\n",
        "    curr = root\n",
        "    result = False\n",
        "    for nxt in s:\n",
        "        while curr != root and nxt not in curr.children:\n",
        "            curr = curr.fail\n",
        "        if nxt in curr.children:\n",
        "            curr = curr.children[nxt]\n",
        "        if curr.output:\n",
        "            result = True\n",
        "            break\n",
        "    \n",
        "    print(\"YES\") if result else print(\"NO\")"
      ],
      "execution_count": null,
      "outputs": []
    },
    {
      "cell_type": "markdown",
      "metadata": {
        "id": "XIRLKVYoevw5"
      },
      "source": [
        "# 2820번 문제"
      ]
    },
    {
      "cell_type": "code",
      "metadata": {
        "id": "taNlkR7Ce1XP"
      },
      "source": [
        "n, m = map(int, input().split())\n",
        "a = [0]*(n+1)\n",
        "cap = [[] for _ in range(n+1)]\n",
        "\n",
        "for i in range(int(input())):\n",
        "    x, y = map(int, input().split())\n",
        "    a[i] = x\n",
        "    cap[y].append(i)\n",
        "\n",
        "for _ in range(m):\n",
        "    s = list(input().split())\n",
        "\n",
        "    if s[0] == 'p':\n",
        "        x = int(s[1])\n",
        "        y = int(s[2])\n",
        "        for i in cap[x]: a[i] += y\n",
        "    \n",
        "    elif s[0] == 'u':print(a[int(s[1])])"
      ],
      "execution_count": null,
      "outputs": []
    },
    {
      "cell_type": "markdown",
      "metadata": {
        "id": "N0GE-48OlHlY"
      },
      "source": [
        "# 16437번 문제"
      ]
    },
    {
      "cell_type": "code",
      "metadata": {
        "id": "RDW8i-u9lK-B"
      },
      "source": [
        "import sys\n",
        "\n",
        "sys.setrecursionlimit(1000000)\n",
        "def solution():\n",
        "#    input = sys.stdin.readline\n",
        "    N = int(input())\n",
        "    #wolves[i] : i번째 섬에 있는 늑대 수\n",
        "    wolves =[0 for _ in range(N+1)]\n",
        "    \n",
        "    #sheeps[i] : i번쨰 섬에 있는 양의 수=\n",
        "    sheeps = {i:0 for i in range(1, N+1)}\n",
        "    #트리\n",
        "    tree =[[] for _ in range(N+1)]\n",
        "    for i in range(2, N+1):\n",
        "        t, a, p = input().split()\n",
        "        a = int(a)\n",
        "        p = int(p)\n",
        "        if t == \"W\":\n",
        "            wolves[i] = a\n",
        "        else:\n",
        "            sheeps[i] = a\n",
        "\n",
        "        tree[p].append(i)\n",
        "    \n",
        "    def dfs(here):\n",
        "        num_sheeps = sheeps[here]\n",
        "\n",
        "        for there in tree[here]:\n",
        "            num_sheeps += dfs(there) #서브트리의 양들을 모두 더해준다.\n",
        "\n",
        "        if wolves[here] != 0: #만약 현재 섬에 늑대가 있고\n",
        "            if num_sheeps < wolves[here]: #서브트리의 양보다 현재 섬의 늑대가 많다면\n",
        "                wolves[here] -= num_sheeps #배부른 늑대들이 줄어든다.\n",
        "                num_sheeps =0 #양들은 모두 먹힘\n",
        "            else: #양이 더 많다면\n",
        "                num_sheeps -= wolves[here] #양이 줄어들고\n",
        "                wolves[here] =0 #배부른 늑대는 0 이제부턴 이 섬은 동료들의 희생으로 그냥 지나갈 수 있다.\n",
        "                \n",
        "        return num_sheeps\n",
        "    \n",
        "    print(dfs(1))\n",
        "    \n",
        "\n",
        "solution()"
      ],
      "execution_count": null,
      "outputs": []
    },
    {
      "cell_type": "markdown",
      "metadata": {
        "id": "q4wgJ8rlvqCS"
      },
      "source": [
        "# 2820번 문제"
      ]
    },
    {
      "cell_type": "code",
      "metadata": {
        "id": "INeR9bvDvsxJ"
      },
      "source": [
        "from sys import stdin, setrecursionlimit\n",
        "input = stdin.readline\n",
        "setrecursionlimit(500001)\n",
        "\n",
        "class SegmentTree():\n",
        "    def __init__(self, n, func, init):\n",
        "        self.n = 2 ** (n - 1).bit_length()\n",
        "        self.init = init\n",
        "        self.data = [init] * (2 * self.n)\n",
        "        self.func = func\n",
        "\n",
        "    def set(self,k, v):\n",
        "        self.data[k + self.n - 1] = v\n",
        "\n",
        "    def get(self, k):\n",
        "        k += self.n - 1\n",
        "        ret = self.data[k]\n",
        "        while k > 0:\n",
        "            k = (k - 1) // 2\n",
        "            ret = self.func(ret, self.data[k])\n",
        "        return ret\n",
        "\n",
        "    def update(self, l, r, k):\n",
        "        L = l + self.n\n",
        "        R = r + self.n\n",
        "        while L < R:\n",
        "            if R & 1:\n",
        "                R -= 1\n",
        "                self.data[R - 1] = self.func(self.data[R - 1], k)\n",
        "            if L & 1:\n",
        "                self.data[L - 1] = self.func(self.data[L - 1], k)\n",
        "                L += 1\n",
        "            L >>= 1\n",
        "            R >>= 1\n",
        "\n",
        "def dfs(u):\n",
        "    global idx\n",
        "    idx += 1\n",
        "    l[u] = idx\n",
        "    for v in adj[u]:\n",
        "        dfs(v)\n",
        "    r[u] = idx\n",
        "\n",
        "if __name__ == \"__main__\":\n",
        "    # input\n",
        "    N, M = map(int, input().split())\n",
        "    pay = [0] * N\n",
        "    adj = [[] for _ in range(N)]\n",
        "    pay[0] = int(input())\n",
        "    for u in range(1, N):\n",
        "        p_i, v = map(int, input().split())\n",
        "        pay[u] = p_i\n",
        "        adj[v - 1].append(u)\n",
        "\n",
        "    # set l, r, segmentTree\n",
        "    l = [-1] * N\n",
        "    r = [-1] * N\n",
        "    idx = -1\n",
        "    dfs(0)\n",
        "    segmentTree = SegmentTree(N, int.__add__, 0)\n",
        "    for u in range(N):\n",
        "        segmentTree.set(l[u], pay[u])\n",
        "\n",
        "    # query\n",
        "    for _ in range(M):\n",
        "        query = input().split()\n",
        "        if query[0] == 'p':\n",
        "            a, x = map(int, query[1:])\n",
        "            if l[a - 1] == r[a - 1]:\n",
        "                continue\n",
        "            segmentTree.update(l[a - 1] + 1, r[a - 1] + 1, x)\n",
        "        else:\n",
        "            a = int(query[1])\n",
        "            print(segmentTree.get(l[a - 1]))"
      ],
      "execution_count": null,
      "outputs": []
    },
    {
      "cell_type": "markdown",
      "metadata": {
        "id": "DOeBV76r-BTw"
      },
      "source": [
        "# 19535번 문제"
      ]
    },
    {
      "cell_type": "code",
      "metadata": {
        "id": "nHWEoQ7b-D_F"
      },
      "source": [
        "import sys\n",
        "#input = sys.stdin.readline\n",
        "\n",
        "def comb(a, b):\n",
        "    ans = 1\n",
        "    if a-b < b:\n",
        "        b = a-b\n",
        "    for i in range(a-b+1, a+1):\n",
        "        ans *= i\n",
        "    for j in range(1, b+1):\n",
        "        ans //=j\n",
        "    return ans\n",
        "\n",
        "N = int(input())\n",
        "edge = []\n",
        "degree = [0 for _ in range(N+1)]\n",
        "\n",
        "for _ in range(N-1):\n",
        "    a, b = map(int, input().split())\n",
        "    edge.append([a, b])\n",
        "    degree[a] += 1\n",
        "    degree[b] += 1\n",
        "\n",
        "du = 0\n",
        "ga = 0\n",
        "\n",
        "for e in edge:\n",
        "    temp = (degree[e[0]]-1) * (degree[e[1]]-1)\n",
        "    du += temp\n",
        "\n",
        "for idx in range(1, N+1):\n",
        "    if degree[idx] >= 3:\n",
        "        ga += comb(degree[idx], 3)\n",
        "\n",
        "#print(du, ga)\n",
        "\n",
        "if du > 3 * ga:\n",
        "    print('D')\n",
        "elif du < 3 * ga:\n",
        "    print('G')\n",
        "else:\n",
        "    print('DUDUDUNGA')"
      ],
      "execution_count": null,
      "outputs": []
    },
    {
      "cell_type": "markdown",
      "metadata": {
        "id": "oio2CGaPIELw"
      },
      "source": [
        "# 17073번 문제"
      ]
    },
    {
      "cell_type": "code",
      "metadata": {
        "id": "giDPZp5FIGgs"
      },
      "source": [
        "# 17073, 나무 위의 빗물\n",
        "import sys\n",
        "from collections import deque\n",
        "#input = sys.stdin.readline\n",
        "\n",
        "def bfs(x):\n",
        "    global leaf\n",
        "    visited[x] = 1\n",
        "    q = deque()\n",
        "    q.append(x)\n",
        "    while q:\n",
        "        n = q.popleft()\n",
        "        if len(graph[n]) == 1 and visited[graph[n][0]]:\t# 말단 노드이면 leaf++\n",
        "            leaf += 1\n",
        "        for i in graph[n]:\n",
        "            if not visited[i]:\n",
        "                visited[i] = 1\n",
        "                q.append(i)\n",
        "\n",
        "\n",
        "N, W = map(int, input().split())\n",
        "visited = [0] * (N + 1)\n",
        "graph = [[] for _ in range(N + 1)]\n",
        "for _ in range(N - 1):\n",
        "    v1, v2 = map(int, input().split())\n",
        "    graph[v1].append(v2)\n",
        "    graph[v2].append(v1)\n",
        "leaf = 0\n",
        "bfs(1)\n",
        "print(W/leaf)"
      ],
      "execution_count": null,
      "outputs": []
    },
    {
      "cell_type": "markdown",
      "metadata": {
        "id": "JHdJEfZ2W203"
      },
      "source": [
        "# 8012번 문제"
      ]
    },
    {
      "cell_type": "code",
      "metadata": {
        "id": "vJDaWov8W45O"
      },
      "source": [
        "from collections import deque\n",
        "from math import log2\n",
        "input = __import__('sys').stdin.readline\n",
        "\n",
        "n = int(input())\n",
        "max_p = int(log2(n))+1\n",
        "adj = [[] for _ in range(n)]\n",
        "depth = [-1]*n\n",
        "parent = [[-1]*max_p for _ in range(n)]\n",
        "\n",
        "for i in range(n-1):\n",
        "    a,b = map(int,input().split())\n",
        "    a-=1;b-=1\n",
        "    adj[a].append(b)\n",
        "    adj[b].append(a)\n",
        "\n",
        "q=deque([0])\n",
        "depth[0] = 0\n",
        "while q:\n",
        "    x = q.popleft()\n",
        "    for nx in adj[x]:\n",
        "        if depth[nx] == -1:\n",
        "            depth[nx] = depth[x] + 1\n",
        "            parent[nx][0] = x\n",
        "            q.append(nx)\n",
        "\n",
        "for j in range(max_p-1):\n",
        "    for i in range(1,n):\n",
        "        if parent[i][j] != -1:\n",
        "            parent[i][j+1] = parent[parent[i][j]][j]\n",
        "\n",
        "ans = 0\n",
        "x = 0\n",
        "for _ in range(int(input())):\n",
        "    y = int(input())\n",
        "    y -= 1\n",
        "    temp = y\n",
        "    ans += depth[x] + depth[y]\n",
        "    if depth[x] < depth[y]: x, y = y, x\n",
        "    diff = depth[x] - depth[y]\n",
        "    j = 0\n",
        "    while diff:\n",
        "        if diff%2: x = parent[x][j]\n",
        "        diff //= 2\n",
        "        j += 1\n",
        "    if x!=y:\n",
        "        for j in range(max_p-1,-1,-1):\n",
        "            if parent[x][j] != - 1 and parent[x][j] != parent[y][j]:\n",
        "                x = parent[x][j]\n",
        "                y = parent[y][j]\n",
        "        x = parent[x][j]\n",
        "    ans -= 2*depth[x]\n",
        "    x = temp\n",
        "print(ans)"
      ],
      "execution_count": null,
      "outputs": []
    }
  ]
}