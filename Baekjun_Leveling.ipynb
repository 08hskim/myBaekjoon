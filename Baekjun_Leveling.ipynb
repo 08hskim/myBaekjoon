{
  "nbformat": 4,
  "nbformat_minor": 0,
  "metadata": {
    "colab": {
      "name": "Baekjun_Leveling.ipynb",
      "private_outputs": true,
      "provenance": [],
      "collapsed_sections": [],
      "authorship_tag": "ABX9TyOlbBXzUgtAFHQmofu2ZnYC",
      "include_colab_link": true
    },
    "kernelspec": {
      "name": "python3",
      "display_name": "Python 3"
    }
  },
  "cells": [
    {
      "cell_type": "markdown",
      "metadata": {
        "id": "view-in-github",
        "colab_type": "text"
      },
      "source": [
        "<a href=\"https://colab.research.google.com/github/08hskim/myBaekjoon/blob/master/Baekjun_Leveling.ipynb\" target=\"_parent\"><img src=\"https://colab.research.google.com/assets/colab-badge.svg\" alt=\"Open In Colab\"/></a>"
      ]
    },
    {
      "cell_type": "markdown",
      "metadata": {
        "id": "obXU67WDG3Wn"
      },
      "source": [
        "# 재귀 단계"
      ]
    },
    {
      "cell_type": "code",
      "metadata": {
        "id": "zNjmd3RAGqVr"
      },
      "source": [
        "# 10872번 문제\n",
        "# 팩토리얼 재귀로 구하기\n",
        "n = int(input())\n",
        "\n",
        "def factorial(n):\n",
        "    if n == 0 or n == 1: return 1\n",
        "    return n*factorial(n-1)\n",
        "\n",
        "print(factorial(n))"
      ],
      "execution_count": null,
      "outputs": []
    },
    {
      "cell_type": "code",
      "metadata": {
        "id": "H8VWUOipH7C9"
      },
      "source": [
        "# 10870번 문제 \n",
        "# 피보나치 재귀로 구하기\n",
        "n = int(input())\n",
        "\n",
        "def fibonacci(n):\n",
        "    if n ==0:return 0\n",
        "    elif n == 1: return 1\n",
        "    return fibonacci(n-1)+fibonacci(n-2)\n",
        "\n",
        "print(fibonacci(n))"
      ],
      "execution_count": null,
      "outputs": []
    },
    {
      "cell_type": "code",
      "metadata": {
        "id": "jxDpA69vJfpj"
      },
      "source": [
        "# 2447번 문제\n",
        "# 재귀로 별그리기\n",
        "def draw_star(n) :\n",
        "    global map\n",
        "    \n",
        "    if n == 3 :\n",
        "        map[0][:3] = map[2][:3] = [1]*3\n",
        "        map[1][:3] = [1, 0, 1]\n",
        "        return\n",
        "\n",
        "    a = n//3\n",
        "    draw_star(n//3)\n",
        "    for i in range(3) :\n",
        "        for j in range(3) :\n",
        "            if i == 1 and j == 1 :\n",
        "                continue\n",
        "            for k in range(a) :\n",
        "                map[a*i+k][a*j:a*(j+1)] = map[k][:a] # 핵심 아이디어\n",
        "\n",
        "n = int(input())      \n",
        "\n",
        "# 메인 데이터 선언\n",
        "map = [[0 for i in range(n)] for i in range(n)]\n",
        "\n",
        "draw_star(n)\n",
        "\n",
        "for i in map :\n",
        "    for j in i :\n",
        "        if j :\n",
        "            print('*', end = '')\n",
        "        else :\n",
        "            print(' ', end = '')\n",
        "    print()"
      ],
      "execution_count": null,
      "outputs": []
    },
    {
      "cell_type": "markdown",
      "metadata": {
        "id": "q0w6ivshjecb"
      },
      "source": [
        "# Dynamic Programming"
      ]
    },
    {
      "cell_type": "code",
      "metadata": {
        "id": "8AQDV2uAMdPV"
      },
      "source": [
        "# 1003번 문제\n",
        "# 피보나치 동적할당\n",
        "def count_fibonacci(n):\n",
        "    zero_count = [1,0]\n",
        "    one_count = [0,1]\n",
        "    if n <= 1:\n",
        "        return\n",
        " \n",
        "    for i in range(2, n+1):\n",
        "        zero_count.append(zero_count[i-1] + zero_count[i-2])\n",
        "        one_count.append(one_count[i-1] + one_count[i-2])\n",
        " \n",
        "    return zero_count, one_count\n",
        " \n",
        "n = int(input())\n",
        "zero_count, one_count = count_fibonacci(40)\n",
        " \n",
        "for _ in range(n):\n",
        "    m = int(input())\n",
        "    print(\"%d %d\" % (zero_count[m], one_count[m]))"
      ],
      "execution_count": null,
      "outputs": []
    },
    {
      "cell_type": "code",
      "metadata": {
        "id": "DSpuicSHliiT"
      },
      "source": [
        "# 9184번 문제\n",
        "# w(a,b,c)구현하기\n",
        "MAX = 21\n",
        "dp = [[[0]*MAX for _ in range(MAX)] for __ in range(MAX)]\n",
        "def w(a,b,c):\n",
        "    if a<= 0 or b<=0 or c<=0:return 1\n",
        "    if a>20 or b>20 or c>20:return w(20,20,20)\n",
        "    if dp[a][b][c]:\n",
        "        return dp[a][b][c]\n",
        "    \n",
        "    if a<b<c:\n",
        "        dp[a][b][c] = w(a, b, c-1) + w(a, b-1, c-1) - w(a, b-1, c)\n",
        "\n",
        "\n",
        "    dp[a][b][c] =  w(a-1, b, c) + w(a-1, b-1, c) + w(a-1, b, c-1) - w(a-1, b-1, c-1)\n",
        "    return dp[a][b][c]\n",
        "\n",
        "while True:\n",
        "    a,b,c = map(int, input().split())\n",
        "    if (a, b, c) == (-1,-1,-1): \n",
        "        break\n",
        "    print(\"w(%d,%d,%d) = %d\" %(a,b,c,w(a,b,c)))"
      ],
      "execution_count": null,
      "outputs": []
    },
    {
      "cell_type": "code",
      "metadata": {
        "id": "XlLG-4K3wl9p"
      },
      "source": [
        "dp = [[[0 for _ in range(101)] for _ in range(101)] for _ in range(101)]\n",
        "\n",
        "def w(a, b, c):\n",
        "        \n",
        "# dp 테이블에 이미 연산되어 저장된 값이 있다면, 그 값을 리턴\n",
        "    if dp[a+50][b+50][c+50] != 0:\n",
        "        return dp[a+50][b+50][c+50]\n",
        "         \n",
        "        \n",
        "# 조건에 맞춰 연산을 수행한 후, 그 결과값을 dp 테이블에 저장 후 리턴\n",
        "    if a <=0 or b <= 0 or c <= 0:\n",
        "        dp[a+50][b+50][c+50] = 1\n",
        "        return 1\n",
        "    if a > 20 or b > 20 or c > 20:\n",
        "        temp = w(20, 20, 20)\n",
        "        dp[a+50][b+50][c+50] = temp\n",
        "        return temp\n",
        "    if a < b and b < c:\n",
        "        temp = w(a, b, c-1) + w(a, b-1, c-1) - w(a, b-1, c)\n",
        "        dp[a+50][b+50][c+50] = temp\n",
        "        return temp\n",
        "    else:\n",
        "        temp = w(a-1, b, c) + w(a-1, b-1, c) + w(a-1, b, c-1) - w(a-1, b-1, c-1)\n",
        "        dp[a+50][b+50][c+50] = temp\n",
        "        return temp\n",
        "\n",
        "arr=[]\n",
        "res = []\n",
        "while True:\n",
        "    a, b, c = map(int, input().split())\n",
        "    if (a, b, c) == (-1, -1, -1):\n",
        "        break\n",
        "    arr.append((a, b, c))\n",
        "    res.append(w(a, b, c))\n",
        "for i, r in enumerate(res):\n",
        "    print(\"w{} = {}\".format(arr[i], r))"
      ],
      "execution_count": null,
      "outputs": []
    },
    {
      "cell_type": "code",
      "metadata": {
        "id": "wyVSs2lE1fTE"
      },
      "source": [
        "# 1904번 문제\n",
        "\n",
        "n = int(input()) \n",
        "dp = [0] * 1000001\n",
        "dp[1] = 1 \n",
        "dp[2] = 2 \n",
        "\n",
        "for k in range(3,n+1): \n",
        "    dp[k] = (dp[k-1]+ dp[k-2])%15746 \n",
        "    \n",
        "print(dp[n])"
      ],
      "execution_count": null,
      "outputs": []
    },
    {
      "cell_type": "code",
      "metadata": {
        "id": "YhHAqW1nyc-4"
      },
      "source": [
        "# 1932번 문제\n",
        "def check_max(arr,id):\n",
        "    # arr : 위층의 array\n",
        "    # id : 현재 위치\n",
        "    if len(arr) == 1: return 0\n",
        "    if id == 0: return 0\n",
        "    elif id == len(arr): return len(arr)-1\n",
        "    else:\n",
        "        return arr.index(max(arr[id],arr[id-1]))\n",
        "\n",
        "n = int(input())\n",
        "lst = [list(map(int, input().split())) for _ in range(n)]\n",
        "\n",
        "result = []\n",
        "for i in range(len(lst[-1])):\n",
        "    count = lst[-1][i]\n",
        "    temp = i\n",
        "    for j in range(len(lst)-2,-1,-1):\n",
        "        temp = check_max(lst[j],temp)\n",
        "        count+= lst[j][temp]\n",
        "    result.append(count)\n",
        "print(max(result))"
      ],
      "execution_count": null,
      "outputs": []
    },
    {
      "cell_type": "code",
      "metadata": {
        "id": "L4hu0q7n-bcq"
      },
      "source": [
        "n = int(input())\n",
        "t = []\n",
        "for i in range(n):\n",
        "    t.append(list(map(int, input().split())))\n",
        "k = 2\n",
        "for i in range(1, n):\n",
        "    for j in range(k):\n",
        "        if j == 0:\n",
        "            t[i][j] = t[i][j] + t[i - 1][j]\n",
        "        elif i == j:\n",
        "            t[i][j] = t[i][j] + t[i - 1][j - 1]\n",
        "        else:\n",
        "            t[i][j] = max(t[i - 1][j - 1], t[i - 1][j]) + t[i][j]\n",
        "    k += 1\n",
        "print(max(t[n - 1]))"
      ],
      "execution_count": null,
      "outputs": []
    },
    {
      "cell_type": "code",
      "metadata": {
        "id": "f1awzcm6MYJA"
      },
      "source": [
        "# 2579번 문제\n",
        "n = int(input())\n",
        "s = [0 for i in range(301)]\n",
        "dp = [0 for i in range(301)]\n",
        "for i in range(n):\n",
        "    s[i] = int(input())\n",
        "dp[0] = s[0]\n",
        "dp[1] = s[0] + s[1]\n",
        "dp[2] = max(s[1] + s[2], s[0] + s[2])\n",
        "for i in range(3, n):\n",
        "    dp[i] = max(dp[i - 3] + s[i - 1] + s[i], dp[i - 2] + s[i])\n",
        "print(dp[n - 1])"
      ],
      "execution_count": null,
      "outputs": []
    },
    {
      "cell_type": "code",
      "metadata": {
        "id": "t9ESiZNmRHVJ"
      },
      "source": [
        "# 10844번 문제\n",
        "n = int(input())\n",
        "dp = [[0 for i in range(10)] for j in range(101)]\n",
        "for i in range(1, 10):\n",
        "    dp[1][i] = 1\n",
        "for i in range(2, n + 1):\n",
        "    for j in range(10):\n",
        "        if j == 0:\n",
        "            dp[i][j] = dp[i - 1][1]\n",
        "        elif j == 9:\n",
        "            dp[i][j] = dp[i - 1][8]\n",
        "        else:\n",
        "            dp[i][j] = dp[i - 1][j - 1] + dp[i - 1][j + 1]\n",
        "print(sum(dp[n]) % 1000000000)"
      ],
      "execution_count": null,
      "outputs": []
    },
    {
      "cell_type": "markdown",
      "metadata": {
        "id": "K5AhItoVHCfX"
      },
      "source": [
        "# 백트래킹"
      ]
    },
    {
      "cell_type": "code",
      "metadata": {
        "id": "8XRTkf1OHFHV"
      },
      "source": [
        "# 15649번 문제\n",
        "\n",
        "n,m = map(int,input().split())\n",
        " \n",
        "check = [False]*(n+1)\n",
        "a = [0]*m\n",
        "\n",
        "def printing(index, n, m):\n",
        "    if index == m:\n",
        "        for i in range(m):\n",
        "            print (a[i], end = ' ')\n",
        "        print()\n",
        "            \n",
        "        return\n",
        "    for i in range(1, n+1):\n",
        "        if check[i]:\n",
        "            continue\n",
        "        check[i] = True\n",
        "        a[index] = i\n",
        "        printing(index+1, n, m)\n",
        "        check[i] = False\n",
        " \n",
        "printing(0,n,m)"
      ],
      "execution_count": null,
      "outputs": []
    },
    {
      "cell_type": "code",
      "metadata": {
        "id": "RmCOb6nEIWCO"
      },
      "source": [
        "import itertools\n",
        "\n",
        "n,m = map(int,input().split())\n",
        "numlist = list(map(str,range(1,n+1)))\n",
        "\n",
        "print(\"\\n\".join(list(map(\" \".join,itertools.permutations(numlist,m)))))"
      ],
      "execution_count": null,
      "outputs": []
    },
    {
      "cell_type": "code",
      "metadata": {
        "id": "_Lsf4vuOKRTa"
      },
      "source": [
        "# 15650번 문제\n",
        "n,m=map(int,input().split())\n",
        "\n",
        "from itertools import combinations\n",
        "C=combinations(range(1,n+1),m)\n",
        "for i in C:\n",
        "    print(' '.join(map(str,i)))"
      ],
      "execution_count": null,
      "outputs": []
    },
    {
      "cell_type": "code",
      "metadata": {
        "id": "qtu7-p4wLGfc"
      },
      "source": [
        "# 15651번 문제\n",
        "n,m=map(int,input().split())\n",
        "from itertools import product\n",
        "\n",
        "P=product(range(1,n+1),repeat=m)\n",
        "for i in P:\n",
        "    print(\" \".join(map(str,i)))"
      ],
      "execution_count": null,
      "outputs": []
    },
    {
      "cell_type": "code",
      "metadata": {
        "id": "8WF9XIXVLMMN"
      },
      "source": [
        "# 15652번 문제\n",
        "from itertools import combinations_with_replacement\n",
        "n, m = map(int, input().split())\n",
        "a = [x for x in range(1,n+1)]\n",
        "C = combinations_with_replacement(a, m)\n",
        "for i in C:\n",
        "    print(\" \".join(map(str,i)))"
      ],
      "execution_count": null,
      "outputs": []
    },
    {
      "cell_type": "code",
      "metadata": {
        "id": "LM-Z1pKnNAo4"
      },
      "source": [
        "# 2580번 문제\n",
        "import numpy as np\n",
        "sudoku = [list(map(int, input().split())) for _ in range(9)]\n",
        "\n",
        "sudoku = np.asarray(sudoku)\n"
      ],
      "execution_count": null,
      "outputs": []
    },
    {
      "cell_type": "code",
      "metadata": {
        "id": "UpSsYTnqWHP-"
      },
      "source": [
        "import sys\n",
        "\n",
        "sdk = [list(map(int, input().split())) for _ in range(9)]\n",
        "zeros = [(i, j) for i in range(9) for j in range(9) if sdk[i][j] == 0]\n",
        "\n",
        "def sdoku(index):\n",
        "    \n",
        "    # 한 바퀴에서 모든 경우를 다 보았으면 출력\n",
        "    if index == len(zeros):\n",
        "        for row in sdk:\n",
        "            print(*row)\n",
        "        sys.exit(0)\n",
        "    else:\n",
        "        x = zeros[index][0]\n",
        "        y = zeros[index][1]\n",
        "        dx = (x//3) * 3\n",
        "        dy = (y//3) * 3\n",
        "\n",
        "        # 사용할 수 있는 숫자 9개\n",
        "        num_list = [False] + [True for _ in range(9)]\n",
        "\n",
        "        for j in range(9):\n",
        "            # 가로 검사\n",
        "            # 세로 검사\n",
        "            if(sdk[x][j]):\n",
        "                num_list[sdk[x][j]] = False       \n",
        "            if(sdk[j][y]):\n",
        "                num_list[sdk[j][y]] = False\n",
        "\n",
        "        # 3*3 box 검사\n",
        "        for i in range(dx, dx + 3):\n",
        "            for j in range(dy, dy + 3):\n",
        "                check_num = sdk[i][j]\n",
        "                if(check_num):\n",
        "                    num_list[check_num] = False\n",
        "\n",
        "        # 현재 가능한 수만 가져옴\n",
        "        # 가능한 수를 가져왔으면, 이전에 다뤄왔던 백트래킹을 사용하면 됨\n",
        "        candidate_list = [i for i, k in enumerate(num_list) if k]\n",
        "        \n",
        "        # 경우의 수 고려\n",
        "        for num in candidate_list:\n",
        "            sdk[x][y] = num\n",
        "            sdoku(index + 1)\n",
        "            sdk[x][y] = 0\n",
        "sdoku(0)"
      ],
      "execution_count": null,
      "outputs": []
    }
  ]
}