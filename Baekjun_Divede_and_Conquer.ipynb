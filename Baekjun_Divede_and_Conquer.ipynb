{
  "nbformat": 4,
  "nbformat_minor": 0,
  "metadata": {
    "colab": {
      "name": "Baekjun_Divede_and_Conquer.ipynb",
      "private_outputs": true,
      "provenance": [],
      "collapsed_sections": [],
      "authorship_tag": "ABX9TyMBfXejBgk5uW0jnSpRpZY5",
      "include_colab_link": true
    },
    "kernelspec": {
      "name": "python3",
      "display_name": "Python 3"
    },
    "language_info": {
      "name": "python"
    }
  },
  "cells": [
    {
      "cell_type": "markdown",
      "metadata": {
        "id": "view-in-github",
        "colab_type": "text"
      },
      "source": [
        "<a href=\"https://colab.research.google.com/github/08hskim/myBaekjoon/blob/master/Baekjun_Divede_and_Conquer.ipynb\" target=\"_parent\"><img src=\"https://colab.research.google.com/assets/colab-badge.svg\" alt=\"Open In Colab\"/></a>"
      ]
    },
    {
      "cell_type": "markdown",
      "metadata": {
        "id": "wz0QTOHHA3TY"
      },
      "source": [
        "# 1992번 문제"
      ]
    },
    {
      "cell_type": "code",
      "metadata": {
        "id": "at1mNWjDArZF"
      },
      "source": [
        "N = int(input())\n",
        "\n",
        "image = [list(map(int, input())) for _ in range(N)]\n",
        "\n",
        "def quadtree(x, y, n):\n",
        "    # n = 1, 하나의 픽셀만 볼 경우,\n",
        "    if(n == 1):\n",
        "        return str(image[x][y])\n",
        "    \n",
        "    result = []\n",
        "    for i in range(x, x + n):\n",
        "        for j in range(y, y + n):\n",
        "            # 색이 다르면, 다시 분할하자.\n",
        "            if(image[i][j] != image[x][y]):\n",
        "                # append와 extend의 차이는\n",
        "                # extend는 list, tuple, dict 등의 iterable object를\n",
        "                # python list의 끝에 append 해주는 것.\n",
        "                result.append('(')\n",
        "                result.extend(quadtree(x, y, n//2))\n",
        "                result.extend(quadtree(x, y + n//2, n//2))\n",
        "                result.extend(quadtree(x + n//2, y, n//2))\n",
        "                result.extend(quadtree(x + n//2, y + n//2, n//2))\n",
        "                result.append(')')\n",
        "                \n",
        "                return result\n",
        "            \n",
        "    return str(image[x][y])\n",
        "    \n",
        "print(''.join(quadtree(0, 0, N)))"
      ],
      "execution_count": null,
      "outputs": []
    },
    {
      "cell_type": "markdown",
      "metadata": {
        "id": "ZSYzMzG-Ivts"
      },
      "source": [
        "# 10830번 문제"
      ]
    },
    {
      "cell_type": "code",
      "metadata": {
        "id": "uyWgpCw1gELK"
      },
      "source": [
        "def make_matrix(A, matrix):\n",
        "    # [[0]*2]*2 로 하면 리스트가 공유되서 다른 결과가 나옴\n",
        "    dummy_matrix = [[0 for _ in range(N)] for _ in range(N)]\n",
        "    \n",
        "    # 행렬곱에서 사용한 방법은 시간 초과\n",
        "    for i in range(N):\n",
        "        for j in range(N):\n",
        "            for k in range(N):\n",
        "                dummy_matrix[i][j] += (matrix[i][k] * A[k][j])\n",
        "            dummy_matrix[i][j] %= 1000\n",
        "\n",
        "    return dummy_matrix\n",
        "\n",
        "def matmul(A, B):\n",
        "    if(B == 1):\n",
        "        for i in range(N):\n",
        "            for j in range(N):\n",
        "                A[i][j] %= 1000\n",
        "       \n",
        "        return A\n",
        "    \n",
        "    # 홀수인 경우엔, A를 마지막에 곱해주어야 합니다.\n",
        "    # ex) AAAAA -> (A^2)^2 * A\n",
        "    elif((B%2) == 1):\n",
        "        matrix = matmul(A, B-1)\n",
        "        new_matrix = make_matrix(A, matrix)\n",
        "    \n",
        "        return new_matrix\n",
        "    \n",
        "    # 짝수인 경우엔, 제곱수로 계속해서 곱해집니다.\n",
        "    # ex) AAAA -> (A^2) = AA -> (A^2)^2 = AAAA\n",
        "    else:\n",
        "        matrix = matmul(A, B//2)\n",
        "        new_matrix = make_matrix(matrix, matrix)\n",
        "    \n",
        "        return new_matrix\n",
        "\n",
        "N, B = map(int, input().split())\n",
        "\n",
        "A = []\n",
        "for _ in range(N):\n",
        "    A.append(list(map(int, input().split())))\n",
        "\n",
        "result = matmul(A, B)\n",
        "\n",
        "for row in result:\n",
        "    print(*row)"
      ],
      "execution_count": null,
      "outputs": []
    },
    {
      "cell_type": "markdown",
      "metadata": {
        "id": "hCDzueiP1P7D"
      },
      "source": [
        "# 2104번 문제"
      ]
    },
    {
      "cell_type": "code",
      "metadata": {
        "id": "3JH64UTg1SM7"
      },
      "source": [
        "import sys\n",
        "sys.setrecursionlimit(10**6)\n",
        "def getmax(fromm, to):\n",
        "    if fromm == to: return A[fromm]*A[fromm]\n",
        "    mid = (fromm+to)//2\n",
        "    leftsum = getmax(fromm, mid)\n",
        "    rightsum = getmax(mid+1, to)\n",
        "\n",
        "    maxValue = max(leftsum, rightsum)\n",
        "\n",
        "    left = mid\n",
        "    right = mid+1\n",
        "\n",
        "    summ = A[left] + A[right]\n",
        "    minValue = min(A[left], A[right])\n",
        "\n",
        "    maxValue = max(maxValue, summ*minValue)\n",
        "\n",
        "    while left > fromm or right < to:\n",
        "        if (right < to) and ((left == fromm) or (A[left-1] < A[right + 1])):\n",
        "            right += 1\n",
        "            summ += A[right]\n",
        "            minValue = min(minValue, A[right])\n",
        "        else:\n",
        "            left -= 1\n",
        "            summ += A[left]\n",
        "            minValue = min(minValue, A[left])\n",
        "        \n",
        "        cross_sum = summ*minValue\n",
        "        maxValue = max(maxValue, cross_sum)\n",
        "\n",
        "    return maxValue\n",
        "\n",
        "n = int(input())\n",
        "A = list(map(int, input().split()))\n",
        "\n",
        "print(getmax(1, n-1))"
      ],
      "execution_count": null,
      "outputs": []
    },
    {
      "cell_type": "markdown",
      "metadata": {
        "id": "pU9YMWO5JldZ"
      },
      "source": [
        "# 1074번 문제"
      ]
    },
    {
      "cell_type": "code",
      "metadata": {
        "id": "LKSYhQo9Mjak"
      },
      "source": [
        "n, r, c = map(int, input().split())\n",
        "\n",
        "num = 0\n",
        "\n",
        "while n > 1:\n",
        "    # 4등분 중 몇번째인가\n",
        "    ran = 2 ** (n - 1)\n",
        "    if r >= ran:\n",
        "        if c >= ran: # 4번째\n",
        "            num += (4 ** (n - 1)) * 3\n",
        "            r -= ran\n",
        "            c -= ran\n",
        "        else: # 3번째\n",
        "            num += (4 ** (n - 1)) * 2\n",
        "            r -= ran\n",
        "            \n",
        "    else:\n",
        "        if c >= ran: # 2번째\n",
        "            num += (4 ** (n - 1)) * 1\n",
        "            c -= ran\n",
        "        else: # 1번째\n",
        "            pass\n",
        "    \n",
        "    # print(num, r, c)\n",
        "    n -= 1\n",
        "\n",
        "if r == 0:\n",
        "    if c == 0:\n",
        "        print(num)\n",
        "    else:\n",
        "        print(num + 1)\n",
        "else:\n",
        "    if c == 0:\n",
        "        print(num + 2)\n",
        "    else:\n",
        "        print(num + 3)"
      ],
      "execution_count": null,
      "outputs": []
    },
    {
      "cell_type": "markdown",
      "metadata": {
        "id": "duXguSqzlgQh"
      },
      "source": [
        "# 5904번 문제"
      ]
    },
    {
      "cell_type": "code",
      "metadata": {
        "id": "qVKOqO_sliZM"
      },
      "source": [
        "k = 1\n",
        "length = 3 # k = 0일 때의 길이\n",
        "moolen = [0]\n",
        "Moolen = []\n",
        "while length < 10**2:\n",
        "    temp = length\n",
        "    length = length + 1+ (k+2) + length\n",
        "    a = moolen + [temp] + [i + temp + 1+ (k+2) for i in moolen]\n",
        "    moolen = a\n",
        "    print(moolen, length)\n",
        "    k += 1"
      ],
      "execution_count": null,
      "outputs": []
    },
    {
      "cell_type": "code",
      "metadata": {
        "id": "SPv4pYfvn-HX"
      },
      "source": [
        "n = int(input())\n",
        "\n",
        "k = 1\n",
        "length = 3 # k = 0일 때의 길이\n",
        "moolen = [0]\n",
        "\n",
        "while length < 10**9:\n",
        "    temp = length\n",
        "    length = length + 1+ (k+2) + length\n",
        "    a = moolen + [temp] + [i + temp + 1+ (k+2) for i in moolen]\n",
        "    moolen = a\n",
        "    k += 1\n",
        "\n",
        "if (n-1) not in m: print('o')\n",
        "else: print('m')"
      ],
      "execution_count": null,
      "outputs": []
    },
    {
      "cell_type": "code",
      "metadata": {
        "id": "FxgtQqMzqEIC"
      },
      "source": [
        "def f(x):\n",
        "    if x <= 3:\n",
        "        if x == 1:\n",
        "            return \"m\"\n",
        "        return \"o\"\n",
        "    k = 1\n",
        "    for i in range(len(leng)):\n",
        "        if leng[i] >= x:\n",
        "            k = i\n",
        "            break\n",
        "\n",
        "    if x <= leng[k - 1] + k + 3:\n",
        "        if x == leng[k - 1] + 1:\n",
        "            return \"m\"\n",
        "        else:\n",
        "            return \"o\"\n",
        "    else:\n",
        "        return f(x - (leng[k - 1] + k + 3))\n",
        "\n",
        "\n",
        "x = int(input())\n",
        "leng = [3]\n",
        "while leng[-1] < x:\n",
        "    leng.append(leng[-1] * 2 + len(leng) + 3)\n",
        "print(f(x))"
      ],
      "execution_count": null,
      "outputs": []
    },
    {
      "cell_type": "markdown",
      "metadata": {
        "id": "iWII4blduJGb"
      },
      "source": [
        "# 2261번 문제\n"
      ]
    },
    {
      "cell_type": "code",
      "metadata": {
        "id": "oKHlhvwXuLLD"
      },
      "source": [
        "n = int(input())\n",
        "x = []\n",
        "y = []\n",
        "\n",
        "for _ in range(n):\n",
        "    a, b = map(int, input())\n",
        "    x.append(a)\n",
        "    y.append(b)\n",
        "\n",
        "a = sum(x)/len(x)\n",
        "b = sum(y)/len(y)\n",
        "\n",
        "x_prime = [abs(i-a) for i in x]\n",
        "y_prime = [abs(i-b) for i in y]\n",
        "\n",
        "xMin = x_prime.index(min(x_prime))\n",
        "yMin = y_prime.index(min(y_prime))\n",
        "\n"
      ],
      "execution_count": null,
      "outputs": []
    },
    {
      "cell_type": "code",
      "metadata": {
        "id": "CVFI-7Z3zG9i"
      },
      "source": [
        "import sys\n",
        "\n",
        "n = int(sys.stdin.readline())\n",
        "sorted_location = []\n",
        "for _ in range(n):\n",
        "    x, y = list(map(int, sys.stdin.readline().split()))\n",
        "    sorted_location.append((x, y))\n",
        "sorted_location.sort()\n",
        "\n",
        "def get_dist(a, b):\n",
        "    return (a[0] - b[0]) ** 2 + (a[1] - b[1]) ** 2\n",
        "\n",
        "def solution(l, r):\n",
        "    if l == r:\n",
        "        return float('inf')\n",
        "    else:\n",
        "        m = (l + r) // 2\n",
        "        min_dist = min(solution(l, m), solution(m + 1, r))\n",
        "        target_list = []\n",
        "        \n",
        "        for i in range(m, l - 1, -1):\n",
        "            if (sorted_location[i][0] - sorted_location[m][0]) ** 2 < min_dist:\n",
        "                target_list.append(sorted_location[i])\n",
        "            else:\n",
        "                break\n",
        "\n",
        "        for j in range(m + 1, r + 1):\n",
        "            if (sorted_location[j][0] - sorted_location[m][0]) ** 2 < min_dist:\n",
        "                target_list.append(sorted_location[j])\n",
        "            else:\n",
        "                break\n",
        "                \n",
        "        target_list.sort(key=lambda x: x[1])\n",
        "        for i in range(len(target_list) - 1):\n",
        "            for j in range(i + 1, len(target_list)):\n",
        "                if (target_list[i][1] - target_list[j][1]) ** 2 < min_dist:\n",
        "                    dist = get_dist(target_list[i], target_list[j])\n",
        "                    min_dist = min(min_dist, dist)\n",
        "                else:\n",
        "                    break\n",
        "        return(min_dist)\n",
        "\n",
        "if len(sorted_location) != len(set(sorted_location)):\n",
        "    print(0)\n",
        "else:\n",
        "    print((solution(0, len(sorted_location) - 1)))\n"
      ],
      "execution_count": null,
      "outputs": []
    },
    {
      "cell_type": "markdown",
      "metadata": {
        "id": "TpePe5GxIkms"
      },
      "source": [
        "# 1493번 문제"
      ]
    },
    {
      "cell_type": "code",
      "metadata": {
        "id": "bUvUsLSQImUH"
      },
      "source": [
        "import sys \n",
        "sys.setrecursionlimit(10**6) \n",
        "# input = sys.stdin.readline \n",
        "\n",
        "length, width, height = map(int, input().split()) \n",
        "\n",
        "n = int(input().rstrip()) \n",
        "\n",
        "cubes = [0] * 21 \n",
        "\n",
        "for _ in range(n): \n",
        "    a, b = map(int, input().split()) \n",
        "    cubes[a] += b \n",
        "\n",
        "total = 0 \n",
        "count = 0 \n",
        "\n",
        "for i in range(19, -1, -1): \n",
        "    total <<= 3 \n",
        "    t = min(cubes[i], (length >> i)*(width >> i)*(height >> i) - total) \n",
        "    total += t \n",
        "    count += t \n",
        "    \n",
        "if(total == length*width*height): print(count) \n",
        "else: print(-1)\n"
      ],
      "execution_count": null,
      "outputs": []
    }
  ]
}