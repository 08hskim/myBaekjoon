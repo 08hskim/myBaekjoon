{
  "nbformat": 4,
  "nbformat_minor": 0,
  "metadata": {
    "colab": {
      "name": "BaekJun.ipynb",
      "private_outputs": true,
      "provenance": [],
      "collapsed_sections": [],
      "authorship_tag": "ABX9TyN4mo1DGXH9ZmW03zBe+qYg",
      "include_colab_link": true
    },
    "kernelspec": {
      "name": "python3",
      "display_name": "Python 3"
    }
  },
  "cells": [
    {
      "cell_type": "markdown",
      "metadata": {
        "id": "view-in-github",
        "colab_type": "text"
      },
      "source": [
        "<a href=\"https://colab.research.google.com/github/08hskim/myBaekjoon/blob/master/BaekJun.ipynb\" target=\"_parent\"><img src=\"https://colab.research.google.com/assets/colab-badge.svg\" alt=\"Open In Colab\"/></a>"
      ]
    },
    {
      "cell_type": "markdown",
      "metadata": {
        "id": "yXdOd-PPJpk5"
      },
      "source": [
        "# 2839번 문제"
      ]
    },
    {
      "cell_type": "markdown",
      "metadata": {
        "id": "S-PanrMJM_af"
      },
      "source": [
        "\n",
        "## 문제 내용\n",
        "\n",
        "N(g)만큼의 설탕이 있고, 5(g), 3(g) 크기의 봉투가 있다. 봉투를 최소한으로 사용하게 하라.\n",
        "정확히 N(g)으로 나누지 못하면 -1을 출력한다."
      ]
    },
    {
      "cell_type": "code",
      "metadata": {
        "id": "2fVAmXh9JIte"
      },
      "source": [
        "    N=int(input())"
      ],
      "execution_count": null,
      "outputs": []
    },
    {
      "cell_type": "code",
      "metadata": {
        "id": "7Q6n3ghEJhh5"
      },
      "source": [
        "three=0\n",
        "five=0\n",
        "a=0\n",
        "while N%5 !=0:\n",
        "    N-=3\n",
        "    three+=1\n",
        "    if N<0: \n",
        "        a=-1\n",
        "        print(a)\n",
        "        break       \n",
        "if a ==0:\n",
        "    five=N//5\n",
        "\n",
        "print(five+three)"
      ],
      "execution_count": null,
      "outputs": []
    },
    {
      "cell_type": "code",
      "metadata": {
        "id": "CEjmCMIPgQ5y"
      },
      "source": [
        "a = [[1,4], [3,4], [2,4], [5,6], [7,5]]\n",
        "\n",
        "n = int(input())\n",
        "\n",
        "for i in a:\n",
        "    if i[1] == n: print(i)"
      ],
      "execution_count": null,
      "outputs": []
    },
    {
      "cell_type": "markdown",
      "metadata": {
        "id": "Ye68ZR_MNsa4"
      },
      "source": [
        "# 1463번 문제"
      ]
    },
    {
      "cell_type": "code",
      "metadata": {
        "id": "9_xJ7J1QNvT5"
      },
      "source": [
        "X=int(input())"
      ],
      "execution_count": null,
      "outputs": []
    },
    {
      "cell_type": "code",
      "metadata": {
        "id": "sP4M3YfbNyZS"
      },
      "source": [
        "dp=[0 for _ in range(X+1)]\n",
        "for i in range(2,X+1):\n",
        "    dp[i]=dp[i-1]+1\n",
        "\n",
        "    if i%2==0 and dp[i] > dp[i//2] + 1:\n",
        "        dp[i]=dp[i//2]+1\n",
        "    if i%3==0 and dp[i] > dp[i//3] + 1:\n",
        "        dp[i]=dp[i//3]+1\n",
        "    print(dp)\n",
        "\n",
        "print(dp[X])"
      ],
      "execution_count": null,
      "outputs": []
    },
    {
      "cell_type": "code",
      "metadata": {
        "id": "3kbpuBhiOfiT"
      },
      "source": [
        "def check_pow2(num):\n",
        "    while num !=1:\n",
        "        num"
      ],
      "execution_count": null,
      "outputs": []
    },
    {
      "cell_type": "markdown",
      "metadata": {
        "id": "hh5gWTOxTLgE"
      },
      "source": [
        "# 1003번"
      ]
    },
    {
      "cell_type": "code",
      "metadata": {
        "id": "Co4A4PabTPCo"
      },
      "source": [
        "def fibonacci(num):\n",
        "    if num == 0:\n",
        "        print(\"0\")\n",
        "        return 0\n",
        "    elif num ==1:\n",
        "        print(\"1\")\n",
        "        return 1\n",
        "    else:\n",
        "        return fibonacci(n-1) + fibonacci(n-2)"
      ],
      "execution_count": null,
      "outputs": []
    },
    {
      "cell_type": "code",
      "metadata": {
        "id": "HMqHF52OfqNs"
      },
      "source": [
        "def count_fibonacci(n):\n",
        "    zero_count=[1,0]\n",
        "    one_count=[0,1]\n",
        "    if n <=1:\n",
        "        return\n",
        "\n",
        "    for i in range(2, n+1):\n",
        "        zero_count.append(zero_count[i-1]+zero_count[i-2])\n",
        "        one_count.append(one_count[i-1]+one_count[i-2])\n",
        "    return zero_count, one_count\n",
        "\n",
        "n=int(input())\n",
        "zero_count, one_count=count_fibonacci(40)\n",
        "for _ in range(n):\n",
        "    m=int(input())\n",
        "    print(\"%d %d\"%(zero_count[m], one_count[m]))"
      ],
      "execution_count": null,
      "outputs": []
    },
    {
      "cell_type": "markdown",
      "metadata": {
        "id": "okx_fsjwCiB4"
      },
      "source": [
        "# 11052번"
      ]
    },
    {
      "cell_type": "code",
      "metadata": {
        "id": "72lSsBhAClFL"
      },
      "source": [
        "N=int(input())\n",
        "card=[0]*(N+1) # n번째 항은 n장을 살 때의 최댓가격이다.\n",
        "price = [0]+list(map(int, input().split()))# n번째 항은 n장 들어있는 카드팩 가격이다.\n",
        "card[1]=price[1]"
      ],
      "execution_count": null,
      "outputs": []
    },
    {
      "cell_type": "code",
      "metadata": {
        "id": "u4s8iSniDY-e"
      },
      "source": [
        "for i in range(2, N+1):\n",
        "    for j in range(1, i+1):\n",
        "        if card[i] < card[i-j] + price[j]:\n",
        "            card[i]=card[i-j] + price[j]\n",
        "\n",
        "print(card[N])"
      ],
      "execution_count": null,
      "outputs": []
    },
    {
      "cell_type": "markdown",
      "metadata": {
        "id": "Dkw3G17xHgcj"
      },
      "source": [
        "# 1912번"
      ]
    },
    {
      "cell_type": "code",
      "metadata": {
        "id": "--uUQu4AHi5S"
      },
      "source": [
        "N=int(input())\n",
        "num=list(map(int, input().split()))"
      ],
      "execution_count": null,
      "outputs": []
    },
    {
      "cell_type": "code",
      "metadata": {
        "id": "WB3O8-fSHsWe"
      },
      "source": [
        "result=[num[0]]\n",
        "for i in range(len(num)-1):\n",
        "    result.append(max(result[i]+num[i+1], num[i+1]))\n",
        "print(max(result))"
      ],
      "execution_count": null,
      "outputs": []
    },
    {
      "cell_type": "markdown",
      "metadata": {
        "id": "s9BpeDoHPkRq"
      },
      "source": [
        "# 1965번 문제"
      ]
    },
    {
      "cell_type": "code",
      "metadata": {
        "id": "EcDbKtjlPnQQ"
      },
      "source": [
        "N=int(input())\n",
        "num=list(map(int, input().split()))"
      ],
      "execution_count": null,
      "outputs": []
    },
    {
      "cell_type": "code",
      "metadata": {
        "id": "iYfIY8kVQQyN"
      },
      "source": [
        "box=[0]*1001\n",
        "for a in num:\n",
        "    box[a]=max(box[:a])+1\n",
        "print(max(box))"
      ],
      "execution_count": null,
      "outputs": []
    },
    {
      "cell_type": "markdown",
      "metadata": {
        "id": "4OH9R0Z6Ww63"
      },
      "source": [
        "# 10942번 문제"
      ]
    },
    {
      "cell_type": "code",
      "metadata": {
        "id": "4opKuohfXUqY"
      },
      "source": [
        "def check_palindrome(num_list):\n",
        "    if len(num_list)==0:\n",
        "        return 1\n",
        "    for i in range(len(num_list)//2):\n",
        "        if num_list[i] != num_list[-1-i]:\n",
        "            return 0\n",
        "    return 1"
      ],
      "execution_count": null,
      "outputs": []
    },
    {
      "cell_type": "code",
      "metadata": {
        "id": "xfRQVG13W0vT"
      },
      "source": [
        "n = int(input())\n",
        "num_list=list(map(int, input().split()))\n",
        "m = int(input())\n",
        "\n",
        "for _ in range(m):\n",
        "    a, b = map(int, input().split())\n",
        "    temp=num_list[a-1:b]\n",
        "    print(check_palindrome(temp))"
      ],
      "execution_count": null,
      "outputs": []
    },
    {
      "cell_type": "markdown",
      "metadata": {
        "id": "ZiIrzfUulWwn"
      },
      "source": [
        "# 1931번 문제"
      ]
    },
    {
      "cell_type": "code",
      "metadata": {
        "id": "BSq999HjPjF6"
      },
      "source": [
        "import sys \n",
        "N = int(input()) \n",
        "time = [[0]*2 for _ in range(N)] \n",
        "for i in range(N): \n",
        "    s, e = map(int, input().split()) \n",
        "    time[i][0] = s\n",
        "    time[i][1] = e \n",
        "\n",
        "time.sort(key = lambda x: (x[1], x[0])) \n",
        "print(time)\n",
        "cnt = 1 \n",
        "end_time = time[0][1] \n",
        "for i in range(1, N): \n",
        "    if time[i][0] >= end_time: \n",
        "        cnt += 1 \n",
        "        end_time = time[i][1] \n",
        "        \n",
        "print(time)\n",
        "print(cnt)\n",
        "\n"
      ],
      "execution_count": null,
      "outputs": []
    },
    {
      "cell_type": "markdown",
      "metadata": {
        "id": "VNyvZROTR9e5"
      },
      "source": [
        "# 1744번 문제"
      ]
    },
    {
      "cell_type": "code",
      "metadata": {
        "id": "S7BAE1nKR7Yi"
      },
      "source": [
        "n = int(input())\n",
        "positive, negative = [], []\n",
        "zero = 0\n",
        "for _ in range(n):\n",
        "    num = int(input())\n",
        "    if num<0:\n",
        "        negative.append(num)\n",
        "    elif num ==0:\n",
        "        zero+=1\n",
        "    else: positive.append(num)\n",
        "\n",
        "result=0\n",
        "sorted(positive)\n",
        "sorted(negative)\n",
        "\n",
        "for i in range(0, len(negative)-1, 2):\n",
        "    result+=negative[i]*negative[i+1]\n",
        "\n",
        "for i in range(len(positive)-1,0,-2):\n",
        "    result+=positive[i]*positive[i-1]\n",
        "\n",
        "if len(positive)%2 == 1:\n",
        "    result+=positive[-1]\n",
        "\n",
        "if len(negative)%2 == 1:\n",
        "    if zero != 0:\n",
        "        result+=0*negative[-1]\n",
        "    else:\n",
        "        result+=negative[-1]\n",
        "\n",
        "print(result)\n",
        "\n"
      ],
      "execution_count": null,
      "outputs": []
    },
    {
      "cell_type": "code",
      "metadata": {
        "id": "qBSdGwTCSPqi"
      },
      "source": [
        "import sys\n",
        " \n",
        "n = int(sys.stdin.readline())\n",
        "negative, positive = [], []\n",
        "zero = 0\n",
        " \n",
        "for i in range(n):\n",
        "    m = int(sys.stdin.readline())\n",
        "    if m < 0:\n",
        "        negative.append(m)\n",
        "    elif m == 0:\n",
        "        zero += 1\n",
        "    else: # m > 0\n",
        "        positive.append(m)\n",
        " \n",
        "nl, pl = len(negative), len(positive)\n",
        "negative.sort()\n",
        "positive.sort(reverse=True)\n",
        "res = []\n",
        "# negative\n",
        "for i in range(0, nl-1, 2):\n",
        "    res.append(negative[i]*negative[i+1])\n",
        "if nl % 2 == 1 and zero == 0:\n",
        "    res.append(negative[nl-1])\n",
        "# positive\n",
        "for i in range(0, pl-1, 2):\n",
        "    if positive[i] > 1 and positive[i+1] > 1:\n",
        "        res.append(positive[i]*positive[i+1])\n",
        "    else:\n",
        "        res.extend([positive[i], positive[i+1]])\n",
        "if pl % 2 == 1:\n",
        "    res.append(positive[pl-1])\n",
        " \n",
        "print(sum(res))\n"
      ],
      "execution_count": null,
      "outputs": []
    },
    {
      "cell_type": "code",
      "metadata": {
        "id": "EU_W2TzpkT3A"
      },
      "source": [
        ""
      ],
      "execution_count": null,
      "outputs": []
    },
    {
      "cell_type": "code",
      "metadata": {
        "id": "bcZExG1skUAn"
      },
      "source": [
        "# 1149번 문제\n",
        "n = int(input())\n",
        "p = []\n",
        "for i in range(n):\n",
        "    p.append(list(map(int, input().split())))\n",
        "for i in range(1, len(p)):\n",
        "    p[i][0] = min(p[i - 1][1], p[i - 1][2]) + p[i][0]\n",
        "    p[i][1] = min(p[i - 1][0], p[i - 1][2]) + p[i][1]\n",
        "    p[i][2] = min(p[i - 1][0], p[i - 1][1]) + p[i][2]\n",
        "print(min(p[n - 1][0], p[n - 1][1], p[n - 1][2]))"
      ],
      "execution_count": null,
      "outputs": []
    },
    {
      "cell_type": "code",
      "metadata": {
        "id": "baHRkqtwk50Z"
      },
      "source": [
        "# 2579번 문제\n",
        "n = int(input())\n",
        "s = [0 for i in range(301)]\n",
        "dp = [0 for i in range(301)]\n",
        "for i in range(n):\n",
        "    s[i] = int(input())\n",
        "dp[0] = s[0]\n",
        "dp[1] = s[0] + s[1]\n",
        "dp[2] = max(s[1] + s[2], s[0] + s[2])\n",
        "for i in range(3, n):\n",
        "    dp[i] = max(dp[i - 3] + s[i - 1] + s[i], dp[i - 2] + s[i])\n",
        "print(dp[n - 1])\n"
      ],
      "execution_count": null,
      "outputs": []
    },
    {
      "cell_type": "code",
      "metadata": {
        "id": "yBE-TdElnZOC"
      },
      "source": [
        "# 2193번 문제\n",
        "n = int(input())\n",
        "s=[0,1,1]\n",
        "for i in range(3,91):\n",
        "    s.append(s[i-2]+s[i-1])\n",
        "print(s[n])"
      ],
      "execution_count": null,
      "outputs": []
    },
    {
      "cell_type": "code",
      "metadata": {
        "id": "Pp6q9CZmnpQh"
      },
      "source": [
        "# 2156번 문제\n",
        "n = int(input())\n",
        "w = [0]\n",
        "for i in range(n):\n",
        "    w.append(int(input()))\n",
        "dp = [0]\n",
        "dp.append(w[1])\n",
        "if n > 1:\n",
        "    dp.append(w[1] + w[2])\n",
        "for i in range(3, n + 1):\n",
        "    dp.append(max(dp[i - 1], dp[i - 3] + w[i - 1] + w[i], dp[i - 2] + w[i]))\n",
        "print(dp[n])"
      ],
      "execution_count": null,
      "outputs": []
    },
    {
      "cell_type": "code",
      "metadata": {
        "id": "lFJPx_cvo0oB"
      },
      "source": [
        "# 11053번 문제\n",
        "n=int(input())\n",
        "sequences=list(map(int, input().split()))\n",
        "\n",
        "result=[]\n",
        "for i in range(len(sequences)-1):\n",
        "    count=1\n",
        "    stand=sequences[i]\n",
        "    for j in range(i+1, len(sequences)):\n",
        "        if stand <sequences[j]:\n",
        "            count+=1\n",
        "            stand=sequences[j]\n",
        "    result.append(count)\n",
        "\n",
        "print(max(result))"
      ],
      "execution_count": null,
      "outputs": []
    },
    {
      "cell_type": "code",
      "metadata": {
        "id": "crBL9aUW6pZ5"
      },
      "source": [
        "n = int(input())\n",
        "a = list(map(int, input().split()))\n",
        "dp = [0 for i in range(n)]\n",
        "for i in range(n):\n",
        "    for j in range(i):\n",
        "        if a[i] > a[j] and dp[i] < dp[j]:\n",
        "            dp[i] = dp[j]\n",
        "    dp[i] += 1\n",
        "print(max(dp))"
      ],
      "execution_count": null,
      "outputs": []
    },
    {
      "cell_type": "code",
      "metadata": {
        "id": "jEe-U4jLNnwr"
      },
      "source": [
        "# 10942번 문제\n",
        "import sys\n",
        "input=sys.stdin.readline\n",
        "n=int(input())\n",
        "series=list(map(int, input().split()))\n",
        "m = int(input())\n",
        "for _ in range(m):\n",
        "    a, b = map(int, input().split())\n",
        "    seq=series[a-1:b]\n",
        "    if seq == seq[::-1]:\n",
        "        print(1)\n",
        "    else: print(0)\n"
      ],
      "execution_count": null,
      "outputs": []
    },
    {
      "cell_type": "code",
      "metadata": {
        "id": "Nyjo4VTYWQKo"
      },
      "source": [
        "# 9625번 문제\n",
        "k = int(input())\n",
        "a=1\n",
        "b=0\n",
        "for i in range(k):\n",
        "    temp_a=a\n",
        "    temp_b=b\n",
        "    a=0\n",
        "    b+=temp_a\n",
        "    a+=temp_b\n",
        "\n",
        "print(a,b)"
      ],
      "execution_count": null,
      "outputs": []
    },
    {
      "cell_type": "code",
      "metadata": {
        "id": "gzudDjTgGIGg"
      },
      "source": [
        "def f(x,y):\n",
        "    return x+y\n",
        "a=[1,2,3]\n",
        "b=[-4,5,6]\n",
        "# 위에거 대신\n",
        "c=list(map(lambda x,y:f(x,y),a,b))\n",
        "print(c)"
      ],
      "execution_count": null,
      "outputs": []
    },
    {
      "cell_type": "markdown",
      "metadata": {
        "id": "vSSiGqKux_pU"
      },
      "source": [
        "# 9465번 문제"
      ]
    },
    {
      "cell_type": "code",
      "metadata": {
        "id": "D7SiZawWyB7F"
      },
      "source": [
        "t = int(input())\n",
        "for i in range(t):\n",
        "  s = []\n",
        "  n = int(input())\n",
        "  for k in range(2):\n",
        "    s.append(list(map(int, input().split())))\n",
        "  s[0][1] += s[1][0]\n",
        "  s[1][1] += s[0][0]\n",
        "  for j in range(2, n):\n",
        "    s[0][j] += max(s[1][j - 1], s[1][j - 2])\n",
        "    s[1][j] += max(s[0][j - 1], s[0][j - 2])\n",
        "  print(max(s[0][n - 1], s[1][n - 1]))"
      ],
      "execution_count": null,
      "outputs": []
    },
    {
      "cell_type": "markdown",
      "metadata": {
        "id": "WB0jD5G4M7Y2"
      },
      "source": [
        "# 14501번 문제"
      ]
    },
    {
      "cell_type": "code",
      "metadata": {
        "id": "FyOxJ5wdM-FY"
      },
      "source": [
        "n = int(input())\n",
        "t=[]\n",
        "p=[]\n",
        "dp=[]\n",
        "\n",
        "for i in range(n):\n",
        "    a,b = map(int, input().split())\n",
        "    t.append(a)\n",
        "    p.append(b)\n",
        "    dp.append(b)\n",
        "dp.append(0)\n",
        "\n",
        "for i in range(n-1,-1,-1):\n",
        "    if t[i]+i > n:\n",
        "        dp[i]=dp[i+1]\n",
        "    else:\n",
        "        dp[i] = max(dp[i+1], p[i]+dp[i+t[i]])\n",
        "\n",
        "print(dp[0])"
      ],
      "execution_count": null,
      "outputs": []
    },
    {
      "cell_type": "markdown",
      "metadata": {
        "id": "2wWRXvebnNjM"
      },
      "source": [
        "# 1915번 문제"
      ]
    },
    {
      "cell_type": "code",
      "metadata": {
        "id": "SU2gktg-m7XN"
      },
      "source": [
        "n, m = map(int, input().split())\n",
        "s = [[0 for i in range(m + 1)]]\n",
        "for i in range(n): s.append([0] + list(input().strip()))\n",
        "dp = [[0] * (m + 1) for i in range(n + 1)]\n",
        "result = 0\n",
        "for i in range(n + 1):\n",
        "    for j in range(m + 1):\n",
        "        if s[i][j] == \"1\": dp[i][j] = min(dp[i - 1][j - 1], dp[i - 1][j], dp[i][j - 1]) + 1\n",
        "for i in range(n + 1):\n",
        "    for j in range(m + 1):\n",
        "        result = max(result, dp[i][j])\n",
        "print(result ** 2)"
      ],
      "execution_count": null,
      "outputs": []
    },
    {
      "cell_type": "markdown",
      "metadata": {
        "id": "NwByOmMlqsUo"
      },
      "source": [
        "# 9252번 문제"
      ]
    },
    {
      "cell_type": "code",
      "metadata": {
        "id": "soM-sSzvquWz"
      },
      "source": [
        "a = [0] + list(input().strip())\n",
        "b = [0] + list(input().strip())\n",
        "len_a = len(a)\n",
        "len_b = len(b)\n",
        "dp = [[\"\"] * len_b for i in range(len_a)]\n",
        "for i in range(1, len_a):\n",
        "    for j in range(1, len_b):\n",
        "        if a[i] == b[j]:\n",
        "            dp[i][j] = dp[i - 1][j - 1] + a[i]\n",
        "        else:\n",
        "            if len(dp[i - 1][j]) > len(dp[i][j - 1]):\n",
        "                dp[i][j] = dp[i - 1][j]\n",
        "            else:\n",
        "                dp[i][j] = dp[i][j - 1]\n",
        "print(len(dp[len_a - 1][len_b - 1]))\n",
        "print(dp[len_a - 1][len_b - 1])"
      ],
      "execution_count": null,
      "outputs": []
    },
    {
      "cell_type": "markdown",
      "metadata": {
        "id": "ngnuqIoBVSsv"
      },
      "source": [
        "# 2751번 문제"
      ]
    },
    {
      "cell_type": "code",
      "metadata": {
        "id": "o32DLYUbVX1y"
      },
      "source": [
        "n = int(input())\n",
        "\n",
        "a = []\n",
        "for _ in range(n):\n",
        "    a.append(int(input()))\n",
        "\n",
        "for i in sorted(a):\n",
        "    print(i)"
      ],
      "execution_count": null,
      "outputs": []
    },
    {
      "cell_type": "markdown",
      "metadata": {
        "id": "cfFYEcm8bU2P"
      },
      "source": [
        "# 1015번 문제"
      ]
    },
    {
      "cell_type": "code",
      "metadata": {
        "id": "Lt8Vl5dcbYk6"
      },
      "source": [
        "n = int(input())\n",
        "\n",
        "a = list(map(int, input().split()))\n",
        "b = sorted(a)\n",
        "\n",
        "for i in a:\n",
        "    c=b.index(i)\n",
        "    b[c]+= 10**4\n",
        "    print(c, end = ' ')"
      ],
      "execution_count": null,
      "outputs": []
    },
    {
      "cell_type": "markdown",
      "metadata": {
        "id": "f7lXudu0qHr1"
      },
      "source": [
        "# 2887번 문제"
      ]
    },
    {
      "cell_type": "code",
      "metadata": {
        "id": "11roAP-JqKY-"
      },
      "source": [
        "def find(arr):\n",
        "    n = len(arr)\n",
        "    val = [0]*n\n",
        "    res = [0]*n\n",
        "    means = sum(arr)/n\n",
        "    for i in range(n):\n",
        "        val[i] = abs(arr[i]-means)\n",
        "    print(val)\n",
        "    temp = sorted(val)\n",
        "    for i in temp:\n",
        "        c=temp.index(i)\n",
        "        temp[c]+= 10**10\n",
        "        res[c] = c\n",
        "    return val, res\n",
        "\n",
        "\n",
        "n = int(input())\n",
        "\n",
        "x = []\n",
        "y = []\n",
        "z = []\n",
        "\n",
        "for _ in range(n):\n",
        "    a, b, c = map(int, input().split())\n",
        "    x.append(a)\n",
        "    y.append(b)\n",
        "    z.append(c)\n",
        "\n",
        "x_val, x_res = find(x)\n",
        "y_val, y_res = find(y)\n",
        "z_val, z_res = find(z)\n",
        "\n"
      ],
      "execution_count": null,
      "outputs": []
    },
    {
      "cell_type": "code",
      "metadata": {
        "id": "BEdHYVycwQDm"
      },
      "source": [
        "import sys\n",
        "\n",
        "\n",
        "def find_parent(x, parent):\n",
        "    if x != parent[x]:\n",
        "        parent[x] = find_parent(parent[x], parent)\n",
        "    return parent[x]\n",
        "\n",
        "\n",
        "def union_parent(a, b, parent):\n",
        "    a = find_parent(a, parent)\n",
        "    b = find_parent(b, parent)\n",
        "    if a < b:\n",
        "        parent[b] = a\n",
        "    else:\n",
        "        parent[a] = b\n",
        "\n",
        "\n",
        "if __name__ == \"__main__\":\n",
        "    # input\n",
        "    n = int(input())\n",
        "    c = []\n",
        "    for i in range(n):\n",
        "        x, y, z = map(int, input().split())\n",
        "        c.append((x, y, z, i))  # 좌표값, 인덱스\n",
        "\n",
        "    # 각 좌표별로 정렬한 후 거리를 계산해서 edge를 만든다.\n",
        "    edges = []\n",
        "    for i in range(3):\n",
        "        c.sort(key=lambda x:x[i])\n",
        "        for j in range(1, n):\n",
        "            edges.append((abs(c[j - 1][i] - c[j][i]), c[j - 1][3], c[j][3]))\n",
        "\n",
        "    parent = [i for i in range(n)]\n",
        "    total = 0\n",
        "    edges.sort()\n",
        "\n",
        "    for i in range(len(edges)):\n",
        "        if find_parent(edges[i][1], parent) != find_parent(edges[i][2], parent):\n",
        "            union_parent(edges[i][1], edges[i][2], parent)\n",
        "            total += edges[i][0]\n",
        "    print(total)"
      ],
      "execution_count": null,
      "outputs": []
    },
    {
      "cell_type": "markdown",
      "metadata": {
        "id": "3dd2juiQ1cRb"
      },
      "source": [
        "# 1517 번 문제"
      ]
    },
    {
      "cell_type": "code",
      "metadata": {
        "id": "p2McF2dv1fty"
      },
      "source": [
        "def bubble_sort(arr):\n",
        "    count = 0\n",
        "    end = len(arr) - 1\n",
        "    while end > 0:\n",
        "        last_swap = 0\n",
        "        for i in range(end):\n",
        "            if arr[i] > arr[i + 1]:\n",
        "                count += 1\n",
        "                arr[i], arr[i + 1] = arr[i + 1], arr[i]\n",
        "                last_swap = i\n",
        "        end = last_swap\n",
        "    return count\n",
        "\n",
        "n = int(input())\n",
        "bubble_sort(list(map(int, input().split())))"
      ],
      "execution_count": null,
      "outputs": []
    },
    {
      "cell_type": "markdown",
      "metadata": {
        "id": "pozH_Pal9e0X"
      },
      "source": [
        "# 2776번 문제"
      ]
    },
    {
      "cell_type": "code",
      "metadata": {
        "id": "R04GCnog9g-5"
      },
      "source": [
        "t = int(input())\n",
        "\n",
        "for _ in range(t):\n",
        "    n = int(input())\n",
        "    one = set(map(int, input().split()))\n",
        "    m = int(input())\n",
        "    two = list(map(int, input().split()))\n",
        "\n",
        "    for i in two:\n",
        "        if i in one:print(1)\n",
        "        else: print(0)"
      ],
      "execution_count": null,
      "outputs": []
    },
    {
      "cell_type": "code",
      "metadata": {
        "id": "q61A5HgQJ-E7"
      },
      "source": [
        "N = int(input())\n",
        "lines = []\n",
        " \n",
        "for _ in range(N):\n",
        "    s, n = map(int, input().split())\n",
        "    lines.append((s, n))\n",
        " \n",
        "lines.sort()\n",
        "ans = 0\n",
        "bS = bE = 0\n",
        "\n",
        "for s, e in lines:\n",
        "    if not ans:\n",
        "        ans = abs(e - s)\n",
        "        bS = s\n",
        "        bE = e\n",
        "        continue\n",
        " \n",
        "    if bS <= s and bE >= e:\n",
        "        continue\n",
        "    \n",
        "    ans += abs(e - s)\n",
        " \n",
        "    if bE > s:\n",
        "        ans -= abs(bE - s)\n",
        "    \n",
        "    bS = s\n",
        "    bE = e\n",
        " \n",
        "print(ans)\n"
      ],
      "execution_count": null,
      "outputs": []
    },
    {
      "cell_type": "markdown",
      "metadata": {
        "id": "hYkpe5vJPnFT"
      },
      "source": [
        "# 8983번 문제"
      ]
    },
    {
      "cell_type": "code",
      "metadata": {
        "id": "J9-FPVMWPpNK"
      },
      "source": [
        "m, n, l = map(int, input().split())\n",
        "shooters = list(map(int, input().split()))\n",
        "animals = []\n",
        "for _ in range(n):\n",
        "    x, y = map(int, input().split())\n",
        "    if y <= l:\n",
        "        animals.append((x, y))\n",
        "shooters.sort()\n",
        "animals.sort(key=lambda axis: axis[0])\n",
        "ans = 0\n",
        "idx = 0\n",
        "for i in range(len(animals)):\n",
        "    left, right = idx, len(shooters)-1\n",
        "    mid = 0\n",
        "    while left <= right:\n",
        "        mid = (left+right)//2\n",
        "        if shooters[mid] <= animals[i][0]:\n",
        "            if len(shooters) - 1 == mid or shooters[mid+1] > animals[i][0]:\n",
        "                break\n",
        "            left = mid + 1\n",
        "        else:\n",
        "            right = mid - 1\n",
        "    idx = mid\n",
        "    if abs(animals[i][0] - shooters[mid]) + animals[i][1] <= l:\n",
        "        ans += 1\n",
        "    elif len(shooters) > mid+1 and abs(animals[i][0] - shooters[mid+1]) + animals[i][1] <= l:\n",
        "        ans += 1\n",
        "print(ans)"
      ],
      "execution_count": null,
      "outputs": []
    },
    {
      "cell_type": "markdown",
      "metadata": {
        "id": "XxyWUIWESqYq"
      },
      "source": [
        "# 5800번 문제"
      ]
    },
    {
      "cell_type": "code",
      "metadata": {
        "id": "27ilXdiPSsiy"
      },
      "source": [
        "t = int(input())\n",
        "\n",
        "for i in range(t):\n",
        "    score = list(map(int, input().split()))\n",
        "    del score[0]\n",
        "    score.sort()\n",
        "    maxx = max(score)\n",
        "    minn = min(score)\n",
        "    diff = []\n",
        "    for i in range(len(score)-1):\n",
        "        diff.append(score[i]-score[i-1])\n",
        "\n",
        "    print(\"Class {0}\".format(i+1))\n",
        "    print('Max', str(maxx)+',' ,'Min', str(minn)+',', 'Largest gap', max(diff))\n"
      ],
      "execution_count": null,
      "outputs": []
    },
    {
      "cell_type": "markdown",
      "metadata": {
        "id": "tyx6cxlJrOQS"
      },
      "source": [
        "# 1977번 문제"
      ]
    },
    {
      "cell_type": "code",
      "metadata": {
        "id": "in6AFQEcrQZf"
      },
      "source": [
        "product = [False]*10001\n",
        "\n",
        "for i in range(1, 101):\n",
        "    product[i**2] = True\n",
        "\n",
        "m = int(input())\n",
        "n = int(input())\n",
        "\n",
        "result = 0\n",
        "mini = 1000003\n",
        "for i in range(m, n+1):\n",
        "    if product[i]:\n",
        "        result += i\n",
        "        if mini > i:\n",
        "            mini = i\n",
        "if result == 0: print(-1)\n",
        "else:\n",
        "    print(result)\n",
        "    print(mini)"
      ],
      "execution_count": null,
      "outputs": []
    }
  ]
}