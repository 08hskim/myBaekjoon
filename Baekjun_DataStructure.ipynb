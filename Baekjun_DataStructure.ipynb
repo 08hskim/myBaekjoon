{
  "nbformat": 4,
  "nbformat_minor": 0,
  "metadata": {
    "colab": {
      "name": "Baekjun_DataStructure.ipynb",
      "private_outputs": true,
      "provenance": [],
      "collapsed_sections": [],
      "authorship_tag": "ABX9TyMOStzlpUejmgwT5lqid5vg",
      "include_colab_link": true
    },
    "kernelspec": {
      "name": "python3",
      "display_name": "Python 3"
    }
  },
  "cells": [
    {
      "cell_type": "markdown",
      "metadata": {
        "id": "view-in-github",
        "colab_type": "text"
      },
      "source": [
        "<a href=\"https://colab.research.google.com/github/08hskim/myBaekjoon/blob/master/Baekjun_DataStructure.ipynb\" target=\"_parent\"><img src=\"https://colab.research.google.com/assets/colab-badge.svg\" alt=\"Open In Colab\"/></a>"
      ]
    },
    {
      "cell_type": "markdown",
      "metadata": {
        "id": "jJKHz_GA0Vop"
      },
      "source": [
        "# 10828번 문제"
      ]
    },
    {
      "cell_type": "code",
      "metadata": {
        "id": "xCYSX8Pl0REP"
      },
      "source": [
        "class stack:\n",
        "    def __init__(self):\n",
        "        self.length = 0\n",
        "        self.lists=[]\n",
        "    \n",
        "    def push(self, x):\n",
        "        self.lists.append(x)\n",
        "        self.length+=1\n",
        "    \n",
        "    def pop(self):\n",
        "        if self.length == 0:\n",
        "            return -1\n",
        "        else:\n",
        "            temp = self.lists[:self.length-1]\n",
        "            self.length-=1\n",
        "            return temp\n",
        "\n",
        "    def size(self):\n",
        "        return self.length\n",
        "    \n",
        "    def empty(self):\n",
        "        if self.length == 0:\n",
        "            return 0\n",
        "        else:\n",
        "            return 1\n",
        "\n",
        "    def top(self):\n",
        "        return self.lists[-1] if self.size() != 0 else -1\n",
        "\n",
        "\n",
        "num = int(input())\n",
        "stack = stack()\n",
        "while(num > 0):\n",
        "    num -= 1\n",
        "    input_split = input().split()\n",
        " \n",
        "    op = input_split[0]\n",
        " \n",
        "    if op == \"push\":\n",
        "        stack.push(input_split[1])\n",
        "    elif op == \"pop\":\n",
        "        print(stack.pop())\n",
        "    elif op == \"size\":\n",
        "        print(stack.size())\n",
        "    elif op == \"empty\":\n",
        "        print(stack.empty())\n",
        "    elif op == \"top\":\n",
        "        print(stack.top())"
      ],
      "execution_count": null,
      "outputs": []
    },
    {
      "cell_type": "code",
      "metadata": {
        "id": "50iE9Cil3c8k"
      },
      "source": [
        "import sys\n",
        "N = int(sys.stdin.readline())\n",
        "\n",
        "stack = list()\n",
        "\n",
        "for i in range(N):\n",
        "    cmd = sys.stdin.readline().split()\n",
        "\n",
        "    if cmd[0] == \"push\":\n",
        "        stack.append(int(cmd[1]))\n",
        "\n",
        "    elif cmd[0] == \"pop\":\n",
        "        if not stack:\n",
        "            print('-1')\n",
        "        else:\n",
        "            print(stack[-1])\n",
        "            stack.pop()\n",
        "\n",
        "    elif cmd[0] == \"size\":\n",
        "        print(len(stack))\n",
        "\n",
        "    elif cmd[0] == \"empty\":\n",
        "        if not stack:\n",
        "            print(1)\n",
        "        else:\n",
        "            print(0)\n",
        "\n",
        "    elif cmd[0] == \"top\":\n",
        "        if not stack:\n",
        "            print(-1)\n",
        "        else:\n",
        "            print(stack[-1])"
      ],
      "execution_count": null,
      "outputs": []
    },
    {
      "cell_type": "markdown",
      "metadata": {
        "id": "ymJw61Fe4cpa"
      },
      "source": [
        "# 9012번 문제"
      ]
    },
    {
      "cell_type": "code",
      "metadata": {
        "id": "lVumsZ6y3e2v"
      },
      "source": [
        "n = int(input())\n",
        "\n",
        "for _ in range(n):\n",
        "    vps = 0\n",
        "    ps = list(input())\n",
        "    for i in ps:\n",
        "        if i=='(':vps+=1\n",
        "        else: vps-=1\n",
        "        \n",
        "        if vps<0:\n",
        "            print('NO')\n",
        "            break     \n",
        "    if vps<0:pass\n",
        "    elif vps == 0:print('YES')\n",
        "    else: print('NO')"
      ],
      "execution_count": null,
      "outputs": []
    },
    {
      "cell_type": "markdown",
      "metadata": {
        "id": "8JcNWMi-7MoD"
      },
      "source": [
        "# 10845번 문제"
      ]
    },
    {
      "cell_type": "code",
      "metadata": {
        "id": "PRyI1V4c7PLR"
      },
      "source": [
        "class queue:\n",
        "    def __init__(self):\n",
        "        self.len=0\n",
        "        self.lists=[]\n",
        "\n",
        "    def push(self,x):\n",
        "        self.len+=1\n",
        "        self.lists.append(x)\n",
        "\n",
        "    def pop(self):\n",
        "        return self.queue.pop(0) if len(self.queue) != 0 else -1\n",
        "\n",
        "    def size(self):\n",
        "        return self.len\n",
        "\n",
        "    def empty(self):\n",
        "        return 1 if self.size() == 0 else 0\n",
        "\n",
        "    \n",
        "    def front(self):\n",
        "        if self.len == 0: return -1\n",
        "        else: return self.lists[-1]\n",
        "    def back(self):\n",
        "        if self.len == 0:return -1\n",
        "        else: return self.lists[0]\n",
        "\n",
        "#몇개의 숫자를 받을건지\n",
        "num = int(input())\n",
        "queue = queue()\n",
        "for _ in range(num):\n",
        "    tokens = input().split()\n",
        " \n",
        "    if tokens[0] == \"push\":\n",
        "        queue.push(tokens[1])\n",
        "    elif tokens[0] == \"pop\":\n",
        "        print(queue.pop())\n",
        "    elif tokens[0] == \"size\":\n",
        "        print(queue.size())\n",
        "    elif tokens[0] == \"empty\":\n",
        "        print(queue.empty())\n",
        "    elif tokens[0] == \"front\":\n",
        "        print(queue.front())\n",
        "    elif tokens[0] == \"back\":\n",
        "        print(queue.back())\n",
        "    else:\n",
        "        print(\"it's not acceptable operator\")"
      ],
      "execution_count": null,
      "outputs": []
    },
    {
      "cell_type": "code",
      "metadata": {
        "id": "W20RPvLw-VJP"
      },
      "source": [
        "from sys import stdin\n",
        "\n",
        "N = int(stdin.readline())\n",
        "Que = []\n",
        "for i in range(N) :\n",
        "    A = stdin.readline().split()\n",
        "\n",
        "    if A[0] == 'push' : Que.append(A[1])\n",
        "\n",
        "    elif A[0] == 'pop' : \n",
        "        if Que : print(Que.pop(0))\n",
        "        else : print(-1)\n",
        "\n",
        "    elif A[0] == 'size' : print(len(Que))\n",
        "\n",
        "    elif A[0] == 'empty' :\n",
        "        if len(Que) == 0 : print(1)\n",
        "        else : print(0)\n",
        "            \n",
        "    elif A[0] == 'front' :\n",
        "        if len(Que) == 0 : print(-1)\n",
        "        else : print(Que[0])\n",
        "    \n",
        "    elif A[0] == 'back' :\n",
        "        if len(Que) == 0 : print(-1)\n",
        "        else : print(Que[-1])"
      ],
      "execution_count": null,
      "outputs": []
    },
    {
      "cell_type": "markdown",
      "metadata": {
        "id": "Rb5FVFSGMMnS"
      },
      "source": [
        "# 1158번 문제"
      ]
    },
    {
      "cell_type": "code",
      "metadata": {
        "id": "yqLnw2xbMPCC"
      },
      "source": [
        "n, k = map(int, input().split())\n",
        "\n",
        "nums=[i for i in range(1,n+1)]\n",
        "num=0\n",
        "new_num=[]\n",
        "for t in range(n):\n",
        "    num += k-1  \n",
        "    if num >= len(nums):\n",
        "        num = num%len(nums)\n",
        "    new_num.append(str(nums.pop(num)))\n",
        "\n",
        "print(\"<\",\", \".join(new_num)[:],\">\", sep='')"
      ],
      "execution_count": null,
      "outputs": []
    },
    {
      "cell_type": "markdown",
      "metadata": {
        "id": "inu1g2lYgX3U"
      },
      "source": [
        "# 1874번 문제"
      ]
    },
    {
      "cell_type": "code",
      "metadata": {
        "id": "vSFWi3pFgaKQ"
      },
      "source": [
        "n = int(input())\n",
        "s=[]# 수열 넣는 리스트\n",
        "op=[]# 수열 만드는데 +, - 넣는 리스트\n",
        "count=1\n",
        "temp = True\n",
        "for _ in range(n):\n",
        "    a=int(input())\n",
        "    while count<=a:\n",
        "        s.append(count)\n",
        "        op.append('+')\n",
        "        count+=1\n",
        "    if s[-1]==a:\n",
        "        s.pop()\n",
        "        op.append('-')\n",
        "    else: temp =False\n",
        "\n",
        "if temp == False:\n",
        "    print('No')\n",
        "else:\n",
        "    for i in op:\n",
        "        print(i)"
      ],
      "execution_count": null,
      "outputs": []
    },
    {
      "cell_type": "markdown",
      "metadata": {
        "id": "M29V59WVwepL"
      },
      "source": [
        "# 1966번 문제"
      ]
    },
    {
      "cell_type": "code",
      "metadata": {
        "id": "F0HpkVlewglf"
      },
      "source": [
        "t = int(input())\n",
        "for i in range(t):\n",
        "    n, m = map(int, input().split())\n",
        "    s = list(map(int, input().split()))\n",
        "    s_ = [0 for i in range(n)]\n",
        "    s_[m] = 1\n",
        "    cnt = 0\n",
        "    while True:\n",
        "        if s[0] == max(s):\n",
        "            cnt += 1\n",
        "            if s_[0] == 1:\n",
        "                print(cnt)\n",
        "                break\n",
        "            else:\n",
        "                del s[0]\n",
        "                del s_[0]\n",
        "        else:\n",
        "            s.append(s[0])\n",
        "            del s[0]\n",
        "            s_.append(s_[0])\n",
        "            del s_[0]\n"
      ],
      "execution_count": null,
      "outputs": []
    },
    {
      "cell_type": "markdown",
      "metadata": {
        "id": "icznY7wV1Zcw"
      },
      "source": [
        "# 10773번 문제"
      ]
    },
    {
      "cell_type": "code",
      "metadata": {
        "id": "dDwWgS991cJK"
      },
      "source": [
        "n = int(input())\n",
        "z = []\n",
        "for i in range(n):\n",
        "    num = int(input())\n",
        "    if num == 0:\n",
        "        z.pop()\n",
        "    else:\n",
        "        z.append(num)\n",
        "print(sum(z))"
      ],
      "execution_count": null,
      "outputs": []
    },
    {
      "cell_type": "markdown",
      "metadata": {
        "id": "THcIOx-C4WdF"
      },
      "source": [
        "# 10866번 문제"
      ]
    },
    {
      "cell_type": "code",
      "metadata": {
        "id": "PuKUizhn4Yzz"
      },
      "source": [
        "class Deque:\n",
        "    def __init__(self):\n",
        "        self.len=0\n",
        "        self.array=[]\n",
        "    \n",
        "    def push_front(self, x):\n",
        "        self.len+=1\n",
        "        self.array.append(x)\n",
        "    \n",
        "    def push_back(self,x):\n",
        "        self.len+=1\n",
        "        self.array.insert(0,x)\n",
        "    \n",
        "    def pop_front(self):\n",
        "        if self.len==0: \n",
        "            print(-1)\n",
        "            return -1\n",
        "        self.len-=1\n",
        "        temp=self.array[-1]\n",
        "        print(temp)\n",
        "        return self.array.pop(-1)\n",
        "\n",
        "    def pop_back(self):\n",
        "        if self.len == 0: \n",
        "            print(-1)\n",
        "            return -1\n",
        "        self.len-=1\n",
        "        temp = self.array[0]\n",
        "        print(temp)\n",
        "        return self.array.pop(0)\n",
        "    \n",
        "    def size(self):\n",
        "        print(self.len)\n",
        "\n",
        "    def empty(self):\n",
        "        if self.len==0: print(1)\n",
        "        else: print(0)\n",
        "\n",
        "    def front(self):\n",
        "        if self.len==0: print(-1)\n",
        "        else: print(self.array[-1])\n",
        "\n",
        "    def back(self):\n",
        "        if self.len == 0: print(-1)\n",
        "        else: print(self.array[0])\n",
        "\n",
        "deque = Deque()\n",
        "n=int(input())\n",
        "for _ in range(n):\n",
        "    op = list(input().split())\n",
        "    if op[0]=='push_front':\n",
        "        deque.push_front(int(op[1]))\n",
        "    elif op[0] == 'push_back':\n",
        "        deque.push_back(int(op[1]))\n",
        "    elif op[0]=='pop_front':\n",
        "        deque.pop_front()\n",
        "    elif op[0]=='pop_back':\n",
        "        deque.pop_back()\n",
        "    elif op[0] == 'size':\n",
        "        deque.size()\n",
        "    elif op[0] == 'empty':\n",
        "        deque.empty()\n",
        "    elif op[0]=='front':\n",
        "        deque.front()\n",
        "    elif op[0]=='back':\n",
        "        deque.back()\n",
        "    else: break"
      ],
      "execution_count": null,
      "outputs": []
    },
    {
      "cell_type": "code",
      "metadata": {
        "id": "QcfV0Apv-8pm"
      },
      "source": [
        "import sys\n",
        "\n",
        "class Deque:\n",
        "    def __init__(self):\n",
        "        self.arr = list()\n",
        "        \n",
        "    def push_front(self, x):\n",
        "        self.arr.insert(0, x)\n",
        "    \n",
        "    def push_back(self, x):\n",
        "        self.arr.append(x)\n",
        "    \n",
        "    def pop_front(self):\n",
        "        if(self.empty()):\n",
        "            return -1\n",
        "        else:\n",
        "            return self.arr.pop(0)\n",
        "        \n",
        "    def pop_back(self):\n",
        "        if(self.empty()):\n",
        "            return -1\n",
        "        else:\n",
        "            return self.arr.pop()\n",
        "        \n",
        "    def front(self):\n",
        "        if(self.empty()):\n",
        "            return -1\n",
        "        else:\n",
        "            return self.arr[0]\n",
        "        \n",
        "    def back(self):\n",
        "        if(self.empty()):\n",
        "            return -1\n",
        "        else:\n",
        "            return self.arr[-1]\n",
        "        \n",
        "    def empty(self):\n",
        "        return 1 if self.size() == 0 else 0\n",
        "    \n",
        "    def size(self):\n",
        "        return len(self.arr)\n",
        "    \n",
        "N = int(sys.stdin.readline())\n",
        "deque = Deque()\n",
        "\n",
        "for _ in range(N):\n",
        "    input_split = sys.stdin.readline().split()\n",
        "    \n",
        "    order = input_split[0]\n",
        "    \n",
        "    if(order == 'push_front'):\n",
        "        deque.push_front(int(input_split[1]))\n",
        "    elif(order == 'push_back'):\n",
        "        deque.push_back(int(input_split[1]))\n",
        "    elif(order == 'pop_front'):\n",
        "        print(deque.pop_front())\n",
        "    elif(order == 'pop_back'):\n",
        "        print(deque.pop_back())\n",
        "    elif(order == 'front'):\n",
        "        print(deque.front())\n",
        "    elif(order == 'back'):\n",
        "        print(deque.back())\n",
        "    elif(order == 'empty'):\n",
        "        print(deque.empty())\n",
        "    elif(order == 'size'):\n",
        "        print(deque.size())"
      ],
      "execution_count": null,
      "outputs": []
    },
    {
      "cell_type": "markdown",
      "metadata": {
        "id": "eTvA8NeEbzbL"
      },
      "source": [
        "# 2164번 문제"
      ]
    },
    {
      "cell_type": "code",
      "metadata": {
        "id": "b9CXmbYHAHr7"
      },
      "source": [
        "n=int(input())\n",
        "\n",
        "num = [x for x in range(1,n+1)]\n",
        "\n",
        "while len(num) != 1:\n",
        "    num.pop(0)\n",
        "    num.append(num.pop(0))\n",
        "\n",
        "print(num[0])"
      ],
      "execution_count": null,
      "outputs": []
    },
    {
      "cell_type": "code",
      "metadata": {
        "id": "o-8ZFv89djO8"
      },
      "source": [
        "from collections import deque\n",
        "\n",
        "de = deque()\n",
        "n = int(input())\n",
        "\n",
        "for i in range(1,n+1):\n",
        "    de.append(i)\n",
        "\n",
        "while len(de) != 1:\n",
        "    de.popleft()\n",
        "    de.append(de.popleft())\n",
        "\n",
        "print(de[0])"
      ],
      "execution_count": null,
      "outputs": []
    },
    {
      "cell_type": "markdown",
      "metadata": {
        "id": "Qr7Fu8RUeQL_"
      },
      "source": [
        "# 1927번 문제"
      ]
    },
    {
      "cell_type": "code",
      "metadata": {
        "id": "bma9XGLxexIs"
      },
      "source": [
        "import heapq\n",
        "\n",
        "n=int(input())\n",
        "head=[]\n",
        "\n",
        "for _ in range(n):\n",
        "    a=int(input())\n",
        "    if a != 0:\n",
        "        heapq.heappush(head,a)\n",
        "    else:\n",
        "        try:\n",
        "            print(headpq.heappop(head))\n",
        "        except:\n",
        "            print(0)"
      ],
      "execution_count": null,
      "outputs": []
    },
    {
      "cell_type": "markdown",
      "metadata": {
        "id": "8D-pAleTs3fn"
      },
      "source": [
        "# 1406번 문제"
      ]
    },
    {
      "cell_type": "code",
      "metadata": {
        "id": "Q3VC_OZms63n"
      },
      "source": [
        "string=['start']+list(input())+['end']\n",
        "point=len(string)-1\n",
        "n=int(input())\n",
        "for _ in range(n):\n",
        "    op=list(input().split())\n",
        "    if op[0]=='P':\n",
        "        string.insert(point+1,op[1])\n",
        "        point-=1\n",
        "    elif op[0]=='D':\n",
        "        if point==len(string)-1 or point==0:\n",
        "            break\n",
        "        else: point+=1\n",
        "    elif op[0]=='L':\n",
        "        if point ==0 or point==len(string)-1:\n",
        "            break\n",
        "        else: point-=1\n",
        "    elif op[0]=='B':\n",
        "        if point == 0:\n",
        "            break\n",
        "        else:\n",
        "            del string[point]\n",
        "            point+=1\n",
        "string.remove('start')\n",
        "string.remove('end')\n",
        "print(string)"
      ],
      "execution_count": null,
      "outputs": []
    },
    {
      "cell_type": "code",
      "metadata": {
        "id": "YTlm6ul210Ev"
      },
      "source": [
        "s1=list(input().split())\n",
        "s2=[]\n",
        "m=int(input())\n",
        "n=len(s1)\n",
        "\n",
        "for i in range(m):\n",
        "    op=list(input())\n",
        "    if op[0]=='P':\n",
        "        s1.append(op[2])\n",
        "    elif op[0]=='L' and s1 != []:\n",
        "        s2.append(s1.pop())\n",
        "    elif op[0]=='D' and s1 != []:\n",
        "        s1.append(s2.pop())\n",
        "    elif op[0]=='B' and s1 != []:\n",
        "        s1.pop()\n",
        "\n",
        "print(\"\".join(s1+list(reversed(s2))))"
      ],
      "execution_count": null,
      "outputs": []
    },
    {
      "cell_type": "markdown",
      "metadata": {
        "id": "EuxwB29GG4hH"
      },
      "source": [
        "# 10816번 문제"
      ]
    },
    {
      "cell_type": "code",
      "metadata": {
        "id": "LIQhrNzjG7kA"
      },
      "source": [
        "n=int(input())\n",
        "c1=list(map(int, input().split()))\n",
        "m=int(input())\n",
        "c2=list(map(int, input().split()))\n",
        "counting=[]\n",
        "for i in range(m):\n",
        "    counting.append(c1.count(c2[i]))\n",
        "\n",
        "for i in range(m):\n",
        "    print(counting[i], end=\" \")"
      ],
      "execution_count": null,
      "outputs": []
    },
    {
      "cell_type": "code",
      "metadata": {
        "id": "wMtOWhzVJJrG"
      },
      "source": [
        "from sys import stdin\n",
        "\n",
        "N = int(input())\n",
        "arr_n = list(map(int,stdin.readline().split()))\n",
        "M = int(input())\n",
        "arr_m = list(map(int,stdin.readline().split()))\n",
        "\n",
        "dic = dict()\n",
        "\n",
        "for i in arr_n:\n",
        "    try :\n",
        "        dic[i] += 1\n",
        "    except:\n",
        "        dic[i] = 1\n",
        "\n",
        "for i in arr_m:\n",
        "    try:\n",
        "        print(dic[i] , end = \" \")\n",
        "    except:\n",
        "        print(0, end=\" \")"
      ],
      "execution_count": null,
      "outputs": []
    },
    {
      "cell_type": "markdown",
      "metadata": {
        "id": "PFXvMzgfM3it"
      },
      "source": [
        "# 2357번 문제"
      ]
    },
    {
      "cell_type": "code",
      "metadata": {
        "id": "YNsx6wpvM6E9"
      },
      "source": [
        "n, m=map(int, input().split())\n",
        "nums=[0]\n",
        "for _ in range(n):\n",
        "    nums.append(int(input()))\n",
        "nums.append(0)\n",
        "for _ in range(m):\n",
        "    a,b=map(int, input().split())\n",
        "    slicing=nums[a:b+1]\n",
        "    print(min(slicing),' ',max(slicing), '\\t')\n"
      ],
      "execution_count": null,
      "outputs": []
    },
    {
      "cell_type": "markdown",
      "metadata": {
        "id": "GrvJ2r3dP2zT"
      },
      "source": [
        "# 3190번 문제"
      ]
    },
    {
      "cell_type": "code",
      "metadata": {
        "id": "ImzYmywuP4vq"
      },
      "source": [
        "n = int(input())\n",
        "k = int(input())\n",
        "\n",
        "def change_dir(dir, c):\n",
        "    if c == \"D\":\n",
        "        dir = (dir+1)%4\n",
        "    else: dir = (dir-1)%4\n",
        "    return dir\n",
        "\n",
        "\n",
        "second = []\n",
        "move = []\n",
        "dir = [[0,-1], [1,0], [0,1], [-1,0]]\n",
        "Map = [[0]*n for _ in range(n)]\n",
        "\n",
        "\n",
        "for _ in range(k):\n",
        "    a,b = map(int, input().split())\n",
        "    Map[a-1][b-1] = 1\n",
        "\n",
        "l = int(input())\n",
        "for _ in range(l):\n",
        "    a, b = input().split()\n",
        "    second.append(int(a))\n",
        "    move.append(b)\n",
        "second.append(1001)\n",
        "\n",
        "time = 1\n",
        "x, y = 0,0\n",
        "direction = 1 #현재 뱀머리 방향\n",
        "Map[x][y] = 2 # 2가 뱀 몸통이 있다는 의미\n",
        "body = [[x,y]]\n",
        "while True:\n",
        "    x, y = x+dir[direction][0], y+dir[direction][1]\n",
        "    if 0 <= y < n and 0 <= x < n and Map[y][x] != 2:\n",
        "        if not Map[x][y] == 1:\n",
        "            del body[0]\n",
        "        Map[x][y] = 2\n",
        "        body.append([x,y])\n",
        "        time += 1\n",
        "        if time == second[0]:\n",
        "            del second[0]\n",
        "            direction = change_dir(direction,move[0])\n",
        "            del move[0]\n",
        "    else:\n",
        "        print(time)\n",
        "        break\n",
        "\n"
      ],
      "execution_count": null,
      "outputs": []
    },
    {
      "cell_type": "code",
      "metadata": {
        "id": "zJ4VKNRyofoX"
      },
      "source": [
        "from collections import deque\n",
        "\n",
        "\n",
        "def change(d, c):\n",
        "    # 상(0) 우(1) 하(2) 좌(3)\n",
        "    # 동쪽 회전: 상(0) -> 우(1) -> 하(2) -> 좌(3) -> 상(0) : +1 방향\n",
        "    # 왼쪽 회전: 상(0) -> 좌(3) -> 하(2) -> 우(1) -> 상(0) : -1 방향\n",
        "    if c == \"L\":\n",
        "        d = (d - 1) % 4\n",
        "    else:\n",
        "        d = (d + 1) % 4\n",
        "    return d\n",
        "\n",
        "\n",
        "# 상 우 하 좌\n",
        "dy = [-1, 0, 1, 0]\n",
        "dx = [0, 1, 0, -1]\n",
        "\n",
        "\n",
        "def start():\n",
        "    direction = 1  # 초기 방향\n",
        "    time = 1  # 시간\n",
        "    y, x = 0, 0  # 초기 뱀 위치\n",
        "    visited = deque([[y, x]])  # 방문 위치\n",
        "    arr[y][x] = 2\n",
        "    while True:\n",
        "        y, x = y + dy[direction], x + dx[direction]\n",
        "        if 0 <= y < N and 0 <= x < N and arr[y][x] != 2:\n",
        "            if not arr[y][x] == 1:  # 사과가 없는 경우\n",
        "                temp_y, temp_x = visited.popleft()\n",
        "                arr[temp_y][temp_x] = 0  # 꼬리 제거\n",
        "            arr[y][x] = 2\n",
        "            visited.append([y, x])\n",
        "            if time in times.keys():\n",
        "                direction = change(direction, times[time])\n",
        "            time += 1\n",
        "        else:  # 본인 몸에 부딪히거나, 벽에 부딪힌 경우\n",
        "            return time\n",
        "\n",
        "\n",
        "if __name__ == \"__main__\":\n",
        "\n",
        "    # input\n",
        "    N = int(input())\n",
        "    K = int(input())\n",
        "    arr = [[0] * N for _ in range(N)]\n",
        "    for _ in range(K):\n",
        "        a, b = map(int, input().split())\n",
        "        arr[a - 1][b - 1] = 1  # 사과 저장\n",
        "    L = int(input())\n",
        "    times = {}\n",
        "    for i in range(L):\n",
        "        X, C = input().split()\n",
        "        times[int(X)] = C\n",
        "    print(start())\n"
      ],
      "execution_count": null,
      "outputs": []
    },
    {
      "cell_type": "markdown",
      "metadata": {
        "id": "LXPKuRuharGH"
      },
      "source": [
        "# heap, max_heap 구현하기"
      ]
    },
    {
      "cell_type": "markdown",
      "metadata": {
        "id": "LUi5cVGyau34"
      },
      "source": [
        "Max Heap 구현하기\n",
        "\n",
        "부모 노드가 자식 노드보다 크다\n",
        "자식노드끼리의 대소는 비교하지 않는다."
      ]
    },
    {
      "cell_type": "code",
      "metadata": {
        "id": "E-Kivn0kcYP2"
      },
      "source": [
        "class Maxheap(object):\n",
        "    def __init__(self):\n",
        "        self.queue = []\n",
        "\n",
        "\n",
        "    def swap(self, child, parent):\n",
        "        self.queue[child], self.queue[parent] = self.queue[parent], self.queue[child]\n",
        "        \n",
        "    def parent(self, id):\n",
        "        temp = (id-1)//2\n",
        "        return temp\n",
        "\n",
        "    def leftchild(self, id):\n",
        "        return id*2+1\n",
        "\n",
        "    def rightchild(self,id):\n",
        "        return id*2+2\n",
        "\n",
        "    def printHeap(self):\n",
        "        print(self.queue)\n",
        "\n",
        "    def insert(self, n):\n",
        "        self.queue.append(n)\n",
        "        last_index = len(self.queue)-1\n",
        "        while 0 <= last_index:\n",
        "            parent_index = self.parent(last_index)\n",
        "            if 0 <= parent_index and self.queue[parent_index] < self.queue[last_index]:\n",
        "                self.swap(last_index, parent_index)\n",
        "            else: break\n",
        "\n",
        "    def delete(self):\n",
        "        last_index = len(self.queue)-1\n",
        "        if last_index < 0: return -1\n",
        "        self.swap(0, last_index)\n",
        "        maxv = self.queue.pop()\n",
        "        self.maxHeapify(0)\n",
        "        print(maxv)\n",
        "        return maxv\n",
        "\n",
        "    # 임시 root값부터 자식들과 값을 비교하며 재정렬하는 함수\n",
        "    def maxHeapify(self, i):\n",
        "        left_index = self.leftchild(self, i)\n",
        "        right_index = self.rightchild(self,i)\n",
        "        max_index = i\n",
        "\n",
        "        if left_index <= len(self.queue) -1 and self.queue[max_index] < self.queue[left_index]:\n",
        "            max_index = left_index\n",
        "        if right_index <= len(self.queue) -1 and self.queue[max_index] < self.queue[right_index]:\n",
        "            max_index = right_index\n",
        "\n",
        "        if max_index != i:\n",
        "            self.swap(i, max_index)\n",
        "            self.maxHeapify(max_index)"
      ],
      "execution_count": null,
      "outputs": []
    },
    {
      "cell_type": "markdown",
      "metadata": {
        "id": "pqJU5Hm9pwvp"
      },
      "source": [
        "# 11279번 문제"
      ]
    },
    {
      "cell_type": "code",
      "metadata": {
        "id": "-5zxIXTEpzrv"
      },
      "source": [
        "import heapq\n",
        "\n",
        "n = int(input())\n",
        "heap = []\n",
        "\n",
        "for _ in range(n):\n",
        "    num = int(input())\n",
        "    if num == 0:\n",
        "        if heap:\n",
        "            print(heapq.heappop(heap)[1])\n",
        "        else: print('0')\n",
        "    else: heapq.heappush(heap, [-num, num])"
      ],
      "execution_count": null,
      "outputs": []
    },
    {
      "cell_type": "markdown",
      "metadata": {
        "id": "669pfoHJrng4"
      },
      "source": [
        "# 1021번 문제"
      ]
    },
    {
      "cell_type": "code",
      "metadata": {
        "id": "9EV6ZIyZrpjY"
      },
      "source": [
        "from collections import deque\n",
        "\n",
        "n, m = map(int, input().split())\n",
        "arr = list(map(int, input().split()))\n",
        "\n",
        "queue = deque([i for i in range(1,n+1)])\n",
        "\n",
        "id = 0\n",
        "final_count = 0\n",
        "for i in range(len(arr)):\n",
        "    temp = queue.index(arr[i])\n",
        "    print(temp)\n",
        "    count = 0\n",
        "    if temp == 0:\n",
        "        queue.popleft()\n",
        "    elif temp >= len(queue)//2:\n",
        "        print(\"left\")\n",
        "        while queue[0] != arr[i]:\n",
        "            a = queue.pop()\n",
        "            queue.appendleft(a)\n",
        "            count+=1\n",
        "    elif temp < len(queue)//2:\n",
        "        print(\"right\")\n",
        "        while queue[0] != arr[i]:\n",
        "            a = queue.popleft()\n",
        "            queue.append(a)\n",
        "            count+=1\n",
        "    final_count += count\n",
        "\n",
        "print(final_count)\n",
        "        "
      ],
      "execution_count": null,
      "outputs": []
    },
    {
      "cell_type": "code",
      "metadata": {
        "id": "OTCZQzimt2qo"
      },
      "source": [
        "from collections import deque\n",
        "n, _ = map(int,input().split())\n",
        "numbers = list(map(int, input().split()))\n",
        "queue = deque(range(1, n+1))\n",
        "\n",
        "total_compute = 0\n",
        "\n",
        "for idx in range(len(numbers)):\n",
        "    if numbers[idx] == queue[0]:\n",
        "        queue.popleft()\n",
        "        continue\n",
        "    queue_idx = queue.index(numbers[idx])\n",
        "\n",
        "    # 뒤 -> 앞으로 옮기는 게 이득인 경우\n",
        "    if queue_idx > len(queue) // 2:\n",
        "        queue.rotate(len(queue) - queue_idx)\n",
        "        total_compute += (len(queue) - queue_idx)\n",
        "        \n",
        "    # 앞 -> 뒤로 옮기는 게 이득인 경우\n",
        "    elif queue_idx <= len(queue) // 2:\n",
        "        queue.rotate(-queue_idx)\n",
        "        total_compute += queue_idx\n",
        "    queue.popleft()\n",
        "    \n",
        "print(total_compute)"
      ],
      "execution_count": null,
      "outputs": []
    },
    {
      "cell_type": "markdown",
      "metadata": {
        "id": "aCr7Rui_rgMT"
      },
      "source": [
        "# 18258번 문제"
      ]
    },
    {
      "cell_type": "code",
      "metadata": {
        "id": "YvvcYOIIri-X"
      },
      "source": [
        "class queue:\n",
        "\n",
        "    def __init__(self):\n",
        "        self.length = 0\n",
        "        self.lists=[]\n",
        "    \n",
        "    def push(self, x):\n",
        "        self.lists.append(x)\n",
        "        self.length+=1\n",
        "    \n",
        "    def pop(self):\n",
        "        if self.length == 0:\n",
        "            return -1\n",
        "        else:\n",
        "            a = self.lists.pop(0)\n",
        "            print(a)\n",
        "\n",
        "    def size(self):\n",
        "        return self.length\n",
        "    \n",
        "    def empty(self):\n",
        "        if self.length == 0:\n",
        "            return 0\n",
        "        else:\n",
        "            return 1\n",
        "\n",
        "    def front(self):\n",
        "        return print(self.lists[0]) if self.size() != 0 else -1\n",
        "\n",
        "    def back(self):\n",
        "        return print(self.lists[-1]) if self.size() != 0 else -1\n",
        "\n",
        "n = int(input())\n",
        "Queue = queue()\n",
        "for _ in range(n):\n",
        "    a = input().split()\n",
        "    if a[0] == \"push\": Queue.push(int(a[-1]))\n",
        "    elif a[0] == \"pop\": Queue.pop()\n",
        "    elif a[0] == \"size\": Queue.size()\n",
        "    elif a[0] == \"empty\": Queue.empty()\n",
        "    elif a[0] == \"front\": Queue.front()\n",
        "    elif a[0] == \"back\": Queue.back()"
      ],
      "execution_count": null,
      "outputs": []
    },
    {
      "cell_type": "code",
      "metadata": {
        "id": "5-d4RMXbuBuY"
      },
      "source": [
        "import sys\n",
        "from collections import deque\n",
        "n = int(sys.stdin.readline())\n",
        "q = deque([])\n",
        "\n",
        "for i in range(n):\n",
        "    s = sys.stdin.readline().split()\n",
        "    if s[0] == 'push':\n",
        "        q.append(s[1])\n",
        "    elif s[0] == 'pop':\n",
        "        if not q:\n",
        "            print(-1)\n",
        "        else:\n",
        "            print(q.popleft())\n",
        "    elif s[0] == 'size':\n",
        "        print(len(q))\n",
        "    elif s[0] == 'empty':\n",
        "        if not q:\n",
        "            print(1)\n",
        "        else:\n",
        "            print(0)\n",
        "    elif s[0] == 'front':\n",
        "        if not q:\n",
        "            print(-1)\n",
        "        else:\n",
        "            print(q[0])\n",
        "    elif s[0] == 'back':\n",
        "        if not q:\n",
        "            print(-1)\n",
        "        else:\n",
        "            print(q[-1])"
      ],
      "execution_count": null,
      "outputs": []
    },
    {
      "cell_type": "markdown",
      "metadata": {
        "id": "HggfPU-B6waw"
      },
      "source": [
        "# 2493번 문제"
      ]
    },
    {
      "cell_type": "code",
      "metadata": {
        "id": "AF0CTCKC6yjP"
      },
      "source": [
        "n = int(input())\n",
        "\n",
        "top = list(map(int, input().split()))\n",
        "count = [0]*n\n",
        "\n",
        "for i in range(n-1,-1,-1):\n",
        "    for j in range(i, -1, -1):\n",
        "        if top[i] < top[j]:\n",
        "            count[i] = j+1\n",
        "            break\n",
        "\n",
        "print(count)"
      ],
      "execution_count": null,
      "outputs": []
    },
    {
      "cell_type": "code",
      "metadata": {
        "id": "0p4W95io9VQR"
      },
      "source": [
        "import sys \n",
        "n = int(input()) \n",
        "tower = list(map(int, input().split())) \n",
        "\n",
        "stack = [] \n",
        "goto = [0] * n \n",
        "\n",
        "for i in range(n): \n",
        "    t = tower[i] \n",
        "    while stack and tower[stack[-1]] < t: stack.pop() \n",
        "    if stack: \n",
        "        goto[i] = stack[-1] + 1 \n",
        "\n",
        "    stack.append(i) \n",
        "    \n",
        "print(' '.join(list(map(str, goto))))\n"
      ],
      "execution_count": null,
      "outputs": []
    },
    {
      "cell_type": "markdown",
      "metadata": {
        "id": "nYI7_Vi3Au-0"
      },
      "source": [
        "# 5397번 문제"
      ]
    },
    {
      "cell_type": "code",
      "metadata": {
        "id": "qkeiMlqJAxTI"
      },
      "source": [
        "t = int(input())\n",
        "\n",
        "word = input()\n",
        "s = \"\"\n",
        "spot = 0\n",
        "for p in word:\n",
        "    # 왼쪽으로 움직이기\n",
        "    if p == \"<\":\n",
        "        if spot == 0:\n",
        "            pass\n",
        "        else:\n",
        "            spot -= 1\n",
        "    # 오른쪽으로 움직이기\n",
        "    elif p == \">\":\n",
        "        if spot == len(s):\n",
        "            pass\n",
        "        else:\n",
        "            spot += 1\n",
        "    # 커서 가장 뒤에 있는 문자 지우기\n",
        "    elif p == \"-\":\n",
        "        s = s[:spot]+s[spot+1:]\n",
        "\n",
        "    else:\n",
        "        s += p\n",
        "        spot += 1\n",
        "\n",
        "print(s)\n",
        "    "
      ],
      "execution_count": null,
      "outputs": []
    },
    {
      "cell_type": "code",
      "metadata": {
        "id": "BuHZaDFOFbVU"
      },
      "source": [
        "testcase = int(input())\n",
        "\n",
        "for _ in range(testcase):\n",
        "    press_key = input()\n",
        "    cursor_left, cursor_right = [], []\n",
        "    for word in press_key:\n",
        "        if word == '-':\n",
        "            if cursor_left:\n",
        "                cursor_left.pop()\n",
        "        elif word == '<':\n",
        "            if cursor_left:\n",
        "                cursor_right.append(cursor_left.pop())\n",
        "        elif word == '>':\n",
        "            if cursor_right:\n",
        "                cursor_left.append(cursor_right.pop())\n",
        "        else:\n",
        "            cursor_left.append(word)\n",
        "\n",
        "    while cursor_right:\n",
        "        cursor_left.append(cursor_right.pop())\n",
        "    print(''.join(cursor_left))"
      ],
      "execution_count": null,
      "outputs": []
    },
    {
      "cell_type": "markdown",
      "metadata": {
        "id": "yhkP_PBjjiFt"
      },
      "source": [
        "# 1655번 문제"
      ]
    },
    {
      "cell_type": "code",
      "metadata": {
        "id": "5wGQtqxJaB66"
      },
      "source": [
        "import sys\n",
        "import heapq\n",
        "\n",
        "numbers = int(input())\n",
        "max_heap = []\n",
        "min_heap = []\n",
        "\n",
        "for _ in range(numbers):\n",
        "    num = int(input())\n",
        "    if len(max_heap) == len(min_heap):\n",
        "        heapq.heappush(max_heap, (-num, num))\n",
        "    else:\n",
        "        heapq.heappush(min_heap, (num, num))\n",
        "    \n",
        "    if min_heap and max_heap[0][1] > min_heap[0][1]:\n",
        "        temp_max = heapq.heappop(max_heap)[1]\n",
        "        temp_min = heapq.heappop(min_heap)[1]\n",
        "        heapq.heappush(max_heap, (-temp_min, temp_min))\n",
        "        heapq.heappush(min_heap, (temp_max, temp_max))\n",
        "    print(max_heap[0][1])"
      ],
      "execution_count": null,
      "outputs": []
    },
    {
      "cell_type": "markdown",
      "metadata": {
        "id": "wcUwBMiiDL1H"
      },
      "source": [
        "# 17298번 문제"
      ]
    },
    {
      "cell_type": "code",
      "metadata": {
        "id": "ECwRua4_DON2"
      },
      "source": [
        "n = int(input())\n",
        "nums = list(map(int, input().split()))\n",
        "\n",
        "result = []\n",
        "for i in range(n):\n",
        "    if i == n-1:result.append(-1);break;\n",
        "    num = nums[i]\n",
        "    a = nums[i+1:]\n",
        "    temp = len(result)\n",
        "    for j in a:\n",
        "        if num < j:\n",
        "            result.append(j)\n",
        "            break\n",
        "    if temp == len(result): result.append(-1)\n",
        "print(result)"
      ],
      "execution_count": null,
      "outputs": []
    },
    {
      "cell_type": "code",
      "metadata": {
        "id": "wHbxddeiHvum"
      },
      "source": [
        "import sys \n",
        "N = int(input()) \n",
        "input = list(map(int, input().split())) \n",
        "stack = [] \n",
        "\n",
        "result = [-1 for _ in range(N)] \n",
        "stack.append(0) \n",
        "i = 1 \n",
        "\n",
        "while stack and i < N: \n",
        "    while stack and input[stack[-1]] < input[i]: \n",
        "        result[stack[-1]] = input[i] \n",
        "        stack.pop() \n",
        "    stack.append(i) \n",
        "    i += 1 \n",
        "    \n",
        "for i in range(N): \n",
        "    print(result[i], end = \" \")\n",
        "\n"
      ],
      "execution_count": null,
      "outputs": []
    },
    {
      "cell_type": "markdown",
      "metadata": {
        "id": "_pM_UKnkWshO"
      },
      "source": [
        "# 2747번 문제"
      ]
    },
    {
      "cell_type": "code",
      "metadata": {
        "id": "-XL97YLKWu57"
      },
      "source": [
        "fibonacci = [0, 1]\n",
        "\n",
        "while len(fibonacci) != 46:\n",
        "    a = fibonacci[-1]+fibonacci[-2]\n",
        "    fibonacci.append(a)\n",
        "\n",
        "n = int(input())\n",
        "print(fibonacci[n])"
      ],
      "execution_count": null,
      "outputs": []
    },
    {
      "cell_type": "markdown",
      "metadata": {
        "id": "kTw-nyHoYIxf"
      },
      "source": [
        "# 10757번 문제"
      ]
    },
    {
      "cell_type": "code",
      "metadata": {
        "id": "sugq5L6IYLWH"
      },
      "source": [
        "a, b = map(int,input().split())\n",
        "print(a+b)"
      ],
      "execution_count": null,
      "outputs": []
    },
    {
      "cell_type": "markdown",
      "metadata": {
        "id": "y8GLc7KFfWEx"
      },
      "source": [
        "# 1475번 문제"
      ]
    },
    {
      "cell_type": "code",
      "metadata": {
        "id": "mtD6nFrJaO0m"
      },
      "source": [
        "n = input()\n",
        "a = {'0':0, '1':0, '2':0, '3':0, '4':0, '5':0, '6':0, '7':0, '8':0}\n",
        "for i in range(len(n)):\n",
        "    if n[i] in ['6', '9']:\n",
        "        a['6'] += 1\n",
        "    else:\n",
        "        a[n[i]] += 1\n",
        "if a['6'] % 2 == 0:\n",
        "    a['6'] = a['6'] // 2\n",
        "else:\n",
        "    a['6'] = a['6'] // 2 + 1\n",
        "print(max(a.values()))"
      ],
      "execution_count": null,
      "outputs": []
    },
    {
      "cell_type": "markdown",
      "metadata": {
        "id": "IzgMl-1Jni7u"
      },
      "source": [
        "# 10824번 문제"
      ]
    },
    {
      "cell_type": "code",
      "metadata": {
        "id": "Dg_6RNsdnlFC"
      },
      "source": [
        "a, b, c, d = input().split()\n",
        "\n",
        "a = int(a+b)\n",
        "c = int(c+d)\n",
        "\n",
        "print(a+c)"
      ],
      "execution_count": null,
      "outputs": []
    },
    {
      "cell_type": "markdown",
      "metadata": {
        "id": "grzlXnjGstzJ"
      },
      "source": [
        "# 2504번 문제"
      ]
    },
    {
      "cell_type": "code",
      "metadata": {
        "id": "MzRrc9YaswLW"
      },
      "source": [
        "import sys\n",
        "# input = sys.stdin.readline\n",
        "\n",
        "brackets = input().strip()\n",
        "\n",
        "def check_brakcets(ss):\n",
        "    stack = []\n",
        "    for s in ss:\n",
        "        if s == '(' or s == '[':\n",
        "            stack.append(s)\n",
        "        elif s == ')' and stack:\n",
        "            if stack[-1] == '(':\n",
        "                stack = stack[:-1]\n",
        "            else:\n",
        "                stack.append(s)\n",
        "        elif s == ']' and stack:\n",
        "            if stack[-1] == '[':\n",
        "                stack = stack[:-1]\n",
        "            else:\n",
        "                stack.append(s)\n",
        "        else:\n",
        "            stack.append(s)\n",
        "    if stack:\n",
        "        return False\n",
        "    else:\n",
        "        return True\n",
        "\n",
        "def sol(ss):\n",
        "    stack = []\n",
        "    for s in ss:\n",
        "        if s == '(' or s == '[':\n",
        "            stack.append(s)\n",
        "        elif s == ')':\n",
        "            if stack[-1] == '(':\n",
        "                stack[-1] = 2\n",
        "            else:\n",
        "                tmp = 0\n",
        "                for i in range(len(stack) - 1, -1, -1):\n",
        "                    if stack[i] == '(':\n",
        "                        stack[-1] = tmp * 2\n",
        "                        break\n",
        "                    else:\n",
        "                        tmp += stack[i]\n",
        "                        stack = stack[:-1]\n",
        "        elif s == ']':\n",
        "            if stack[-1] == '[':\n",
        "                stack[-1] = 3\n",
        "            else:\n",
        "                tmp = 0\n",
        "                for i in range(len(stack) - 1, -1, -1):\n",
        "                    if stack[i] == '[':\n",
        "                        stack[-1] = tmp * 3\n",
        "                        break\n",
        "                    else:\n",
        "                        tmp += stack[i]\n",
        "                        stack = stack[:-1]\n",
        "    return sum(stack)\n",
        "\n",
        "if check_brakcets(brackets) == False:\n",
        "    print(0)\n",
        "else:\n",
        "    print(sol(brackets))"
      ],
      "execution_count": null,
      "outputs": []
    },
    {
      "cell_type": "code",
      "metadata": {
        "id": "rgCMxo9HvLxZ"
      },
      "source": [
        "string = input()\n",
        "stack = []\n",
        "new_stack = []\n",
        "for char in string:\n",
        "    if char == '(':\n",
        "        new_stack.append('(')\n",
        "    elif char == ')':\n",
        "        if new_stack and new_stack[-1] == '(':\n",
        "            new_stack.pop()\n",
        "        else:\n",
        "            new_stack.append(char)\n",
        "    elif char == '[':\n",
        "        new_stack.append('[')\n",
        "    else:\n",
        "        if new_stack and new_stack[-1] == '[':\n",
        "            new_stack.pop()\n",
        "        else:\n",
        "            new_stack.append(char)\n",
        "    stack.append(char)\n",
        "\n",
        "if len(new_stack) != 0:\n",
        "    print(0)\n",
        "else:\n",
        "    new_stack = []\n",
        "    m_dict = {'(' : ')', '[' : ']'}\n",
        "    v_dict = {'(' : 2, '[' : 3}\n",
        "    for i in range(len(stack)):\n",
        "        if len(new_stack) > 0 and new_stack[-1] in v_dict:\n",
        "            if m_dict[new_stack[-1]] == stack[i]:\n",
        "                tmp = new_stack[-1]\n",
        "                new_stack.pop()\n",
        "                new_stack.append(v_dict[tmp])\n",
        "            else:\n",
        "                new_stack.append(stack[i])\n",
        "        else:\n",
        "            new_stack.append(stack[i])\n",
        "    \n",
        "    stack = []\n",
        "    m_sum = 0\n",
        "    now = 0\n",
        "    for i in range(len(new_stack)):\n",
        "        if len(stack) == 0 or new_stack[i] == '(' or new_stack[i] == '[':\n",
        "            stack.append(new_stack[i])\n",
        "        elif new_stack[i] == ')' or new_stack[i] == ']':\n",
        "            while stack:\n",
        "                if stack[-1] in m_dict and m_dict[stack[-1]] == new_stack[i]:\n",
        "                    break\n",
        "                a = stack.pop()\n",
        "                now += int(a)\n",
        "            if stack:\n",
        "                now *= v_dict[stack[-1]]\n",
        "                stack.pop()\n",
        "            stack.append(now)\n",
        "            now = 0\n",
        "        else:\n",
        "            stack.append(new_stack[i])\n",
        "    print(sum(stack))"
      ],
      "execution_count": null,
      "outputs": []
    },
    {
      "cell_type": "markdown",
      "metadata": {
        "id": "ftkUf-bv5KuU"
      },
      "source": [
        "# 3085번 문제"
      ]
    },
    {
      "cell_type": "code",
      "metadata": {
        "id": "0xRkc_3I5MtQ"
      },
      "source": [
        "import sys\n",
        "\n",
        "N = int(sys.stdin.readline())\n",
        "\n",
        "board = [list(map(str, input())) for _ in range(N)]\n",
        "\n",
        "res = 0\n",
        "\n",
        "def check(board):\n",
        "    cnt = 0\n",
        "    for i in range(N):\n",
        "        cnt_row = 1\n",
        "        cnt_col = 1\n",
        "        for j in range(N-1):\n",
        "            if board[i][j] == board[i][j+1]:\n",
        "                cnt_row += 1\n",
        "            else:\n",
        "                cnt = max(cnt, cnt_row)\n",
        "                cnt_row = 1\n",
        "                \n",
        "            if board[j][i] == board[j+1][i]:\n",
        "                cnt_col += 1\n",
        "            else:\n",
        "                cnt = max(cnt, cnt_col)\n",
        "                cnt_col = 1\n",
        "        cnt = max(cnt, cnt_row, cnt_col)\n",
        "    return cnt\n",
        "\n",
        "for i in range(N):\n",
        "    for j in range(N-1):\n",
        "        if board[i][j] != board[i][j+1]:\n",
        "            tmp = board[i][j]\n",
        "            board[i][j] = board[i][j+1]\n",
        "            board[i][j+1] = tmp\n",
        "\n",
        "            res = max(res, check(board))\n",
        "\n",
        "            tmp = board[i][j]\n",
        "            board[i][j] = board[i][j+1]\n",
        "            board[i][j+1] = tmp\n",
        "\n",
        "        if board[j][i] != board[j+1][i]:\n",
        "            tmp = board[j][i]\n",
        "            board[j][i] = board[j+1][i]\n",
        "            board[j+1][i] = tmp\n",
        "\n",
        "            res = max(res, check(board))\n",
        "\n",
        "            tmp = board[j][i]\n",
        "            board[j][i] = board[j+1][i]\n",
        "            board[j+1][i] = tmp\n",
        "\n",
        "print(res)"
      ],
      "execution_count": null,
      "outputs": []
    },
    {
      "cell_type": "code",
      "metadata": {
        "id": "FVXdq5K4JjmF"
      },
      "source": [
        "n = int(input())\n",
        "candies=[]\n",
        "ans = 1\n",
        " \n",
        "for i in range(n):\n",
        "    temp =[]\n",
        "    temp_str = input()\n",
        "    for j in range(n):\n",
        "        temp.append(temp_str[j])\n",
        "    candies.append(temp)\n",
        "    \n",
        "\n",
        "    \n",
        "# 몇개 먹을 수 있는지 찾는 함수\n",
        "def search():\n",
        "    global ans\n",
        "    for i in range(n):\n",
        "        cnt = 1\n",
        "        for j in range(n-1):\n",
        "            if candies[i][j]== candies[i][j+1]:\n",
        "                cnt+=1\n",
        "                ans = max(cnt,ans)\n",
        "            else:\n",
        "                cnt = 1\n",
        "        #ans = max(cnt,ans)\n",
        "        \n",
        "    for i in range(n):\n",
        "        cnt = 1\n",
        "        for j in range(n-1):\n",
        "            if candies[j][i] == candies[j+1][i]:\n",
        "                cnt+=1\n",
        "                ans = max(cnt,ans)\n",
        "            else:\n",
        "                cnt = 1\n",
        "        #ans = max(cnt,ans)\n",
        "        \n",
        "\n",
        "\n",
        "# [모든 인접한 두 자리 뒤집어보고 찾기]    \n",
        "# 가로 뒤집기\n",
        "for i in range(n):\n",
        "    for j in range(n-1):\n",
        "        candies[i][j],candies[i][j+1] = candies[i][j+1],candies[i][j]\n",
        "        search()\n",
        "        candies[i][j],candies[i][j+1] = candies[i][j+1],candies[i][j]\n",
        "\n",
        "# 세로 뒤집기\n",
        "for i in range(n):\n",
        "    for j in range(n-1):\n",
        "        candies[j][i],candies[j+1][i] = candies[j+1][i],candies[j][i]\n",
        "        search()\n",
        "        candies[j][i],candies[j+1][i] = candies[j+1][i],candies[j][i]\n",
        "\n",
        "        \n",
        "print(ans)"
      ],
      "execution_count": null,
      "outputs": []
    },
    {
      "cell_type": "markdown",
      "metadata": {
        "id": "QkMlI7whXHO2"
      },
      "source": [
        "# 2846번 문제"
      ]
    },
    {
      "cell_type": "code",
      "metadata": {
        "id": "S9fu47SUYyEJ"
      },
      "source": [
        "import sys\n",
        "ans = []\n",
        "N = int(input())\n",
        "road = list(map(int, input().split()))\n",
        "hill = 0\n",
        "tmp = []\n",
        "\n",
        "for i in range(N - 1):\n",
        "    if road[i] < road[i + 1]:\n",
        "        hill += (road[i + 1] - road[i])\n",
        "    if road[i] >= road[i + 1]:\n",
        "        tmp.append(hill)\n",
        "        hill = 0\n",
        "tmp.append(hill)\n",
        "\n",
        "print(max(tmp))"
      ],
      "execution_count": null,
      "outputs": []
    },
    {
      "cell_type": "markdown",
      "metadata": {
        "id": "IOfFrZiifblg"
      },
      "source": [
        "# 11559번 문제"
      ]
    },
    {
      "cell_type": "code",
      "metadata": {
        "id": "1agV9oSAfdR-"
      },
      "source": [
        "from collections import deque\n",
        "import sys\n",
        "\n",
        "#input = sys.stdin.readline\n",
        "dx = [1, -1, 0, 0]\n",
        "dy = [0, 0, 1, -1]\n",
        "\n",
        "def bfs(x, y, flag):\n",
        "    q = deque()\n",
        "    c = [[0]*6 for _ in range(12)]\n",
        "    q.append([x, y])\n",
        "    cnt = 1\n",
        "    c[x][y] = cnt\n",
        "    while q:\n",
        "        x, y = q.popleft()\n",
        "        for i in range(4):\n",
        "            nx = x + dx[i]\n",
        "            ny = y + dy[i]\n",
        "            if 0 <= nx < 12 and 0 <= ny < 6:\n",
        "                if a[nx][ny] == a[x][y] and c[nx][ny] == 0:\n",
        "                    cnt += 1\n",
        "                    c[nx][ny] = 1\n",
        "                    q.append([nx, ny])\n",
        "\n",
        "    if cnt >= 4:\n",
        "        flag += 1\n",
        "        for i in range(12):\n",
        "            for j in range(6):\n",
        "                if c[i][j] == 1:\n",
        "                    a[i][j] = '.'\n",
        "    return flag\n",
        "\n",
        "def check_fall():\n",
        "    for i in range(10, -1, -1):\n",
        "        for j in range(6):\n",
        "            if a[i][j] != '.' and a[i+1][j] == '.':\n",
        "                for k in range(i+1, 12):\n",
        "                    if k == 11 and a[k][j] == '.':\n",
        "                        a[k][j] = a[i][j]\n",
        "                    elif a[k][j] != '.':\n",
        "                        a[k-1][j] = a[i][j]\n",
        "                        break\n",
        "                a[i][j] = '.'\n",
        "\n",
        "a = [list(map(str, input().strip())) for _ in range(12)]\n",
        "\n",
        "ans = 0\n",
        "while True:\n",
        "    cnt = 0\n",
        "    for i in range(12):\n",
        "        for j in range(6):\n",
        "            if a[i][j] != '.':\n",
        "                cnt = bfs(i, j, cnt)\n",
        "    if cnt == 0:\n",
        "        print(ans)\n",
        "        break\n",
        "    else:\n",
        "        ans += 1\n",
        "    check_fall()"
      ],
      "execution_count": null,
      "outputs": []
    },
    {
      "cell_type": "markdown",
      "metadata": {
        "id": "w2rdW9iQtVpx"
      },
      "source": [
        "# 5567번 문제"
      ]
    },
    {
      "cell_type": "code",
      "metadata": {
        "id": "EHhk_76ztXyt"
      },
      "source": [
        "import sys\n",
        "from collections import deque\n",
        "\n",
        "def bfs(x):\n",
        "    visited = [0] * n\n",
        "    visited[x] = 1\n",
        "    q.append(x)\n",
        "    while q:\n",
        "        x = q.popleft()\n",
        "        for i in friends[x]:\n",
        "            if not visited[i]:\n",
        "                visited[i] = visited[x] + 1\n",
        "                q.append(i)\n",
        "    return visited\n",
        "\n",
        "\n",
        "n = int(input())\n",
        "m = int(input())\n",
        "friends = [[] for _ in range(n)]\n",
        "\n",
        "for _ in range(m):\n",
        "    a, b = map(int, input().split())\n",
        "    friends[a-1].append(b-1)\n",
        "    friends[b-1].append(a-1)\n",
        "\n",
        "q = deque()\n",
        "cnt = 0\n",
        "\n",
        "res = bfs(0)\n",
        "for res_ in res:\n",
        "    if 1 < res_ <= 3:   # 1 : 본인, 2 : 친구, 3 : 친구의 친구\n",
        "        cnt += 1\n",
        "print(cnt)"
      ],
      "execution_count": null,
      "outputs": []
    }
  ]
}